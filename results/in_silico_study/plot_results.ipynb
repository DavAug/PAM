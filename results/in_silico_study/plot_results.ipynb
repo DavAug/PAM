{
 "cells": [
  {
   "cell_type": "markdown",
   "metadata": {},
   "source": [
    "# Predict 1-log and 6-log Reduction Dose of Ciprofloxacin"
   ]
  },
  {
   "cell_type": "code",
   "execution_count": 7,
   "metadata": {},
   "outputs": [],
   "source": [
    "import os\n",
    "\n",
    "import arviz as az\n",
    "import chi\n",
    "import chi.plots\n",
    "import matplotlib.transforms\n",
    "import matplotlib.pyplot as plt\n",
    "import numpy as np\n",
    "import pandas as pd\n",
    "import pints\n",
    "import plotly.graph_objects as go\n",
    "import plotly.colors\n",
    "import seaborn as sns\n",
    "from tqdm.notebook import tqdm\n",
    "import xarray as xr"
   ]
  },
  {
   "cell_type": "markdown",
   "metadata": {},
   "source": [
    "Define convenience functions."
   ]
  },
  {
   "cell_type": "code",
   "execution_count": 39,
   "metadata": {},
   "outputs": [],
   "source": [
    "def format_posterior(posterior, param_names, name_map):\n",
    "    \"\"\"\n",
    "    Returns posterior samples as numpy.ndarray.\n",
    "    \"\"\"\n",
    "    n_chains = len(posterior.chain.values)\n",
    "    n_draws = len(posterior.draw.values)\n",
    "    n_parameters = len(posterior)\n",
    "    numpy_posterior = np.empty(shape=(n_chains * n_draws, n_parameters))\n",
    "    param_names = [name_map[name] for name in param_names]\n",
    "    for param_id, param in enumerate(param_names):\n",
    "        # Get samples as numpy array\n",
    "        samples = posterior[param].values\n",
    "\n",
    "        # Flatten samples and make sure order is preserved\n",
    "        numpy_posterior[:, param_id] = samples.flatten()\n",
    "\n",
    "    return numpy_posterior\n",
    "\n",
    "def load_inference_data(models, model_names, name_map, end_experiment):\n",
    "    \"\"\"\n",
    "    Returns the posterior samples and the model likelihoods. The posterior\n",
    "    samples for each model are formatted as numpy.ndarray of shape\n",
    "    (n_samples, n_parameters).\n",
    "    \"\"\"\n",
    "    n_models = len(models)\n",
    "    aic_scores = np.empty(shape=n_models)\n",
    "    parameters = []\n",
    "    directory = os.getcwd()\n",
    "    for id_m, model in enumerate(model_names):\n",
    "        # Load inference data\n",
    "        inf_data = xr.load_dataset(\n",
    "            directory + '/derived_data/%s_posterior_%dh.nc'\n",
    "            % (model, int(end_experiment))\n",
    "        )\n",
    "        names = models[id_m].parameters() + ['Sigma log']\n",
    "        parameters.append(format_posterior(inf_data, names, name_map[id_m]))\n",
    "        aic_scores[id_m] = inf_data.attrs['AIC score']\n",
    "\n",
    "    # Compute elpd deltas to avoid numerical overflow\n",
    "    aic_scores -= np.min(aic_scores)\n",
    "\n",
    "    # Compute weights\n",
    "    weights = np.exp(-aic_scores / 2) / np.sum(np.exp(-aic_scores / 2))\n",
    "\n",
    "    return parameters, weights"
   ]
  },
  {
   "cell_type": "code",
   "execution_count": 38,
   "metadata": {},
   "outputs": [
    {
     "data": {
      "text/html": [
       "<div><svg style=\"position: absolute; width: 0; height: 0; overflow: hidden\">\n",
       "<defs>\n",
       "<symbol id=\"icon-database\" viewBox=\"0 0 32 32\">\n",
       "<path d=\"M16 0c-8.837 0-16 2.239-16 5v4c0 2.761 7.163 5 16 5s16-2.239 16-5v-4c0-2.761-7.163-5-16-5z\"></path>\n",
       "<path d=\"M16 17c-8.837 0-16-2.239-16-5v6c0 2.761 7.163 5 16 5s16-2.239 16-5v-6c0 2.761-7.163 5-16 5z\"></path>\n",
       "<path d=\"M16 26c-8.837 0-16-2.239-16-5v6c0 2.761 7.163 5 16 5s16-2.239 16-5v-6c0 2.761-7.163 5-16 5z\"></path>\n",
       "</symbol>\n",
       "<symbol id=\"icon-file-text2\" viewBox=\"0 0 32 32\">\n",
       "<path d=\"M28.681 7.159c-0.694-0.947-1.662-2.053-2.724-3.116s-2.169-2.030-3.116-2.724c-1.612-1.182-2.393-1.319-2.841-1.319h-15.5c-1.378 0-2.5 1.121-2.5 2.5v27c0 1.378 1.122 2.5 2.5 2.5h23c1.378 0 2.5-1.122 2.5-2.5v-19.5c0-0.448-0.137-1.23-1.319-2.841zM24.543 5.457c0.959 0.959 1.712 1.825 2.268 2.543h-4.811v-4.811c0.718 0.556 1.584 1.309 2.543 2.268zM28 29.5c0 0.271-0.229 0.5-0.5 0.5h-23c-0.271 0-0.5-0.229-0.5-0.5v-27c0-0.271 0.229-0.5 0.5-0.5 0 0 15.499-0 15.5 0v7c0 0.552 0.448 1 1 1h7v19.5z\"></path>\n",
       "<path d=\"M23 26h-14c-0.552 0-1-0.448-1-1s0.448-1 1-1h14c0.552 0 1 0.448 1 1s-0.448 1-1 1z\"></path>\n",
       "<path d=\"M23 22h-14c-0.552 0-1-0.448-1-1s0.448-1 1-1h14c0.552 0 1 0.448 1 1s-0.448 1-1 1z\"></path>\n",
       "<path d=\"M23 18h-14c-0.552 0-1-0.448-1-1s0.448-1 1-1h14c0.552 0 1 0.448 1 1s-0.448 1-1 1z\"></path>\n",
       "</symbol>\n",
       "</defs>\n",
       "</svg>\n",
       "<style>/* CSS stylesheet for displaying xarray objects in jupyterlab.\n",
       " *\n",
       " */\n",
       "\n",
       ":root {\n",
       "  --xr-font-color0: var(--jp-content-font-color0, rgba(0, 0, 0, 1));\n",
       "  --xr-font-color2: var(--jp-content-font-color2, rgba(0, 0, 0, 0.54));\n",
       "  --xr-font-color3: var(--jp-content-font-color3, rgba(0, 0, 0, 0.38));\n",
       "  --xr-border-color: var(--jp-border-color2, #e0e0e0);\n",
       "  --xr-disabled-color: var(--jp-layout-color3, #bdbdbd);\n",
       "  --xr-background-color: var(--jp-layout-color0, white);\n",
       "  --xr-background-color-row-even: var(--jp-layout-color1, white);\n",
       "  --xr-background-color-row-odd: var(--jp-layout-color2, #eeeeee);\n",
       "}\n",
       "\n",
       "html[theme=dark],\n",
       "body.vscode-dark {\n",
       "  --xr-font-color0: rgba(255, 255, 255, 1);\n",
       "  --xr-font-color2: rgba(255, 255, 255, 0.54);\n",
       "  --xr-font-color3: rgba(255, 255, 255, 0.38);\n",
       "  --xr-border-color: #1F1F1F;\n",
       "  --xr-disabled-color: #515151;\n",
       "  --xr-background-color: #111111;\n",
       "  --xr-background-color-row-even: #111111;\n",
       "  --xr-background-color-row-odd: #313131;\n",
       "}\n",
       "\n",
       ".xr-wrap {\n",
       "  display: block;\n",
       "  min-width: 300px;\n",
       "  max-width: 700px;\n",
       "}\n",
       "\n",
       ".xr-text-repr-fallback {\n",
       "  /* fallback to plain text repr when CSS is not injected (untrusted notebook) */\n",
       "  display: none;\n",
       "}\n",
       "\n",
       ".xr-header {\n",
       "  padding-top: 6px;\n",
       "  padding-bottom: 6px;\n",
       "  margin-bottom: 4px;\n",
       "  border-bottom: solid 1px var(--xr-border-color);\n",
       "}\n",
       "\n",
       ".xr-header > div,\n",
       ".xr-header > ul {\n",
       "  display: inline;\n",
       "  margin-top: 0;\n",
       "  margin-bottom: 0;\n",
       "}\n",
       "\n",
       ".xr-obj-type,\n",
       ".xr-array-name {\n",
       "  margin-left: 2px;\n",
       "  margin-right: 10px;\n",
       "}\n",
       "\n",
       ".xr-obj-type {\n",
       "  color: var(--xr-font-color2);\n",
       "}\n",
       "\n",
       ".xr-sections {\n",
       "  padding-left: 0 !important;\n",
       "  display: grid;\n",
       "  grid-template-columns: 150px auto auto 1fr 20px 20px;\n",
       "}\n",
       "\n",
       ".xr-section-item {\n",
       "  display: contents;\n",
       "}\n",
       "\n",
       ".xr-section-item input {\n",
       "  display: none;\n",
       "}\n",
       "\n",
       ".xr-section-item input + label {\n",
       "  color: var(--xr-disabled-color);\n",
       "}\n",
       "\n",
       ".xr-section-item input:enabled + label {\n",
       "  cursor: pointer;\n",
       "  color: var(--xr-font-color2);\n",
       "}\n",
       "\n",
       ".xr-section-item input:enabled + label:hover {\n",
       "  color: var(--xr-font-color0);\n",
       "}\n",
       "\n",
       ".xr-section-summary {\n",
       "  grid-column: 1;\n",
       "  color: var(--xr-font-color2);\n",
       "  font-weight: 500;\n",
       "}\n",
       "\n",
       ".xr-section-summary > span {\n",
       "  display: inline-block;\n",
       "  padding-left: 0.5em;\n",
       "}\n",
       "\n",
       ".xr-section-summary-in:disabled + label {\n",
       "  color: var(--xr-font-color2);\n",
       "}\n",
       "\n",
       ".xr-section-summary-in + label:before {\n",
       "  display: inline-block;\n",
       "  content: '►';\n",
       "  font-size: 11px;\n",
       "  width: 15px;\n",
       "  text-align: center;\n",
       "}\n",
       "\n",
       ".xr-section-summary-in:disabled + label:before {\n",
       "  color: var(--xr-disabled-color);\n",
       "}\n",
       "\n",
       ".xr-section-summary-in:checked + label:before {\n",
       "  content: '▼';\n",
       "}\n",
       "\n",
       ".xr-section-summary-in:checked + label > span {\n",
       "  display: none;\n",
       "}\n",
       "\n",
       ".xr-section-summary,\n",
       ".xr-section-inline-details {\n",
       "  padding-top: 4px;\n",
       "  padding-bottom: 4px;\n",
       "}\n",
       "\n",
       ".xr-section-inline-details {\n",
       "  grid-column: 2 / -1;\n",
       "}\n",
       "\n",
       ".xr-section-details {\n",
       "  display: none;\n",
       "  grid-column: 1 / -1;\n",
       "  margin-bottom: 5px;\n",
       "}\n",
       "\n",
       ".xr-section-summary-in:checked ~ .xr-section-details {\n",
       "  display: contents;\n",
       "}\n",
       "\n",
       ".xr-array-wrap {\n",
       "  grid-column: 1 / -1;\n",
       "  display: grid;\n",
       "  grid-template-columns: 20px auto;\n",
       "}\n",
       "\n",
       ".xr-array-wrap > label {\n",
       "  grid-column: 1;\n",
       "  vertical-align: top;\n",
       "}\n",
       "\n",
       ".xr-preview {\n",
       "  color: var(--xr-font-color3);\n",
       "}\n",
       "\n",
       ".xr-array-preview,\n",
       ".xr-array-data {\n",
       "  padding: 0 5px !important;\n",
       "  grid-column: 2;\n",
       "}\n",
       "\n",
       ".xr-array-data,\n",
       ".xr-array-in:checked ~ .xr-array-preview {\n",
       "  display: none;\n",
       "}\n",
       "\n",
       ".xr-array-in:checked ~ .xr-array-data,\n",
       ".xr-array-preview {\n",
       "  display: inline-block;\n",
       "}\n",
       "\n",
       ".xr-dim-list {\n",
       "  display: inline-block !important;\n",
       "  list-style: none;\n",
       "  padding: 0 !important;\n",
       "  margin: 0;\n",
       "}\n",
       "\n",
       ".xr-dim-list li {\n",
       "  display: inline-block;\n",
       "  padding: 0;\n",
       "  margin: 0;\n",
       "}\n",
       "\n",
       ".xr-dim-list:before {\n",
       "  content: '(';\n",
       "}\n",
       "\n",
       ".xr-dim-list:after {\n",
       "  content: ')';\n",
       "}\n",
       "\n",
       ".xr-dim-list li:not(:last-child):after {\n",
       "  content: ',';\n",
       "  padding-right: 5px;\n",
       "}\n",
       "\n",
       ".xr-has-index {\n",
       "  font-weight: bold;\n",
       "}\n",
       "\n",
       ".xr-var-list,\n",
       ".xr-var-item {\n",
       "  display: contents;\n",
       "}\n",
       "\n",
       ".xr-var-item > div,\n",
       ".xr-var-item label,\n",
       ".xr-var-item > .xr-var-name span {\n",
       "  background-color: var(--xr-background-color-row-even);\n",
       "  margin-bottom: 0;\n",
       "}\n",
       "\n",
       ".xr-var-item > .xr-var-name:hover span {\n",
       "  padding-right: 5px;\n",
       "}\n",
       "\n",
       ".xr-var-list > li:nth-child(odd) > div,\n",
       ".xr-var-list > li:nth-child(odd) > label,\n",
       ".xr-var-list > li:nth-child(odd) > .xr-var-name span {\n",
       "  background-color: var(--xr-background-color-row-odd);\n",
       "}\n",
       "\n",
       ".xr-var-name {\n",
       "  grid-column: 1;\n",
       "}\n",
       "\n",
       ".xr-var-dims {\n",
       "  grid-column: 2;\n",
       "}\n",
       "\n",
       ".xr-var-dtype {\n",
       "  grid-column: 3;\n",
       "  text-align: right;\n",
       "  color: var(--xr-font-color2);\n",
       "}\n",
       "\n",
       ".xr-var-preview {\n",
       "  grid-column: 4;\n",
       "}\n",
       "\n",
       ".xr-var-name,\n",
       ".xr-var-dims,\n",
       ".xr-var-dtype,\n",
       ".xr-preview,\n",
       ".xr-attrs dt {\n",
       "  white-space: nowrap;\n",
       "  overflow: hidden;\n",
       "  text-overflow: ellipsis;\n",
       "  padding-right: 10px;\n",
       "}\n",
       "\n",
       ".xr-var-name:hover,\n",
       ".xr-var-dims:hover,\n",
       ".xr-var-dtype:hover,\n",
       ".xr-attrs dt:hover {\n",
       "  overflow: visible;\n",
       "  width: auto;\n",
       "  z-index: 1;\n",
       "}\n",
       "\n",
       ".xr-var-attrs,\n",
       ".xr-var-data {\n",
       "  display: none;\n",
       "  background-color: var(--xr-background-color) !important;\n",
       "  padding-bottom: 5px !important;\n",
       "}\n",
       "\n",
       ".xr-var-attrs-in:checked ~ .xr-var-attrs,\n",
       ".xr-var-data-in:checked ~ .xr-var-data {\n",
       "  display: block;\n",
       "}\n",
       "\n",
       ".xr-var-data > table {\n",
       "  float: right;\n",
       "}\n",
       "\n",
       ".xr-var-name span,\n",
       ".xr-var-data,\n",
       ".xr-attrs {\n",
       "  padding-left: 25px !important;\n",
       "}\n",
       "\n",
       ".xr-attrs,\n",
       ".xr-var-attrs,\n",
       ".xr-var-data {\n",
       "  grid-column: 1 / -1;\n",
       "}\n",
       "\n",
       "dl.xr-attrs {\n",
       "  padding: 0;\n",
       "  margin: 0;\n",
       "  display: grid;\n",
       "  grid-template-columns: 125px auto;\n",
       "}\n",
       "\n",
       ".xr-attrs dt,\n",
       ".xr-attrs dd {\n",
       "  padding: 0;\n",
       "  margin: 0;\n",
       "  float: left;\n",
       "  padding-right: 10px;\n",
       "  width: auto;\n",
       "}\n",
       "\n",
       ".xr-attrs dt {\n",
       "  font-weight: normal;\n",
       "  grid-column: 1;\n",
       "}\n",
       "\n",
       ".xr-attrs dt:hover span {\n",
       "  display: inline-block;\n",
       "  background: var(--xr-background-color);\n",
       "  padding-right: 10px;\n",
       "}\n",
       "\n",
       ".xr-attrs dd {\n",
       "  grid-column: 2;\n",
       "  white-space: pre-wrap;\n",
       "  word-break: break-all;\n",
       "}\n",
       "\n",
       ".xr-icon-database,\n",
       ".xr-icon-file-text2 {\n",
       "  display: inline-block;\n",
       "  vertical-align: middle;\n",
       "  width: 1em;\n",
       "  height: 1.5em !important;\n",
       "  stroke-width: 0;\n",
       "  stroke: currentColor;\n",
       "  fill: currentColor;\n",
       "}\n",
       "</style><pre class='xr-text-repr-fallback'>&lt;xarray.DataArray &#x27;pooled_adapted_ec50&#x27; (chain: 5, draw: 4000)&gt;\n",
       "array([[550.52522573, 550.52522573, 374.85970112, ..., 854.40980801,\n",
       "        829.33336876, 829.33336876],\n",
       "       [717.59762857, 484.69758628, 935.63682064, ..., 831.67896264,\n",
       "        831.67896264, 844.68039764],\n",
       "       [557.8499874 , 519.96307155, 379.75795071, ..., 440.01373948,\n",
       "        629.07174985, 234.59748476],\n",
       "       [557.03835088, 830.83935544, 558.98376414, ..., 583.35761812,\n",
       "        853.75166824, 271.03526437],\n",
       "       [796.3935048 , 502.05397564, 679.83217597, ..., 975.86929096,\n",
       "        501.95892967, 600.71099481]])\n",
       "Coordinates:\n",
       "  * chain    (chain) int64 0 1 2 3 4\n",
       "  * draw     (draw) int64 10000 10010 10020 10030 ... 49960 49970 49980 49990</pre><div class='xr-wrap' hidden><div class='xr-header'><div class='xr-obj-type'>xarray.DataArray</div><div class='xr-array-name'>'pooled_adapted_ec50'</div><ul class='xr-dim-list'><li><span class='xr-has-index'>chain</span>: 5</li><li><span class='xr-has-index'>draw</span>: 4000</li></ul></div><ul class='xr-sections'><li class='xr-section-item'><div class='xr-array-wrap'><input id='section-b9e53a98-1286-49f1-ae7b-caf4f9a0dcb4' class='xr-array-in' type='checkbox' checked><label for='section-b9e53a98-1286-49f1-ae7b-caf4f9a0dcb4' title='Show/hide data repr'><svg class='icon xr-icon-database'><use xlink:href='#icon-database'></use></svg></label><div class='xr-array-preview xr-preview'><span>550.5 550.5 374.9 374.9 318.6 464.5 ... 292.4 350.6 975.9 502.0 600.7</span></div><div class='xr-array-data'><pre>array([[550.52522573, 550.52522573, 374.85970112, ..., 854.40980801,\n",
       "        829.33336876, 829.33336876],\n",
       "       [717.59762857, 484.69758628, 935.63682064, ..., 831.67896264,\n",
       "        831.67896264, 844.68039764],\n",
       "       [557.8499874 , 519.96307155, 379.75795071, ..., 440.01373948,\n",
       "        629.07174985, 234.59748476],\n",
       "       [557.03835088, 830.83935544, 558.98376414, ..., 583.35761812,\n",
       "        853.75166824, 271.03526437],\n",
       "       [796.3935048 , 502.05397564, 679.83217597, ..., 975.86929096,\n",
       "        501.95892967, 600.71099481]])</pre></div></div></li><li class='xr-section-item'><input id='section-3387b6fc-07e1-453e-800e-1fa1e7ac858e' class='xr-section-summary-in' type='checkbox'  checked><label for='section-3387b6fc-07e1-453e-800e-1fa1e7ac858e' class='xr-section-summary' >Coordinates: <span>(2)</span></label><div class='xr-section-inline-details'></div><div class='xr-section-details'><ul class='xr-var-list'><li class='xr-var-item'><div class='xr-var-name'><span class='xr-has-index'>chain</span></div><div class='xr-var-dims'>(chain)</div><div class='xr-var-dtype'>int64</div><div class='xr-var-preview xr-preview'>0 1 2 3 4</div><input id='attrs-44cd6ce5-4675-41da-8568-a62496ddff20' class='xr-var-attrs-in' type='checkbox' disabled><label for='attrs-44cd6ce5-4675-41da-8568-a62496ddff20' title='Show/Hide attributes'><svg class='icon xr-icon-file-text2'><use xlink:href='#icon-file-text2'></use></svg></label><input id='data-e754fa18-2c4e-4c9c-97d9-1951958bc4e5' class='xr-var-data-in' type='checkbox'><label for='data-e754fa18-2c4e-4c9c-97d9-1951958bc4e5' title='Show/Hide data repr'><svg class='icon xr-icon-database'><use xlink:href='#icon-database'></use></svg></label><div class='xr-var-attrs'><dl class='xr-attrs'></dl></div><div class='xr-var-data'><pre>array([0, 1, 2, 3, 4])</pre></div></li><li class='xr-var-item'><div class='xr-var-name'><span class='xr-has-index'>draw</span></div><div class='xr-var-dims'>(draw)</div><div class='xr-var-dtype'>int64</div><div class='xr-var-preview xr-preview'>10000 10010 10020 ... 49980 49990</div><input id='attrs-dd3495b5-cbea-4f02-8aea-636b9c7db439' class='xr-var-attrs-in' type='checkbox' disabled><label for='attrs-dd3495b5-cbea-4f02-8aea-636b9c7db439' title='Show/Hide attributes'><svg class='icon xr-icon-file-text2'><use xlink:href='#icon-file-text2'></use></svg></label><input id='data-9246ff8f-7f10-4c81-8dc5-6355b1a7df85' class='xr-var-data-in' type='checkbox'><label for='data-9246ff8f-7f10-4c81-8dc5-6355b1a7df85' title='Show/Hide data repr'><svg class='icon xr-icon-database'><use xlink:href='#icon-database'></use></svg></label><div class='xr-var-attrs'><dl class='xr-attrs'></dl></div><div class='xr-var-data'><pre>array([10000, 10010, 10020, ..., 49970, 49980, 49990])</pre></div></li></ul></div></li><li class='xr-section-item'><input id='section-206e4dec-509d-475f-8e89-fddac82e1d3a' class='xr-section-summary-in' type='checkbox' disabled ><label for='section-206e4dec-509d-475f-8e89-fddac82e1d3a' class='xr-section-summary'  title='Expand/collapse section'>Attributes: <span>(0)</span></label><div class='xr-section-inline-details'></div><div class='xr-section-details'><dl class='xr-attrs'></dl></div></li></ul></div></div>"
      ],
      "text/plain": [
       "<xarray.DataArray 'pooled_adapted_ec50' (chain: 5, draw: 4000)>\n",
       "array([[550.52522573, 550.52522573, 374.85970112, ..., 854.40980801,\n",
       "        829.33336876, 829.33336876],\n",
       "       [717.59762857, 484.69758628, 935.63682064, ..., 831.67896264,\n",
       "        831.67896264, 844.68039764],\n",
       "       [557.8499874 , 519.96307155, 379.75795071, ..., 440.01373948,\n",
       "        629.07174985, 234.59748476],\n",
       "       [557.03835088, 830.83935544, 558.98376414, ..., 583.35761812,\n",
       "        853.75166824, 271.03526437],\n",
       "       [796.3935048 , 502.05397564, 679.83217597, ..., 975.86929096,\n",
       "        501.95892967, 600.71099481]])\n",
       "Coordinates:\n",
       "  * chain    (chain) int64 0 1 2 3 4\n",
       "  * draw     (draw) int64 10000 10010 10020 10030 ... 49960 49970 49980 49990"
      ]
     },
     "execution_count": 38,
     "metadata": {},
     "output_type": "execute_result"
    }
   ],
   "source": [
    "directory = os.getcwd()\n",
    "inf_data = xr.load_dataset(\n",
    "    directory + '/derived_data/KR_model_posterior_10h.nc')\n",
    "inf_data['pooled_adapted_ec50']"
   ]
  },
  {
   "cell_type": "markdown",
   "metadata": {},
   "source": [
    "## Show data"
   ]
  },
  {
   "cell_type": "code",
   "execution_count": 5,
   "metadata": {},
   "outputs": [
    {
     "data": {
      "application/vnd.plotly.v1+json": {
       "config": {
        "plotlyServerURL": "https://plot.ly"
       },
       "data": [
        {
         "marker": {
          "color": "#636EFA",
          "line": {
           "color": "black",
           "width": 1
          },
          "opacity": 0.7,
          "symbol": "circle"
         },
         "mode": "markers",
         "name": "ID: 1",
         "showlegend": true,
         "type": "scatter",
         "x": [
          0,
          1,
          2,
          3,
          4,
          5,
          6,
          7,
          8,
          9,
          10,
          11,
          12,
          13,
          14,
          15,
          16,
          17,
          18,
          19,
          20,
          21,
          22,
          23,
          24,
          25,
          26,
          27,
          28,
          29,
          30,
          31,
          32,
          33,
          34,
          35,
          36,
          37,
          38,
          39,
          40
         ],
         "y": [
          222225,
          400855,
          1487240,
          2208230,
          3046306,
          11994151,
          47299184,
          74284045,
          46967557,
          63550050,
          199585023,
          654633504,
          265120770,
          2485310898,
          2609294840,
          8066896096,
          19867079006,
          50326984923,
          180922665440,
          607705155028,
          562375356155,
          3263761219580,
          1586565002250,
          6488286202383,
          19135535557208,
          21747602410732,
          24919074804687,
          46681191008298,
          138616141998215,
          480055233000692,
          437976754489087,
          1656004726019937,
          3703596324001781,
          13057118745995786,
          22443576885000344,
          52018375103285800,
          52295123275230776,
          152090807052635650,
          578543072994750300,
          1904774047750020400,
          555449743614366460
         ]
        },
        {
         "marker": {
          "color": "#EF553B",
          "line": {
           "color": "black",
           "width": 1
          },
          "opacity": 0.7,
          "symbol": "circle"
         },
         "mode": "markers",
         "name": "ID: 2",
         "showlegend": true,
         "type": "scatter",
         "x": [
          0,
          1,
          2,
          3,
          4,
          5,
          6,
          7,
          8,
          9,
          10,
          11,
          12,
          13,
          14,
          15,
          16,
          17,
          18,
          19,
          20,
          21,
          22,
          23,
          24,
          25,
          26,
          27,
          28,
          29,
          30,
          31,
          32,
          33,
          34,
          35,
          36,
          37,
          38,
          39,
          40
         ],
         "y": [
          259197,
          781494,
          1197136,
          824112,
          8353224,
          12380934,
          11970741,
          49274416,
          79016383,
          139899587,
          215764488,
          608847809,
          517056395,
          1646970821,
          2831309755,
          13009343070,
          18984893572,
          32490019897,
          49811520507,
          155326575982,
          381999511565,
          602087853949,
          3396083971591,
          5178159702107,
          713109046325,
          2353761523636,
          15335177224698,
          26885598878604,
          89449316718516,
          192764761377049,
          1571956266956757,
          353744948911010,
          1277222391978230,
          15012432602518422,
          12202165172466666,
          25204159862787424,
          21249121710911504,
          18053522012012816,
          119927453717891230,
          213940503956022100,
          155815162540466430
         ]
        },
        {
         "marker": {
          "color": "#00CC96",
          "line": {
           "color": "black",
           "width": 1
          },
          "opacity": 0.7,
          "symbol": "circle"
         },
         "mode": "markers",
         "name": "ID: 3",
         "showlegend": true,
         "type": "scatter",
         "x": [
          0,
          1,
          2,
          3,
          4,
          5,
          6,
          7,
          8,
          9,
          10,
          11,
          12,
          13,
          14,
          15,
          16,
          17,
          18,
          19,
          20,
          21,
          22,
          23,
          24,
          25,
          26,
          27,
          28,
          29,
          30,
          31,
          32,
          33,
          34,
          35,
          36,
          37,
          38,
          39,
          40
         ],
         "y": [
          232297,
          304951,
          711401,
          371477,
          15622210,
          19005372,
          11535138,
          40345568,
          45497620,
          40096518,
          184682925,
          132562823,
          262507229,
          398890570,
          2041983514,
          2981239995,
          10096017901,
          9727224625,
          35113079043,
          37157349226,
          240277903850,
          257550653936,
          460107883131,
          773360933184,
          451548065423,
          2496731542384,
          10760733365079,
          1624215214939,
          3202622452527,
          8013665398750,
          89109212720054,
          116698867727991,
          489729498118308,
          824312196156389,
          1244147752475688,
          2515749386795969,
          3099672788658736,
          10362100429624064,
          4065238278352974.5,
          10533558565097602,
          26418020267755884
         ]
        },
        {
         "marker": {
          "color": "#AB63FA",
          "line": {
           "color": "black",
           "width": 1
          },
          "opacity": 0.7,
          "symbol": "circle"
         },
         "mode": "markers",
         "name": "ID: 4",
         "showlegend": true,
         "type": "scatter",
         "x": [
          0,
          1,
          2,
          3,
          4,
          5,
          6,
          7,
          8,
          9,
          10,
          11,
          12,
          13,
          14,
          15,
          16,
          17,
          18,
          19,
          20,
          21,
          22,
          23,
          24,
          25,
          26,
          27,
          28,
          29,
          30,
          31,
          32,
          33,
          34,
          35,
          36,
          37,
          38,
          39,
          40
         ],
         "y": [
          849225,
          73487,
          1272897,
          1378950,
          3228585,
          6538636,
          2467881,
          10490280,
          7905583,
          171796982,
          22643831,
          21832114,
          42663875,
          66497448,
          107307313,
          366211360,
          1452974538,
          1893161846,
          9443241819,
          9069153811,
          18116405993,
          69829008552,
          42000455172,
          23579510593,
          34159740330,
          65182941613,
          249719715702,
          99111090453,
          206165877722,
          1043320516677,
          596120381053,
          1946868815251,
          9556117432639,
          16697826831732,
          25609597376624,
          65519972221109,
          7515770511644,
          134727272811649,
          39414240051699,
          27730619653146,
          124416419396811
         ]
        },
        {
         "marker": {
          "color": "#FFA15A",
          "line": {
           "color": "black",
           "width": 1
          },
          "opacity": 0.7,
          "symbol": "circle"
         },
         "mode": "markers",
         "name": "ID: 5",
         "showlegend": true,
         "type": "scatter",
         "x": [
          0,
          1,
          2,
          3,
          4,
          5,
          6,
          7,
          8,
          9,
          10,
          11,
          12,
          13,
          14,
          15,
          16,
          17,
          18,
          19,
          20,
          21,
          22,
          23,
          24,
          25,
          26,
          27,
          28,
          29,
          30,
          31,
          32,
          33,
          34,
          35,
          36,
          37,
          38,
          39,
          40
         ],
         "y": [
          128950,
          389075,
          3044184,
          3254911,
          1404835,
          6018815,
          3229749,
          3828380,
          725060,
          1680773,
          1057844,
          2610288,
          1698985,
          3723405,
          1890693,
          55276512,
          6412953,
          114239106,
          90491320,
          132874007,
          208421803,
          169926272,
          246203055,
          114129518,
          223228183,
          14056137,
          48229070,
          39936267,
          243322494,
          66002711,
          484770316,
          1532561259,
          1008403184,
          12257016871,
          15047852498,
          35630705187,
          28344753467,
          5076742584,
          3789594841,
          3711828559,
          4658730801
         ]
        },
        {
         "marker": {
          "color": "#19D3F3",
          "line": {
           "color": "black",
           "width": 1
          },
          "opacity": 0.7,
          "symbol": "circle"
         },
         "mode": "markers",
         "name": "ID: 6",
         "showlegend": true,
         "type": "scatter",
         "x": [
          0,
          1,
          2,
          3,
          4,
          5,
          6,
          7,
          8,
          9,
          10,
          11,
          12,
          13,
          14,
          15,
          16,
          17,
          18,
          19,
          20,
          21,
          22,
          23,
          24,
          25,
          26,
          27,
          28,
          29,
          30,
          31,
          32,
          33,
          34,
          35,
          36,
          37,
          38,
          39,
          40
         ],
         "y": [
          116085,
          173994,
          798335,
          2754051,
          9817152,
          4125455,
          847877,
          182725,
          153595,
          111117,
          21203,
          4863,
          5829,
          49831,
          33698,
          17463,
          116333,
          116806,
          365208,
          869533,
          643513,
          936574,
          352582,
          141718,
          166124,
          129940,
          15551,
          40093,
          33942,
          106466,
          97473,
          511555,
          1048972,
          1872487,
          2399516,
          3282874,
          1263509,
          626138,
          1111666,
          255384,
          734921
         ]
        },
        {
         "marker": {
          "color": "#FF6692",
          "line": {
           "color": "black",
           "width": 1
          },
          "opacity": 0.7,
          "symbol": "circle"
         },
         "mode": "markers",
         "name": "ID: 7",
         "showlegend": true,
         "type": "scatter",
         "x": [
          0,
          1,
          2,
          3,
          4,
          5,
          6,
          7,
          8,
          9,
          10,
          11,
          12,
          13,
          14,
          15,
          16,
          17,
          18,
          19,
          20,
          21,
          22,
          23,
          24,
          25,
          26,
          27,
          28,
          29,
          30,
          31,
          32,
          33,
          34,
          35,
          36,
          37,
          38,
          39,
          40
         ],
         "y": [
          425328,
          1524800,
          159027,
          1862996,
          9011505,
          3993919,
          194320,
          92217,
          19484,
          11924,
          4682,
          1093,
          961,
          2497,
          1958,
          13356,
          27638,
          83268,
          49731,
          287305,
          40174,
          22790,
          22066,
          12993,
          1777,
          826,
          1995,
          638,
          3002,
          2614,
          4597,
          8763,
          30003,
          30894,
          158513,
          35640,
          23453,
          8800,
          11014,
          3791,
          1030
         ]
        }
       ],
       "layout": {
        "autosize": true,
        "template": {
         "data": {
          "bar": [
           {
            "error_x": {
             "color": "#2a3f5f"
            },
            "error_y": {
             "color": "#2a3f5f"
            },
            "marker": {
             "line": {
              "color": "white",
              "width": 0.5
             },
             "pattern": {
              "fillmode": "overlay",
              "size": 10,
              "solidity": 0.2
             }
            },
            "type": "bar"
           }
          ],
          "barpolar": [
           {
            "marker": {
             "line": {
              "color": "white",
              "width": 0.5
             },
             "pattern": {
              "fillmode": "overlay",
              "size": 10,
              "solidity": 0.2
             }
            },
            "type": "barpolar"
           }
          ],
          "carpet": [
           {
            "aaxis": {
             "endlinecolor": "#2a3f5f",
             "gridcolor": "#C8D4E3",
             "linecolor": "#C8D4E3",
             "minorgridcolor": "#C8D4E3",
             "startlinecolor": "#2a3f5f"
            },
            "baxis": {
             "endlinecolor": "#2a3f5f",
             "gridcolor": "#C8D4E3",
             "linecolor": "#C8D4E3",
             "minorgridcolor": "#C8D4E3",
             "startlinecolor": "#2a3f5f"
            },
            "type": "carpet"
           }
          ],
          "choropleth": [
           {
            "colorbar": {
             "outlinewidth": 0,
             "ticks": ""
            },
            "type": "choropleth"
           }
          ],
          "contour": [
           {
            "colorbar": {
             "outlinewidth": 0,
             "ticks": ""
            },
            "colorscale": [
             [
              0,
              "#0d0887"
             ],
             [
              0.1111111111111111,
              "#46039f"
             ],
             [
              0.2222222222222222,
              "#7201a8"
             ],
             [
              0.3333333333333333,
              "#9c179e"
             ],
             [
              0.4444444444444444,
              "#bd3786"
             ],
             [
              0.5555555555555556,
              "#d8576b"
             ],
             [
              0.6666666666666666,
              "#ed7953"
             ],
             [
              0.7777777777777778,
              "#fb9f3a"
             ],
             [
              0.8888888888888888,
              "#fdca26"
             ],
             [
              1,
              "#f0f921"
             ]
            ],
            "type": "contour"
           }
          ],
          "contourcarpet": [
           {
            "colorbar": {
             "outlinewidth": 0,
             "ticks": ""
            },
            "type": "contourcarpet"
           }
          ],
          "heatmap": [
           {
            "colorbar": {
             "outlinewidth": 0,
             "ticks": ""
            },
            "colorscale": [
             [
              0,
              "#0d0887"
             ],
             [
              0.1111111111111111,
              "#46039f"
             ],
             [
              0.2222222222222222,
              "#7201a8"
             ],
             [
              0.3333333333333333,
              "#9c179e"
             ],
             [
              0.4444444444444444,
              "#bd3786"
             ],
             [
              0.5555555555555556,
              "#d8576b"
             ],
             [
              0.6666666666666666,
              "#ed7953"
             ],
             [
              0.7777777777777778,
              "#fb9f3a"
             ],
             [
              0.8888888888888888,
              "#fdca26"
             ],
             [
              1,
              "#f0f921"
             ]
            ],
            "type": "heatmap"
           }
          ],
          "heatmapgl": [
           {
            "colorbar": {
             "outlinewidth": 0,
             "ticks": ""
            },
            "colorscale": [
             [
              0,
              "#0d0887"
             ],
             [
              0.1111111111111111,
              "#46039f"
             ],
             [
              0.2222222222222222,
              "#7201a8"
             ],
             [
              0.3333333333333333,
              "#9c179e"
             ],
             [
              0.4444444444444444,
              "#bd3786"
             ],
             [
              0.5555555555555556,
              "#d8576b"
             ],
             [
              0.6666666666666666,
              "#ed7953"
             ],
             [
              0.7777777777777778,
              "#fb9f3a"
             ],
             [
              0.8888888888888888,
              "#fdca26"
             ],
             [
              1,
              "#f0f921"
             ]
            ],
            "type": "heatmapgl"
           }
          ],
          "histogram": [
           {
            "marker": {
             "pattern": {
              "fillmode": "overlay",
              "size": 10,
              "solidity": 0.2
             }
            },
            "type": "histogram"
           }
          ],
          "histogram2d": [
           {
            "colorbar": {
             "outlinewidth": 0,
             "ticks": ""
            },
            "colorscale": [
             [
              0,
              "#0d0887"
             ],
             [
              0.1111111111111111,
              "#46039f"
             ],
             [
              0.2222222222222222,
              "#7201a8"
             ],
             [
              0.3333333333333333,
              "#9c179e"
             ],
             [
              0.4444444444444444,
              "#bd3786"
             ],
             [
              0.5555555555555556,
              "#d8576b"
             ],
             [
              0.6666666666666666,
              "#ed7953"
             ],
             [
              0.7777777777777778,
              "#fb9f3a"
             ],
             [
              0.8888888888888888,
              "#fdca26"
             ],
             [
              1,
              "#f0f921"
             ]
            ],
            "type": "histogram2d"
           }
          ],
          "histogram2dcontour": [
           {
            "colorbar": {
             "outlinewidth": 0,
             "ticks": ""
            },
            "colorscale": [
             [
              0,
              "#0d0887"
             ],
             [
              0.1111111111111111,
              "#46039f"
             ],
             [
              0.2222222222222222,
              "#7201a8"
             ],
             [
              0.3333333333333333,
              "#9c179e"
             ],
             [
              0.4444444444444444,
              "#bd3786"
             ],
             [
              0.5555555555555556,
              "#d8576b"
             ],
             [
              0.6666666666666666,
              "#ed7953"
             ],
             [
              0.7777777777777778,
              "#fb9f3a"
             ],
             [
              0.8888888888888888,
              "#fdca26"
             ],
             [
              1,
              "#f0f921"
             ]
            ],
            "type": "histogram2dcontour"
           }
          ],
          "mesh3d": [
           {
            "colorbar": {
             "outlinewidth": 0,
             "ticks": ""
            },
            "type": "mesh3d"
           }
          ],
          "parcoords": [
           {
            "line": {
             "colorbar": {
              "outlinewidth": 0,
              "ticks": ""
             }
            },
            "type": "parcoords"
           }
          ],
          "pie": [
           {
            "automargin": true,
            "type": "pie"
           }
          ],
          "scatter": [
           {
            "marker": {
             "colorbar": {
              "outlinewidth": 0,
              "ticks": ""
             }
            },
            "type": "scatter"
           }
          ],
          "scatter3d": [
           {
            "line": {
             "colorbar": {
              "outlinewidth": 0,
              "ticks": ""
             }
            },
            "marker": {
             "colorbar": {
              "outlinewidth": 0,
              "ticks": ""
             }
            },
            "type": "scatter3d"
           }
          ],
          "scattercarpet": [
           {
            "marker": {
             "colorbar": {
              "outlinewidth": 0,
              "ticks": ""
             }
            },
            "type": "scattercarpet"
           }
          ],
          "scattergeo": [
           {
            "marker": {
             "colorbar": {
              "outlinewidth": 0,
              "ticks": ""
             }
            },
            "type": "scattergeo"
           }
          ],
          "scattergl": [
           {
            "marker": {
             "colorbar": {
              "outlinewidth": 0,
              "ticks": ""
             }
            },
            "type": "scattergl"
           }
          ],
          "scattermapbox": [
           {
            "marker": {
             "colorbar": {
              "outlinewidth": 0,
              "ticks": ""
             }
            },
            "type": "scattermapbox"
           }
          ],
          "scatterpolar": [
           {
            "marker": {
             "colorbar": {
              "outlinewidth": 0,
              "ticks": ""
             }
            },
            "type": "scatterpolar"
           }
          ],
          "scatterpolargl": [
           {
            "marker": {
             "colorbar": {
              "outlinewidth": 0,
              "ticks": ""
             }
            },
            "type": "scatterpolargl"
           }
          ],
          "scatterternary": [
           {
            "marker": {
             "colorbar": {
              "outlinewidth": 0,
              "ticks": ""
             }
            },
            "type": "scatterternary"
           }
          ],
          "surface": [
           {
            "colorbar": {
             "outlinewidth": 0,
             "ticks": ""
            },
            "colorscale": [
             [
              0,
              "#0d0887"
             ],
             [
              0.1111111111111111,
              "#46039f"
             ],
             [
              0.2222222222222222,
              "#7201a8"
             ],
             [
              0.3333333333333333,
              "#9c179e"
             ],
             [
              0.4444444444444444,
              "#bd3786"
             ],
             [
              0.5555555555555556,
              "#d8576b"
             ],
             [
              0.6666666666666666,
              "#ed7953"
             ],
             [
              0.7777777777777778,
              "#fb9f3a"
             ],
             [
              0.8888888888888888,
              "#fdca26"
             ],
             [
              1,
              "#f0f921"
             ]
            ],
            "type": "surface"
           }
          ],
          "table": [
           {
            "cells": {
             "fill": {
              "color": "#EBF0F8"
             },
             "line": {
              "color": "white"
             }
            },
            "header": {
             "fill": {
              "color": "#C8D4E3"
             },
             "line": {
              "color": "white"
             }
            },
            "type": "table"
           }
          ]
         },
         "layout": {
          "annotationdefaults": {
           "arrowcolor": "#2a3f5f",
           "arrowhead": 0,
           "arrowwidth": 1
          },
          "autotypenumbers": "strict",
          "coloraxis": {
           "colorbar": {
            "outlinewidth": 0,
            "ticks": ""
           }
          },
          "colorscale": {
           "diverging": [
            [
             0,
             "#8e0152"
            ],
            [
             0.1,
             "#c51b7d"
            ],
            [
             0.2,
             "#de77ae"
            ],
            [
             0.3,
             "#f1b6da"
            ],
            [
             0.4,
             "#fde0ef"
            ],
            [
             0.5,
             "#f7f7f7"
            ],
            [
             0.6,
             "#e6f5d0"
            ],
            [
             0.7,
             "#b8e186"
            ],
            [
             0.8,
             "#7fbc41"
            ],
            [
             0.9,
             "#4d9221"
            ],
            [
             1,
             "#276419"
            ]
           ],
           "sequential": [
            [
             0,
             "#0d0887"
            ],
            [
             0.1111111111111111,
             "#46039f"
            ],
            [
             0.2222222222222222,
             "#7201a8"
            ],
            [
             0.3333333333333333,
             "#9c179e"
            ],
            [
             0.4444444444444444,
             "#bd3786"
            ],
            [
             0.5555555555555556,
             "#d8576b"
            ],
            [
             0.6666666666666666,
             "#ed7953"
            ],
            [
             0.7777777777777778,
             "#fb9f3a"
            ],
            [
             0.8888888888888888,
             "#fdca26"
            ],
            [
             1,
             "#f0f921"
            ]
           ],
           "sequentialminus": [
            [
             0,
             "#0d0887"
            ],
            [
             0.1111111111111111,
             "#46039f"
            ],
            [
             0.2222222222222222,
             "#7201a8"
            ],
            [
             0.3333333333333333,
             "#9c179e"
            ],
            [
             0.4444444444444444,
             "#bd3786"
            ],
            [
             0.5555555555555556,
             "#d8576b"
            ],
            [
             0.6666666666666666,
             "#ed7953"
            ],
            [
             0.7777777777777778,
             "#fb9f3a"
            ],
            [
             0.8888888888888888,
             "#fdca26"
            ],
            [
             1,
             "#f0f921"
            ]
           ]
          },
          "colorway": [
           "#636efa",
           "#EF553B",
           "#00cc96",
           "#ab63fa",
           "#FFA15A",
           "#19d3f3",
           "#FF6692",
           "#B6E880",
           "#FF97FF",
           "#FECB52"
          ],
          "font": {
           "color": "#2a3f5f"
          },
          "geo": {
           "bgcolor": "white",
           "lakecolor": "white",
           "landcolor": "white",
           "showlakes": true,
           "showland": true,
           "subunitcolor": "#C8D4E3"
          },
          "hoverlabel": {
           "align": "left"
          },
          "hovermode": "closest",
          "mapbox": {
           "style": "light"
          },
          "paper_bgcolor": "white",
          "plot_bgcolor": "white",
          "polar": {
           "angularaxis": {
            "gridcolor": "#EBF0F8",
            "linecolor": "#EBF0F8",
            "ticks": ""
           },
           "bgcolor": "white",
           "radialaxis": {
            "gridcolor": "#EBF0F8",
            "linecolor": "#EBF0F8",
            "ticks": ""
           }
          },
          "scene": {
           "xaxis": {
            "backgroundcolor": "white",
            "gridcolor": "#DFE8F3",
            "gridwidth": 2,
            "linecolor": "#EBF0F8",
            "showbackground": true,
            "ticks": "",
            "zerolinecolor": "#EBF0F8"
           },
           "yaxis": {
            "backgroundcolor": "white",
            "gridcolor": "#DFE8F3",
            "gridwidth": 2,
            "linecolor": "#EBF0F8",
            "showbackground": true,
            "ticks": "",
            "zerolinecolor": "#EBF0F8"
           },
           "zaxis": {
            "backgroundcolor": "white",
            "gridcolor": "#DFE8F3",
            "gridwidth": 2,
            "linecolor": "#EBF0F8",
            "showbackground": true,
            "ticks": "",
            "zerolinecolor": "#EBF0F8"
           }
          },
          "shapedefaults": {
           "line": {
            "color": "#2a3f5f"
           }
          },
          "ternary": {
           "aaxis": {
            "gridcolor": "#DFE8F3",
            "linecolor": "#A2B1C6",
            "ticks": ""
           },
           "baxis": {
            "gridcolor": "#DFE8F3",
            "linecolor": "#A2B1C6",
            "ticks": ""
           },
           "bgcolor": "white",
           "caxis": {
            "gridcolor": "#DFE8F3",
            "linecolor": "#A2B1C6",
            "ticks": ""
           }
          },
          "title": {
           "x": 0.05
          },
          "xaxis": {
           "automargin": true,
           "gridcolor": "#EBF0F8",
           "linecolor": "#EBF0F8",
           "ticks": "",
           "title": {
            "standoff": 15
           },
           "zerolinecolor": "#EBF0F8",
           "zerolinewidth": 2
          },
          "yaxis": {
           "automargin": true,
           "gridcolor": "#EBF0F8",
           "linecolor": "#EBF0F8",
           "ticks": "",
           "title": {
            "standoff": 15
           },
           "zerolinecolor": "#EBF0F8",
           "zerolinewidth": 2
          }
         }
        },
        "updatemenus": [
         {
          "buttons": [
           {
            "args": [
             {
              "yaxis.type": "linear"
             }
            ],
            "label": "Linear y-scale",
            "method": "relayout"
           },
           {
            "args": [
             {
              "yaxis.type": "log"
             }
            ],
            "label": "Log y-scale",
            "method": "relayout"
           }
          ],
          "direction": "left",
          "pad": {
           "r": 0,
           "t": -10
          },
          "showactive": true,
          "type": "buttons",
          "x": 0,
          "xanchor": "left",
          "y": 1.15,
          "yanchor": "top"
         }
        ],
        "xaxis": {
         "title": {
          "text": "Time in hours"
         }
        },
        "yaxis": {
         "title": {
          "text": "Bacterial count in CFU/mL"
         }
        }
       }
      }
     },
     "metadata": {},
     "output_type": "display_data"
    }
   ],
   "source": [
    "# Get data\n",
    "directory = os.getcwd()\n",
    "data = pd.read_csv(directory + '/derived_data/measurements.csv')\n",
    "\n",
    "# Create scatter plots of data\n",
    "fig = chi.plots.PDTimeSeriesPlot()\n",
    "fig.add_data(data, biomarker='Bacterial count')\n",
    "fig.set_axis_labels(xlabel='Time in hours', ylabel='Bacterial count in CFU/mL')\n",
    "fig.show()"
   ]
  },
  {
   "cell_type": "markdown",
   "metadata": {},
   "source": [
    "## Define candidate models\n",
    "\n",
    "Recall that the data-generating model is the KR model.\n",
    "We will use the data-generating model (with the true model parameters) as a\n",
    "reference to evaluate the reliability of the model predictions."
   ]
  },
  {
   "cell_type": "code",
   "execution_count": 6,
   "metadata": {},
   "outputs": [],
   "source": [
    "# Define K model\n",
    "directory = os.path.dirname(os.path.dirname(os.getcwd()))\n",
    "k_model = chi.PharmacokineticModel(directory + '/models/K_model.xml')\n",
    "k_model.set_administration(compartment='central')\n",
    "k_model.set_parameter_names(names={\n",
    "    'myokit.bacterial_count': 'Initial bacterial count in CFU/ml',\n",
    "    'myokit.concentration_e50': 'EC 50 in ng/ml',\n",
    "    'myokit.growth_rate': 'Growth rate in 1/h',\n",
    "    'myokit.kappa': 'Max. kill rate in 1/h'})\n",
    "k_model.set_outputs(['myokit.bacterial_count'])\n",
    "k_model.set_output_names({\n",
    "    'myokit.bacterial_count': 'Bacterial count in CFU/ml'})\n",
    "k_model = chi.ReducedMechanisticModel(\n",
    "    k_model)\n",
    "k_model.fix_parameters({\n",
    "    'central.drug_amount': 0,\n",
    "    'dose.drug_amount': 0,\n",
    "    'myokit.bacterial_count_adapted': 0,\n",
    "    'dose.absorption_rate': 2.7,           # in 1/h, Sanchez et al\n",
    "    'central.size': 3.7 * 70,              # in L/kg, Sanchez et al for 70 kg\n",
    "    'myokit.elimination_rate': 0.17,       # in 1/h, Sanchez et al\n",
    "    'myokit.gamma': 1})\n",
    "\n",
    "\n",
    "# Define KP model\n",
    "kp_model = chi.PharmacokineticModel(directory + '/models/KP_model.xml')\n",
    "kp_model.set_administration(compartment='central', direct=False)\n",
    "kp_model.set_parameter_names(names={\n",
    "    'myokit.bacterial_count_susceptible': 'Initial bacterial count in CFU/ml',\n",
    "    'myokit.death_rate': 'Death rate in 1/h',\n",
    "    'myokit.growth_rate': 'Growth rate in 1/h',\n",
    "    'myokit.kappa': 'Kill rate in ml/ng/h',\n",
    "    'myokit.transition_rate_12': 'Transition rate to dividing in 1/h',\n",
    "    'myokit.transition_rate_21': 'Transition rate to non-dividing in ml/ng/h'})\n",
    "kp_model.set_outputs(['myokit.total_bacterial_count'])\n",
    "kp_model.set_output_names({\n",
    "    'myokit.total_bacterial_count': 'Bacterial count in CFU/ml'})\n",
    "kp_model = chi.ReducedMechanisticModel(\n",
    "    kp_model)\n",
    "kp_model.fix_parameters({\n",
    "    'central.drug_amount': 0,\n",
    "    'dose.drug_amount': 0,\n",
    "    'myokit.bacterial_count_adapted': 0,\n",
    "    'dose.absorption_rate': 2.7,           # in 1/h, Sanchez et al\n",
    "    'central.size': 3.7 * 70,              # in L/kg, Sanchez et al for 70 kg\n",
    "    'myokit.elimination_rate': 0.17,       # in 1/h, Sanchez et al\n",
    "    'myokit.gamma': 1})\n",
    "\n",
    "# Define KR model\n",
    "kr_model = chi.PharmacokineticModel(directory + '/models/KR_model.xml')\n",
    "kr_model.set_administration(compartment='central', direct=False)\n",
    "kr_model.set_parameter_names(names={\n",
    "    'myokit.bacterial_count_susceptible': 'Initial bacterial count in CFU/ml',\n",
    "    'myokit.concentration_e50_adapted': 'Adapted EC 50 in ng/ml',\n",
    "    'myokit.growth_rate': 'Growth rate in 1/h',\n",
    "    'myokit.kappa_adapted': 'Adapted max. kill rate in 1/h',\n",
    "    'myokit.kappa_susceptible': 'Wild type kill rate in ml/ng/h',\n",
    "    'myokit.mutation_rate': 'Mutation rate in ml/ng/h'})\n",
    "kr_model.set_outputs(['myokit.total_bacterial_count'])\n",
    "kr_model.set_output_names({\n",
    "    'myokit.total_bacterial_count': 'Bacterial count in CFU/ml'})\n",
    "kr_model = chi.ReducedMechanisticModel(\n",
    "    kr_model)\n",
    "kr_model.fix_parameters({\n",
    "    'central.drug_amount': 0,\n",
    "    'dose.drug_amount': 0,\n",
    "    'myokit.bacterial_count_adapted': 0,\n",
    "    'dose.absorption_rate': 2.7,           # in 1/h, Sanchez et al\n",
    "    'central.size': 3.7 * 70,              # in L/kg, Sanchez et al for 70 kg\n",
    "    'myokit.elimination_rate': 0.17,       # in 1/h, Sanchez et al\n",
    "    'myokit.gamma': 1})"
   ]
  },
  {
   "cell_type": "markdown",
   "metadata": {},
   "source": [
    "## Predictions of 1-log reduction dose\n",
    "\n",
    "We want to predict the dose that leads after 24h to a 1-log (10-fold) reduction\n",
    "of the bacterial population. We consider a dosing regimen $r$ that administers\n",
    "ciprofloxacin orally twice a day.\n",
    "\n",
    "The true 1-log reduction dose can be straightforwardly computed from the\n",
    "data-generating model by solving\n",
    "\n",
    "$$\n",
    "    \\bar{y}(\\psi , t=24, r) = \\bar{y}_0 / 10\n",
    "$$\n",
    "\n",
    "for the dosing regimen $r$, where $\\bar{y}_0 = \\bar{y}(\\psi , t=0, r)$ is the\n",
    "true bacterial count at $t=0$. An analogous expression can also be solved for\n",
    "the MAA approach to find a point estimate of the 1-log reduction dose.\n",
    "\n",
    "For MS and for PAM, we can leverage the full posterior predictive distribution\n",
    "to estimate a distribution of probable 1-log reduction doses using Bayes' rule\n",
    "\n",
    "$$\n",
    "    p_m(r | \\mathcal{D}, t, \\mathbf{y}) \\propto\n",
    "        p_m(\\mathbf{y}| \\mathcal{D}, t, r) \\, p(r),\n",
    "$$\n",
    "\n",
    "where $p_m(\\mathbf{y}| \\mathcal{D}, t, r)$ is the posterior predictive\n",
    "distribution estimated\n",
    "- `infer_K_model_after_Xh.ipynb`\n",
    "- `infer_KP_model_after_Xh.ipynb`\n",
    "- `infer_KR_model_after_Xh.ipynb`.\n",
    "\n",
    "We evaluate the posterior predictive distribution at $\\mathbf{y} = \\mathbf{y}_0 / 10$ and $t = 24$. $p(r)$ is our prior knowledge about the dosing regimen. In this\n",
    "case we don't know anything about the dosing regimen, so we will choose a uniform\n",
    "distribution which extends significantly beyond the true 1-log reduction dose."
   ]
  },
  {
   "cell_type": "markdown",
   "metadata": {},
   "source": [
    "### Find true 1-log reduction dose"
   ]
  },
  {
   "cell_type": "code",
   "execution_count": 47,
   "metadata": {},
   "outputs": [
    {
     "name": "stdout",
     "output_type": "stream",
     "text": [
      "True dose:  [163.82753914]\n",
      "Squared error:  3.4902336099777226e-22\n"
     ]
    }
   ],
   "source": [
    "class TrueXFoldReductionDose(pints.ErrorMeasure):\n",
    "    \"\"\"\n",
    "    Defines a pints.ErrorMeasure that can be used to find the true\n",
    "    dose that leads to a X-fold reduction at time t.\n",
    "\n",
    "    Can be called with a dose amount and returns the squared distance\n",
    "    of the fold reduction at time t from the target fold reduced bacterial\n",
    "    population.\n",
    "    \"\"\"\n",
    "    def __init__(self, fold_reduction, time):\n",
    "        self._model = kr_model\n",
    "        self._parameters = [\n",
    "            1E6,     # Initial bacterial count in CFU/ml\n",
    "            191,     # Adapated EC50 in ng/ml\n",
    "            0.77,    # Growth rate in 1/h\n",
    "            1.61,    # Adapted max. kill rate in 1/h\n",
    "            0.003,   # Wild type max. kill rate in 1/h\n",
    "            5E-5,    # Max. mutation rate in 1/h\n",
    "        ]\n",
    "        self._time = [float(time)]\n",
    "        self._target_reduction = -int(fold_reduction)\n",
    "\n",
    "    def __call__(self, dose):\n",
    "        \"\"\"\n",
    "        Returns the squared error of the target population size to the\n",
    "        true population size at time t for the administered dose.\n",
    "\n",
    "        Input: dose in mg\n",
    "        \"\"\"\n",
    "        # Convert dose to ng\n",
    "        dose = dose[0] * 1E3\n",
    "\n",
    "        # Compute error\n",
    "        self._model.set_dosing_regimen(dose=dose, start=0, period=12)\n",
    "        predicted_pop = self._model.simulate(\n",
    "            parameters=self._parameters, times=self._time)[0, 0]\n",
    "        fold_reduction = np.log10(predicted_pop / self._parameters[0])\n",
    "        squared_error = (self._target_reduction - fold_reduction) ** 2\n",
    "\n",
    "        return squared_error\n",
    "\n",
    "    def n_parameters(self):\n",
    "        \"\"\"\n",
    "        Returns the number of parameters of the optimisation problem.\n",
    "        (We just want to find the dose, so it is 1)\n",
    "        \"\"\"\n",
    "        return 1\n",
    "\n",
    "# Find true 1-log reduction dose\n",
    "problem = TrueXFoldReductionDose(fold_reduction=1, time=24)\n",
    "initial_guess = [200]\n",
    "optimiser = pints.OptimisationController(\n",
    "    problem, x0=initial_guess, method=pints.NelderMead)\n",
    "optimiser.set_log_to_screen(False)\n",
    "true_dose, squared_error = optimiser.run()\n",
    "print('True dose: ', true_dose)\n",
    "print('Squared error: ', squared_error)"
   ]
  },
  {
   "cell_type": "markdown",
   "metadata": {},
   "source": [
    "### Predict 1-log reduction dose with MAA approach\n",
    "\n",
    "We can find the 1-log reduction dose analogously to the optimisation routine\n",
    "above. The main difference is that we have to compute the predicted bacterial\n",
    "count at time t with the weighted average of the mean predictions across the\n",
    "models\n",
    "\n",
    "$$\n",
    "    \\bar{y}(\\mathcal{D}, t, r) = \\sum_m w_m\\, \\mathbb{E}_m [y | \\mathcal{D}, t, r].\n",
    "$$\n",
    "\n",
    "We will approximate the exact expectation of $y$ by an empirical average over\n",
    "the posterior samples\n",
    "\n",
    "$$\n",
    "    \\mathbb{E}_m [y | \\mathcal{D}, t, r] \\approx\n",
    "        \\frac{1}{S} \\sum _{s=1}^S y(\\psi ^s, \\sigma ^s, t, r),\n",
    "$$\n",
    "where $S$ is the sample size and the superscript indexes the samples from the\n",
    "posterior distribution."
   ]
  },
  {
   "cell_type": "code",
   "execution_count": 60,
   "metadata": {},
   "outputs": [
    {
     "name": "stdout",
     "output_type": "stream",
     "text": [
      "True doses:  [162.9296875  163.44238518 162.8125     162.85163887]\n",
      "Squared errors:  [1.05370594e-07 3.12932516e-06 2.32299921e-09 5.03784676e-07]\n"
     ]
    }
   ],
   "source": [
    "# Define a map from model names to names in saved posteriors\n",
    "name_map = [\n",
    "    {\n",
    "        'Initial bacterial count in CFU/ml': 'pooled_initial_bacterial_count',\n",
    "        'EC 50 in ng/ml': 'pooled_ec50',\n",
    "        'Growth rate in 1/h': 'pooled_growth_rate',\n",
    "        'Max. kill rate in 1/h': 'pooled_max_kill_rate',\n",
    "        'Sigma log': 'pooled_sigma_log'},\n",
    "    {\n",
    "        'Initial bacterial count in CFU/ml': 'pooled_initial_bacterial_count',\n",
    "        'Death rate in 1/h': 'pooled_death_rate',\n",
    "        'Growth rate in 1/h': 'pooled_growth_rate',\n",
    "        'Kill rate in ml/ng/h': 'pooled_kill_rate',\n",
    "        'Transition rate to dividing in 1/h': 'pooled_rate_to_dividing',\n",
    "        'Transition rate to non-dividing in ml/ng/h': 'pooled_rate_to_nondividing',\n",
    "        'Sigma log': 'pooled_sigma_log'},\n",
    "    {\n",
    "        'Initial bacterial count in CFU/ml': 'pooled_initial_bacterial_count',\n",
    "        'Adapted EC 50 in ng/ml': 'pooled_adapted_ec50',\n",
    "        'Growth rate in 1/h': 'pooled_growth_rate',\n",
    "        'Adapted max. kill rate in 1/h': 'pooled_adapted_max_kill_rate',\n",
    "        'Wild type kill rate in ml/ng/h': 'pooled_wild_type_kill_rate',\n",
    "        'Mutation rate in ml/ng/h': 'pooled_mutation_rate',\n",
    "        'Sigma log': 'pooled_sigma_log'}\n",
    "]\n",
    "\n",
    "class MAAXFoldReductionDose(pints.ErrorMeasure):\n",
    "    \"\"\"\n",
    "    Defines a pints.ErrorMeasure that can be used to find the MAA prediction of\n",
    "    the dose that leads to a X-fold reduction at time t.\n",
    "\n",
    "    Can be called with a dose amount and returns the squared distance\n",
    "    of the fold reduction at time t from the target fold reduced bacterial\n",
    "    population.\n",
    "    \"\"\"\n",
    "    def __init__(self, fold_reduction, time, end_experiment):\n",
    "        self._models = [k_model, kp_model, kr_model]\n",
    "        self._parameters, self._weights = load_inference_data(\n",
    "            models=self._models, end_experiment=end_experiment,\n",
    "            model_names=['K_model', 'KP_model', 'KR_model'], name_map=name_map)\n",
    "        self._time = [float(time)]\n",
    "        self._target_reduction = -int(fold_reduction)\n",
    "        self._initial_pop = 1E6\n",
    "        self._sample_size = 300\n",
    "\n",
    "        # Make sure all models start with initial population size\n",
    "        # shape: (n_samples, n_parameters)\n",
    "        self._parameters[0][:, 0] = self._initial_pop\n",
    "        self._parameters[1][:, 0] = self._initial_pop\n",
    "        self._parameters[2][:, 0] = self._initial_pop\n",
    "\n",
    "    def __call__(self, dose):\n",
    "        \"\"\"\n",
    "        Returns the squared error of the target population size to the\n",
    "        true population size at time t for the administered dose.\n",
    "\n",
    "        Input: dose in mg\n",
    "        \"\"\"\n",
    "        # Convert dose to ng\n",
    "        dose = dose[0] * 1E3\n",
    "\n",
    "        # Set dosing regimen\n",
    "        for model in self._models:\n",
    "            model.set_dosing_regimen(dose=dose, start=0, period=12)\n",
    "\n",
    "        # Compute error\n",
    "        predicted_pop = self._predict_population()\n",
    "        fold_reduction = np.log10(predicted_pop / self._initial_pop)\n",
    "        squared_error = (self._target_reduction - fold_reduction) ** 2\n",
    "\n",
    "        return squared_error\n",
    "\n",
    "    def _predict_population(self):\n",
    "        \"\"\"\n",
    "        Returns the predicted population size.\n",
    "        \"\"\"\n",
    "        # Estimate mean y for each model\n",
    "        mean_y = np.empty(shape=3)\n",
    "        for model_id, posterior in enumerate(self._parameters):\n",
    "            model = self._models[model_id]\n",
    "            mean_y[model_id] = self._predict_population_with_candidate_model(\n",
    "                model, posterior)\n",
    "\n",
    "        # Compute MAA prediction as weighted average of the means\n",
    "        predicted_pop = np.average(mean_y, weights=self._weights)\n",
    "        return predicted_pop\n",
    "\n",
    "    def _predict_population_with_candidate_model(self, model, posterior):\n",
    "        \"\"\"\n",
    "        Returns an estimate of the expected y for the model.\n",
    "        \"\"\"\n",
    "        # Predict y_bar for each posterior sample\n",
    "        y_bar = np.empty(shape=self._sample_size)\n",
    "        posterior_samples = posterior[\n",
    "            np.random.randint(0, len(posterior), size=self._sample_size)]\n",
    "        for sample_id, parameter_sample in enumerate(posterior_samples):\n",
    "            y_bar[sample_id] = model.simulate(\n",
    "                parameters=parameter_sample[:-1], times=self._time)[0, 0]\n",
    "\n",
    "        # Add noise to predict y\n",
    "        noise = np.random.normal(size=self._sample_size)\n",
    "        sigma = posterior_samples[:, -1]\n",
    "        y = y_bar * np.exp(-sigma**2/2 + sigma * noise)\n",
    "\n",
    "        return np.mean(y)\n",
    "\n",
    "    def n_parameters(self):\n",
    "        \"\"\"\n",
    "        Returns the number of parameters of the optimisation problem.\n",
    "        (We just want to find the dose, so it is 1)\n",
    "        \"\"\"\n",
    "        return 1\n",
    "\n",
    "# Find 1-log reduction dose\n",
    "experiment_durations = [10, 15, 20, 30]\n",
    "maa_doses = np.empty(shape=(len(experiment_durations), 2))\n",
    "for exp_id, end_experiment in enumerate(experiment_durations):\n",
    "    problem = MAAXFoldReductionDose(fold_reduction=1, time=24, end_experiment=30)\n",
    "    initial_guess = [200]\n",
    "    optimiser = pints.OptimisationController(\n",
    "        problem, x0=initial_guess, method=pints.NelderMead)\n",
    "    optimiser.set_log_to_screen(False)\n",
    "    optimiser.set_max_iterations(100)\n",
    "    maa_doses[exp_id, 0], maa_doses[exp_id, 1] = optimiser.run()\n",
    "print('True doses: ', maa_doses[:, 0])\n",
    "print('Squared errors: ', maa_doses[:, 1])"
   ]
  },
  {
   "cell_type": "markdown",
   "metadata": {},
   "source": [
    "Infer distribution of doses from posterior distributions"
   ]
  },
  {
   "cell_type": "code",
   "execution_count": 17,
   "metadata": {},
   "outputs": [],
   "source": [
    "def find_dose(\n",
    "        model, parameters, doses, times, noise=None, target=1E5,\n",
    "        rel_tolerance=0.05, return_means=True):\n",
    "    \"\"\"\n",
    "    Finds the first dose in doses for which the predicted bacterial count is\n",
    "    below the target count at t=24.\n",
    "\n",
    "    If a noise realisation from a standard normal distribution is provided,\n",
    "    error is added to the simulation assuming a Lognormal error model with\n",
    "    mean equal to the ODE solution.\n",
    "    \"\"\"\n",
    "    means = np.empty(shape=len(doses))\n",
    "    target_dose = np.nan\n",
    "    for did, dose in enumerate(doses):\n",
    "        # Dose in µg so concentration is ng/mL\n",
    "        model.set_dosing_regimen(dose=dose, start=0, period=12)\n",
    "        sim = model.simulate(parameters=parameters[:-1], times=times)[0, 0]\n",
    "        means[did] = sim\n",
    "\n",
    "        # Add noise\n",
    "        if noise:\n",
    "            sigma = parameters[-1]\n",
    "            sim = sim * np.exp(-sigma**2/2 + sigma * noise)\n",
    "\n",
    "        if (sim < target) and np.isnan(target_dose):\n",
    "            # Check that target dose is not overshooting too much.\n",
    "            assert abs(sim - target) < target * rel_tolerance\n",
    "            target_dose = dose\n",
    "\n",
    "            if return_means is False:\n",
    "                return target_dose\n",
    "\n",
    "    return target_dose, means\n",
    "\n",
    "\n",
    "def find_dose_weighted_mean_approach(\n",
    "        means, weights, doses, target=1E5, rel_tolerance=0.05):\n",
    "    \"\"\"\n",
    "    Predicts the dose needed to reach a target bacterial count by computing\n",
    "    the weighted average across the posterior mean ODE predictions.\n",
    "    \"\"\"\n",
    "    predictions = np.average(means, weights=weights, axis=0)\n",
    "    for pid, pred in enumerate(predictions):\n",
    "        if pred < target:\n",
    "            assert abs(pred - target) < target * rel_tolerance\n",
    "            return doses[pid]\n",
    "\n",
    "    return np.nan\n"
   ]
  },
  {
   "cell_type": "code",
   "execution_count": 16,
   "metadata": {},
   "outputs": [
    {
     "data": {
      "text/plain": [
       "True"
      ]
     },
     "execution_count": 16,
     "metadata": {},
     "output_type": "execute_result"
    }
   ],
   "source": [
    "np.isnan(np.nan)"
   ]
  },
  {
   "cell_type": "code",
   "execution_count": 32,
   "metadata": {},
   "outputs": [
    {
     "data": {
      "application/vnd.jupyter.widget-view+json": {
       "model_id": "bd0af8ba739a48b08ec55d943609e4a7",
       "version_major": 2,
       "version_minor": 0
      },
      "text/plain": [
       "HBox(children=(FloatProgress(value=0.0, max=4.0), HTML(value='')))"
      ]
     },
     "metadata": {},
     "output_type": "display_data"
    },
    {
     "name": "stdout",
     "output_type": "stream",
     "text": [
      "\n"
     ]
    },
    {
     "data": {
      "image/png": "[encoded data removed]",
      "text/plain": [
       "<Figure size 1440x504 with 8 Axes>"
      ]
     },
     "metadata": {
      "needs_background": "light"
     },
     "output_type": "display_data"
    }
   ],
   "source": [
    "# Config\n",
    "initial_count = 1E6\n",
    "target_count = 1E5\n",
    "count_rel_tolerance = 1\n",
    "weight_thresh = 0.001\n",
    "experiment_durations = [10, 15, 20, 30]\n",
    "n_samples = 300\n",
    "times = [24]\n",
    "# doses = np.logspace(4, 6, 1000)\n",
    "doses = np.linspace(100, 300, 500) * 1E3\n",
    "models = [human_1, human_2, human_3]\n",
    "\n",
    "# Define map from model names to stored names\n",
    "name_map = [\n",
    "    {\n",
    "        'Initial bacterial count in CFU/ml': 'pooled_initial_bacterial_count',\n",
    "        'EC 50 in ng/ml': 'pooled_ec50',\n",
    "        'Growth rate in 1/h': 'pooled_growth_rate',\n",
    "        'Max. kill rate in 1/h': 'pooled_max_kill_rate',\n",
    "        'Sigma log': 'pooled_sigma_log'},\n",
    "    {\n",
    "        'Initial bacterial count in CFU/ml': 'pooled_initial_bacterial_count',\n",
    "        'Death rate in 1/h': 'pooled_death_rate',\n",
    "        'Growth rate in 1/h': 'pooled_growth_rate',\n",
    "        'Kill rate in ml/ng/h': 'pooled_kill_rate',\n",
    "        'Transition rate to dividing in 1/h': 'pooled_rate_to_dividing',\n",
    "        'Transition rate to non-dividing in ml/ng/h': 'pooled_rate_to_nondividing',\n",
    "        'Sigma log': 'pooled_sigma_log'},\n",
    "    {\n",
    "        'Initial bacterial count in CFU/ml': 'pooled_initial_bacterial_count',\n",
    "        'Adapted EC 50 in ng/ml': 'pooled_adapted_ec50',\n",
    "        'Growth rate in 1/h': 'pooled_growth_rate',\n",
    "        'Adapted max. kill rate in 1/h': 'pooled_adapted_max_kill_rate',\n",
    "        'Wild type kill rate in ml/ng/h': 'pooled_wild_type_kill_rate',\n",
    "        'Mutation rate in ml/ng/h': 'pooled_mutation_rate',\n",
    "        'Sigma log': 'pooled_sigma_log'}\n",
    "]\n",
    "\n",
    "# Simulate and fill plot\n",
    "fig, axes = plt.subplots(2, 4, figsize=(20, 7), sharey=True, sharex=True)\n",
    "plt.subplots_adjust(wspace=0.1, hspace=0.1)\n",
    "fontsize = '14'\n",
    "plt.rcParams['font.size'] = fontsize\n",
    "plt.xticks(fontsize=fontsize)\n",
    "for fig_id, max_time in enumerate(tqdm(max_times)):\n",
    "    # Load inference results\n",
    "    parameters, weights = load_inference_data(\n",
    "        models, model_names, name_map, end_experiment)\n",
    "\n",
    "    # Estimate distribution of 1-log reduction dose\n",
    "    # (specific to choice of error model)\n",
    "    noise = np.random.normal(size=(n_samples))\n",
    "    target_dose = np.empty(shape=(n_models, n_samples))\n",
    "    n_doses = len(doses)\n",
    "    means = np.empty(shape=(n_samples, n_models, n_doses))\n",
    "    for model_id, model in enumerate(models):\n",
    "        # Sample parameters from posterior\n",
    "        posterior = parameters[model_id]\n",
    "        parameter_samples = posterior[\n",
    "            np.random.randint(0, len(posterior), size=n_samples)]\n",
    "        for sample_id, params in enumerate(parameter_samples):\n",
    "            # Estimate minimal dose that reaches target reduction\n",
    "            target_dose[model_id, sample_id], means[sample_id, model_id] = \\\n",
    "                find_dose(\n",
    "                    model, params, doses, times, noise=noise[sample_id],\n",
    "                    target=target_count, rel_tolerance=count_rel_tolerance)\n",
    "\n",
    "    # Average ODE predictions over posterior\n",
    "    means = np.mean(means, axis=0)\n",
    "\n",
    "    # Format doses into dataframe\n",
    "    dfs = []\n",
    "    for model_id, model in enumerate(['K', 'KP', 'KR']):\n",
    "        temp = pd.DataFrame(\n",
    "            data=target_dose[model_id] * 1E-3, columns=['Target dose in mg'])\n",
    "        temp['Model'] = model\n",
    "        dfs.append(temp)\n",
    "\n",
    "    # Estimate time of cure for average of means\n",
    "    average_of_means = find_dose_weighted_mean_approach(\n",
    "        means=means, weights=weights, doses=doses, target=target_count,\n",
    "        rel_tolerance=count_rel_tolerance)\n",
    "\n",
    "    # Plot model selection solution\n",
    "    df = dfs[np.argmax(weights)]\n",
    "    sns.kdeplot(\n",
    "        data=df, x=\"Target dose in mg\", fill=True, color='black',\n",
    "        common_norm=False, alpha=.5, linewidth=1, ax=axes[0, fig_id],\n",
    "        label='MS')\n",
    "    axes[0, fig_id].axvline(\n",
    "        x=true_dose, color='black', linestyle='--', label='True')\n",
    "    axes[0, fig_id].set_title('n = %s' % str(7 * max_time))\n",
    "\n",
    "    # Plot average of means solution\n",
    "    df = dfs[np.argmax(weights)]\n",
    "    axes[0, fig_id].axvline(\n",
    "        x=average_of_means * 1E-3, color='darkred',\n",
    "        label='WAM')\n",
    "\n",
    "    df = []\n",
    "    colors = []\n",
    "    for model_id, weight in enumerate(weights):\n",
    "        if weight < weight_thresh:\n",
    "            continue\n",
    "        df.append(dfs[model_id])\n",
    "        colors.append(sns.color_palette()[model_id])\n",
    "    df = pd.concat(df, ignore_index=True)\n",
    "    sns.kdeplot(\n",
    "        data=df, x=\"Target dose in mg\", hue=\"Model\", fill=True,\n",
    "        common_norm=False, alpha=.5, linewidth=1, ax=axes[1, fig_id],\n",
    "        palette=colors, legend=False)\n",
    "    axes[1, fig_id].axvline(x=true_dose, color='black', linestyle='--')\n",
    "\n",
    "    # Add weights as insets\n",
    "    inset_axes = axes[1, fig_id].inset_axes(bounds=[0.675, 0.45, 0.3, 0.4])\n",
    "    n_models = len(model_names)\n",
    "    x_pos = np.arange(n_models)\n",
    "    colors = sns.color_palette()[:n_models]\n",
    "    inset_axes.bar(\n",
    "        x_pos, weights, align='center', alpha=0.5, color=colors,\n",
    "        edgecolor=colors)\n",
    "    inset_axes.set_xticks(x_pos)\n",
    "    inset_axes.set_xticklabels(['K', 'KP', 'KR'])\n",
    "    inset_axes.set_yticks([])\n",
    "    inset_axes.set_yticklabels([])\n",
    "    inset_axes.set_title('Weights')\n",
    "    inset_axes.set_ylim([0, 1.05])\n",
    "\n",
    "\n",
    "    # Set row titles\n",
    "    if fig_id == 0:\n",
    "        axes[0, fig_id].set_ylabel('Probability density', fontsize=fontsize)\n",
    "        axes[1, fig_id].set_ylabel('Probability density', fontsize=fontsize)\n",
    "        axes[0, fig_id].legend(loc='upper left')\n",
    "\n",
    "# Set xlim\n",
    "axes[0, 0].set_xlim([100, 250])\n",
    "plt.savefig(\n",
    "    'images/1log_reduction_dose.pdf', bbox_inches='tight')\n",
    "plt.show()"
   ]
  },
  {
   "cell_type": "markdown",
   "metadata": {},
   "source": [
    "2log reduction"
   ]
  },
  {
   "cell_type": "code",
   "execution_count": 414,
   "metadata": {},
   "outputs": [
    {
     "name": "stdout",
     "output_type": "stream",
     "text": [
      "True dose is:  183342\n",
      "Resulting bacterial count is:  9743\n"
     ]
    }
   ],
   "source": [
    "true_parameters = [\n",
    "    1E6,     # Initial bacterial count in CFU/ml\n",
    "    191,     # Adapated EC50 in ng/ml\n",
    "    0.77,    # Growth rate in 1/h\n",
    "    1.61,    # Adapted max. kill rate in 1/h\n",
    "    0.003,   # Wild type max. kill rate in 1/h\n",
    "    5E-5,    # Max. mutation rate in 1/h\n",
    "]\n",
    "\n",
    "# Simulate models\n",
    "target_count = 1E4\n",
    "tolerance = 0.05\n",
    "doses = np.logspace(4, 6, 1000)\n",
    "times = [24]\n",
    "for dose in doses:\n",
    "    human_true.set_dosing_regimen(dose=dose, start=0, period=12)   # Dose in µg so concentration is ng/mL, dose is 500mg per day Sanchez et al\n",
    "    sim_true = human_true.simulate(parameters=true_parameters, times=times)[0, 0]\n",
    "\n",
    "    if (sim_true < target_count):\n",
    "        assert abs(sim_true - target_count) < target_count * tolerance\n",
    "\n",
    "        print('True dose is: ', int(dose))\n",
    "        print('Resulting bacterial count is: ', int(sim_true))\n",
    "\n",
    "        break"
   ]
  },
  {
   "cell_type": "code",
   "execution_count": 418,
   "metadata": {},
   "outputs": [
    {
     "data": {
      "application/vnd.jupyter.widget-view+json": {
       "model_id": "7a74990185fc4e9db2d95de598f30627",
       "version_major": 2,
       "version_minor": 0
      },
      "text/plain": [
       "HBox(children=(FloatProgress(value=0.0, max=4.0), HTML(value='')))"
      ]
     },
     "metadata": {},
     "output_type": "display_data"
    },
    {
     "name": "stdout",
     "output_type": "stream",
     "text": [
      "\n"
     ]
    },
    {
     "data": {
      "image/png": "[encoded data removed]",
      "text/plain": [
       "<Figure size 1440x504 with 8 Axes>"
      ]
     },
     "metadata": {
      "needs_background": "light"
     },
     "output_type": "display_data"
    }
   ],
   "source": [
    "# Config\n",
    "true_dose = 183  # mg\n",
    "initial_count = 1E6\n",
    "target_count = 1E4\n",
    "count_rel_tolerance = 0.1\n",
    "weight_thresh = 0.001\n",
    "max_times = [10, 15, 20, 30]\n",
    "n_samples = 100\n",
    "times = [24]\n",
    "doses = np.logspace(5, 6, 1000)\n",
    "models = [human_1, human_2, human_3]\n",
    "\n",
    "# Define map from model names to stored names\n",
    "name_map = [\n",
    "    {\n",
    "        'Initial bacterial count in CFU/ml': 'pooled_initial_bacterial_count',\n",
    "        'EC 50 in ng/ml': 'pooled_ec50',\n",
    "        'Growth rate in 1/h': 'pooled_growth_rate',\n",
    "        'Max. kill rate in 1/h': 'pooled_max_kill_rate',\n",
    "        'Sigma log': 'pooled_sigma_log'},\n",
    "    {\n",
    "        'Initial bacterial count in CFU/ml': 'pooled_initial_bacterial_count',\n",
    "        'Death rate in 1/h': 'pooled_death_rate',\n",
    "        'Growth rate in 1/h': 'pooled_growth_rate',\n",
    "        'Kill rate in ml/ng/h': 'pooled_kill_rate',\n",
    "        'Transition rate to dividing in 1/h': 'pooled_rate_to_dividing',\n",
    "        'Transition rate to non-dividing in ml/ng/h': 'pooled_rate_to_nondividing',\n",
    "        'Sigma log': 'pooled_sigma_log'},\n",
    "    {\n",
    "        'Initial bacterial count in CFU/ml': 'pooled_initial_bacterial_count',\n",
    "        'Adapted EC 50 in ng/ml': 'pooled_adapted_ec50',\n",
    "        'Growth rate in 1/h': 'pooled_growth_rate',\n",
    "        'Adapted max. kill rate in 1/h': 'pooled_adapted_max_kill_rate',\n",
    "        'Wild type kill rate in ml/ng/h': 'pooled_wild_type_kill_rate',\n",
    "        'Mutation rate in ml/ng/h': 'pooled_mutation_rate',\n",
    "        'Sigma log': 'pooled_sigma_log'}\n",
    "]\n",
    "\n",
    "# Simulate and fill plot\n",
    "fig, axes = plt.subplots(2, 4, figsize=(20, 7), sharey=True, sharex=True)\n",
    "plt.subplots_adjust(wspace=0.1, hspace=0.1)\n",
    "fontsize = '14'\n",
    "plt.rcParams['font.size'] = fontsize\n",
    "plt.xticks(fontsize=fontsize)\n",
    "for fig_id, max_time in enumerate(tqdm(max_times)):\n",
    "    # Load inference results\n",
    "    n_models = 3\n",
    "    nphi = np.empty(shape=n_models)\n",
    "    parameters = []\n",
    "    directory = os.path.dirname(os.getcwd())\n",
    "    model_names = ['kill_model', 'persistence_model', 'resistance_model']\n",
    "    for id_m, model in enumerate(model_names):\n",
    "        # Load inference data\n",
    "        path = os.path.join(\n",
    "                directory,\n",
    "                'posteriors/inference_data_%s_%d.nc' % (model, int(max_time)))\n",
    "        inference_data = az.from_netcdf(path)\n",
    "        names = models[id_m].parameters() + ['Sigma log']\n",
    "        posterior_samples = get_posterior(\n",
    "                inference_data, names, name_map[id_m])\n",
    "\n",
    "        # Fix initial count of bacteria\n",
    "        posterior_samples[:, 0] = initial_count\n",
    "        parameters.append(posterior_samples)\n",
    "        nphi[id_m] = inference_data.sample_stats.attrs['elpd AIC']\n",
    "\n",
    "    # Compute elpd deltas to avoid numerical overflow\n",
    "    nphi -= np.max(nphi)\n",
    "\n",
    "    # Compute weights\n",
    "    weights = np.exp(nphi) / np.sum(np.exp(nphi))\n",
    "\n",
    "    # Estimate distribution of 1-log reduction dose\n",
    "    # (specific to choice of error model)\n",
    "    noise = np.random.normal(size=(n_samples))\n",
    "    target_dose = []\n",
    "    means = []\n",
    "    for model_id, model in enumerate(models):\n",
    "        # Sample parameters from posterior\n",
    "        posterior = parameters[model_id]\n",
    "        parameter_samples = posterior[\n",
    "            np.random.randint(0, len(posterior), size=n_samples)]\n",
    "        td = np.empty(n_samples)\n",
    "        means_temp = np.empty(shape=(n_samples, len(times)))\n",
    "        for sample_id, params in enumerate(parameter_samples):\n",
    "            td[sample_id] = find_dose(\n",
    "                model=model, parameters=params, doses=doses, times=times,\n",
    "                noise=noise[sample_id], target=target_count,\n",
    "                rel_tolerance=count_rel_tolerance)\n",
    "\n",
    "        target_dose.append(td)\n",
    "\n",
    "    # Format doses into dataframe\n",
    "    dfs = []\n",
    "    for model_id, model in enumerate(['K', 'KP', 'KR']):\n",
    "        temp = pd.DataFrame(\n",
    "            data=target_dose[model_id] * 1E-3, columns=['Target dose in mg'])\n",
    "        temp['Model'] = model\n",
    "        dfs.append(temp)\n",
    "\n",
    "    # # Estimate time of cure for average of means\n",
    "    # pred = np.average(np.array(means), axis=0, weights=weights)\n",
    "    # average_of_means_time_of_cure = times[np.argmax(is_below_thresh)]\n",
    "    # if not np.any(is_below_thresh):\n",
    "    #     average_of_means_time_of_cure = np.inf\n",
    "\n",
    "    # # Construct probablistic model average\n",
    "    # samples = []\n",
    "    # for model_id, df in enumerate(dfs):\n",
    "    #     n_samples = int(1000 * weights[model_id])\n",
    "    #     samples.append(\n",
    "    #         df['Time of cure in hours'].sample(n=n_samples, replace=True))\n",
    "\n",
    "    # Plot model selection solution\n",
    "    df = dfs[np.argmax(weights)]\n",
    "    sns.kdeplot(\n",
    "        data=df, x=\"Target dose in mg\", fill=True, color='black',\n",
    "        common_norm=False, alpha=.5, linewidth=1, ax=axes[0, fig_id],\n",
    "        label='MS')\n",
    "    axes[0, fig_id].axvline(\n",
    "        x=true_dose, color='black', linestyle='--', label='True')\n",
    "    axes[0, fig_id].set_title('n = %s' % str(7 * max_time))\n",
    "\n",
    "    # # Plot average of means solution\n",
    "    # df = dfs[np.argmax(weights)]\n",
    "    # axes[0, fig_id].axvline(\n",
    "    #     x=average_of_means_time_of_cure, color='darkred',\n",
    "    #     label='AoM')\n",
    "\n",
    "    # Plot probabilistic model average solution\n",
    "    # df = pd.DataFrame(pd.concat(samples, ignore_index=True))\n",
    "    # sns.kdeplot(\n",
    "    #     data=df, x=\"Time of cure in hours\", fill=True, color='green',\n",
    "    #     common_norm=True, alpha=.5, linewidth=1, ax=axes[2, fig_id])\n",
    "    # axes[2, fig_id].axvline(x=terminal_time, color='black', linestyle='--')\n",
    "    df = []\n",
    "    colors = []\n",
    "    for model_id, weight in enumerate(weights):\n",
    "        if weight < weight_thresh:\n",
    "            continue\n",
    "        df.append(dfs[model_id])\n",
    "        colors.append(sns.color_palette()[model_id])\n",
    "    df = pd.concat(df, ignore_index=True)\n",
    "    sns.kdeplot(\n",
    "        data=df, x=\"Target dose in mg\", hue=\"Model\", fill=True,\n",
    "        common_norm=False, alpha=.5, linewidth=1, ax=axes[1, fig_id],\n",
    "        palette=colors, legend=False)\n",
    "    axes[1, fig_id].axvline(x=true_dose, color='black', linestyle='--')\n",
    "\n",
    "    # Add weights as insets\n",
    "    inset_axes = axes[1, fig_id].inset_axes(bounds=[0.675, 0.45, 0.3, 0.4])\n",
    "    n_models = len(model_names)\n",
    "    x_pos = np.arange(n_models)\n",
    "    colors = sns.color_palette()[:n_models]\n",
    "    inset_axes.bar(\n",
    "        x_pos, weights, align='center', alpha=0.5, color=colors,\n",
    "        edgecolor=colors)\n",
    "    inset_axes.set_xticks(x_pos)\n",
    "    inset_axes.set_xticklabels(['K', 'KP', 'KR'])\n",
    "    inset_axes.set_yticks([])\n",
    "    inset_axes.set_yticklabels([])\n",
    "    inset_axes.set_title('Weights')\n",
    "    inset_axes.set_ylim([0, 1.05])\n",
    "\n",
    "\n",
    "    # Set row titles\n",
    "    if fig_id == 0:\n",
    "        axes[0, fig_id].set_ylabel('Probability density', fontsize=fontsize)\n",
    "        axes[1, fig_id].set_ylabel('Probability density', fontsize=fontsize)\n",
    "        axes[0, fig_id].legend(loc='upper right')\n",
    "\n",
    "# Set xlim\n",
    "# axes[0, 0].set_xlim([20, 65])\n",
    "plt.savefig(\n",
    "    'images/2log_reduction_dose.pdf', bbox_inches='tight')\n",
    "plt.show()"
   ]
  },
  {
   "cell_type": "markdown",
   "metadata": {},
   "source": [
    "3log reduction dose"
   ]
  },
  {
   "cell_type": "code",
   "execution_count": 421,
   "metadata": {},
   "outputs": [
    {
     "name": "stdout",
     "output_type": "stream",
     "text": [
      "True dose is:  205263\n",
      "Resulting bacterial count is:  989\n"
     ]
    }
   ],
   "source": [
    "true_parameters = [\n",
    "    1E6,     # Initial bacterial count in CFU/ml\n",
    "    191,     # Adapated EC50 in ng/ml\n",
    "    0.77,    # Growth rate in 1/h\n",
    "    1.61,    # Adapted max. kill rate in 1/h\n",
    "    0.003,   # Wild type max. kill rate in 1/h\n",
    "    5E-5,    # Max. mutation rate in 1/h\n",
    "]\n",
    "\n",
    "# Simulate models\n",
    "target_count = 1E3\n",
    "tolerance = 0.05\n",
    "doses = np.logspace(5, 6, 1000)\n",
    "times = [24]\n",
    "for dose in doses:\n",
    "    human_true.set_dosing_regimen(dose=dose, start=0, period=12)   # Dose in µg so concentration is ng/mL, dose is 500mg per day Sanchez et al\n",
    "    sim_true = human_true.simulate(parameters=true_parameters, times=times)[0, 0]\n",
    "\n",
    "    if (sim_true < target_count):\n",
    "        assert abs(sim_true - target_count) < target_count * tolerance\n",
    "\n",
    "        print('True dose is: ', int(dose))\n",
    "        print('Resulting bacterial count is: ', int(sim_true))\n",
    "\n",
    "        break"
   ]
  },
  {
   "cell_type": "code",
   "execution_count": 422,
   "metadata": {},
   "outputs": [
    {
     "data": {
      "application/vnd.jupyter.widget-view+json": {
       "model_id": "94df2dd1d9f74b568da8ec1a4f6cd375",
       "version_major": 2,
       "version_minor": 0
      },
      "text/plain": [
       "HBox(children=(FloatProgress(value=0.0, max=4.0), HTML(value='')))"
      ]
     },
     "metadata": {},
     "output_type": "display_data"
    },
    {
     "name": "stdout",
     "output_type": "stream",
     "text": [
      "\n"
     ]
    },
    {
     "data": {
      "image/png": "[encoded data removed]",
      "text/plain": [
       "<Figure size 1440x504 with 8 Axes>"
      ]
     },
     "metadata": {
      "needs_background": "light"
     },
     "output_type": "display_data"
    }
   ],
   "source": [
    "# Config\n",
    "true_dose = 205  # mg\n",
    "initial_count = 1E6\n",
    "target_count = 1E3\n",
    "count_rel_tolerance = 0.1\n",
    "weight_thresh = 0.001\n",
    "max_times = [10, 15, 20, 30]\n",
    "n_samples = 100\n",
    "times = [24]\n",
    "doses = np.logspace(5, 6, 1000)\n",
    "models = [human_1, human_2, human_3]\n",
    "\n",
    "# Define map from model names to stored names\n",
    "name_map = [\n",
    "    {\n",
    "        'Initial bacterial count in CFU/ml': 'pooled_initial_bacterial_count',\n",
    "        'EC 50 in ng/ml': 'pooled_ec50',\n",
    "        'Growth rate in 1/h': 'pooled_growth_rate',\n",
    "        'Max. kill rate in 1/h': 'pooled_max_kill_rate',\n",
    "        'Sigma log': 'pooled_sigma_log'},\n",
    "    {\n",
    "        'Initial bacterial count in CFU/ml': 'pooled_initial_bacterial_count',\n",
    "        'Death rate in 1/h': 'pooled_death_rate',\n",
    "        'Growth rate in 1/h': 'pooled_growth_rate',\n",
    "        'Kill rate in ml/ng/h': 'pooled_kill_rate',\n",
    "        'Transition rate to dividing in 1/h': 'pooled_rate_to_dividing',\n",
    "        'Transition rate to non-dividing in ml/ng/h': 'pooled_rate_to_nondividing',\n",
    "        'Sigma log': 'pooled_sigma_log'},\n",
    "    {\n",
    "        'Initial bacterial count in CFU/ml': 'pooled_initial_bacterial_count',\n",
    "        'Adapted EC 50 in ng/ml': 'pooled_adapted_ec50',\n",
    "        'Growth rate in 1/h': 'pooled_growth_rate',\n",
    "        'Adapted max. kill rate in 1/h': 'pooled_adapted_max_kill_rate',\n",
    "        'Wild type kill rate in ml/ng/h': 'pooled_wild_type_kill_rate',\n",
    "        'Mutation rate in ml/ng/h': 'pooled_mutation_rate',\n",
    "        'Sigma log': 'pooled_sigma_log'}\n",
    "]\n",
    "\n",
    "# Simulate and fill plot\n",
    "fig, axes = plt.subplots(2, 4, figsize=(20, 7), sharey=True, sharex=True)\n",
    "plt.subplots_adjust(wspace=0.1, hspace=0.1)\n",
    "fontsize = '14'\n",
    "plt.rcParams['font.size'] = fontsize\n",
    "plt.xticks(fontsize=fontsize)\n",
    "for fig_id, max_time in enumerate(tqdm(max_times)):\n",
    "    # Load inference results\n",
    "    n_models = 3\n",
    "    nphi = np.empty(shape=n_models)\n",
    "    parameters = []\n",
    "    directory = os.path.dirname(os.getcwd())\n",
    "    model_names = ['kill_model', 'persistence_model', 'resistance_model']\n",
    "    for id_m, model in enumerate(model_names):\n",
    "        # Load inference data\n",
    "        path = os.path.join(\n",
    "                directory,\n",
    "                'posteriors/inference_data_%s_%d.nc' % (model, int(max_time)))\n",
    "        inference_data = az.from_netcdf(path)\n",
    "        names = models[id_m].parameters() + ['Sigma log']\n",
    "        posterior_samples = get_posterior(\n",
    "                inference_data, names, name_map[id_m])\n",
    "\n",
    "        # Fix initial count of bacteria\n",
    "        posterior_samples[:, 0] = initial_count\n",
    "        parameters.append(posterior_samples)\n",
    "        nphi[id_m] = inference_data.sample_stats.attrs['elpd AIC']\n",
    "\n",
    "    # Compute elpd deltas to avoid numerical overflow\n",
    "    nphi -= np.max(nphi)\n",
    "\n",
    "    # Compute weights\n",
    "    weights = np.exp(nphi) / np.sum(np.exp(nphi))\n",
    "\n",
    "    # Estimate distribution of 1-log reduction dose\n",
    "    # (specific to choice of error model)\n",
    "    noise = np.random.normal(size=(n_samples))\n",
    "    target_dose = []\n",
    "    means = []\n",
    "    for model_id, model in enumerate(models):\n",
    "        # Sample parameters from posterior\n",
    "        posterior = parameters[model_id]\n",
    "        parameter_samples = posterior[\n",
    "            np.random.randint(0, len(posterior), size=n_samples)]\n",
    "        td = np.empty(n_samples)\n",
    "        means_temp = np.empty(shape=(n_samples, len(times)))\n",
    "        for sample_id, params in enumerate(parameter_samples):\n",
    "            td[sample_id] = find_dose(\n",
    "                model=model, parameters=params, doses=doses, times=times,\n",
    "                noise=noise[sample_id], target=target_count,\n",
    "                rel_tolerance=count_rel_tolerance)\n",
    "\n",
    "        target_dose.append(td)\n",
    "\n",
    "    # Format doses into dataframe\n",
    "    dfs = []\n",
    "    for model_id, model in enumerate(['K', 'KP', 'KR']):\n",
    "        temp = pd.DataFrame(\n",
    "            data=target_dose[model_id] * 1E-3, columns=['Target dose in mg'])\n",
    "        temp['Model'] = model\n",
    "        dfs.append(temp)\n",
    "\n",
    "    # # Estimate time of cure for average of means\n",
    "    # pred = np.average(np.array(means), axis=0, weights=weights)\n",
    "    # average_of_means_time_of_cure = times[np.argmax(is_below_thresh)]\n",
    "    # if not np.any(is_below_thresh):\n",
    "    #     average_of_means_time_of_cure = np.inf\n",
    "\n",
    "    # # Construct probablistic model average\n",
    "    # samples = []\n",
    "    # for model_id, df in enumerate(dfs):\n",
    "    #     n_samples = int(1000 * weights[model_id])\n",
    "    #     samples.append(\n",
    "    #         df['Time of cure in hours'].sample(n=n_samples, replace=True))\n",
    "\n",
    "    # Plot model selection solution\n",
    "    df = dfs[np.argmax(weights)]\n",
    "    sns.kdeplot(\n",
    "        data=df, x=\"Target dose in mg\", fill=True, color='black',\n",
    "        common_norm=False, alpha=.5, linewidth=1, ax=axes[0, fig_id],\n",
    "        label='MS')\n",
    "    axes[0, fig_id].axvline(\n",
    "        x=true_dose, color='black', linestyle='--', label='True')\n",
    "    axes[0, fig_id].set_title('n = %s' % str(7 * max_time))\n",
    "\n",
    "    # # Plot average of means solution\n",
    "    # df = dfs[np.argmax(weights)]\n",
    "    # axes[0, fig_id].axvline(\n",
    "    #     x=average_of_means_time_of_cure, color='darkred',\n",
    "    #     label='AoM')\n",
    "\n",
    "    # Plot probabilistic model average solution\n",
    "    # df = pd.DataFrame(pd.concat(samples, ignore_index=True))\n",
    "    # sns.kdeplot(\n",
    "    #     data=df, x=\"Time of cure in hours\", fill=True, color='green',\n",
    "    #     common_norm=True, alpha=.5, linewidth=1, ax=axes[2, fig_id])\n",
    "    # axes[2, fig_id].axvline(x=terminal_time, color='black', linestyle='--')\n",
    "    df = []\n",
    "    colors = []\n",
    "    for model_id, weight in enumerate(weights):\n",
    "        if weight < weight_thresh:\n",
    "            continue\n",
    "        df.append(dfs[model_id])\n",
    "        colors.append(sns.color_palette()[model_id])\n",
    "    df = pd.concat(df, ignore_index=True)\n",
    "    sns.kdeplot(\n",
    "        data=df, x=\"Target dose in mg\", hue=\"Model\", fill=True,\n",
    "        common_norm=False, alpha=.5, linewidth=1, ax=axes[1, fig_id],\n",
    "        palette=colors, legend=False)\n",
    "    axes[1, fig_id].axvline(x=true_dose, color='black', linestyle='--')\n",
    "\n",
    "    # Add weights as insets\n",
    "    inset_axes = axes[1, fig_id].inset_axes(bounds=[0.675, 0.45, 0.3, 0.4])\n",
    "    n_models = len(model_names)\n",
    "    x_pos = np.arange(n_models)\n",
    "    colors = sns.color_palette()[:n_models]\n",
    "    inset_axes.bar(\n",
    "        x_pos, weights, align='center', alpha=0.5, color=colors,\n",
    "        edgecolor=colors)\n",
    "    inset_axes.set_xticks(x_pos)\n",
    "    inset_axes.set_xticklabels(['K', 'KP', 'KR'])\n",
    "    inset_axes.set_yticks([])\n",
    "    inset_axes.set_yticklabels([])\n",
    "    inset_axes.set_title('Weights')\n",
    "    inset_axes.set_ylim([0, 1.05])\n",
    "\n",
    "\n",
    "    # Set row titles\n",
    "    if fig_id == 0:\n",
    "        axes[0, fig_id].set_ylabel('Probability density', fontsize=fontsize)\n",
    "        axes[1, fig_id].set_ylabel('Probability density', fontsize=fontsize)\n",
    "        axes[0, fig_id].legend(loc='upper right')\n",
    "\n",
    "# Set xlim\n",
    "# axes[0, 0].set_xlim([20, 65])\n",
    "plt.savefig(\n",
    "    'images/3log_reduction_dose.pdf', bbox_inches='tight')\n",
    "plt.show()"
   ]
  },
  {
   "cell_type": "markdown",
   "metadata": {},
   "source": [
    "4-fold reduction"
   ]
  },
  {
   "cell_type": "code",
   "execution_count": 431,
   "metadata": {},
   "outputs": [
    {
     "name": "stdout",
     "output_type": "stream",
     "text": [
      "True dose is:  238439\n",
      "Resulting bacterial count is:  99\n"
     ]
    }
   ],
   "source": [
    "true_parameters = [\n",
    "    1E6,     # Initial bacterial count in CFU/ml\n",
    "    191,     # Adapated EC50 in ng/ml\n",
    "    0.77,    # Growth rate in 1/h\n",
    "    1.61,    # Adapted max. kill rate in 1/h\n",
    "    0.003,   # Wild type max. kill rate in 1/h\n",
    "    5E-5,    # Max. mutation rate in 1/h\n",
    "]\n",
    "\n",
    "# Simulate models\n",
    "target_count = 1E2\n",
    "tolerance = 0.05\n",
    "doses = np.logspace(5, 6, 1000)\n",
    "times = [24]\n",
    "for dose in doses:\n",
    "    human_true.set_dosing_regimen(dose=dose, start=0, period=12)   # Dose in µg so concentration is ng/mL, dose is 500mg per day Sanchez et al\n",
    "    sim_true = human_true.simulate(parameters=true_parameters, times=times)[0, 0]\n",
    "\n",
    "    if (sim_true < target_count):\n",
    "        assert abs(sim_true - target_count) < target_count * tolerance\n",
    "\n",
    "        print('True dose is: ', int(dose))\n",
    "        print('Resulting bacterial count is: ', int(sim_true))\n",
    "\n",
    "        break"
   ]
  },
  {
   "cell_type": "code",
   "execution_count": 433,
   "metadata": {},
   "outputs": [
    {
     "data": {
      "application/vnd.jupyter.widget-view+json": {
       "model_id": "0c624f98518245d1853fdf8a5eba661c",
       "version_major": 2,
       "version_minor": 0
      },
      "text/plain": [
       "HBox(children=(FloatProgress(value=0.0, max=4.0), HTML(value='')))"
      ]
     },
     "metadata": {},
     "output_type": "display_data"
    },
    {
     "name": "stdout",
     "output_type": "stream",
     "text": [
      "\n"
     ]
    },
    {
     "data": {
      "image/png": "[encoded data removed]",
      "text/plain": [
       "<Figure size 1440x504 with 8 Axes>"
      ]
     },
     "metadata": {
      "needs_background": "light"
     },
     "output_type": "display_data"
    }
   ],
   "source": [
    "# Config\n",
    "true_dose = 238  # mg\n",
    "initial_count = 1E6\n",
    "target_count = 1E2\n",
    "count_rel_tolerance = 0.1\n",
    "weight_thresh = 0.001\n",
    "max_times = [10, 15, 20, 30]\n",
    "n_samples = 100\n",
    "times = [24]\n",
    "doses = np.logspace(5, 6, 1000)\n",
    "models = [human_1, human_2, human_3]\n",
    "\n",
    "# Define map from model names to stored names\n",
    "name_map = [\n",
    "    {\n",
    "        'Initial bacterial count in CFU/ml': 'pooled_initial_bacterial_count',\n",
    "        'EC 50 in ng/ml': 'pooled_ec50',\n",
    "        'Growth rate in 1/h': 'pooled_growth_rate',\n",
    "        'Max. kill rate in 1/h': 'pooled_max_kill_rate',\n",
    "        'Sigma log': 'pooled_sigma_log'},\n",
    "    {\n",
    "        'Initial bacterial count in CFU/ml': 'pooled_initial_bacterial_count',\n",
    "        'Death rate in 1/h': 'pooled_death_rate',\n",
    "        'Growth rate in 1/h': 'pooled_growth_rate',\n",
    "        'Kill rate in ml/ng/h': 'pooled_kill_rate',\n",
    "        'Transition rate to dividing in 1/h': 'pooled_rate_to_dividing',\n",
    "        'Transition rate to non-dividing in ml/ng/h': 'pooled_rate_to_nondividing',\n",
    "        'Sigma log': 'pooled_sigma_log'},\n",
    "    {\n",
    "        'Initial bacterial count in CFU/ml': 'pooled_initial_bacterial_count',\n",
    "        'Adapted EC 50 in ng/ml': 'pooled_adapted_ec50',\n",
    "        'Growth rate in 1/h': 'pooled_growth_rate',\n",
    "        'Adapted max. kill rate in 1/h': 'pooled_adapted_max_kill_rate',\n",
    "        'Wild type kill rate in ml/ng/h': 'pooled_wild_type_kill_rate',\n",
    "        'Mutation rate in ml/ng/h': 'pooled_mutation_rate',\n",
    "        'Sigma log': 'pooled_sigma_log'}\n",
    "]\n",
    "\n",
    "# Simulate and fill plot\n",
    "fig, axes = plt.subplots(2, 4, figsize=(20, 7), sharey=True, sharex=True)\n",
    "plt.subplots_adjust(wspace=0.1, hspace=0.1)\n",
    "fontsize = '14'\n",
    "plt.rcParams['font.size'] = fontsize\n",
    "plt.xticks(fontsize=fontsize)\n",
    "for fig_id, max_time in enumerate(tqdm(max_times)):\n",
    "    # Load inference results\n",
    "    n_models = 3\n",
    "    nphi = np.empty(shape=n_models)\n",
    "    parameters = []\n",
    "    directory = os.path.dirname(os.getcwd())\n",
    "    model_names = ['kill_model', 'persistence_model', 'resistance_model']\n",
    "    for id_m, model in enumerate(model_names):\n",
    "        # Load inference data\n",
    "        path = os.path.join(\n",
    "                directory,\n",
    "                'posteriors/inference_data_%s_%d.nc' % (model, int(max_time)))\n",
    "        inference_data = az.from_netcdf(path)\n",
    "        names = models[id_m].parameters() + ['Sigma log']\n",
    "        posterior_samples = get_posterior(\n",
    "                inference_data, names, name_map[id_m])\n",
    "\n",
    "        # Fix initial count of bacteria\n",
    "        posterior_samples[:, 0] = initial_count\n",
    "        parameters.append(posterior_samples)\n",
    "        nphi[id_m] = inference_data.sample_stats.attrs['elpd AIC']\n",
    "\n",
    "    # Compute elpd deltas to avoid numerical overflow\n",
    "    nphi -= np.max(nphi)\n",
    "\n",
    "    # Compute weights\n",
    "    weights = np.exp(nphi) / np.sum(np.exp(nphi))\n",
    "\n",
    "    # Estimate distribution of 1-log reduction dose\n",
    "    # (specific to choice of error model)\n",
    "    noise = np.random.normal(size=(n_samples))\n",
    "    target_dose = []\n",
    "    means = []\n",
    "    for model_id, model in enumerate(models):\n",
    "        # Sample parameters from posterior\n",
    "        posterior = parameters[model_id]\n",
    "        parameter_samples = posterior[\n",
    "            np.random.randint(0, len(posterior), size=n_samples)]\n",
    "        td = np.empty(n_samples)\n",
    "        means_temp = np.empty(shape=(n_samples, len(times)))\n",
    "        for sample_id, params in enumerate(parameter_samples):\n",
    "            td[sample_id] = find_dose(\n",
    "                model=model, parameters=params, doses=doses, times=times,\n",
    "                noise=noise[sample_id], target=target_count,\n",
    "                rel_tolerance=count_rel_tolerance)\n",
    "\n",
    "        target_dose.append(td)\n",
    "\n",
    "    # Format doses into dataframe\n",
    "    dfs = []\n",
    "    for model_id, model in enumerate(['K', 'KP', 'KR']):\n",
    "        temp = pd.DataFrame(\n",
    "            data=target_dose[model_id] * 1E-3, columns=['Target dose in mg'])\n",
    "        temp['Model'] = model\n",
    "        dfs.append(temp)\n",
    "\n",
    "    # # Estimate time of cure for average of means\n",
    "    # pred = np.average(np.array(means), axis=0, weights=weights)\n",
    "    # average_of_means_time_of_cure = times[np.argmax(is_below_thresh)]\n",
    "    # if not np.any(is_below_thresh):\n",
    "    #     average_of_means_time_of_cure = np.inf\n",
    "\n",
    "    # # Construct probablistic model average\n",
    "    # samples = []\n",
    "    # for model_id, df in enumerate(dfs):\n",
    "    #     n_samples = int(1000 * weights[model_id])\n",
    "    #     samples.append(\n",
    "    #         df['Time of cure in hours'].sample(n=n_samples, replace=True))\n",
    "\n",
    "    # Plot model selection solution\n",
    "    df = dfs[np.argmax(weights)]\n",
    "    sns.kdeplot(\n",
    "        data=df, x=\"Target dose in mg\", fill=True, color='black',\n",
    "        common_norm=False, alpha=.5, linewidth=1, ax=axes[0, fig_id],\n",
    "        label='MS')\n",
    "    axes[0, fig_id].axvline(\n",
    "        x=true_dose, color='black', linestyle='--', label='True')\n",
    "    axes[0, fig_id].set_title('n = %s' % str(7 * max_time))\n",
    "\n",
    "    # # Plot average of means solution\n",
    "    # df = dfs[np.argmax(weights)]\n",
    "    # axes[0, fig_id].axvline(\n",
    "    #     x=average_of_means_time_of_cure, color='darkred',\n",
    "    #     label='AoM')\n",
    "\n",
    "    # Plot probabilistic model average solution\n",
    "    # df = pd.DataFrame(pd.concat(samples, ignore_index=True))\n",
    "    # sns.kdeplot(\n",
    "    #     data=df, x=\"Time of cure in hours\", fill=True, color='green',\n",
    "    #     common_norm=True, alpha=.5, linewidth=1, ax=axes[2, fig_id])\n",
    "    # axes[2, fig_id].axvline(x=terminal_time, color='black', linestyle='--')\n",
    "    df = []\n",
    "    colors = []\n",
    "    for model_id, weight in enumerate(weights):\n",
    "        if weight < weight_thresh:\n",
    "            continue\n",
    "        df.append(dfs[model_id])\n",
    "        colors.append(sns.color_palette()[model_id])\n",
    "    df = pd.concat(df, ignore_index=True)\n",
    "    sns.kdeplot(\n",
    "        data=df, x=\"Target dose in mg\", hue=\"Model\", fill=True,\n",
    "        common_norm=False, alpha=.5, linewidth=1, ax=axes[1, fig_id],\n",
    "        palette=colors, legend=False)\n",
    "    axes[1, fig_id].axvline(x=true_dose, color='black', linestyle='--')\n",
    "\n",
    "    # Add weights as insets\n",
    "    inset_axes = axes[1, fig_id].inset_axes(bounds=[0.675, 0.45, 0.3, 0.4])\n",
    "    n_models = len(model_names)\n",
    "    x_pos = np.arange(n_models)\n",
    "    colors = sns.color_palette()[:n_models]\n",
    "    inset_axes.bar(\n",
    "        x_pos, weights, align='center', alpha=0.5, color=colors,\n",
    "        edgecolor=colors)\n",
    "    inset_axes.set_xticks(x_pos)\n",
    "    inset_axes.set_xticklabels(['K', 'KP', 'KR'])\n",
    "    inset_axes.set_yticks([])\n",
    "    inset_axes.set_yticklabels([])\n",
    "    inset_axes.set_title('Weights')\n",
    "    inset_axes.set_ylim([0, 1.05])\n",
    "\n",
    "\n",
    "    # Set row titles\n",
    "    if fig_id == 0:\n",
    "        axes[0, fig_id].set_ylabel('Probability density', fontsize=fontsize)\n",
    "        axes[1, fig_id].set_ylabel('Probability density', fontsize=fontsize)\n",
    "        axes[0, fig_id].legend(loc='upper right')\n",
    "\n",
    "# Set xlim\n",
    "# axes[0, 0].set_xlim([20, 65])\n",
    "plt.savefig(\n",
    "    'images/4log_reduction_dose.pdf', bbox_inches='tight')\n",
    "plt.show()"
   ]
  },
  {
   "cell_type": "markdown",
   "metadata": {},
   "source": [
    "5 fold reduction dose"
   ]
  },
  {
   "cell_type": "code",
   "execution_count": 434,
   "metadata": {},
   "outputs": [
    {
     "name": "stdout",
     "output_type": "stream",
     "text": [
      "True dose is:  300939\n",
      "Resulting bacterial count is:  9\n"
     ]
    }
   ],
   "source": [
    "true_parameters = [\n",
    "    1E6,     # Initial bacterial count in CFU/ml\n",
    "    191,     # Adapated EC50 in ng/ml\n",
    "    0.77,    # Growth rate in 1/h\n",
    "    1.61,    # Adapted max. kill rate in 1/h\n",
    "    0.003,   # Wild type max. kill rate in 1/h\n",
    "    5E-5,    # Max. mutation rate in 1/h\n",
    "]\n",
    "\n",
    "# Simulate models\n",
    "target_count = 1E1\n",
    "tolerance = 0.05\n",
    "doses = np.logspace(5, 6, 1000)\n",
    "times = [24]\n",
    "for dose in doses:\n",
    "    human_true.set_dosing_regimen(dose=dose, start=0, period=12)   # Dose in µg so concentration is ng/mL, dose is 500mg per day Sanchez et al\n",
    "    sim_true = human_true.simulate(parameters=true_parameters, times=times)[0, 0]\n",
    "\n",
    "    if (sim_true < target_count):\n",
    "        assert abs(sim_true - target_count) < target_count * tolerance\n",
    "\n",
    "        print('True dose is: ', int(dose))\n",
    "        print('Resulting bacterial count is: ', int(sim_true))\n",
    "\n",
    "        break"
   ]
  },
  {
   "cell_type": "code",
   "execution_count": 435,
   "metadata": {},
   "outputs": [
    {
     "data": {
      "application/vnd.jupyter.widget-view+json": {
       "model_id": "3e56e5d4c91e4d8c96f71dbafdf097f0",
       "version_major": 2,
       "version_minor": 0
      },
      "text/plain": [
       "HBox(children=(FloatProgress(value=0.0, max=4.0), HTML(value='')))"
      ]
     },
     "metadata": {},
     "output_type": "display_data"
    },
    {
     "name": "stdout",
     "output_type": "stream",
     "text": [
      "\n"
     ]
    },
    {
     "data": {
      "image/png": "[encoded data removed]",
      "text/plain": [
       "<Figure size 1440x504 with 8 Axes>"
      ]
     },
     "metadata": {
      "needs_background": "light"
     },
     "output_type": "display_data"
    }
   ],
   "source": [
    "# Config\n",
    "true_dose = 301  # mg\n",
    "initial_count = 1E6\n",
    "target_count = 1E1\n",
    "count_rel_tolerance = 0.1\n",
    "weight_thresh = 0.001\n",
    "max_times = [10, 15, 20, 30]\n",
    "n_samples = 100\n",
    "times = [24]\n",
    "doses = np.logspace(5, 6, 1000)\n",
    "models = [human_1, human_2, human_3]\n",
    "\n",
    "# Define map from model names to stored names\n",
    "name_map = [\n",
    "    {\n",
    "        'Initial bacterial count in CFU/ml': 'pooled_initial_bacterial_count',\n",
    "        'EC 50 in ng/ml': 'pooled_ec50',\n",
    "        'Growth rate in 1/h': 'pooled_growth_rate',\n",
    "        'Max. kill rate in 1/h': 'pooled_max_kill_rate',\n",
    "        'Sigma log': 'pooled_sigma_log'},\n",
    "    {\n",
    "        'Initial bacterial count in CFU/ml': 'pooled_initial_bacterial_count',\n",
    "        'Death rate in 1/h': 'pooled_death_rate',\n",
    "        'Growth rate in 1/h': 'pooled_growth_rate',\n",
    "        'Kill rate in ml/ng/h': 'pooled_kill_rate',\n",
    "        'Transition rate to dividing in 1/h': 'pooled_rate_to_dividing',\n",
    "        'Transition rate to non-dividing in ml/ng/h': 'pooled_rate_to_nondividing',\n",
    "        'Sigma log': 'pooled_sigma_log'},\n",
    "    {\n",
    "        'Initial bacterial count in CFU/ml': 'pooled_initial_bacterial_count',\n",
    "        'Adapted EC 50 in ng/ml': 'pooled_adapted_ec50',\n",
    "        'Growth rate in 1/h': 'pooled_growth_rate',\n",
    "        'Adapted max. kill rate in 1/h': 'pooled_adapted_max_kill_rate',\n",
    "        'Wild type kill rate in ml/ng/h': 'pooled_wild_type_kill_rate',\n",
    "        'Mutation rate in ml/ng/h': 'pooled_mutation_rate',\n",
    "        'Sigma log': 'pooled_sigma_log'}\n",
    "]\n",
    "\n",
    "# Simulate and fill plot\n",
    "fig, axes = plt.subplots(2, 4, figsize=(20, 7), sharey=True, sharex=True)\n",
    "plt.subplots_adjust(wspace=0.1, hspace=0.1)\n",
    "fontsize = '14'\n",
    "plt.rcParams['font.size'] = fontsize\n",
    "plt.xticks(fontsize=fontsize)\n",
    "for fig_id, max_time in enumerate(tqdm(max_times)):\n",
    "    # Load inference results\n",
    "    n_models = 3\n",
    "    nphi = np.empty(shape=n_models)\n",
    "    parameters = []\n",
    "    directory = os.path.dirname(os.getcwd())\n",
    "    model_names = ['kill_model', 'persistence_model', 'resistance_model']\n",
    "    for id_m, model in enumerate(model_names):\n",
    "        # Load inference data\n",
    "        path = os.path.join(\n",
    "                directory,\n",
    "                'posteriors/inference_data_%s_%d.nc' % (model, int(max_time)))\n",
    "        inference_data = az.from_netcdf(path)\n",
    "        names = models[id_m].parameters() + ['Sigma log']\n",
    "        posterior_samples = get_posterior(\n",
    "                inference_data, names, name_map[id_m])\n",
    "\n",
    "        # Fix initial count of bacteria\n",
    "        posterior_samples[:, 0] = initial_count\n",
    "        parameters.append(posterior_samples)\n",
    "        nphi[id_m] = inference_data.sample_stats.attrs['elpd AIC']\n",
    "\n",
    "    # Compute elpd deltas to avoid numerical overflow\n",
    "    nphi -= np.max(nphi)\n",
    "\n",
    "    # Compute weights\n",
    "    weights = np.exp(nphi) / np.sum(np.exp(nphi))\n",
    "\n",
    "    # Estimate distribution of 1-log reduction dose\n",
    "    # (specific to choice of error model)\n",
    "    noise = np.random.normal(size=(n_samples))\n",
    "    target_dose = []\n",
    "    means = []\n",
    "    for model_id, model in enumerate(models):\n",
    "        # Sample parameters from posterior\n",
    "        posterior = parameters[model_id]\n",
    "        parameter_samples = posterior[\n",
    "            np.random.randint(0, len(posterior), size=n_samples)]\n",
    "        td = np.empty(n_samples)\n",
    "        means_temp = np.empty(shape=(n_samples, len(times)))\n",
    "        for sample_id, params in enumerate(parameter_samples):\n",
    "            td[sample_id] = find_dose(\n",
    "                model=model, parameters=params, doses=doses, times=times,\n",
    "                noise=noise[sample_id], target=target_count,\n",
    "                rel_tolerance=count_rel_tolerance)\n",
    "\n",
    "        target_dose.append(td)\n",
    "\n",
    "    # Format doses into dataframe\n",
    "    dfs = []\n",
    "    for model_id, model in enumerate(['K', 'KP', 'KR']):\n",
    "        temp = pd.DataFrame(\n",
    "            data=target_dose[model_id] * 1E-3, columns=['Target dose in mg'])\n",
    "        temp['Model'] = model\n",
    "        dfs.append(temp)\n",
    "\n",
    "    # # Estimate time of cure for average of means\n",
    "    # pred = np.average(np.array(means), axis=0, weights=weights)\n",
    "    # average_of_means_time_of_cure = times[np.argmax(is_below_thresh)]\n",
    "    # if not np.any(is_below_thresh):\n",
    "    #     average_of_means_time_of_cure = np.inf\n",
    "\n",
    "    # # Construct probablistic model average\n",
    "    # samples = []\n",
    "    # for model_id, df in enumerate(dfs):\n",
    "    #     n_samples = int(1000 * weights[model_id])\n",
    "    #     samples.append(\n",
    "    #         df['Time of cure in hours'].sample(n=n_samples, replace=True))\n",
    "\n",
    "    # Plot model selection solution\n",
    "    df = dfs[np.argmax(weights)]\n",
    "    sns.kdeplot(\n",
    "        data=df, x=\"Target dose in mg\", fill=True, color='black',\n",
    "        common_norm=False, alpha=.5, linewidth=1, ax=axes[0, fig_id],\n",
    "        label='MS')\n",
    "    axes[0, fig_id].axvline(\n",
    "        x=true_dose, color='black', linestyle='--', label='True')\n",
    "    axes[0, fig_id].set_title('n = %s' % str(7 * max_time))\n",
    "\n",
    "    # # Plot average of means solution\n",
    "    # df = dfs[np.argmax(weights)]\n",
    "    # axes[0, fig_id].axvline(\n",
    "    #     x=average_of_means_time_of_cure, color='darkred',\n",
    "    #     label='AoM')\n",
    "\n",
    "    # Plot probabilistic model average solution\n",
    "    # df = pd.DataFrame(pd.concat(samples, ignore_index=True))\n",
    "    # sns.kdeplot(\n",
    "    #     data=df, x=\"Time of cure in hours\", fill=True, color='green',\n",
    "    #     common_norm=True, alpha=.5, linewidth=1, ax=axes[2, fig_id])\n",
    "    # axes[2, fig_id].axvline(x=terminal_time, color='black', linestyle='--')\n",
    "    df = []\n",
    "    colors = []\n",
    "    for model_id, weight in enumerate(weights):\n",
    "        if weight < weight_thresh:\n",
    "            continue\n",
    "        df.append(dfs[model_id])\n",
    "        colors.append(sns.color_palette()[model_id])\n",
    "    df = pd.concat(df, ignore_index=True)\n",
    "    sns.kdeplot(\n",
    "        data=df, x=\"Target dose in mg\", hue=\"Model\", fill=True,\n",
    "        common_norm=False, alpha=.5, linewidth=1, ax=axes[1, fig_id],\n",
    "        palette=colors, legend=False)\n",
    "    axes[1, fig_id].axvline(x=true_dose, color='black', linestyle='--')\n",
    "\n",
    "    # Add weights as insets\n",
    "    inset_axes = axes[1, fig_id].inset_axes(bounds=[0.675, 0.45, 0.3, 0.4])\n",
    "    n_models = len(model_names)\n",
    "    x_pos = np.arange(n_models)\n",
    "    colors = sns.color_palette()[:n_models]\n",
    "    inset_axes.bar(\n",
    "        x_pos, weights, align='center', alpha=0.5, color=colors,\n",
    "        edgecolor=colors)\n",
    "    inset_axes.set_xticks(x_pos)\n",
    "    inset_axes.set_xticklabels(['K', 'KP', 'KR'])\n",
    "    inset_axes.set_yticks([])\n",
    "    inset_axes.set_yticklabels([])\n",
    "    inset_axes.set_title('Weights')\n",
    "    inset_axes.set_ylim([0, 1.05])\n",
    "\n",
    "\n",
    "    # Set row titles\n",
    "    if fig_id == 0:\n",
    "        axes[0, fig_id].set_ylabel('Probability density', fontsize=fontsize)\n",
    "        axes[1, fig_id].set_ylabel('Probability density', fontsize=fontsize)\n",
    "        axes[0, fig_id].legend(loc='upper right')\n",
    "\n",
    "# Set xlim\n",
    "# axes[0, 0].set_xlim([20, 65])\n",
    "plt.savefig(\n",
    "    'images/5log_reduction_dose.pdf', bbox_inches='tight')\n",
    "plt.show()"
   ]
  },
  {
   "cell_type": "markdown",
   "metadata": {},
   "source": [
    "6 fold reduction"
   ]
  },
  {
   "cell_type": "code",
   "execution_count": 436,
   "metadata": {},
   "outputs": [
    {
     "name": "stdout",
     "output_type": "stream",
     "text": [
      "True dose is:  401424\n",
      "Resulting bacterial count is:  0\n"
     ]
    }
   ],
   "source": [
    "true_parameters = [\n",
    "    1E6,     # Initial bacterial count in CFU/ml\n",
    "    191,     # Adapated EC50 in ng/ml\n",
    "    0.77,    # Growth rate in 1/h\n",
    "    1.61,    # Adapted max. kill rate in 1/h\n",
    "    0.003,   # Wild type max. kill rate in 1/h\n",
    "    5E-5,    # Max. mutation rate in 1/h\n",
    "]\n",
    "\n",
    "# Simulate models\n",
    "target_count = 1E0\n",
    "tolerance = 0.05\n",
    "doses = np.logspace(5, 6, 1000)\n",
    "times = [24]\n",
    "for dose in doses:\n",
    "    human_true.set_dosing_regimen(dose=dose, start=0, period=12)   # Dose in µg so concentration is ng/mL, dose is 500mg per day Sanchez et al\n",
    "    sim_true = human_true.simulate(parameters=true_parameters, times=times)[0, 0]\n",
    "\n",
    "    if (sim_true < target_count):\n",
    "        assert abs(sim_true - target_count) < target_count * tolerance\n",
    "\n",
    "        print('True dose is: ', int(dose))\n",
    "        print('Resulting bacterial count is: ', int(sim_true))\n",
    "\n",
    "        break"
   ]
  },
  {
   "cell_type": "code",
   "execution_count": 33,
   "metadata": {},
   "outputs": [
    {
     "data": {
      "application/vnd.jupyter.widget-view+json": {
       "model_id": "7f1a76e98e684fb8a7cf2ea9b4df3c9d",
       "version_major": 2,
       "version_minor": 0
      },
      "text/plain": [
       "HBox(children=(FloatProgress(value=0.0, max=4.0), HTML(value='')))"
      ]
     },
     "metadata": {},
     "output_type": "display_data"
    },
    {
     "name": "stdout",
     "output_type": "stream",
     "text": [
      "\n"
     ]
    },
    {
     "data": {
      "image/png": "[encoded data removed]",
      "text/plain": [
       "<Figure size 1440x504 with 8 Axes>"
      ]
     },
     "metadata": {
      "needs_background": "light"
     },
     "output_type": "display_data"
    }
   ],
   "source": [
    "# Config\n",
    "true_dose = 401  # mg\n",
    "initial_count = 1E6\n",
    "target_count = 1E0\n",
    "count_rel_tolerance = 0.1\n",
    "weight_thresh = 0.001\n",
    "max_times = [10, 15, 20, 30]\n",
    "n_samples = 300\n",
    "times = [24]\n",
    "# doses = np.logspace(5, 6, 1000)\n",
    "doses = np.linspace(200, 700, 500) * 1E3\n",
    "models = [human_1, human_2, human_3]\n",
    "\n",
    "# Define map from model names to stored names\n",
    "name_map = [\n",
    "    {\n",
    "        'Initial bacterial count in CFU/ml': 'pooled_initial_bacterial_count',\n",
    "        'EC 50 in ng/ml': 'pooled_ec50',\n",
    "        'Growth rate in 1/h': 'pooled_growth_rate',\n",
    "        'Max. kill rate in 1/h': 'pooled_max_kill_rate',\n",
    "        'Sigma log': 'pooled_sigma_log'},\n",
    "    {\n",
    "        'Initial bacterial count in CFU/ml': 'pooled_initial_bacterial_count',\n",
    "        'Death rate in 1/h': 'pooled_death_rate',\n",
    "        'Growth rate in 1/h': 'pooled_growth_rate',\n",
    "        'Kill rate in ml/ng/h': 'pooled_kill_rate',\n",
    "        'Transition rate to dividing in 1/h': 'pooled_rate_to_dividing',\n",
    "        'Transition rate to non-dividing in ml/ng/h': 'pooled_rate_to_nondividing',\n",
    "        'Sigma log': 'pooled_sigma_log'},\n",
    "    {\n",
    "        'Initial bacterial count in CFU/ml': 'pooled_initial_bacterial_count',\n",
    "        'Adapted EC 50 in ng/ml': 'pooled_adapted_ec50',\n",
    "        'Growth rate in 1/h': 'pooled_growth_rate',\n",
    "        'Adapted max. kill rate in 1/h': 'pooled_adapted_max_kill_rate',\n",
    "        'Wild type kill rate in ml/ng/h': 'pooled_wild_type_kill_rate',\n",
    "        'Mutation rate in ml/ng/h': 'pooled_mutation_rate',\n",
    "        'Sigma log': 'pooled_sigma_log'}\n",
    "]\n",
    "\n",
    "# Simulate and fill plot\n",
    "fig, axes = plt.subplots(2, 4, figsize=(20, 7), sharey=True, sharex=True)\n",
    "plt.subplots_adjust(wspace=0.1, hspace=0.1)\n",
    "fontsize = '14'\n",
    "plt.rcParams['font.size'] = fontsize\n",
    "plt.xticks(fontsize=fontsize)\n",
    "for fig_id, max_time in enumerate(tqdm(max_times)):\n",
    "    # Load inference results\n",
    "    n_models = 3\n",
    "    nphi = np.empty(shape=n_models)\n",
    "    parameters = []\n",
    "    directory = os.path.dirname(os.getcwd())\n",
    "    model_names = ['kill_model', 'persistence_model', 'resistance_model']\n",
    "    for id_m, model in enumerate(model_names):\n",
    "        # Load inference data\n",
    "        path = os.path.join(\n",
    "                directory,\n",
    "                'posteriors/inference_data_%s_%d.nc' % (model, int(max_time)))\n",
    "        inference_data = az.from_netcdf(path)\n",
    "        names = models[id_m].parameters() + ['Sigma log']\n",
    "        posterior_samples = get_posterior(\n",
    "                inference_data, names, name_map[id_m])\n",
    "\n",
    "        # Fix initial count of bacteria\n",
    "        posterior_samples[:, 0] = initial_count\n",
    "        parameters.append(posterior_samples)\n",
    "        nphi[id_m] = inference_data.sample_stats.attrs['elpd AIC']\n",
    "\n",
    "    # Compute elpd deltas to avoid numerical overflow\n",
    "    nphi -= np.max(nphi)\n",
    "\n",
    "    # Compute weights\n",
    "    weights = np.exp(nphi) / np.sum(np.exp(nphi))\n",
    "\n",
    "    # Estimate distribution of 1-log reduction dose\n",
    "    # (specific to choice of error model)\n",
    "    noise = np.random.normal(size=(n_samples))\n",
    "    target_dose = np.empty(shape=(n_models, n_samples))\n",
    "    n_doses = len(doses)\n",
    "    means = np.empty(shape=(n_samples, n_models, n_doses))\n",
    "    for model_id, model in enumerate(models):\n",
    "        # Sample parameters from posterior\n",
    "        posterior = parameters[model_id]\n",
    "        parameter_samples = posterior[\n",
    "            np.random.randint(0, len(posterior), size=n_samples)]\n",
    "        for sample_id, params in enumerate(parameter_samples):\n",
    "            # Estimate minimal dose that reaches target reduction\n",
    "            target_dose[model_id, sample_id], means[sample_id, model_id] = \\\n",
    "                find_dose(\n",
    "                    model, params, doses, times, noise=noise[sample_id],\n",
    "                    target=target_count, rel_tolerance=count_rel_tolerance)\n",
    "\n",
    "    # Average ODE predictions over posterior\n",
    "    means = np.mean(means, axis=0)\n",
    "\n",
    "    # Format doses into dataframe\n",
    "    dfs = []\n",
    "    for model_id, model in enumerate(['K', 'KP', 'KR']):\n",
    "        temp = pd.DataFrame(\n",
    "            data=target_dose[model_id] * 1E-3, columns=['Target dose in mg'])\n",
    "        temp['Model'] = model\n",
    "        dfs.append(temp)\n",
    "\n",
    "    # Estimate time of cure for average of means\n",
    "    average_of_means = find_dose_weighted_mean_approach(\n",
    "        means=means, weights=weights, doses=doses, target=target_count,\n",
    "        rel_tolerance=count_rel_tolerance)\n",
    "\n",
    "    # Plot model selection solution\n",
    "    df = dfs[np.argmax(weights)]\n",
    "    sns.kdeplot(\n",
    "        data=df, x=\"Target dose in mg\", fill=True, color='black',\n",
    "        common_norm=False, alpha=.5, linewidth=1, ax=axes[0, fig_id],\n",
    "        label='MS')\n",
    "    axes[0, fig_id].axvline(\n",
    "        x=true_dose, color='black', linestyle='--', label='True')\n",
    "    axes[0, fig_id].set_title('n = %s' % str(7 * max_time))\n",
    "\n",
    "    # Plot average of means solution\n",
    "    df = dfs[np.argmax(weights)]\n",
    "    axes[0, fig_id].axvline(\n",
    "        x=average_of_means * 1E-3, color='darkred',\n",
    "        label='WAM')\n",
    "\n",
    "    df = []\n",
    "    colors = []\n",
    "    for model_id, weight in enumerate(weights):\n",
    "        if weight < weight_thresh:\n",
    "            continue\n",
    "        df.append(dfs[model_id])\n",
    "        colors.append(sns.color_palette()[model_id])\n",
    "    df = pd.concat(df, ignore_index=True)\n",
    "    sns.kdeplot(\n",
    "        data=df, x=\"Target dose in mg\", hue=\"Model\", fill=True,\n",
    "        common_norm=False, alpha=.5, linewidth=1, ax=axes[1, fig_id],\n",
    "        palette=colors, legend=False)\n",
    "    axes[1, fig_id].axvline(x=true_dose, color='black', linestyle='--')\n",
    "\n",
    "    # Add weights as insets\n",
    "    inset_axes = axes[1, fig_id].inset_axes(bounds=[0.675, 0.45, 0.3, 0.4])\n",
    "    n_models = len(model_names)\n",
    "    x_pos = np.arange(n_models)\n",
    "    colors = sns.color_palette()[:n_models]\n",
    "    inset_axes.bar(\n",
    "        x_pos, weights, align='center', alpha=0.5, color=colors,\n",
    "        edgecolor=colors)\n",
    "    inset_axes.set_xticks(x_pos)\n",
    "    inset_axes.set_xticklabels(['K', 'KP', 'KR'])\n",
    "    inset_axes.set_yticks([])\n",
    "    inset_axes.set_yticklabels([])\n",
    "    inset_axes.set_title('Weights')\n",
    "    inset_axes.set_ylim([0, 1.05])\n",
    "\n",
    "\n",
    "    # Set row titles\n",
    "    if fig_id == 0:\n",
    "        axes[0, fig_id].set_ylabel('Probability density', fontsize=fontsize)\n",
    "        axes[1, fig_id].set_ylabel('Probability density', fontsize=fontsize)\n",
    "        axes[0, fig_id].legend(loc='upper left')\n",
    "\n",
    "# Set xlim\n",
    "axes[0, 0].set_xlim([200, 600])\n",
    "plt.savefig(\n",
    "    'images/6log_reduction_dose.pdf', bbox_inches='tight')\n",
    "plt.show()"
   ]
  },
  {
   "cell_type": "markdown",
   "metadata": {},
   "source": [
    "Let's try to predict 3 fold reduction dose within 72 hours"
   ]
  },
  {
   "cell_type": "code",
   "execution_count": 428,
   "metadata": {},
   "outputs": [
    {
     "name": "stdout",
     "output_type": "stream",
     "text": [
      "True dose is:  154949\n",
      "Resulting bacterial count is:  900\n"
     ]
    }
   ],
   "source": [
    "true_parameters = [\n",
    "    1E6,     # Initial bacterial count in CFU/ml\n",
    "    191,     # Adapated EC50 in ng/ml\n",
    "    0.77,    # Growth rate in 1/h\n",
    "    1.61,    # Adapted max. kill rate in 1/h\n",
    "    0.003,   # Wild type max. kill rate in 1/h\n",
    "    5E-5,    # Max. mutation rate in 1/h\n",
    "]\n",
    "\n",
    "# Simulate models\n",
    "target_count = 1E3\n",
    "tolerance = 0.1\n",
    "doses = np.logspace(5, 6, 1000)\n",
    "times = [72]\n",
    "for dose in doses:\n",
    "    human_true.set_dosing_regimen(dose=dose, start=0, period=12)   # Dose in µg so concentration is ng/mL, dose is 500mg per day Sanchez et al\n",
    "    sim_true = human_true.simulate(parameters=true_parameters, times=times)[0, 0]\n",
    "\n",
    "    if (sim_true < target_count):\n",
    "        assert abs(sim_true - target_count) < target_count * tolerance\n",
    "\n",
    "        print('True dose is: ', int(dose))\n",
    "        print('Resulting bacterial count is: ', int(sim_true))\n",
    "\n",
    "        break"
   ]
  },
  {
   "cell_type": "code",
   "execution_count": 430,
   "metadata": {},
   "outputs": [
    {
     "data": {
      "application/vnd.jupyter.widget-view+json": {
       "model_id": "9b791bf0205a4215909079e44b123409",
       "version_major": 2,
       "version_minor": 0
      },
      "text/plain": [
       "HBox(children=(FloatProgress(value=0.0, max=4.0), HTML(value='')))"
      ]
     },
     "metadata": {},
     "output_type": "display_data"
    },
    {
     "name": "stdout",
     "output_type": "stream",
     "text": [
      "\n"
     ]
    },
    {
     "data": {
      "image/png": "[encoded data removed]",
      "text/plain": [
       "<Figure size 1440x504 with 8 Axes>"
      ]
     },
     "metadata": {
      "needs_background": "light"
     },
     "output_type": "display_data"
    }
   ],
   "source": [
    "# Config\n",
    "true_dose = 155  # mg\n",
    "initial_count = 1E6\n",
    "target_count = 1E3\n",
    "count_rel_tolerance = 0.2\n",
    "weight_thresh = 0.001\n",
    "max_times = [10, 15, 20, 30]\n",
    "n_samples = 100\n",
    "times = [72]\n",
    "doses = np.logspace(5, 6, 1000)\n",
    "models = [human_1, human_2, human_3]\n",
    "\n",
    "# Define map from model names to stored names\n",
    "name_map = [\n",
    "    {\n",
    "        'Initial bacterial count in CFU/ml': 'pooled_initial_bacterial_count',\n",
    "        'EC 50 in ng/ml': 'pooled_ec50',\n",
    "        'Growth rate in 1/h': 'pooled_growth_rate',\n",
    "        'Max. kill rate in 1/h': 'pooled_max_kill_rate',\n",
    "        'Sigma log': 'pooled_sigma_log'},\n",
    "    {\n",
    "        'Initial bacterial count in CFU/ml': 'pooled_initial_bacterial_count',\n",
    "        'Death rate in 1/h': 'pooled_death_rate',\n",
    "        'Growth rate in 1/h': 'pooled_growth_rate',\n",
    "        'Kill rate in ml/ng/h': 'pooled_kill_rate',\n",
    "        'Transition rate to dividing in 1/h': 'pooled_rate_to_dividing',\n",
    "        'Transition rate to non-dividing in ml/ng/h': 'pooled_rate_to_nondividing',\n",
    "        'Sigma log': 'pooled_sigma_log'},\n",
    "    {\n",
    "        'Initial bacterial count in CFU/ml': 'pooled_initial_bacterial_count',\n",
    "        'Adapted EC 50 in ng/ml': 'pooled_adapted_ec50',\n",
    "        'Growth rate in 1/h': 'pooled_growth_rate',\n",
    "        'Adapted max. kill rate in 1/h': 'pooled_adapted_max_kill_rate',\n",
    "        'Wild type kill rate in ml/ng/h': 'pooled_wild_type_kill_rate',\n",
    "        'Mutation rate in ml/ng/h': 'pooled_mutation_rate',\n",
    "        'Sigma log': 'pooled_sigma_log'}\n",
    "]\n",
    "\n",
    "# Simulate and fill plot\n",
    "fig, axes = plt.subplots(2, 4, figsize=(20, 7), sharey=True, sharex=True)\n",
    "plt.subplots_adjust(wspace=0.1, hspace=0.1)\n",
    "fontsize = '14'\n",
    "plt.rcParams['font.size'] = fontsize\n",
    "plt.xticks(fontsize=fontsize)\n",
    "for fig_id, max_time in enumerate(tqdm(max_times)):\n",
    "    # Load inference results\n",
    "    n_models = 3\n",
    "    nphi = np.empty(shape=n_models)\n",
    "    parameters = []\n",
    "    directory = os.path.dirname(os.getcwd())\n",
    "    model_names = ['kill_model', 'persistence_model', 'resistance_model']\n",
    "    for id_m, model in enumerate(model_names):\n",
    "        # Load inference data\n",
    "        path = os.path.join(\n",
    "                directory,\n",
    "                'posteriors/inference_data_%s_%d.nc' % (model, int(max_time)))\n",
    "        inference_data = az.from_netcdf(path)\n",
    "        names = models[id_m].parameters() + ['Sigma log']\n",
    "        posterior_samples = get_posterior(\n",
    "                inference_data, names, name_map[id_m])\n",
    "\n",
    "        # Fix initial count of bacteria\n",
    "        posterior_samples[:, 0] = initial_count\n",
    "        parameters.append(posterior_samples)\n",
    "        nphi[id_m] = inference_data.sample_stats.attrs['elpd AIC']\n",
    "\n",
    "    # Compute elpd deltas to avoid numerical overflow\n",
    "    nphi -= np.max(nphi)\n",
    "\n",
    "    # Compute weights\n",
    "    weights = np.exp(nphi) / np.sum(np.exp(nphi))\n",
    "\n",
    "    # Estimate distribution of 1-log reduction dose\n",
    "    # (specific to choice of error model)\n",
    "    noise = np.random.normal(size=(n_samples))\n",
    "    target_dose = []\n",
    "    means = []\n",
    "    for model_id, model in enumerate(models):\n",
    "        # Sample parameters from posterior\n",
    "        posterior = parameters[model_id]\n",
    "        parameter_samples = posterior[\n",
    "            np.random.randint(0, len(posterior), size=n_samples)]\n",
    "        td = np.empty(n_samples)\n",
    "        means_temp = np.empty(shape=(n_samples, len(times)))\n",
    "        for sample_id, params in enumerate(parameter_samples):\n",
    "            td[sample_id] = find_dose(\n",
    "                model=model, parameters=params, doses=doses, times=times,\n",
    "                noise=noise[sample_id], target=target_count,\n",
    "                rel_tolerance=count_rel_tolerance)\n",
    "\n",
    "        target_dose.append(td)\n",
    "\n",
    "    # Format doses into dataframe\n",
    "    dfs = []\n",
    "    for model_id, model in enumerate(['K', 'KP', 'KR']):\n",
    "        temp = pd.DataFrame(\n",
    "            data=target_dose[model_id] * 1E-3, columns=['Target dose in mg'])\n",
    "        temp['Model'] = model\n",
    "        dfs.append(temp)\n",
    "\n",
    "    # # Estimate time of cure for average of means\n",
    "    # pred = np.average(np.array(means), axis=0, weights=weights)\n",
    "    # average_of_means_time_of_cure = times[np.argmax(is_below_thresh)]\n",
    "    # if not np.any(is_below_thresh):\n",
    "    #     average_of_means_time_of_cure = np.inf\n",
    "\n",
    "    # # Construct probablistic model average\n",
    "    # samples = []\n",
    "    # for model_id, df in enumerate(dfs):\n",
    "    #     n_samples = int(1000 * weights[model_id])\n",
    "    #     samples.append(\n",
    "    #         df['Time of cure in hours'].sample(n=n_samples, replace=True))\n",
    "\n",
    "    # Plot model selection solution\n",
    "    df = dfs[np.argmax(weights)]\n",
    "    sns.kdeplot(\n",
    "        data=df, x=\"Target dose in mg\", fill=True, color='black',\n",
    "        common_norm=False, alpha=.5, linewidth=1, ax=axes[0, fig_id],\n",
    "        label='MS')\n",
    "    axes[0, fig_id].axvline(\n",
    "        x=true_dose, color='black', linestyle='--', label='True')\n",
    "    axes[0, fig_id].set_title('n = %s' % str(7 * max_time))\n",
    "\n",
    "    # # Plot average of means solution\n",
    "    # df = dfs[np.argmax(weights)]\n",
    "    # axes[0, fig_id].axvline(\n",
    "    #     x=average_of_means_time_of_cure, color='darkred',\n",
    "    #     label='AoM')\n",
    "\n",
    "    # Plot probabilistic model average solution\n",
    "    # df = pd.DataFrame(pd.concat(samples, ignore_index=True))\n",
    "    # sns.kdeplot(\n",
    "    #     data=df, x=\"Time of cure in hours\", fill=True, color='green',\n",
    "    #     common_norm=True, alpha=.5, linewidth=1, ax=axes[2, fig_id])\n",
    "    # axes[2, fig_id].axvline(x=terminal_time, color='black', linestyle='--')\n",
    "    df = []\n",
    "    colors = []\n",
    "    for model_id, weight in enumerate(weights):\n",
    "        if weight < weight_thresh:\n",
    "            continue\n",
    "        df.append(dfs[model_id])\n",
    "        colors.append(sns.color_palette()[model_id])\n",
    "    df = pd.concat(df, ignore_index=True)\n",
    "    sns.kdeplot(\n",
    "        data=df, x=\"Target dose in mg\", hue=\"Model\", fill=True,\n",
    "        common_norm=False, alpha=.5, linewidth=1, ax=axes[1, fig_id],\n",
    "        palette=colors, legend=False)\n",
    "    axes[1, fig_id].axvline(x=true_dose, color='black', linestyle='--')\n",
    "\n",
    "    # Add weights as insets\n",
    "    inset_axes = axes[1, fig_id].inset_axes(bounds=[0.675, 0.45, 0.3, 0.4])\n",
    "    n_models = len(model_names)\n",
    "    x_pos = np.arange(n_models)\n",
    "    colors = sns.color_palette()[:n_models]\n",
    "    inset_axes.bar(\n",
    "        x_pos, weights, align='center', alpha=0.5, color=colors,\n",
    "        edgecolor=colors)\n",
    "    inset_axes.set_xticks(x_pos)\n",
    "    inset_axes.set_xticklabels(['K', 'KP', 'KR'])\n",
    "    inset_axes.set_yticks([])\n",
    "    inset_axes.set_yticklabels([])\n",
    "    inset_axes.set_title('Weights')\n",
    "    inset_axes.set_ylim([0, 1.05])\n",
    "\n",
    "\n",
    "    # Set row titles\n",
    "    if fig_id == 0:\n",
    "        axes[0, fig_id].set_ylabel('Probability density', fontsize=fontsize)\n",
    "        axes[1, fig_id].set_ylabel('Probability density', fontsize=fontsize)\n",
    "        axes[0, fig_id].legend(loc='upper right')\n",
    "\n",
    "# Set xlim\n",
    "# axes[0, 0].set_xlim([20, 65])\n",
    "plt.savefig(\n",
    "    'images/3log_reduction_dose_72h.pdf', bbox_inches='tight')\n",
    "plt.show()"
   ]
  },
  {
   "cell_type": "code",
   "execution_count": null,
   "metadata": {},
   "outputs": [],
   "source": []
  }
 ],
 "metadata": {
  "interpreter": {
   "hash": "24b325699a1984ff2f7645062c981faf79e6f4e9fb48396e6614460083f761af"
  },
  "kernelspec": {
   "display_name": "Python 3.7.5 64-bit ('venv': venv)",
   "language": "python",
   "name": "python37564bitvenvvenv75a7c64405e142268d01a888e83d7b34"
  },
  "language_info": {
   "codemirror_mode": {
    "name": "ipython",
    "version": 3
   },
   "file_extension": ".py",
   "mimetype": "text/x-python",
   "name": "python",
   "nbconvert_exporter": "python",
   "pygments_lexer": "ipython3",
   "version": "3.7.5"
  },
  "orig_nbformat": 4
 },
 "nbformat": 4,
 "nbformat_minor": 2
}