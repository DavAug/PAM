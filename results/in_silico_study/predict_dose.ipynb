{
 "cells": [
  {
   "cell_type": "markdown",
   "metadata": {},
   "source": [
    "# Predict 1-log and 6-log Reduction Dose for Ciprofloxacin Treatment"
   ]
  },
  {
   "cell_type": "code",
   "execution_count": 1,
   "metadata": {},
   "outputs": [],
   "source": [
    "import os\n",
    "\n",
    "import chi\n",
    "import chi.plots\n",
    "import matplotlib.pyplot as plt\n",
    "import numpy as np\n",
    "import pandas as pd\n",
    "import pints\n",
    "import seaborn as sns\n",
    "import xarray as xr"
   ]
  },
  {
   "cell_type": "markdown",
   "metadata": {},
   "source": [
    "Define convenience functions."
   ]
  },
  {
   "cell_type": "code",
   "execution_count": 2,
   "metadata": {},
   "outputs": [],
   "source": [
    "def format_posterior(posterior, param_names):\n",
    "    \"\"\"\n",
    "    Returns posterior samples as numpy.ndarray.\n",
    "    \"\"\"\n",
    "    n_chains = len(posterior.chain.values)\n",
    "    n_draws = len(posterior.draw.values)\n",
    "    n_parameters = len(posterior)\n",
    "    numpy_posterior = np.empty(shape=(n_chains * n_draws, n_parameters))\n",
    "    for param_id, param in enumerate(param_names):\n",
    "        # Get samples as numpy array\n",
    "        samples = posterior[param].values\n",
    "\n",
    "        # Flatten samples and make sure order is preserved\n",
    "        numpy_posterior[:, param_id] = samples.flatten()\n",
    "\n",
    "    return numpy_posterior\n",
    "\n",
    "def load_inference_data(end_experiment):\n",
    "    \"\"\"\n",
    "    Returns the posterior samples and the model likelihoods. The posterior\n",
    "    samples for each model are formatted as numpy.ndarray of shape\n",
    "    (n_samples, n_parameters).\n",
    "    \"\"\"\n",
    "    # Specify model names\n",
    "    model_names = ['K_model', 'KP_model', 'KR_model']\n",
    "\n",
    "    # Define a map from model names to names in saved posteriors\n",
    "    parameter_names = [\n",
    "        [  # K model\n",
    "            'pooled_initial_bacterial_count',\n",
    "            'pooled_ec50',\n",
    "            'pooled_growth_rate',\n",
    "            'pooled_max_kill_rate',\n",
    "            'pooled_sigma_log'],\n",
    "        [  # KP model\n",
    "            'pooled_initial_bacterial_count',\n",
    "            'pooled_death_rate',\n",
    "            'pooled_growth_rate',\n",
    "            'pooled_kill_rate',\n",
    "            'pooled_rate_to_dividing',\n",
    "            'pooled_rate_to_nondividing',\n",
    "            'pooled_sigma_log'],\n",
    "        [  # KR model\n",
    "            'pooled_initial_bacterial_count',\n",
    "            'pooled_adapted_ec50',\n",
    "            'pooled_growth_rate',\n",
    "            'pooled_adapted_max_kill_rate',\n",
    "            'pooled_wild_type_kill_rate',\n",
    "            'pooled_mutation_rate',\n",
    "            'pooled_sigma_log']\n",
    "    ]\n",
    "\n",
    "    # Load posteriors and AIC scores\n",
    "    n_models = len(model_names)\n",
    "    aic_scores = np.empty(shape=n_models)\n",
    "    parameters = []\n",
    "    directory = os.getcwd()\n",
    "    for id_m, model in enumerate(model_names):\n",
    "        # Load inference data\n",
    "        inf_data = xr.load_dataset(\n",
    "            directory + '/derived_data/%s_posterior_%dh.nc'\n",
    "            % (model, int(end_experiment))\n",
    "        )\n",
    "        parameters.append(format_posterior(inf_data, parameter_names[id_m]))\n",
    "        aic_scores[id_m] = inf_data.attrs['AIC score']\n",
    "\n",
    "    # Compute elpd deltas to avoid numerical overflow\n",
    "    aic_scores -= np.min(aic_scores)\n",
    "\n",
    "    # Compute weights\n",
    "    weights = np.exp(-aic_scores / 2) / np.sum(np.exp(-aic_scores / 2))\n",
    "\n",
    "    return parameters, weights"
   ]
  },
  {
   "cell_type": "markdown",
   "metadata": {},
   "source": [
    "## Show data"
   ]
  },
  {
   "cell_type": "code",
   "execution_count": 3,
   "metadata": {},
   "outputs": [
    {
     "data": {
      "application/vnd.plotly.v1+json": {
       "config": {
        "plotlyServerURL": "https://plot.ly"
       },
       "data": [
        {
         "marker": {
          "color": "#636EFA",
          "line": {
           "color": "black",
           "width": 1
          },
          "opacity": 0.7,
          "symbol": "circle"
         },
         "mode": "markers",
         "name": "ID: 1",
         "showlegend": true,
         "type": "scatter",
         "x": [
          0,
          1,
          2,
          3,
          4,
          5,
          6,
          7,
          8,
          9,
          10,
          11,
          12,
          13,
          14,
          15,
          16,
          17,
          18,
          19,
          20,
          21,
          22,
          23,
          24,
          25,
          26,
          27,
          28,
          29,
          30,
          31,
          32,
          33,
          34,
          35,
          36,
          37,
          38,
          39,
          40
         ],
         "y": [
          222225,
          400855,
          1487240,
          2208230,
          3046306,
          11994151,
          47299184,
          74284045,
          46967557,
          63550050,
          199585023,
          654633504,
          265120770,
          2485310898,
          2609294840,
          8066896096,
          19867079006,
          50326984923,
          180922665440,
          607705155028,
          562375356155,
          3263761219580,
          1586565002250,
          6488286202383,
          19135535557208,
          21747602410732,
          24919074804687,
          46681191008298,
          138616141998215,
          480055233000692,
          437976754489087,
          1656004726019937,
          3703596324001781,
          13057118745995786,
          22443576885000344,
          52018375103285800,
          52295123275230776,
          152090807052635650,
          578543072994750300,
          1904774047750020400,
          555449743614366460
         ]
        },
        {
         "marker": {
          "color": "#EF553B",
          "line": {
           "color": "black",
           "width": 1
          },
          "opacity": 0.7,
          "symbol": "circle"
         },
         "mode": "markers",
         "name": "ID: 2",
         "showlegend": true,
         "type": "scatter",
         "x": [
          0,
          1,
          2,
          3,
          4,
          5,
          6,
          7,
          8,
          9,
          10,
          11,
          12,
          13,
          14,
          15,
          16,
          17,
          18,
          19,
          20,
          21,
          22,
          23,
          24,
          25,
          26,
          27,
          28,
          29,
          30,
          31,
          32,
          33,
          34,
          35,
          36,
          37,
          38,
          39,
          40
         ],
         "y": [
          259197,
          781494,
          1197136,
          824112,
          8353224,
          12380934,
          11970741,
          49274416,
          79016383,
          139899587,
          215764488,
          608847809,
          517056395,
          1646970821,
          2831309755,
          13009343070,
          18984893572,
          32490019897,
          49811520507,
          155326575982,
          381999511565,
          602087853949,
          3396083971591,
          5178159702107,
          713109046325,
          2353761523636,
          15335177224698,
          26885598878604,
          89449316718516,
          192764761377049,
          1571956266956757,
          353744948911010,
          1277222391978230,
          15012432602518422,
          12202165172466666,
          25204159862787424,
          21249121710911504,
          18053522012012816,
          119927453717891230,
          213940503956022100,
          155815162540466430
         ]
        },
        {
         "marker": {
          "color": "#00CC96",
          "line": {
           "color": "black",
           "width": 1
          },
          "opacity": 0.7,
          "symbol": "circle"
         },
         "mode": "markers",
         "name": "ID: 3",
         "showlegend": true,
         "type": "scatter",
         "x": [
          0,
          1,
          2,
          3,
          4,
          5,
          6,
          7,
          8,
          9,
          10,
          11,
          12,
          13,
          14,
          15,
          16,
          17,
          18,
          19,
          20,
          21,
          22,
          23,
          24,
          25,
          26,
          27,
          28,
          29,
          30,
          31,
          32,
          33,
          34,
          35,
          36,
          37,
          38,
          39,
          40
         ],
         "y": [
          232297,
          304951,
          711401,
          371477,
          15622210,
          19005372,
          11535138,
          40345568,
          45497620,
          40096518,
          184682925,
          132562823,
          262507229,
          398890570,
          2041983514,
          2981239995,
          10096017901,
          9727224625,
          35113079043,
          37157349226,
          240277903850,
          257550653936,
          460107883131,
          773360933184,
          451548065423,
          2496731542384,
          10760733365079,
          1624215214939,
          3202622452527,
          8013665398750,
          89109212720054,
          116698867727991,
          489729498118308,
          824312196156389,
          1244147752475688,
          2515749386795969,
          3099672788658736,
          10362100429624064,
          4065238278352974.5,
          10533558565097602,
          26418020267755884
         ]
        },
        {
         "marker": {
          "color": "#AB63FA",
          "line": {
           "color": "black",
           "width": 1
          },
          "opacity": 0.7,
          "symbol": "circle"
         },
         "mode": "markers",
         "name": "ID: 4",
         "showlegend": true,
         "type": "scatter",
         "x": [
          0,
          1,
          2,
          3,
          4,
          5,
          6,
          7,
          8,
          9,
          10,
          11,
          12,
          13,
          14,
          15,
          16,
          17,
          18,
          19,
          20,
          21,
          22,
          23,
          24,
          25,
          26,
          27,
          28,
          29,
          30,
          31,
          32,
          33,
          34,
          35,
          36,
          37,
          38,
          39,
          40
         ],
         "y": [
          849225,
          73487,
          1272897,
          1378950,
          3228585,
          6538636,
          2467881,
          10490280,
          7905583,
          171796982,
          22643831,
          21832114,
          42663875,
          66497448,
          107307313,
          366211360,
          1452974538,
          1893161846,
          9443241819,
          9069153811,
          18116405993,
          69829008552,
          42000455172,
          23579510593,
          34159740330,
          65182941613,
          249719715702,
          99111090453,
          206165877722,
          1043320516677,
          596120381053,
          1946868815251,
          9556117432639,
          16697826831732,
          25609597376624,
          65519972221109,
          7515770511644,
          134727272811649,
          39414240051699,
          27730619653146,
          124416419396811
         ]
        },
        {
         "marker": {
          "color": "#FFA15A",
          "line": {
           "color": "black",
           "width": 1
          },
          "opacity": 0.7,
          "symbol": "circle"
         },
         "mode": "markers",
         "name": "ID: 5",
         "showlegend": true,
         "type": "scatter",
         "x": [
          0,
          1,
          2,
          3,
          4,
          5,
          6,
          7,
          8,
          9,
          10,
          11,
          12,
          13,
          14,
          15,
          16,
          17,
          18,
          19,
          20,
          21,
          22,
          23,
          24,
          25,
          26,
          27,
          28,
          29,
          30,
          31,
          32,
          33,
          34,
          35,
          36,
          37,
          38,
          39,
          40
         ],
         "y": [
          128950,
          389075,
          3044184,
          3254911,
          1404835,
          6018815,
          3229749,
          3828380,
          725060,
          1680773,
          1057844,
          2610288,
          1698985,
          3723405,
          1890693,
          55276512,
          6412953,
          114239106,
          90491320,
          132874007,
          208421803,
          169926272,
          246203055,
          114129518,
          223228183,
          14056137,
          48229070,
          39936267,
          243322494,
          66002711,
          484770316,
          1532561259,
          1008403184,
          12257016871,
          15047852498,
          35630705187,
          28344753467,
          5076742584,
          3789594841,
          3711828559,
          4658730801
         ]
        },
        {
         "marker": {
          "color": "#19D3F3",
          "line": {
           "color": "black",
           "width": 1
          },
          "opacity": 0.7,
          "symbol": "circle"
         },
         "mode": "markers",
         "name": "ID: 6",
         "showlegend": true,
         "type": "scatter",
         "x": [
          0,
          1,
          2,
          3,
          4,
          5,
          6,
          7,
          8,
          9,
          10,
          11,
          12,
          13,
          14,
          15,
          16,
          17,
          18,
          19,
          20,
          21,
          22,
          23,
          24,
          25,
          26,
          27,
          28,
          29,
          30,
          31,
          32,
          33,
          34,
          35,
          36,
          37,
          38,
          39,
          40
         ],
         "y": [
          116085,
          173994,
          798335,
          2754051,
          9817152,
          4125455,
          847877,
          182725,
          153595,
          111117,
          21203,
          4863,
          5829,
          49831,
          33698,
          17463,
          116333,
          116806,
          365208,
          869533,
          643513,
          936574,
          352582,
          141718,
          166124,
          129940,
          15551,
          40093,
          33942,
          106466,
          97473,
          511555,
          1048972,
          1872487,
          2399516,
          3282874,
          1263509,
          626138,
          1111666,
          255384,
          734921
         ]
        },
        {
         "marker": {
          "color": "#FF6692",
          "line": {
           "color": "black",
           "width": 1
          },
          "opacity": 0.7,
          "symbol": "circle"
         },
         "mode": "markers",
         "name": "ID: 7",
         "showlegend": true,
         "type": "scatter",
         "x": [
          0,
          1,
          2,
          3,
          4,
          5,
          6,
          7,
          8,
          9,
          10,
          11,
          12,
          13,
          14,
          15,
          16,
          17,
          18,
          19,
          20,
          21,
          22,
          23,
          24,
          25,
          26,
          27,
          28,
          29,
          30,
          31,
          32,
          33,
          34,
          35,
          36,
          37,
          38,
          39,
          40
         ],
         "y": [
          425328,
          1524800,
          159027,
          1862996,
          9011505,
          3993919,
          194320,
          92217,
          19484,
          11924,
          4682,
          1093,
          961,
          2497,
          1958,
          13356,
          27638,
          83268,
          49731,
          287305,
          40174,
          22790,
          22066,
          12993,
          1777,
          826,
          1995,
          638,
          3002,
          2614,
          4597,
          8763,
          30003,
          30894,
          158513,
          35640,
          23453,
          8800,
          11014,
          3791,
          1030
         ]
        }
       ],
       "layout": {
        "autosize": true,
        "template": {
         "data": {
          "bar": [
           {
            "error_x": {
             "color": "#2a3f5f"
            },
            "error_y": {
             "color": "#2a3f5f"
            },
            "marker": {
             "line": {
              "color": "white",
              "width": 0.5
             },
             "pattern": {
              "fillmode": "overlay",
              "size": 10,
              "solidity": 0.2
             }
            },
            "type": "bar"
           }
          ],
          "barpolar": [
           {
            "marker": {
             "line": {
              "color": "white",
              "width": 0.5
             },
             "pattern": {
              "fillmode": "overlay",
              "size": 10,
              "solidity": 0.2
             }
            },
            "type": "barpolar"
           }
          ],
          "carpet": [
           {
            "aaxis": {
             "endlinecolor": "#2a3f5f",
             "gridcolor": "#C8D4E3",
             "linecolor": "#C8D4E3",
             "minorgridcolor": "#C8D4E3",
             "startlinecolor": "#2a3f5f"
            },
            "baxis": {
             "endlinecolor": "#2a3f5f",
             "gridcolor": "#C8D4E3",
             "linecolor": "#C8D4E3",
             "minorgridcolor": "#C8D4E3",
             "startlinecolor": "#2a3f5f"
            },
            "type": "carpet"
           }
          ],
          "choropleth": [
           {
            "colorbar": {
             "outlinewidth": 0,
             "ticks": ""
            },
            "type": "choropleth"
           }
          ],
          "contour": [
           {
            "colorbar": {
             "outlinewidth": 0,
             "ticks": ""
            },
            "colorscale": [
             [
              0,
              "#0d0887"
             ],
             [
              0.1111111111111111,
              "#46039f"
             ],
             [
              0.2222222222222222,
              "#7201a8"
             ],
             [
              0.3333333333333333,
              "#9c179e"
             ],
             [
              0.4444444444444444,
              "#bd3786"
             ],
             [
              0.5555555555555556,
              "#d8576b"
             ],
             [
              0.6666666666666666,
              "#ed7953"
             ],
             [
              0.7777777777777778,
              "#fb9f3a"
             ],
             [
              0.8888888888888888,
              "#fdca26"
             ],
             [
              1,
              "#f0f921"
             ]
            ],
            "type": "contour"
           }
          ],
          "contourcarpet": [
           {
            "colorbar": {
             "outlinewidth": 0,
             "ticks": ""
            },
            "type": "contourcarpet"
           }
          ],
          "heatmap": [
           {
            "colorbar": {
             "outlinewidth": 0,
             "ticks": ""
            },
            "colorscale": [
             [
              0,
              "#0d0887"
             ],
             [
              0.1111111111111111,
              "#46039f"
             ],
             [
              0.2222222222222222,
              "#7201a8"
             ],
             [
              0.3333333333333333,
              "#9c179e"
             ],
             [
              0.4444444444444444,
              "#bd3786"
             ],
             [
              0.5555555555555556,
              "#d8576b"
             ],
             [
              0.6666666666666666,
              "#ed7953"
             ],
             [
              0.7777777777777778,
              "#fb9f3a"
             ],
             [
              0.8888888888888888,
              "#fdca26"
             ],
             [
              1,
              "#f0f921"
             ]
            ],
            "type": "heatmap"
           }
          ],
          "heatmapgl": [
           {
            "colorbar": {
             "outlinewidth": 0,
             "ticks": ""
            },
            "colorscale": [
             [
              0,
              "#0d0887"
             ],
             [
              0.1111111111111111,
              "#46039f"
             ],
             [
              0.2222222222222222,
              "#7201a8"
             ],
             [
              0.3333333333333333,
              "#9c179e"
             ],
             [
              0.4444444444444444,
              "#bd3786"
             ],
             [
              0.5555555555555556,
              "#d8576b"
             ],
             [
              0.6666666666666666,
              "#ed7953"
             ],
             [
              0.7777777777777778,
              "#fb9f3a"
             ],
             [
              0.8888888888888888,
              "#fdca26"
             ],
             [
              1,
              "#f0f921"
             ]
            ],
            "type": "heatmapgl"
           }
          ],
          "histogram": [
           {
            "marker": {
             "pattern": {
              "fillmode": "overlay",
              "size": 10,
              "solidity": 0.2
             }
            },
            "type": "histogram"
           }
          ],
          "histogram2d": [
           {
            "colorbar": {
             "outlinewidth": 0,
             "ticks": ""
            },
            "colorscale": [
             [
              0,
              "#0d0887"
             ],
             [
              0.1111111111111111,
              "#46039f"
             ],
             [
              0.2222222222222222,
              "#7201a8"
             ],
             [
              0.3333333333333333,
              "#9c179e"
             ],
             [
              0.4444444444444444,
              "#bd3786"
             ],
             [
              0.5555555555555556,
              "#d8576b"
             ],
             [
              0.6666666666666666,
              "#ed7953"
             ],
             [
              0.7777777777777778,
              "#fb9f3a"
             ],
             [
              0.8888888888888888,
              "#fdca26"
             ],
             [
              1,
              "#f0f921"
             ]
            ],
            "type": "histogram2d"
           }
          ],
          "histogram2dcontour": [
           {
            "colorbar": {
             "outlinewidth": 0,
             "ticks": ""
            },
            "colorscale": [
             [
              0,
              "#0d0887"
             ],
             [
              0.1111111111111111,
              "#46039f"
             ],
             [
              0.2222222222222222,
              "#7201a8"
             ],
             [
              0.3333333333333333,
              "#9c179e"
             ],
             [
              0.4444444444444444,
              "#bd3786"
             ],
             [
              0.5555555555555556,
              "#d8576b"
             ],
             [
              0.6666666666666666,
              "#ed7953"
             ],
             [
              0.7777777777777778,
              "#fb9f3a"
             ],
             [
              0.8888888888888888,
              "#fdca26"
             ],
             [
              1,
              "#f0f921"
             ]
            ],
            "type": "histogram2dcontour"
           }
          ],
          "mesh3d": [
           {
            "colorbar": {
             "outlinewidth": 0,
             "ticks": ""
            },
            "type": "mesh3d"
           }
          ],
          "parcoords": [
           {
            "line": {
             "colorbar": {
              "outlinewidth": 0,
              "ticks": ""
             }
            },
            "type": "parcoords"
           }
          ],
          "pie": [
           {
            "automargin": true,
            "type": "pie"
           }
          ],
          "scatter": [
           {
            "marker": {
             "colorbar": {
              "outlinewidth": 0,
              "ticks": ""
             }
            },
            "type": "scatter"
           }
          ],
          "scatter3d": [
           {
            "line": {
             "colorbar": {
              "outlinewidth": 0,
              "ticks": ""
             }
            },
            "marker": {
             "colorbar": {
              "outlinewidth": 0,
              "ticks": ""
             }
            },
            "type": "scatter3d"
           }
          ],
          "scattercarpet": [
           {
            "marker": {
             "colorbar": {
              "outlinewidth": 0,
              "ticks": ""
             }
            },
            "type": "scattercarpet"
           }
          ],
          "scattergeo": [
           {
            "marker": {
             "colorbar": {
              "outlinewidth": 0,
              "ticks": ""
             }
            },
            "type": "scattergeo"
           }
          ],
          "scattergl": [
           {
            "marker": {
             "colorbar": {
              "outlinewidth": 0,
              "ticks": ""
             }
            },
            "type": "scattergl"
           }
          ],
          "scattermapbox": [
           {
            "marker": {
             "colorbar": {
              "outlinewidth": 0,
              "ticks": ""
             }
            },
            "type": "scattermapbox"
           }
          ],
          "scatterpolar": [
           {
            "marker": {
             "colorbar": {
              "outlinewidth": 0,
              "ticks": ""
             }
            },
            "type": "scatterpolar"
           }
          ],
          "scatterpolargl": [
           {
            "marker": {
             "colorbar": {
              "outlinewidth": 0,
              "ticks": ""
             }
            },
            "type": "scatterpolargl"
           }
          ],
          "scatterternary": [
           {
            "marker": {
             "colorbar": {
              "outlinewidth": 0,
              "ticks": ""
             }
            },
            "type": "scatterternary"
           }
          ],
          "surface": [
           {
            "colorbar": {
             "outlinewidth": 0,
             "ticks": ""
            },
            "colorscale": [
             [
              0,
              "#0d0887"
             ],
             [
              0.1111111111111111,
              "#46039f"
             ],
             [
              0.2222222222222222,
              "#7201a8"
             ],
             [
              0.3333333333333333,
              "#9c179e"
             ],
             [
              0.4444444444444444,
              "#bd3786"
             ],
             [
              0.5555555555555556,
              "#d8576b"
             ],
             [
              0.6666666666666666,
              "#ed7953"
             ],
             [
              0.7777777777777778,
              "#fb9f3a"
             ],
             [
              0.8888888888888888,
              "#fdca26"
             ],
             [
              1,
              "#f0f921"
             ]
            ],
            "type": "surface"
           }
          ],
          "table": [
           {
            "cells": {
             "fill": {
              "color": "#EBF0F8"
             },
             "line": {
              "color": "white"
             }
            },
            "header": {
             "fill": {
              "color": "#C8D4E3"
             },
             "line": {
              "color": "white"
             }
            },
            "type": "table"
           }
          ]
         },
         "layout": {
          "annotationdefaults": {
           "arrowcolor": "#2a3f5f",
           "arrowhead": 0,
           "arrowwidth": 1
          },
          "autotypenumbers": "strict",
          "coloraxis": {
           "colorbar": {
            "outlinewidth": 0,
            "ticks": ""
           }
          },
          "colorscale": {
           "diverging": [
            [
             0,
             "#8e0152"
            ],
            [
             0.1,
             "#c51b7d"
            ],
            [
             0.2,
             "#de77ae"
            ],
            [
             0.3,
             "#f1b6da"
            ],
            [
             0.4,
             "#fde0ef"
            ],
            [
             0.5,
             "#f7f7f7"
            ],
            [
             0.6,
             "#e6f5d0"
            ],
            [
             0.7,
             "#b8e186"
            ],
            [
             0.8,
             "#7fbc41"
            ],
            [
             0.9,
             "#4d9221"
            ],
            [
             1,
             "#276419"
            ]
           ],
           "sequential": [
            [
             0,
             "#0d0887"
            ],
            [
             0.1111111111111111,
             "#46039f"
            ],
            [
             0.2222222222222222,
             "#7201a8"
            ],
            [
             0.3333333333333333,
             "#9c179e"
            ],
            [
             0.4444444444444444,
             "#bd3786"
            ],
            [
             0.5555555555555556,
             "#d8576b"
            ],
            [
             0.6666666666666666,
             "#ed7953"
            ],
            [
             0.7777777777777778,
             "#fb9f3a"
            ],
            [
             0.8888888888888888,
             "#fdca26"
            ],
            [
             1,
             "#f0f921"
            ]
           ],
           "sequentialminus": [
            [
             0,
             "#0d0887"
            ],
            [
             0.1111111111111111,
             "#46039f"
            ],
            [
             0.2222222222222222,
             "#7201a8"
            ],
            [
             0.3333333333333333,
             "#9c179e"
            ],
            [
             0.4444444444444444,
             "#bd3786"
            ],
            [
             0.5555555555555556,
             "#d8576b"
            ],
            [
             0.6666666666666666,
             "#ed7953"
            ],
            [
             0.7777777777777778,
             "#fb9f3a"
            ],
            [
             0.8888888888888888,
             "#fdca26"
            ],
            [
             1,
             "#f0f921"
            ]
           ]
          },
          "colorway": [
           "#636efa",
           "#EF553B",
           "#00cc96",
           "#ab63fa",
           "#FFA15A",
           "#19d3f3",
           "#FF6692",
           "#B6E880",
           "#FF97FF",
           "#FECB52"
          ],
          "font": {
           "color": "#2a3f5f"
          },
          "geo": {
           "bgcolor": "white",
           "lakecolor": "white",
           "landcolor": "white",
           "showlakes": true,
           "showland": true,
           "subunitcolor": "#C8D4E3"
          },
          "hoverlabel": {
           "align": "left"
          },
          "hovermode": "closest",
          "mapbox": {
           "style": "light"
          },
          "paper_bgcolor": "white",
          "plot_bgcolor": "white",
          "polar": {
           "angularaxis": {
            "gridcolor": "#EBF0F8",
            "linecolor": "#EBF0F8",
            "ticks": ""
           },
           "bgcolor": "white",
           "radialaxis": {
            "gridcolor": "#EBF0F8",
            "linecolor": "#EBF0F8",
            "ticks": ""
           }
          },
          "scene": {
           "xaxis": {
            "backgroundcolor": "white",
            "gridcolor": "#DFE8F3",
            "gridwidth": 2,
            "linecolor": "#EBF0F8",
            "showbackground": true,
            "ticks": "",
            "zerolinecolor": "#EBF0F8"
           },
           "yaxis": {
            "backgroundcolor": "white",
            "gridcolor": "#DFE8F3",
            "gridwidth": 2,
            "linecolor": "#EBF0F8",
            "showbackground": true,
            "ticks": "",
            "zerolinecolor": "#EBF0F8"
           },
           "zaxis": {
            "backgroundcolor": "white",
            "gridcolor": "#DFE8F3",
            "gridwidth": 2,
            "linecolor": "#EBF0F8",
            "showbackground": true,
            "ticks": "",
            "zerolinecolor": "#EBF0F8"
           }
          },
          "shapedefaults": {
           "line": {
            "color": "#2a3f5f"
           }
          },
          "ternary": {
           "aaxis": {
            "gridcolor": "#DFE8F3",
            "linecolor": "#A2B1C6",
            "ticks": ""
           },
           "baxis": {
            "gridcolor": "#DFE8F3",
            "linecolor": "#A2B1C6",
            "ticks": ""
           },
           "bgcolor": "white",
           "caxis": {
            "gridcolor": "#DFE8F3",
            "linecolor": "#A2B1C6",
            "ticks": ""
           }
          },
          "title": {
           "x": 0.05
          },
          "xaxis": {
           "automargin": true,
           "gridcolor": "#EBF0F8",
           "linecolor": "#EBF0F8",
           "ticks": "",
           "title": {
            "standoff": 15
           },
           "zerolinecolor": "#EBF0F8",
           "zerolinewidth": 2
          },
          "yaxis": {
           "automargin": true,
           "gridcolor": "#EBF0F8",
           "linecolor": "#EBF0F8",
           "ticks": "",
           "title": {
            "standoff": 15
           },
           "zerolinecolor": "#EBF0F8",
           "zerolinewidth": 2
          }
         }
        },
        "updatemenus": [
         {
          "buttons": [
           {
            "args": [
             {
              "yaxis.type": "linear"
             }
            ],
            "label": "Linear y-scale",
            "method": "relayout"
           },
           {
            "args": [
             {
              "yaxis.type": "log"
             }
            ],
            "label": "Log y-scale",
            "method": "relayout"
           }
          ],
          "direction": "left",
          "pad": {
           "r": 0,
           "t": -10
          },
          "showactive": true,
          "type": "buttons",
          "x": 0,
          "xanchor": "left",
          "y": 1.15,
          "yanchor": "top"
         }
        ],
        "xaxis": {
         "title": {
          "text": "Time in hours"
         }
        },
        "yaxis": {
         "title": {
          "text": "Bacterial count in CFU/mL"
         }
        }
       }
      }
     },
     "metadata": {},
     "output_type": "display_data"
    }
   ],
   "source": [
    "# Get data\n",
    "directory = os.getcwd()\n",
    "data = pd.read_csv(directory + '/derived_data/measurements.csv')\n",
    "\n",
    "# Create scatter plots of data\n",
    "fig = chi.plots.PDTimeSeriesPlot()\n",
    "fig.add_data(data, biomarker='Bacterial count')\n",
    "fig.set_axis_labels(xlabel='Time in hours', ylabel='Bacterial count in CFU/mL')\n",
    "fig.show()"
   ]
  },
  {
   "cell_type": "markdown",
   "metadata": {},
   "source": [
    "## Define candidate models\n",
    "\n",
    "Recall that the data-generating model is the KR model.\n",
    "We will use the data-generating model (with the true model parameters) as a\n",
    "reference to evaluate the reliability of the model predictions."
   ]
  },
  {
   "cell_type": "code",
   "execution_count": 4,
   "metadata": {},
   "outputs": [],
   "source": [
    "# Define K model\n",
    "directory = os.path.dirname(os.path.dirname(os.getcwd()))\n",
    "k_model = chi.PharmacokineticModel(directory + '/models/K_model.xml')\n",
    "k_model.set_administration(compartment='central')\n",
    "k_model.set_parameter_names(names={\n",
    "    'myokit.bacterial_count': 'Initial bacterial count in CFU/ml',\n",
    "    'myokit.concentration_e50': 'EC 50 in ng/ml',\n",
    "    'myokit.growth_rate': 'Growth rate in 1/h',\n",
    "    'myokit.kappa': 'Max. kill rate in 1/h'})\n",
    "k_model.set_outputs(['myokit.bacterial_count'])\n",
    "k_model.set_output_names({\n",
    "    'myokit.bacterial_count': 'Bacterial count in CFU/ml'})\n",
    "k_model = chi.ReducedMechanisticModel(\n",
    "    k_model)\n",
    "k_model.fix_parameters({\n",
    "    'central.drug_amount': 0,\n",
    "    'dose.drug_amount': 0,\n",
    "    'myokit.bacterial_count_adapted': 0,\n",
    "    'dose.absorption_rate': 2.7,           # in 1/h, Sanchez et al\n",
    "    'central.size': 3.7 * 70,              # in L/kg, Sanchez et al for 70 kg\n",
    "    'myokit.elimination_rate': 0.17,       # in 1/h, Sanchez et al\n",
    "    'myokit.gamma': 1})\n",
    "\n",
    "# Define KP model\n",
    "kp_model = chi.PharmacokineticModel(directory + '/models/KP_model.xml')\n",
    "kp_model.set_administration(compartment='central', direct=False)\n",
    "kp_model.set_parameter_names(names={\n",
    "    'myokit.bacterial_count_susceptible': 'Initial bacterial count in CFU/ml',\n",
    "    'myokit.death_rate': 'Death rate in 1/h',\n",
    "    'myokit.growth_rate': 'Growth rate in 1/h',\n",
    "    'myokit.kappa': 'Kill rate in ml/ng/h',\n",
    "    'myokit.transition_rate_12': 'Transition rate to dividing in 1/h',\n",
    "    'myokit.transition_rate_21': 'Transition rate to non-dividing in ml/ng/h'})\n",
    "kp_model.set_outputs(['myokit.total_bacterial_count'])\n",
    "kp_model.set_output_names({\n",
    "    'myokit.total_bacterial_count': 'Bacterial count in CFU/ml'})\n",
    "kp_model = chi.ReducedMechanisticModel(\n",
    "    kp_model)\n",
    "kp_model.fix_parameters({\n",
    "    'central.drug_amount': 0,\n",
    "    'dose.drug_amount': 0,\n",
    "    'myokit.bacterial_count_adapted': 0,\n",
    "    'dose.absorption_rate': 2.7,           # in 1/h, Sanchez et al\n",
    "    'central.size': 3.7 * 70,              # in L/kg, Sanchez et al for 70 kg\n",
    "    'myokit.elimination_rate': 0.17,       # in 1/h, Sanchez et al\n",
    "    'myokit.gamma': 1})\n",
    "\n",
    "# Define KR model\n",
    "kr_model = chi.PharmacokineticModel(directory + '/models/KR_model.xml')\n",
    "kr_model.set_administration(compartment='central', direct=False)\n",
    "kr_model.set_parameter_names(names={\n",
    "    'myokit.bacterial_count_susceptible': 'Initial bacterial count in CFU/ml',\n",
    "    'myokit.concentration_e50_adapted': 'Adapted EC 50 in ng/ml',\n",
    "    'myokit.growth_rate': 'Growth rate in 1/h',\n",
    "    'myokit.kappa_adapted': 'Adapted max. kill rate in 1/h',\n",
    "    'myokit.kappa_susceptible': 'Wild type kill rate in ml/ng/h',\n",
    "    'myokit.mutation_rate': 'Mutation rate in ml/ng/h'})\n",
    "kr_model.set_outputs(['myokit.total_bacterial_count'])\n",
    "kr_model.set_output_names({\n",
    "    'myokit.total_bacterial_count': 'Bacterial count in CFU/ml'})\n",
    "kr_model = chi.ReducedMechanisticModel(\n",
    "    kr_model)\n",
    "kr_model.fix_parameters({\n",
    "    'central.drug_amount': 0,\n",
    "    'dose.drug_amount': 0,\n",
    "    'myokit.bacterial_count_adapted': 0,\n",
    "    'dose.absorption_rate': 2.7,           # in 1/h, Sanchez et al\n",
    "    'central.size': 3.7 * 70,              # in L/kg, Sanchez et al for 70 kg\n",
    "    'myokit.elimination_rate': 0.17,       # in 1/h, Sanchez et al\n",
    "    'myokit.gamma': 1})"
   ]
  },
  {
   "cell_type": "markdown",
   "metadata": {},
   "source": [
    "## Predictions of 1-log reduction dose\n",
    "\n",
    "We want to predict the dose that leads after 24h to a 1-log (10-fold) reduction\n",
    "of the bacterial population. We consider a dosing regimen $r$ that administers\n",
    "ciprofloxacin orally twice a day."
   ]
  },
  {
   "cell_type": "markdown",
   "metadata": {},
   "source": [
    "### Find true reduction dose\n",
    "\n",
    "The true 1-log reduction dose can be straightforwardly computed from the\n",
    "data-generating model by solving\n",
    "\n",
    "$$\n",
    "    \\bar{y}(\\psi , t=24, r) = \\bar{y}_0 / 10\n",
    "$$\n",
    "\n",
    "for the dosing regimen $r$, where $\\bar{y}_0 = \\bar{y}(\\psi , t=0, r)$ is the\n",
    "true bacterial count at $t=0$."
   ]
  },
  {
   "cell_type": "code",
   "execution_count": 5,
   "metadata": {},
   "outputs": [
    {
     "name": "stdout",
     "output_type": "stream",
     "text": [
      "True dose:  [163.82753914]\n",
      "Squared error:  3.4902336099777226e-22\n"
     ]
    }
   ],
   "source": [
    "class TrueXLogReductionDose(pints.ErrorMeasure):\n",
    "    \"\"\"\n",
    "    Defines a pints.ErrorMeasure that can be used to find the true\n",
    "    dose that leads to a X-log reduction at time t.\n",
    "\n",
    "    Can be called with a dose amount and returns the squared distance\n",
    "    of the log reduction at time t from the target log reduced bacterial\n",
    "    population.\n",
    "    \"\"\"\n",
    "    def __init__(self, log_reduction, time):\n",
    "        self._model = kr_model\n",
    "        self._parameters = [\n",
    "            1E6,     # Initial bacterial count in CFU/ml\n",
    "            191,     # Adapated EC50 in ng/ml\n",
    "            0.77,    # Growth rate in 1/h\n",
    "            1.61,    # Adapted max. kill rate in 1/h\n",
    "            0.003,   # Wild type max. kill rate in 1/h\n",
    "            5E-5,    # Max. mutation rate in 1/h\n",
    "        ]\n",
    "        self._time = [float(time)]\n",
    "        self._target_reduction = -int(log_reduction)\n",
    "\n",
    "    def __call__(self, dose):\n",
    "        \"\"\"\n",
    "        Returns the squared error of the target population size to the\n",
    "        true population size at time t for the administered dose.\n",
    "\n",
    "        Input: dose in mg\n",
    "        \"\"\"\n",
    "        # Convert dose to ng\n",
    "        dose = dose[0] * 1E3\n",
    "\n",
    "        # Compute error\n",
    "        self._model.set_dosing_regimen(dose=dose, start=0, period=12)\n",
    "        predicted_pop = self._model.simulate(\n",
    "            parameters=self._parameters, times=self._time)[0, 0]\n",
    "        log_reduction = np.log10(predicted_pop / self._parameters[0])\n",
    "        squared_error = (self._target_reduction - log_reduction) ** 2\n",
    "\n",
    "        return squared_error\n",
    "\n",
    "    def n_parameters(self):\n",
    "        \"\"\"\n",
    "        Returns the number of parameters of the optimisation problem.\n",
    "        (We just want to find the dose, so it is 1)\n",
    "        \"\"\"\n",
    "        return 1\n",
    "\n",
    "# Find true 1-log reduction dose\n",
    "problem = TrueXLogReductionDose(log_reduction=1, time=24)\n",
    "initial_guess = [200]\n",
    "optimiser = pints.OptimisationController(\n",
    "    problem, x0=initial_guess, method=pints.NelderMead)\n",
    "optimiser.set_log_to_screen(False)\n",
    "true_dose, squared_error = optimiser.run()\n",
    "print('True dose: ', true_dose)\n",
    "print('Squared error: ', squared_error)"
   ]
  },
  {
   "cell_type": "markdown",
   "metadata": {},
   "source": [
    "### Predict reduction dose with MAA approach\n",
    "\n",
    "We can find the 1-log reduction dose analogously to the optimisation routine\n",
    "above, i.e. by solving $\\bar{y}(\\psi , t=24, r) = \\bar{y}_0 / 10$. The main\n",
    "difference for MAA is that we have to compute the predicted bacterial\n",
    "count at time t by the weighted average of the mean predictions across the\n",
    "models\n",
    "\n",
    "$$\n",
    "    \\bar{y}(\\mathcal{D}, t, r) = \\sum_m w_m\\, \\mathbb{E}_m [y | \\mathcal{D}, t, r].\n",
    "$$\n",
    "\n",
    "We will approximate the exact expectation of $y$ by an empirical average over\n",
    "the posterior samples\n",
    "\n",
    "$$\n",
    "    \\mathbb{E}_m [y | \\mathcal{D}, t, r] \\approx\n",
    "        \\frac{1}{S} \\sum _{s=1}^S y(\\psi ^s, \\sigma ^s, t, r),\n",
    "$$\n",
    "where $S$ is the sample size and the superscript indexes the samples from the\n",
    "posterior distribution."
   ]
  },
  {
   "cell_type": "code",
   "execution_count": 6,
   "metadata": {},
   "outputs": [
    {
     "name": "stdout",
     "output_type": "stream",
     "text": [
      "MAA dose prediction after learning from 30h of experiments:  [162.50518799]\n",
      "Squared error:  1.285120582688919e-07\n"
     ]
    }
   ],
   "source": [
    "class MAAXLogReductionDose(pints.ErrorMeasure):\n",
    "    \"\"\"\n",
    "    Defines a pints.ErrorMeasure that can be used to find the MAA prediction of\n",
    "    the dose that leads to a X-log reduction at time t.\n",
    "\n",
    "    Can be called with a dose amount and returns the squared distance\n",
    "    of the log reduction at time t from the target log reduced bacterial\n",
    "    population.\n",
    "    \"\"\"\n",
    "    def __init__(self, log_reduction, time, end_experiment):\n",
    "        self._models = [k_model, kp_model, kr_model]\n",
    "        self._parameters, self._weights = load_inference_data(\n",
    "            end_experiment=end_experiment)\n",
    "        self._time = [float(time)]\n",
    "        self._target_reduction = -int(log_reduction)\n",
    "        self._initial_pop = 1E6\n",
    "        self._sample_size = 300\n",
    "\n",
    "        # Make sure all models start with the correct initial population size\n",
    "        # shape: (n_samples, n_parameters)\n",
    "        self._parameters[0][:, 0] = self._initial_pop\n",
    "        self._parameters[1][:, 0] = self._initial_pop\n",
    "        self._parameters[2][:, 0] = self._initial_pop\n",
    "\n",
    "    def __call__(self, dose):\n",
    "        \"\"\"\n",
    "        Returns the squared error of the target population size to the\n",
    "        true population size at time t for the administered dose.\n",
    "\n",
    "        Input: dose in mg\n",
    "        \"\"\"\n",
    "        # Convert dose to ng\n",
    "        dose = dose[0] * 1E3\n",
    "\n",
    "        # Set dosing regimen\n",
    "        for model in self._models:\n",
    "            model.set_dosing_regimen(dose=dose, start=0, period=12)\n",
    "\n",
    "        # Compute error\n",
    "        predicted_pop = self._predict_population()\n",
    "        log_reduction = np.log10(predicted_pop / self._initial_pop)\n",
    "        squared_error = (self._target_reduction - log_reduction) ** 2\n",
    "\n",
    "        return squared_error\n",
    "\n",
    "    def _predict_population(self):\n",
    "        \"\"\"\n",
    "        Returns the predicted population size.\n",
    "        \"\"\"\n",
    "        # Estimate mean y for each model\n",
    "        mean_y = np.empty(shape=3)\n",
    "        for model_id, posterior in enumerate(self._parameters):\n",
    "            model = self._models[model_id]\n",
    "            mean_y[model_id] = self._predict_population_with_candidate_model(\n",
    "                model, posterior)\n",
    "\n",
    "        # Compute MAA prediction as weighted average of the means\n",
    "        predicted_pop = np.average(mean_y, weights=self._weights)\n",
    "        return predicted_pop\n",
    "\n",
    "    def _predict_population_with_candidate_model(self, model, posterior):\n",
    "        \"\"\"\n",
    "        Returns an estimate of the expected y for the model.\n",
    "        \"\"\"\n",
    "        # Predict y_bar for each posterior sample\n",
    "        y_bar = np.empty(shape=self._sample_size)\n",
    "        posterior_samples = posterior[\n",
    "            np.random.randint(0, len(posterior), size=self._sample_size)]\n",
    "        for sample_id, parameter_sample in enumerate(posterior_samples):\n",
    "            y_bar[sample_id] = model.simulate(\n",
    "                parameters=parameter_sample[:-1], times=self._time)[0, 0]\n",
    "\n",
    "        # Add noise to predict y\n",
    "        noise = np.random.normal(size=self._sample_size)\n",
    "        sigma = posterior_samples[:, -1]\n",
    "        y = y_bar * np.exp(-sigma**2/2 + sigma * noise)\n",
    "\n",
    "        return np.mean(y)\n",
    "\n",
    "    def n_parameters(self):\n",
    "        \"\"\"\n",
    "        Returns the number of parameters of the optimisation problem.\n",
    "        (We just want to find the dose, so it is 1)\n",
    "        \"\"\"\n",
    "        return 1\n",
    "\n",
    "\n",
    "def predict_reduction_dose_maa(log_reduction, time, end_experiment):\n",
    "    \"\"\"\n",
    "    Returns the log-reduction dose associated with the time.\n",
    "\n",
    "    The end of the experiment specifies which model parameters are used,\n",
    "    i.e. how much data was available when the model parameters were learned.\n",
    "    \"\"\"\n",
    "    problem = MAAXLogReductionDose(log_reduction, time, end_experiment)\n",
    "    initial_guess = [200]\n",
    "    optimiser = pints.OptimisationController(\n",
    "        problem, x0=initial_guess, method=pints.NelderMead)\n",
    "    optimiser.set_log_to_screen(False)\n",
    "    optimiser.set_max_iterations(100)\n",
    "    dose, squared_error = optimiser.run()\n",
    "\n",
    "    return dose, squared_error\n",
    "\n",
    "# Example: Find 1-log reduction dose after 30h\n",
    "maa_dose, squared_error = predict_reduction_dose_maa(\n",
    "    log_reduction=1, time=24, end_experiment=30)\n",
    "print('MAA dose prediction after learning from 30h of experiments: ', maa_dose)\n",
    "print('Squared error: ', squared_error)"
   ]
  },
  {
   "cell_type": "markdown",
   "metadata": {},
   "source": [
    "### Predict 1-log reduction dose with MS and PAM\n",
    "\n",
    "In order to predict the reduction dose with the candidate models in a way\n",
    "that reflects the remaining uncertainty, we solve conceptually the same\n",
    "optimisation problem as before\n",
    "\n",
    "$$\n",
    "    y(\\mathcal{D}, t=24, r) = \\bar{y}_0 / 10.\n",
    "$$\n",
    "\n",
    "Note, however, that the limited data $\\mathcal{D}$ leaves uncertainty about the\n",
    "bacterial count prediction, i.e. $p_m(y | \\mathcal{D}, t=24, r)$. As a result,\n",
    "we will only be able to predict a distribution of probable reduction doses,\n",
    "which reflects the remaining uncertainty.\n",
    "\n",
    "One way to infer this distribution of probable reduction doses is to\n",
    "repeatedly sample a realisation of $y$ from $p_m(y | \\mathcal{D}, t=24, r)$ and\n",
    "then to find the dose amount that satisfies $y = \\bar{y}_0 / 10$ for this\n",
    "realisation.\n",
    "\n",
    "The PAM predictions of the reduction doses is\n",
    "given by the combined distributions of probable reduction doses of all likely\n",
    "candidate models.\n"
   ]
  },
  {
   "cell_type": "code",
   "execution_count": 7,
   "metadata": {},
   "outputs": [
    {
     "data": {
      "image/png": "[encoded data removed]",
      "text/plain": [
       "<Figure size 432x288 with 1 Axes>"
      ]
     },
     "metadata": {
      "needs_background": "light"
     },
     "output_type": "display_data"
    }
   ],
   "source": [
    "class MSXLogReductionDose(pints.ErrorMeasure):\n",
    "    \"\"\"\n",
    "    Defines a pints.ErrorMeasure that can be used to find the\n",
    "    dose that leads to a X-log reduction at time t.\n",
    "\n",
    "    Can be called with a dose amount and returns the squared distance\n",
    "    of the log reduction at time t from the target log reduced bacterial\n",
    "    population.\n",
    "    \"\"\"\n",
    "    def __init__(self, model, log_reduction, time):\n",
    "        self._model = model\n",
    "        self._parameters = None\n",
    "        self._noise = None\n",
    "        self._sigma = None\n",
    "        self._time = [float(time)]\n",
    "        self._target_reduction = -int(log_reduction)\n",
    "\n",
    "    def __call__(self, dose):\n",
    "        \"\"\"\n",
    "        Returns the squared error of the target population size to the\n",
    "        true population size at time t for the administered dose.\n",
    "\n",
    "        Input: dose in mg\n",
    "        \"\"\"\n",
    "        # Convert dose to ng and set dosing regimen\n",
    "        dose = dose[0] * 1E3\n",
    "        self._model.set_dosing_regimen(dose=dose, start=0, period=12)\n",
    "\n",
    "        # Sample predicted y at t=24\n",
    "        y_bar = self._model.simulate(\n",
    "            parameters=self._parameters, times=self._time)[0, 0]\n",
    "        y = y_bar * np.exp(-self._sigma**2/2 + self._sigma * self._noise)\n",
    "        y0 = self._parameters[0]\n",
    "        log_reduction = np.log10(y / y0)\n",
    "        squared_error = (self._target_reduction - log_reduction) ** 2\n",
    "\n",
    "        return squared_error\n",
    "\n",
    "    def n_parameters(self):\n",
    "        \"\"\"\n",
    "        Returns the number of parameters of the optimisation problem.\n",
    "        (We just want to find the dose, so it is 1)\n",
    "        \"\"\"\n",
    "        return 1\n",
    "\n",
    "    def set_model_parameters(self, parameters):\n",
    "        \"\"\"\n",
    "        Sets the parameters of the candidate model.\n",
    "\n",
    "        Assumes that the first k-1 parameters are the parameters of the\n",
    "        candidate model, and the last parameter is the standard deviation\n",
    "        of the lognormal error.\n",
    "        \"\"\"\n",
    "        assert self._model.n_parameters() == (len(parameters) - 1)\n",
    "        self._parameters = parameters[:-1]\n",
    "        self._sigma = parameters[-1]\n",
    "\n",
    "    def set_noise(self, noise):\n",
    "        \"\"\"\n",
    "        Sets realisation of the noise. Expects a sample from a standard\n",
    "        Gaussian distribution.\n",
    "        \"\"\"\n",
    "        self._noise = float(noise)\n",
    "\n",
    "\n",
    "def prediction_reduction_dose_pam(\n",
    "        log_reduction, time, end_experiment, weight_thresh=1E-3):\n",
    "    \"\"\"\n",
    "    Returns the log-reduction dose associated with the time.\n",
    "\n",
    "    The end of the experiment specifies which model parameters are used,\n",
    "    i.e. how much data was available when the model parameters were learned.\n",
    "    \"\"\"\n",
    "    n_samples = 1000\n",
    "    models = [k_model, kp_model, kr_model]\n",
    "    n_models = len(models)\n",
    "    initial_guess = [200]\n",
    "    tolerated_squared_error = 1E-6\n",
    "\n",
    "    # Sample reduction doses\n",
    "    doses = np.empty(shape=(n_models, n_samples))\n",
    "    posteriors, weights = load_inference_data(end_experiment)\n",
    "    for m_id, model in enumerate(models):\n",
    "        # Skip if model has not sufficient likelihood\n",
    "        if weights[m_id] < weight_thresh:\n",
    "            doses[m_id] = np.nan\n",
    "            continue\n",
    "\n",
    "        # Sample from posterior and sample noise realisations\n",
    "        posterior = posteriors[m_id]\n",
    "        posterior = posterior[\n",
    "            np.random.randint(0, len(posterior), size=n_samples)]\n",
    "        noise = np.random.normal(size=n_samples)\n",
    "\n",
    "        # Find reduction dose for sample\n",
    "        problem = MSXLogReductionDose(model, log_reduction, time)\n",
    "        for sample_id in range(n_samples):\n",
    "            problem.set_model_parameters(posterior[sample_id])\n",
    "            problem.set_noise(noise[sample_id])\n",
    "            optimiser = pints.OptimisationController(\n",
    "                problem, x0=initial_guess, method=pints.NelderMead)\n",
    "            optimiser.set_log_to_screen(False)\n",
    "            optimiser.set_max_iterations(100)\n",
    "            dose, squared_error = optimiser.run()\n",
    "            \n",
    "            if squared_error < tolerated_squared_error:\n",
    "                doses[m_id, sample_id] = dose\n",
    "            else:\n",
    "                doses[m_id, sample_id] = np.nan\n",
    "\n",
    "    return doses, weights\n",
    "\n",
    "# Example: Find 1-log reduction dose distribution after 30h with KR model\n",
    "np.random.seed(1)\n",
    "doses, weights = prediction_reduction_dose_pam(\n",
    "    log_reduction=1, time=24, end_experiment=30)\n",
    "\n",
    "# Visualise reduction dose distribution\n",
    "sns.kdeplot(\n",
    "    data=pd.DataFrame({'1-log reduction dose in mg': doses[2]}),\n",
    "    x='1-log reduction dose in mg', fill=True,\n",
    "    common_norm=False, alpha=.5, linewidth=1,\n",
    "    legend=False)\n",
    "plt.show()"
   ]
  },
  {
   "cell_type": "markdown",
   "metadata": {},
   "source": [
    "### Predict 1-log reduction doses with all approaches (MS, MAA, PAM) for different amounts of available data"
   ]
  },
  {
   "cell_type": "code",
   "execution_count": 148,
   "metadata": {},
   "outputs": [
    {
     "data": {
      "image/png": "[encoded data removed]",
      "text/plain": [
       "<Figure size 1440x720 with 10 Axes>"
      ]
     },
     "metadata": {
      "needs_background": "light"
     },
     "output_type": "display_data"
    }
   ],
   "source": [
    "# # Setup\n",
    "# time = 24\n",
    "# log_reductions = [1, 6]\n",
    "# experiment_durations = [10, 15, 20, 30]\n",
    "# n_experiments = len(experiment_durations)\n",
    "# weight_thresh = 1E-3\n",
    "\n",
    "# # Fix seed for reproducibility\n",
    "# np.random.seed(1)\n",
    "\n",
    "# # Find true log reduction doses\n",
    "# results = []\n",
    "# for log_reduction in log_reductions:\n",
    "#     problem = TrueXLogReductionDose(log_reduction, time)\n",
    "#     initial_guess = [200]\n",
    "#     optimiser = pints.OptimisationController(\n",
    "#         problem, x0=initial_guess, method=pints.NelderMead)\n",
    "#     optimiser.set_log_to_screen(False)\n",
    "#     true_dose, _ = optimiser.run()\n",
    "\n",
    "#     # Predict reduction doses and visualise results\n",
    "#     maa_doses = []\n",
    "#     pam_doses = []\n",
    "#     model_weights = []\n",
    "#     for exp_id, end_experiment in enumerate(experiment_durations):\n",
    "#         # Predict reduction dose with MAA\n",
    "#         maa_dose, _ = predict_reduction_dose_maa(\n",
    "#             log_reduction, time, end_experiment)\n",
    "#         maa_doses.append(maa_dose)\n",
    "\n",
    "    #     # Predict reduction dose with PAM\n",
    "    #     pam_dose, weights = prediction_reduction_dose_pam(\n",
    "    #         log_reduction, time, end_experiment, weight_thresh)\n",
    "    #     pam_doses.append(pam_dose)\n",
    "    #     model_weights.append(weights)\n",
    "\n",
    "    # # Store results\n",
    "    # results.append([true_dose, maa_doses, pam_doses, model_weights])\n",
    "\n",
    "# Plots results\n",
    "fontsize = '20'\n",
    "plt.rcParams['font.size'] = fontsize\n",
    "fig, axes = plt.subplots(\n",
    "    2, n_experiments, figsize=(20, 10), sharey='row', sharex='row')\n",
    "plt.subplots_adjust(wspace=0.1, hspace=0.3)\n",
    "plt.xticks(fontsize=fontsize)\n",
    "plt.yticks(fontsize=fontsize)\n",
    "axes[0, 0].set_ylabel('Probability density', fontsize=fontsize)\n",
    "axes[1, 0].set_ylabel('Probability density', fontsize=fontsize)\n",
    "axes[0, 0].set_xlim([100, 240])\n",
    "axes[1, 0].set_xlim([200, 625])\n",
    "\n",
    "# Predict reduction doses and visualise results\n",
    "for log_id, result in enumerate(results):\n",
    "    true_dose, maa_doses, pam_doses, model_weights = result\n",
    "    for exp_id, end_experiment in enumerate(experiment_durations):\n",
    "        # Add title to subfigure\n",
    "        if log_id == 0:\n",
    "            axes[log_id, exp_id].set_title('%dh:' % (end_experiment), y=1.7, x=0.1)\n",
    "\n",
    "        # Plot true dose response\n",
    "        axes[log_id, exp_id].axvline(\n",
    "            x=true_dose, color='black', linestyle='--', label='True')\n",
    "\n",
    "        # Plot PAM prediction: Dose distributions\n",
    "        df = []\n",
    "        colors = []\n",
    "        pam_dose = pam_doses[exp_id]\n",
    "        weights = model_weights[exp_id]\n",
    "        for model_id, weight in enumerate(weights):\n",
    "            # Skip models with insufficient weight\n",
    "            if weight < weight_thresh:\n",
    "                continue\n",
    "            dataframe = pd.DataFrame(\n",
    "                data=pam_dose[model_id], columns=['Dose in mg'])\n",
    "            dataframe['Model'] = ['K', 'KP', 'KR'][model_id]\n",
    "            df.append(dataframe)\n",
    "            colors.append(sns.color_palette()[model_id])\n",
    "        df = pd.concat(df, ignore_index=True)\n",
    "        sns.kdeplot(\n",
    "            data=df, x='Dose in mg', hue=\"Model\", fill=True,\n",
    "            common_norm=False, alpha=.5, linewidth=1, ax=axes[log_id, exp_id],\n",
    "            palette=colors, legend=False)\n",
    "\n",
    "        # Plot PAM prediction: Weights\n",
    "        if log_id == 0:\n",
    "            # inset_axes = axes[log_id, exp_id].inset_axes(\n",
    "            #     bounds=[0.575, 0.45, 0.4, 0.4])\n",
    "            inset_axes = axes[log_id, exp_id].inset_axes(\n",
    "                bounds=[0.3, 1.15, 0.4, 0.4])\n",
    "            n_models = 3\n",
    "            x_pos = np.arange(n_models)\n",
    "            colors = sns.color_palette()[:n_models]\n",
    "            inset_axes.bar(\n",
    "                x_pos, weights, align='center', alpha=0.5, color=colors,\n",
    "                edgecolor=colors)\n",
    "            inset_axes.set_xticks(x_pos)\n",
    "            inset_axes.set_xticklabels(['K', 'KP', 'KR'])\n",
    "            inset_axes.set_yticks([])\n",
    "            inset_axes.set_yticklabels([])\n",
    "            inset_axes.set_title('Weights')\n",
    "            inset_axes.set_ylim([0, 1.05])\n",
    "\n",
    "        # Highlight MS prediction\n",
    "        idx = 2 - np.argmax(weights)\n",
    "        axes[log_id, exp_id].collections[idx]._linewidths = np.array([2])\n",
    "        axes[log_id, exp_id].collections[idx]._original_edgecolor = np.array(\n",
    "            [[0., 0., 0., 1.]])\n",
    "\n",
    "        # Add MS label\n",
    "        if (log_id == 0) and (exp_id == 0):\n",
    "            # Add a line oustide visible range to add MS to legend\n",
    "            axes[0, 0].axvline(x=1E3, color='black', label='MS')\n",
    "\n",
    "        # Plot MAA prediction\n",
    "        maa_dose = maa_doses[exp_id]\n",
    "        axes[log_id, exp_id].axvline(x=maa_dose, color='darkred', label='MAA')\n",
    "\n",
    "# Label rows\n",
    "right_ax = axes[0, -1].twinx()\n",
    "right_ax.set_ylabel('1-log reduction', rotation=-90, labelpad=25)\n",
    "right_ax.set_yticks([])\n",
    "right_ax.set_yticklabels([])\n",
    "right_ax = axes[1, -1].twinx()\n",
    "right_ax.set_ylabel('6-log reduction', rotation=-90, labelpad=25)\n",
    "right_ax.set_yticks([])\n",
    "right_ax.set_yticklabels([])\n",
    "\n",
    "# Set legend\n",
    "axes[0, 0].legend(bbox_to_anchor=(4.95 ,1.4))\n",
    "\n",
    "directory = os.getcwd()\n",
    "plt.savefig(\n",
    "    directory + '/log_reduction_doses.pdf', bbox_inches='tight')\n",
    "plt.show()"
   ]
  },
  {
   "cell_type": "code",
   "execution_count": null,
   "metadata": {},
   "outputs": [],
   "source": []
  }
 ],
 "metadata": {
  "interpreter": {
   "hash": "24b325699a1984ff2f7645062c981faf79e6f4e9fb48396e6614460083f761af"
  },
  "kernelspec": {
   "display_name": "Python 3.7.5 64-bit ('venv')",
   "name": "pamvenv"
  },
  "language_info": {
   "codemirror_mode": {
    "name": "ipython",
    "version": 3
   },
   "file_extension": ".py",
   "mimetype": "text/x-python",
   "name": "python",
   "nbconvert_exporter": "python",
   "pygments_lexer": "ipython3",
   "version": "3.7.5"
  },
  "widgets": {
   "application/vnd.jupyter.widget-state+json": {
    "state": {},
    "version_major": 2,
    "version_minor": 0
   }
  }
 },
 "nbformat": 4,
 "nbformat_minor": 2
}