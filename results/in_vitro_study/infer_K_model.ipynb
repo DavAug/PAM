{
 "cells": [
  {
   "cell_type": "markdown",
   "metadata": {},
   "source": [
    "# Infer Maximum Likelihood Estimates of K model from *in vitro* dataset"
   ]
  },
  {
   "cell_type": "code",
   "execution_count": 1,
   "metadata": {},
   "outputs": [],
   "source": [
    "import os\n",
    "\n",
    "import chi\n",
    "import chi.plots\n",
    "import numpy as np\n",
    "import pandas as pd\n",
    "import pints\n",
    "import xarray as xr"
   ]
  },
  {
   "cell_type": "markdown",
   "metadata": {},
   "source": [
    "## Show data"
   ]
  },
  {
   "cell_type": "code",
   "execution_count": 2,
   "metadata": {},
   "outputs": [
    {
     "data": {
      "application/vnd.plotly.v1+json": {
       "config": {
        "plotlyServerURL": "https://plot.ly"
       },
       "data": [
        {
         "marker": {
          "color": "#636EFA",
          "line": {
           "color": "black",
           "width": 1
          },
          "opacity": 0.7,
          "symbol": "circle"
         },
         "mode": "markers",
         "name": "ID: 1",
         "showlegend": true,
         "type": "scatter",
         "x": [
          0,
          4,
          5,
          6,
          7,
          8,
          9,
          10
         ],
         "y": [
          200000,
          8000000,
          10000000,
          11000000,
          32000000,
          27000000,
          230000000,
          240000000
         ]
        },
        {
         "marker": {
          "color": "#EF553B",
          "line": {
           "color": "black",
           "width": 1
          },
          "opacity": 0.7,
          "symbol": "circle"
         },
         "mode": "markers",
         "name": "ID: 2",
         "showlegend": true,
         "type": "scatter",
         "x": [
          0,
          4,
          5,
          6,
          7,
          8,
          9,
          10
         ],
         "y": [
          200000,
          7000000,
          13000000,
          12000000,
          24000000,
          29000000,
          100000000,
          120000000
         ]
        },
        {
         "marker": {
          "color": "#00CC96",
          "line": {
           "color": "black",
           "width": 1
          },
          "opacity": 0.7,
          "symbol": "circle"
         },
         "mode": "markers",
         "name": "ID: 3",
         "showlegend": true,
         "type": "scatter",
         "x": [
          0,
          4,
          5,
          6,
          7,
          8,
          9,
          10
         ],
         "y": [
          200000,
          10000000,
          16000000,
          12000000,
          22000000,
          25000000,
          160000000,
          120000000
         ]
        },
        {
         "marker": {
          "color": "#AB63FA",
          "line": {
           "color": "black",
           "width": 1
          },
          "opacity": 0.7,
          "symbol": "circle"
         },
         "mode": "markers",
         "name": "ID: 4",
         "showlegend": true,
         "type": "scatter",
         "x": [
          0,
          4,
          5,
          6,
          7,
          8,
          9,
          10
         ],
         "y": [
          200000,
          10000000,
          12000000,
          10000000,
          22000000,
          19000000,
          160000000,
          70000000
         ]
        },
        {
         "marker": {
          "color": "#FFA15A",
          "line": {
           "color": "black",
           "width": 1
          },
          "opacity": 0.7,
          "symbol": "circle"
         },
         "mode": "markers",
         "name": "ID: 5",
         "showlegend": true,
         "type": "scatter",
         "x": [
          0,
          4,
          5,
          6,
          7,
          8,
          9,
          10
         ],
         "y": [
          200000,
          9000000,
          12000000,
          5000000,
          5000000,
          1200000,
          2300000,
          1600000
         ]
        },
        {
         "marker": {
          "color": "#19D3F3",
          "line": {
           "color": "black",
           "width": 1
          },
          "opacity": 0.7,
          "symbol": "circle"
         },
         "mode": "markers",
         "name": "ID: 6",
         "showlegend": true,
         "type": "scatter",
         "x": [
          0,
          4,
          5,
          6,
          7,
          8,
          9,
          10
         ],
         "y": [
          200000,
          5000000,
          1000000,
          300000,
          130000,
          60000,
          40000,
          4000
         ]
        },
        {
         "marker": {
          "color": "#FF6692",
          "line": {
           "color": "black",
           "width": 1
          },
          "opacity": 0.7,
          "symbol": "circle"
         },
         "mode": "markers",
         "name": "ID: 7",
         "showlegend": true,
         "type": "scatter",
         "x": [
          0,
          4,
          5,
          6,
          7,
          8,
          9,
          10
         ],
         "y": [
          200000,
          5000000,
          130000,
          30000,
          40000,
          8000,
          6000,
          2000
         ]
        },
        {
         "marker": {
          "color": "#B6E880",
          "line": {
           "color": "black",
           "width": 1
          },
          "opacity": 0.7,
          "symbol": "circle"
         },
         "mode": "markers",
         "name": "ID: 8",
         "showlegend": true,
         "type": "scatter",
         "x": [
          0,
          4,
          5,
          6,
          7,
          8,
          9,
          10
         ],
         "y": [
          200000,
          5000000,
          70000,
          40000,
          13000,
          6000,
          4000,
          1800
         ]
        },
        {
         "marker": {
          "color": "#FF97FF",
          "line": {
           "color": "black",
           "width": 1
          },
          "opacity": 0.7,
          "symbol": "circle"
         },
         "mode": "markers",
         "name": "ID: 9",
         "showlegend": true,
         "type": "scatter",
         "x": [
          0,
          4,
          5,
          6,
          7,
          8,
          9,
          10
         ],
         "y": [
          200000,
          4000000,
          60000,
          3000,
          6000,
          600,
          4000,
          900
         ]
        },
        {
         "marker": {
          "color": "#FECB52",
          "line": {
           "color": "black",
           "width": 1
          },
          "opacity": 0.7,
          "symbol": "circle"
         },
         "mode": "markers",
         "name": "ID: 10",
         "showlegend": true,
         "type": "scatter",
         "x": [
          0,
          4,
          5,
          6,
          7,
          8,
          9,
          10
         ],
         "y": [
          200000,
          300000,
          30000,
          4000,
          4000,
          900,
          900,
          700
         ]
        },
        {
         "marker": {
          "color": "#636EFA",
          "line": {
           "color": "black",
           "width": 1
          },
          "opacity": 0.7,
          "symbol": "circle"
         },
         "mode": "markers",
         "name": "ID: 11",
         "showlegend": true,
         "type": "scatter",
         "x": [
          0,
          4,
          5,
          6,
          7,
          8,
          9,
          10
         ],
         "y": [
          200000,
          1100000,
          30000,
          6000,
          5000,
          1600,
          1100,
          600
         ]
        },
        {
         "marker": {
          "color": "#EF553B",
          "line": {
           "color": "black",
           "width": 1
          },
          "opacity": 0.7,
          "symbol": "circle"
         },
         "mode": "markers",
         "name": "ID: 12",
         "showlegend": true,
         "type": "scatter",
         "x": [
          0,
          4,
          5,
          6,
          7,
          8,
          9,
          10
         ],
         "y": [
          200000,
          1100000,
          100000,
          5000,
          7000,
          1100,
          1000,
          600
         ]
        }
       ],
       "layout": {
        "autosize": true,
        "template": {
         "data": {
          "bar": [
           {
            "error_x": {
             "color": "#2a3f5f"
            },
            "error_y": {
             "color": "#2a3f5f"
            },
            "marker": {
             "line": {
              "color": "white",
              "width": 0.5
             },
             "pattern": {
              "fillmode": "overlay",
              "size": 10,
              "solidity": 0.2
             }
            },
            "type": "bar"
           }
          ],
          "barpolar": [
           {
            "marker": {
             "line": {
              "color": "white",
              "width": 0.5
             },
             "pattern": {
              "fillmode": "overlay",
              "size": 10,
              "solidity": 0.2
             }
            },
            "type": "barpolar"
           }
          ],
          "carpet": [
           {
            "aaxis": {
             "endlinecolor": "#2a3f5f",
             "gridcolor": "#C8D4E3",
             "linecolor": "#C8D4E3",
             "minorgridcolor": "#C8D4E3",
             "startlinecolor": "#2a3f5f"
            },
            "baxis": {
             "endlinecolor": "#2a3f5f",
             "gridcolor": "#C8D4E3",
             "linecolor": "#C8D4E3",
             "minorgridcolor": "#C8D4E3",
             "startlinecolor": "#2a3f5f"
            },
            "type": "carpet"
           }
          ],
          "choropleth": [
           {
            "colorbar": {
             "outlinewidth": 0,
             "ticks": ""
            },
            "type": "choropleth"
           }
          ],
          "contour": [
           {
            "colorbar": {
             "outlinewidth": 0,
             "ticks": ""
            },
            "colorscale": [
             [
              0,
              "#0d0887"
             ],
             [
              0.1111111111111111,
              "#46039f"
             ],
             [
              0.2222222222222222,
              "#7201a8"
             ],
             [
              0.3333333333333333,
              "#9c179e"
             ],
             [
              0.4444444444444444,
              "#bd3786"
             ],
             [
              0.5555555555555556,
              "#d8576b"
             ],
             [
              0.6666666666666666,
              "#ed7953"
             ],
             [
              0.7777777777777778,
              "#fb9f3a"
             ],
             [
              0.8888888888888888,
              "#fdca26"
             ],
             [
              1,
              "#f0f921"
             ]
            ],
            "type": "contour"
           }
          ],
          "contourcarpet": [
           {
            "colorbar": {
             "outlinewidth": 0,
             "ticks": ""
            },
            "type": "contourcarpet"
           }
          ],
          "heatmap": [
           {
            "colorbar": {
             "outlinewidth": 0,
             "ticks": ""
            },
            "colorscale": [
             [
              0,
              "#0d0887"
             ],
             [
              0.1111111111111111,
              "#46039f"
             ],
             [
              0.2222222222222222,
              "#7201a8"
             ],
             [
              0.3333333333333333,
              "#9c179e"
             ],
             [
              0.4444444444444444,
              "#bd3786"
             ],
             [
              0.5555555555555556,
              "#d8576b"
             ],
             [
              0.6666666666666666,
              "#ed7953"
             ],
             [
              0.7777777777777778,
              "#fb9f3a"
             ],
             [
              0.8888888888888888,
              "#fdca26"
             ],
             [
              1,
              "#f0f921"
             ]
            ],
            "type": "heatmap"
           }
          ],
          "heatmapgl": [
           {
            "colorbar": {
             "outlinewidth": 0,
             "ticks": ""
            },
            "colorscale": [
             [
              0,
              "#0d0887"
             ],
             [
              0.1111111111111111,
              "#46039f"
             ],
             [
              0.2222222222222222,
              "#7201a8"
             ],
             [
              0.3333333333333333,
              "#9c179e"
             ],
             [
              0.4444444444444444,
              "#bd3786"
             ],
             [
              0.5555555555555556,
              "#d8576b"
             ],
             [
              0.6666666666666666,
              "#ed7953"
             ],
             [
              0.7777777777777778,
              "#fb9f3a"
             ],
             [
              0.8888888888888888,
              "#fdca26"
             ],
             [
              1,
              "#f0f921"
             ]
            ],
            "type": "heatmapgl"
           }
          ],
          "histogram": [
           {
            "marker": {
             "pattern": {
              "fillmode": "overlay",
              "size": 10,
              "solidity": 0.2
             }
            },
            "type": "histogram"
           }
          ],
          "histogram2d": [
           {
            "colorbar": {
             "outlinewidth": 0,
             "ticks": ""
            },
            "colorscale": [
             [
              0,
              "#0d0887"
             ],
             [
              0.1111111111111111,
              "#46039f"
             ],
             [
              0.2222222222222222,
              "#7201a8"
             ],
             [
              0.3333333333333333,
              "#9c179e"
             ],
             [
              0.4444444444444444,
              "#bd3786"
             ],
             [
              0.5555555555555556,
              "#d8576b"
             ],
             [
              0.6666666666666666,
              "#ed7953"
             ],
             [
              0.7777777777777778,
              "#fb9f3a"
             ],
             [
              0.8888888888888888,
              "#fdca26"
             ],
             [
              1,
              "#f0f921"
             ]
            ],
            "type": "histogram2d"
           }
          ],
          "histogram2dcontour": [
           {
            "colorbar": {
             "outlinewidth": 0,
             "ticks": ""
            },
            "colorscale": [
             [
              0,
              "#0d0887"
             ],
             [
              0.1111111111111111,
              "#46039f"
             ],
             [
              0.2222222222222222,
              "#7201a8"
             ],
             [
              0.3333333333333333,
              "#9c179e"
             ],
             [
              0.4444444444444444,
              "#bd3786"
             ],
             [
              0.5555555555555556,
              "#d8576b"
             ],
             [
              0.6666666666666666,
              "#ed7953"
             ],
             [
              0.7777777777777778,
              "#fb9f3a"
             ],
             [
              0.8888888888888888,
              "#fdca26"
             ],
             [
              1,
              "#f0f921"
             ]
            ],
            "type": "histogram2dcontour"
           }
          ],
          "mesh3d": [
           {
            "colorbar": {
             "outlinewidth": 0,
             "ticks": ""
            },
            "type": "mesh3d"
           }
          ],
          "parcoords": [
           {
            "line": {
             "colorbar": {
              "outlinewidth": 0,
              "ticks": ""
             }
            },
            "type": "parcoords"
           }
          ],
          "pie": [
           {
            "automargin": true,
            "type": "pie"
           }
          ],
          "scatter": [
           {
            "marker": {
             "colorbar": {
              "outlinewidth": 0,
              "ticks": ""
             }
            },
            "type": "scatter"
           }
          ],
          "scatter3d": [
           {
            "line": {
             "colorbar": {
              "outlinewidth": 0,
              "ticks": ""
             }
            },
            "marker": {
             "colorbar": {
              "outlinewidth": 0,
              "ticks": ""
             }
            },
            "type": "scatter3d"
           }
          ],
          "scattercarpet": [
           {
            "marker": {
             "colorbar": {
              "outlinewidth": 0,
              "ticks": ""
             }
            },
            "type": "scattercarpet"
           }
          ],
          "scattergeo": [
           {
            "marker": {
             "colorbar": {
              "outlinewidth": 0,
              "ticks": ""
             }
            },
            "type": "scattergeo"
           }
          ],
          "scattergl": [
           {
            "marker": {
             "colorbar": {
              "outlinewidth": 0,
              "ticks": ""
             }
            },
            "type": "scattergl"
           }
          ],
          "scattermapbox": [
           {
            "marker": {
             "colorbar": {
              "outlinewidth": 0,
              "ticks": ""
             }
            },
            "type": "scattermapbox"
           }
          ],
          "scatterpolar": [
           {
            "marker": {
             "colorbar": {
              "outlinewidth": 0,
              "ticks": ""
             }
            },
            "type": "scatterpolar"
           }
          ],
          "scatterpolargl": [
           {
            "marker": {
             "colorbar": {
              "outlinewidth": 0,
              "ticks": ""
             }
            },
            "type": "scatterpolargl"
           }
          ],
          "scatterternary": [
           {
            "marker": {
             "colorbar": {
              "outlinewidth": 0,
              "ticks": ""
             }
            },
            "type": "scatterternary"
           }
          ],
          "surface": [
           {
            "colorbar": {
             "outlinewidth": 0,
             "ticks": ""
            },
            "colorscale": [
             [
              0,
              "#0d0887"
             ],
             [
              0.1111111111111111,
              "#46039f"
             ],
             [
              0.2222222222222222,
              "#7201a8"
             ],
             [
              0.3333333333333333,
              "#9c179e"
             ],
             [
              0.4444444444444444,
              "#bd3786"
             ],
             [
              0.5555555555555556,
              "#d8576b"
             ],
             [
              0.6666666666666666,
              "#ed7953"
             ],
             [
              0.7777777777777778,
              "#fb9f3a"
             ],
             [
              0.8888888888888888,
              "#fdca26"
             ],
             [
              1,
              "#f0f921"
             ]
            ],
            "type": "surface"
           }
          ],
          "table": [
           {
            "cells": {
             "fill": {
              "color": "#EBF0F8"
             },
             "line": {
              "color": "white"
             }
            },
            "header": {
             "fill": {
              "color": "#C8D4E3"
             },
             "line": {
              "color": "white"
             }
            },
            "type": "table"
           }
          ]
         },
         "layout": {
          "annotationdefaults": {
           "arrowcolor": "#2a3f5f",
           "arrowhead": 0,
           "arrowwidth": 1
          },
          "autotypenumbers": "strict",
          "coloraxis": {
           "colorbar": {
            "outlinewidth": 0,
            "ticks": ""
           }
          },
          "colorscale": {
           "diverging": [
            [
             0,
             "#8e0152"
            ],
            [
             0.1,
             "#c51b7d"
            ],
            [
             0.2,
             "#de77ae"
            ],
            [
             0.3,
             "#f1b6da"
            ],
            [
             0.4,
             "#fde0ef"
            ],
            [
             0.5,
             "#f7f7f7"
            ],
            [
             0.6,
             "#e6f5d0"
            ],
            [
             0.7,
             "#b8e186"
            ],
            [
             0.8,
             "#7fbc41"
            ],
            [
             0.9,
             "#4d9221"
            ],
            [
             1,
             "#276419"
            ]
           ],
           "sequential": [
            [
             0,
             "#0d0887"
            ],
            [
             0.1111111111111111,
             "#46039f"
            ],
            [
             0.2222222222222222,
             "#7201a8"
            ],
            [
             0.3333333333333333,
             "#9c179e"
            ],
            [
             0.4444444444444444,
             "#bd3786"
            ],
            [
             0.5555555555555556,
             "#d8576b"
            ],
            [
             0.6666666666666666,
             "#ed7953"
            ],
            [
             0.7777777777777778,
             "#fb9f3a"
            ],
            [
             0.8888888888888888,
             "#fdca26"
            ],
            [
             1,
             "#f0f921"
            ]
           ],
           "sequentialminus": [
            [
             0,
             "#0d0887"
            ],
            [
             0.1111111111111111,
             "#46039f"
            ],
            [
             0.2222222222222222,
             "#7201a8"
            ],
            [
             0.3333333333333333,
             "#9c179e"
            ],
            [
             0.4444444444444444,
             "#bd3786"
            ],
            [
             0.5555555555555556,
             "#d8576b"
            ],
            [
             0.6666666666666666,
             "#ed7953"
            ],
            [
             0.7777777777777778,
             "#fb9f3a"
            ],
            [
             0.8888888888888888,
             "#fdca26"
            ],
            [
             1,
             "#f0f921"
            ]
           ]
          },
          "colorway": [
           "#636efa",
           "#EF553B",
           "#00cc96",
           "#ab63fa",
           "#FFA15A",
           "#19d3f3",
           "#FF6692",
           "#B6E880",
           "#FF97FF",
           "#FECB52"
          ],
          "font": {
           "color": "#2a3f5f"
          },
          "geo": {
           "bgcolor": "white",
           "lakecolor": "white",
           "landcolor": "white",
           "showlakes": true,
           "showland": true,
           "subunitcolor": "#C8D4E3"
          },
          "hoverlabel": {
           "align": "left"
          },
          "hovermode": "closest",
          "mapbox": {
           "style": "light"
          },
          "paper_bgcolor": "white",
          "plot_bgcolor": "white",
          "polar": {
           "angularaxis": {
            "gridcolor": "#EBF0F8",
            "linecolor": "#EBF0F8",
            "ticks": ""
           },
           "bgcolor": "white",
           "radialaxis": {
            "gridcolor": "#EBF0F8",
            "linecolor": "#EBF0F8",
            "ticks": ""
           }
          },
          "scene": {
           "xaxis": {
            "backgroundcolor": "white",
            "gridcolor": "#DFE8F3",
            "gridwidth": 2,
            "linecolor": "#EBF0F8",
            "showbackground": true,
            "ticks": "",
            "zerolinecolor": "#EBF0F8"
           },
           "yaxis": {
            "backgroundcolor": "white",
            "gridcolor": "#DFE8F3",
            "gridwidth": 2,
            "linecolor": "#EBF0F8",
            "showbackground": true,
            "ticks": "",
            "zerolinecolor": "#EBF0F8"
           },
           "zaxis": {
            "backgroundcolor": "white",
            "gridcolor": "#DFE8F3",
            "gridwidth": 2,
            "linecolor": "#EBF0F8",
            "showbackground": true,
            "ticks": "",
            "zerolinecolor": "#EBF0F8"
           }
          },
          "shapedefaults": {
           "line": {
            "color": "#2a3f5f"
           }
          },
          "ternary": {
           "aaxis": {
            "gridcolor": "#DFE8F3",
            "linecolor": "#A2B1C6",
            "ticks": ""
           },
           "baxis": {
            "gridcolor": "#DFE8F3",
            "linecolor": "#A2B1C6",
            "ticks": ""
           },
           "bgcolor": "white",
           "caxis": {
            "gridcolor": "#DFE8F3",
            "linecolor": "#A2B1C6",
            "ticks": ""
           }
          },
          "title": {
           "x": 0.05
          },
          "xaxis": {
           "automargin": true,
           "gridcolor": "#EBF0F8",
           "linecolor": "#EBF0F8",
           "ticks": "",
           "title": {
            "standoff": 15
           },
           "zerolinecolor": "#EBF0F8",
           "zerolinewidth": 2
          },
          "yaxis": {
           "automargin": true,
           "gridcolor": "#EBF0F8",
           "linecolor": "#EBF0F8",
           "ticks": "",
           "title": {
            "standoff": 15
           },
           "zerolinecolor": "#EBF0F8",
           "zerolinewidth": 2
          }
         }
        },
        "updatemenus": [
         {
          "buttons": [
           {
            "args": [
             {
              "yaxis.type": "linear"
             }
            ],
            "label": "Linear y-scale",
            "method": "relayout"
           },
           {
            "args": [
             {
              "yaxis.type": "log"
             }
            ],
            "label": "Log y-scale",
            "method": "relayout"
           }
          ],
          "direction": "left",
          "pad": {
           "r": 0,
           "t": -10
          },
          "showactive": true,
          "type": "buttons",
          "x": 0,
          "xanchor": "left",
          "y": 1.15,
          "yanchor": "top"
         }
        ]
       }
      }
     },
     "metadata": {},
     "output_type": "display_data"
    }
   ],
   "source": [
    "# Import data\n",
    "directory = os.path.dirname(os.path.dirname(os.getcwd()))\n",
    "data = pd.read_csv(directory + '/data/who_m_ciprofloxacin.csv')\n",
    "\n",
    "# Create figure\n",
    "fig = chi.plots.PDTimeSeriesPlot()\n",
    "fig.add_data(data)\n",
    "fig.show()"
   ]
  },
  {
   "cell_type": "markdown",
   "metadata": {},
   "source": [
    "## Build model\n",
    "\n",
    "1. Defines the mechanistic model from the SBML file.\n",
    "2. Defines the error model.\n",
    "3. Pools parameters across bacterial populations\n",
    "4. Fixes unnecessery parameters"
   ]
  },
  {
   "cell_type": "code",
   "execution_count": 4,
   "metadata": {},
   "outputs": [],
   "source": [
    "# Define mechanistic model\n",
    "directory = os.path.dirname(os.path.dirname(os.getcwd()))\n",
    "mechanistic_model = chi.PharmacokineticModel(\n",
    "    directory + '/models/K_model.xml')\n",
    "mechanistic_model.set_administration(compartment='central')\n",
    "mechanistic_model.set_parameter_names(names={\n",
    "    'myokit.bacterial_count': 'Initial bacterial count in CFU/ml',\n",
    "    'myokit.concentration_e50': 'EC 50 in ng/ml',\n",
    "    'myokit.growth_rate': 'Growth rate in 1/h',\n",
    "    'myokit.kappa': 'Max. kill rate in 1/h'})\n",
    "mechanistic_model.set_outputs(['myokit.bacterial_count'])\n",
    "mechanistic_model.set_output_names({\n",
    "    'myokit.bacterial_count': 'Bacterial count in CFU/ml'})\n",
    "\n",
    "# Define error model\n",
    "error_model = chi.LogNormalErrorModel()  # Bacterial count\n",
    "\n",
    "# Define population model\n",
    "population_models = [\n",
    "    chi.PooledModel(),  # Initial bacterial count in CFU/ml\n",
    "    chi.PooledModel(),  # EC 50 in ng/ml\n",
    "    chi.PooledModel(),  # Growth rate in 1/h\n",
    "    chi.PooledModel(),  # Killing rate in 1/h\n",
    "    chi.PooledModel()]  # Sigma rel. Bacterial count\n",
    "\n",
    "# Compose model and fix unnecessary parameters\n",
    "problem = chi.ProblemModellingController(mechanistic_model, error_model)\n",
    "problem.fix_parameters({\n",
    "    'central.drug_amount': 0,\n",
    "    'central.size': 1,\n",
    "    'myokit.elimination_rate': 0,\n",
    "    'myokit.gamma': 1})\n",
    "problem.set_population_model(population_models)"
   ]
  },
  {
   "cell_type": "markdown",
   "metadata": {},
   "source": [
    "## Prior predictive check\n",
    "\n",
    "1. Bounds parameters to realistic orders of magnitudes\n",
    "2. Checks that parameters within these bounds can lead to feasible bacterial\n",
    "    count predictions."
   ]
  },
  {
   "cell_type": "code",
   "execution_count": 5,
   "metadata": {},
   "outputs": [
    {
     "data": {
      "application/vnd.plotly.v1+json": {
       "config": {
        "plotlyServerURL": "https://plot.ly"
       },
       "data": [
        {
         "fill": "toself",
         "hoverinfo": "text",
         "legendgroup": "Model prediction",
         "line": {
          "color": "rgb(198,219,239)",
          "width": 1
         },
         "name": "Predictive model",
         "showlegend": false,
         "text": "0.9 Bulk",
         "type": "scatter",
         "x": [
          0,
          0.05025125628140704,
          0.10050251256281408,
          0.15075376884422112,
          0.20100502512562815,
          0.2512562814070352,
          0.30150753768844224,
          0.35175879396984927,
          0.4020100502512563,
          0.45226130653266333,
          0.5025125628140704,
          0.5527638190954774,
          0.6030150753768845,
          0.6532663316582915,
          0.7035175879396985,
          0.7537688442211056,
          0.8040201005025126,
          0.8542713567839196,
          0.9045226130653267,
          0.9547738693467337,
          1.0050251256281408,
          1.0552763819095479,
          1.105527638190955,
          1.155778894472362,
          1.206030150753769,
          1.256281407035176,
          1.306532663316583,
          1.35678391959799,
          1.407035175879397,
          1.4572864321608041,
          1.5075376884422111,
          1.5577889447236182,
          1.6080402010050252,
          1.6582914572864322,
          1.7085427135678393,
          1.7587939698492463,
          1.8090452261306533,
          1.8592964824120604,
          1.9095477386934674,
          1.9597989949748744,
          2.0100502512562817,
          2.0603015075376887,
          2.1105527638190957,
          2.1608040201005028,
          2.21105527638191,
          2.261306532663317,
          2.311557788944724,
          2.361809045226131,
          2.412060301507538,
          2.462311557788945,
          2.512562814070352,
          2.562814070351759,
          2.613065326633166,
          2.663316582914573,
          2.71356783919598,
          2.763819095477387,
          2.814070351758794,
          2.864321608040201,
          2.9145728643216082,
          2.9648241206030153,
          3.0150753768844223,
          3.0653266331658293,
          3.1155778894472363,
          3.1658291457286434,
          3.2160804020100504,
          3.2663316582914574,
          3.3165829145728645,
          3.3668341708542715,
          3.4170854271356785,
          3.4673366834170856,
          3.5175879396984926,
          3.5678391959798996,
          3.6180904522613067,
          3.6683417085427137,
          3.7185929648241207,
          3.7688442211055277,
          3.819095477386935,
          3.869346733668342,
          3.919597989949749,
          3.969849246231156,
          4.020100502512563,
          4.07035175879397,
          4.120603015075377,
          4.170854271356784,
          4.2211055276381915,
          4.2713567839195985,
          4.3216080402010055,
          4.371859296482413,
          4.42211055276382,
          4.472361809045227,
          4.522613065326634,
          4.572864321608041,
          4.623115577889448,
          4.673366834170855,
          4.723618090452262,
          4.773869346733669,
          4.824120603015076,
          4.874371859296483,
          4.92462311557789,
          4.974874371859297,
          5.025125628140704,
          5.075376884422111,
          5.125628140703518,
          5.175879396984925,
          5.226130653266332,
          5.276381909547739,
          5.326633165829146,
          5.376884422110553,
          5.42713567839196,
          5.477386934673367,
          5.527638190954774,
          5.577889447236181,
          5.628140703517588,
          5.678391959798995,
          5.728643216080402,
          5.778894472361809,
          5.8291457286432165,
          5.8793969849246235,
          5.9296482412060305,
          5.9798994974874375,
          6.030150753768845,
          6.080402010050252,
          6.130653266331659,
          6.180904522613066,
          6.231155778894473,
          6.28140703517588,
          6.331658291457287,
          6.381909547738694,
          6.432160804020101,
          6.482412060301508,
          6.532663316582915,
          6.582914572864322,
          6.633165829145729,
          6.683417085427136,
          6.733668341708543,
          6.78391959798995,
          6.834170854271357,
          6.884422110552764,
          6.934673366834171,
          6.984924623115578,
          7.035175879396985,
          7.085427135678392,
          7.135678391959799,
          7.185929648241206,
          7.236180904522613,
          7.28643216080402,
          7.336683417085427,
          7.386934673366834,
          7.437185929648241,
          7.4874371859296485,
          7.5376884422110555,
          7.5879396984924625,
          7.63819095477387,
          7.688442211055277,
          7.738693467336684,
          7.788944723618091,
          7.839195979899498,
          7.889447236180905,
          7.939698492462312,
          7.989949748743719,
          8.040201005025127,
          8.090452261306533,
          8.14070351758794,
          8.190954773869347,
          8.241206030150755,
          8.291457286432161,
          8.341708542713569,
          8.391959798994975,
          8.442211055276383,
          8.492462311557789,
          8.542713567839197,
          8.592964824120603,
          8.643216080402011,
          8.693467336683417,
          8.743718592964825,
          8.793969849246231,
          8.84422110552764,
          8.894472361809045,
          8.944723618090453,
          8.99497487437186,
          9.045226130653267,
          9.095477386934673,
          9.145728643216081,
          9.195979899497488,
          9.246231155778895,
          9.296482412060302,
          9.34673366834171,
          9.396984924623116,
          9.447236180904524,
          9.49748743718593,
          9.547738693467338,
          9.597989949748744,
          9.648241206030152,
          9.698492462311558,
          9.748743718592966,
          9.798994974874372,
          9.84924623115578,
          9.899497487437186,
          9.949748743718594,
          10,
          10,
          9.949748743718594,
          9.899497487437186,
          9.84924623115578,
          9.798994974874372,
          9.748743718592966,
          9.698492462311558,
          9.648241206030152,
          9.597989949748744,
          9.547738693467338,
          9.49748743718593,
          9.447236180904524,
          9.396984924623116,
          9.34673366834171,
          9.296482412060302,
          9.246231155778895,
          9.195979899497488,
          9.145728643216081,
          9.095477386934673,
          9.045226130653267,
          8.99497487437186,
          8.944723618090453,
          8.894472361809045,
          8.84422110552764,
          8.793969849246231,
          8.743718592964825,
          8.693467336683417,
          8.643216080402011,
          8.592964824120603,
          8.542713567839197,
          8.492462311557789,
          8.442211055276383,
          8.391959798994975,
          8.341708542713569,
          8.291457286432161,
          8.241206030150755,
          8.190954773869347,
          8.14070351758794,
          8.090452261306533,
          8.040201005025127,
          7.989949748743719,
          7.939698492462312,
          7.889447236180905,
          7.839195979899498,
          7.788944723618091,
          7.738693467336684,
          7.688442211055277,
          7.63819095477387,
          7.5879396984924625,
          7.5376884422110555,
          7.4874371859296485,
          7.437185929648241,
          7.386934673366834,
          7.336683417085427,
          7.28643216080402,
          7.236180904522613,
          7.185929648241206,
          7.135678391959799,
          7.085427135678392,
          7.035175879396985,
          6.984924623115578,
          6.934673366834171,
          6.884422110552764,
          6.834170854271357,
          6.78391959798995,
          6.733668341708543,
          6.683417085427136,
          6.633165829145729,
          6.582914572864322,
          6.532663316582915,
          6.482412060301508,
          6.432160804020101,
          6.381909547738694,
          6.331658291457287,
          6.28140703517588,
          6.231155778894473,
          6.180904522613066,
          6.130653266331659,
          6.080402010050252,
          6.030150753768845,
          5.9798994974874375,
          5.9296482412060305,
          5.8793969849246235,
          5.8291457286432165,
          5.778894472361809,
          5.728643216080402,
          5.678391959798995,
          5.628140703517588,
          5.577889447236181,
          5.527638190954774,
          5.477386934673367,
          5.42713567839196,
          5.376884422110553,
          5.326633165829146,
          5.276381909547739,
          5.226130653266332,
          5.175879396984925,
          5.125628140703518,
          5.075376884422111,
          5.025125628140704,
          4.974874371859297,
          4.92462311557789,
          4.874371859296483,
          4.824120603015076,
          4.773869346733669,
          4.723618090452262,
          4.673366834170855,
          4.623115577889448,
          4.572864321608041,
          4.522613065326634,
          4.472361809045227,
          4.42211055276382,
          4.371859296482413,
          4.3216080402010055,
          4.2713567839195985,
          4.2211055276381915,
          4.170854271356784,
          4.120603015075377,
          4.07035175879397,
          4.020100502512563,
          3.969849246231156,
          3.919597989949749,
          3.869346733668342,
          3.819095477386935,
          3.7688442211055277,
          3.7185929648241207,
          3.6683417085427137,
          3.6180904522613067,
          3.5678391959798996,
          3.5175879396984926,
          3.4673366834170856,
          3.4170854271356785,
          3.3668341708542715,
          3.3165829145728645,
          3.2663316582914574,
          3.2160804020100504,
          3.1658291457286434,
          3.1155778894472363,
          3.0653266331658293,
          3.0150753768844223,
          2.9648241206030153,
          2.9145728643216082,
          2.864321608040201,
          2.814070351758794,
          2.763819095477387,
          2.71356783919598,
          2.663316582914573,
          2.613065326633166,
          2.562814070351759,
          2.512562814070352,
          2.462311557788945,
          2.412060301507538,
          2.361809045226131,
          2.311557788944724,
          2.261306532663317,
          2.21105527638191,
          2.1608040201005028,
          2.1105527638190957,
          2.0603015075376887,
          2.0100502512562817,
          1.9597989949748744,
          1.9095477386934674,
          1.8592964824120604,
          1.8090452261306533,
          1.7587939698492463,
          1.7085427135678393,
          1.6582914572864322,
          1.6080402010050252,
          1.5577889447236182,
          1.5075376884422111,
          1.4572864321608041,
          1.407035175879397,
          1.35678391959799,
          1.306532663316583,
          1.256281407035176,
          1.206030150753769,
          1.155778894472362,
          1.105527638190955,
          1.0552763819095479,
          1.0050251256281408,
          0.9547738693467337,
          0.9045226130653267,
          0.8542713567839196,
          0.8040201005025126,
          0.7537688442211056,
          0.7035175879396985,
          0.6532663316582915,
          0.6030150753768845,
          0.5527638190954774,
          0.5025125628140704,
          0.45226130653266333,
          0.4020100502512563,
          0.35175879396984927,
          0.30150753768844224,
          0.2512562814070352,
          0.20100502512562815,
          0.15075376884422112,
          0.10050251256281408,
          0.05025125628140704,
          0
         ],
         "y": [
          1246533.1628922147,
          1781963.4637931443,
          2123984.6374294832,
          1722596.6134147223,
          4049877.1132621374,
          3017258.7850865945,
          3794500.459451097,
          3658711.3184772492,
          4999639.140992663,
          6873295.044988145,
          11876893.726049682,
          10646799.806849333,
          16610697.732898073,
          20742305.435576987,
          20237045.034166157,
          21149629.841593437,
          55745785.100305796,
          48925830.13148548,
          56112208.38506525,
          67542535.4410728,
          80327488.7875286,
          98482302.24147297,
          167942737.34226438,
          160799233.92217675,
          138566872.43893537,
          232796410.1717338,
          263371554.77324346,
          290160160.3680458,
          460671743.1997533,
          393350848.6479437,
          496652197.0628757,
          683145150.2191104,
          759477720.5702475,
          1017811442.9331498,
          1517597714.8652012,
          1871116528.9513226,
          2748161134.7452745,
          2715144271.4175544,
          2737122401.1322875,
          4005608878.1769514,
          6756661222.985489,
          6820632742.529547,
          7853449657.312803,
          10890361925.27681,
          12688856465.88568,
          14756693780.108917,
          24694361096.453136,
          23479521110.005524,
          83342597207.82506,
          40907608249.19605,
          35744349669.35671,
          91922041968.56587,
          89559566823.17172,
          111126478186.99419,
          179192413557.9353,
          137448768561.7328,
          446413282546.3268,
          678544567060.9991,
          310011189683.7843,
          423682304546.0153,
          582041845341.7021,
          969986745121.3544,
          848500825286.2291,
          1070220961043.818,
          1956372755135.5066,
          2048321391305.939,
          2271231063891.841,
          1467087297817.262,
          2539187137824.562,
          5654206718940.95,
          6633098831397.699,
          4749959019265.566,
          8762257763619.087,
          11786276781911.955,
          7134376582242.409,
          11150866042869.254,
          24132956406293.355,
          17392024111920.25,
          23070839553357.26,
          56403976670761.445,
          70114191553606.96,
          61890620766919.96,
          48835691355380.24,
          115085894261018.89,
          117865878219378.52,
          116530113075029.97,
          110828376440904.62,
          169931052216221.12,
          256670189202970.7,
          121872935452596.83,
          267232997755209.53,
          478013189888026.44,
          372596270780938.1,
          256531594477174.12,
          417849946342183.9,
          527988440778795,
          383590414914770.25,
          695358088680220.4,
          769409093142118.2,
          642626003156676.5,
          1236342508392982.2,
          1393708540206776.2,
          963574724019963.4,
          1631212983302401.8,
          3361244170807147,
          1489988030391089.5,
          3160962866558182,
          1962331451348673,
          4723005172711177,
          4335526281241221.5,
          3726104213157503.5,
          4466898056446170.5,
          6987365152618544,
          9169485399757370,
          12692583907717788,
          8799534055149437,
          6626033252090362,
          15919718864958130,
          17746039520482188,
          21043010545584920,
          36232020432890140,
          43971709772889270,
          30827277107412444,
          37499907818154440,
          80662510197147740,
          87762078661314510,
          49559504853853400,
          68762779471685710,
          32838028633414440,
          102273282830214380,
          279449465644885300,
          116277566562690380,
          155463785384421340,
          331933279603674240,
          77550101489756060,
          277922859561512350,
          728328516333278800,
          356559670856157300,
          593853196059007500,
          728723429395959900,
          2258947158214367200,
          436210818390450700,
          518605207238083100,
          347512947811115500,
          1162124740484865800,
          1250972636478575900,
          2532252007787392000,
          1791818490478253600,
          3483560254315155000,
          3975266751528148500,
          2488380075836758500,
          5009681665408335000,
          6373562990841659000,
          5621986667556514000,
          8724470782866397000,
          5619303924993694000,
          8645288001648398000,
          14289707440965882000,
          22093400776667180000,
          12517337314316830000,
          47185895708974330000,
          28348749415609766000,
          42154305206839370000,
          32273653388253290000,
          38725015259624880000,
          52026291906510725000,
          58953189909809540000,
          89238328846245480000,
          97552748991866720000,
          81913766053313560000,
          193757448260209930000,
          198920673517032440000,
          66235979482196230000,
          156121594571682780000,
          219741641718830200000,
          208286440524133340000,
          294262228182903130000,
          259582613115326600000,
          717938588308879600000,
          583691838744112000000,
          516599571176401140000,
          918731724704638200000,
          1.4521898990784678e+21,
          2.7365608135397936e+21,
          1.3078039476319326e+21,
          2.0545361853558882e+21,
          2.2416644748074956e+21,
          2.308179288698154e+21,
          2.54040352145569e+21,
          3.1488381546803505e+21,
          2.715814825986436e+21,
          4.97319551679888e+21,
          4.918651137315709e+21,
          7.930697355032965e+21,
          9.421705414072545e+21,
          4.2721271302476545e+21,
          2.0726486347897503e+22,
          8.468505984392428e+21,
          1.8905299796380598e+22,
          1.6597079477120819e+22,
          0.013694479861186465,
          0.22333544267210514,
          0.10439547013570687,
          0.010861806029384453,
          0.2367520731110195,
          0.1283026849836665,
          0.21469679221952884,
          0.24204651884487477,
          0.11914205869626053,
          0.4385399277879839,
          0.32768695907405193,
          0.5876045921105764,
          0.09261965385748894,
          0.05480956746566464,
          0.11506905128613892,
          0.24138837845418382,
          0.4921686098377798,
          0.2048008739713297,
          0.17020007721945712,
          1.3581144907089087,
          2.937597833754236,
          4.130219207368751,
          0.9108344193699741,
          1.046097369977769,
          2.5065487961811077,
          0.30023366295464204,
          1.4618747634168894,
          8.584331919012179,
          11.211560707476036,
          4.5534774435061145,
          3.5023983654745803,
          5.966197324789451,
          4.208005204162719,
          8.796534369549601,
          5.694766545925816,
          11.808297697514247,
          4.373169407187302,
          18.318232151546592,
          3.284104345194255,
          0.3212070898789715,
          8.151974561454193,
          29.951957895466723,
          26.146860332623877,
          38.06928479900137,
          43.73483558840477,
          81.48504968471359,
          5.359462887080709,
          45.20724487364877,
          7.579606224976641,
          40.07098022799221,
          27.903809665608527,
          123.03819920634011,
          13.917772697293492,
          44.819494071641266,
          57.52218373134843,
          201.92707591925856,
          19.916653218917627,
          90.17316316985116,
          346.4319024699566,
          164.31633748730624,
          146.7059454064782,
          56.75172183551439,
          133.9455871805887,
          470.1288453898895,
          461.72110293765496,
          530.2334181989131,
          179.28153841145294,
          392.201477640734,
          185.97122257580943,
          140.56309423680972,
          704.6578089893015,
          252.791527067861,
          994.3823426442453,
          237.0729810082491,
          415.1049996166299,
          292.23206102449853,
          1139.0418495971244,
          1775.5780096571991,
          599.545360869198,
          1602.7652881861402,
          2119.902613471601,
          226.38306613311448,
          680.7789189754145,
          116.3721859293952,
          4288.408255647373,
          886.1721461404023,
          9248.700338778342,
          1904.2371791704334,
          4654.861160931735,
          6043.7024383969965,
          4244.018201135668,
          734.1944023226366,
          2759.651458013154,
          4216.3589162112485,
          8326.545454049818,
          3603.8913457966946,
          10664.129763707675,
          8656.062983045103,
          29967.848716783734,
          1400.1851498196008,
          29089.93545644461,
          3468.7942648435615,
          3895.110202480607,
          4085.811572172778,
          25068.090065487686,
          1547.2684980417007,
          12337.404920012432,
          15130.266323602333,
          43141.5509261397,
          9977.888911993066,
          44247.917408558016,
          19803.200570707602,
          29302.11990211087,
          38875.5304661484,
          15214.7196648288,
          16414.596825952605,
          28312.439713121854,
          22369.05488450712,
          33712.4887327916,
          39416.97140515307,
          13791.4531037316,
          27055.365406981437,
          157276.01584117088,
          15210.098228652627,
          12202.67795610383,
          10770.701633857105,
          9978.290406986673,
          16160.455326350708,
          9538.344038377962,
          4291.7476405651505,
          23200.4274957228,
          9138.530835647452,
          7372.395727253749,
          32081.680095320313,
          2565.9774343694476,
          5831.721932135336,
          4539.391413861557,
          30212.03236003885,
          17339.060776640985,
          6367.452284968091,
          14182.301078218014,
          11442.689228052795,
          13026.925661769634,
          7594.818461210908,
          29200.471175402723,
          8539.844290687308,
          5987.864608301147,
          11098.84499911178,
          7094.004926992284,
          13978.434707581799,
          21158.70809050935,
          41175.99557082003,
          8283.165062781134,
          20505.721062229557,
          5013.293214644519,
          22447.713067408156,
          12464.821392258651,
          4936.504065923128,
          19788.86808798871,
          3202.8792705335068,
          12125.539235754704,
          7621.859956356714,
          4020.1299095574145,
          3733.2715271596353,
          8846.89750162421,
          2167.0325443410534,
          3721.93286784989,
          1010.6031882140223,
          5199.627814956868,
          2806.500728788462,
          3855.646911308344,
          1482.6799679080054,
          1810.657522631811,
          925.2376861631126,
          2999.989284717087,
          2539.95832455741,
          2802.642218822325,
          698.8220187044375,
          1824.5333987440533,
          2209.4291883271335,
          353.8251009506879,
          3957.823045872725,
          799.6419132002887,
          874.3040741227421,
          3418.8643986207203,
          734.6794890417294,
          210.42270041167444,
          485.17082708545985,
          395.79705993023106,
          1213.8046961220891,
          519.358344017522,
          387.96284235087586,
          594.3884276017652,
          457.71543111212736,
          616.4151608870068,
          482.22965605955636,
          97.19468246126938,
          240.63293258380642,
          129.032144493971,
          103.60812327854721
         ]
        },
        {
         "fill": "toself",
         "hoverinfo": "text",
         "legendgroup": "Model prediction",
         "line": {
          "color": "rgb(158,202,225)",
          "width": 1
         },
         "name": "Predictive model",
         "showlegend": false,
         "text": "0.6 Bulk",
         "type": "scatter",
         "x": [
          0,
          0.05025125628140704,
          0.10050251256281408,
          0.15075376884422112,
          0.20100502512562815,
          0.2512562814070352,
          0.30150753768844224,
          0.35175879396984927,
          0.4020100502512563,
          0.45226130653266333,
          0.5025125628140704,
          0.5527638190954774,
          0.6030150753768845,
          0.6532663316582915,
          0.7035175879396985,
          0.7537688442211056,
          0.8040201005025126,
          0.8542713567839196,
          0.9045226130653267,
          0.9547738693467337,
          1.0050251256281408,
          1.0552763819095479,
          1.105527638190955,
          1.155778894472362,
          1.206030150753769,
          1.256281407035176,
          1.306532663316583,
          1.35678391959799,
          1.407035175879397,
          1.4572864321608041,
          1.5075376884422111,
          1.5577889447236182,
          1.6080402010050252,
          1.6582914572864322,
          1.7085427135678393,
          1.7587939698492463,
          1.8090452261306533,
          1.8592964824120604,
          1.9095477386934674,
          1.9597989949748744,
          2.0100502512562817,
          2.0603015075376887,
          2.1105527638190957,
          2.1608040201005028,
          2.21105527638191,
          2.261306532663317,
          2.311557788944724,
          2.361809045226131,
          2.412060301507538,
          2.462311557788945,
          2.512562814070352,
          2.562814070351759,
          2.613065326633166,
          2.663316582914573,
          2.71356783919598,
          2.763819095477387,
          2.814070351758794,
          2.864321608040201,
          2.9145728643216082,
          2.9648241206030153,
          3.0150753768844223,
          3.0653266331658293,
          3.1155778894472363,
          3.1658291457286434,
          3.2160804020100504,
          3.2663316582914574,
          3.3165829145728645,
          3.3668341708542715,
          3.4170854271356785,
          3.4673366834170856,
          3.5175879396984926,
          3.5678391959798996,
          3.6180904522613067,
          3.6683417085427137,
          3.7185929648241207,
          3.7688442211055277,
          3.819095477386935,
          3.869346733668342,
          3.919597989949749,
          3.969849246231156,
          4.020100502512563,
          4.07035175879397,
          4.120603015075377,
          4.170854271356784,
          4.2211055276381915,
          4.2713567839195985,
          4.3216080402010055,
          4.371859296482413,
          4.42211055276382,
          4.472361809045227,
          4.522613065326634,
          4.572864321608041,
          4.623115577889448,
          4.673366834170855,
          4.723618090452262,
          4.773869346733669,
          4.824120603015076,
          4.874371859296483,
          4.92462311557789,
          4.974874371859297,
          5.025125628140704,
          5.075376884422111,
          5.125628140703518,
          5.175879396984925,
          5.226130653266332,
          5.276381909547739,
          5.326633165829146,
          5.376884422110553,
          5.42713567839196,
          5.477386934673367,
          5.527638190954774,
          5.577889447236181,
          5.628140703517588,
          5.678391959798995,
          5.728643216080402,
          5.778894472361809,
          5.8291457286432165,
          5.8793969849246235,
          5.9296482412060305,
          5.9798994974874375,
          6.030150753768845,
          6.080402010050252,
          6.130653266331659,
          6.180904522613066,
          6.231155778894473,
          6.28140703517588,
          6.331658291457287,
          6.381909547738694,
          6.432160804020101,
          6.482412060301508,
          6.532663316582915,
          6.582914572864322,
          6.633165829145729,
          6.683417085427136,
          6.733668341708543,
          6.78391959798995,
          6.834170854271357,
          6.884422110552764,
          6.934673366834171,
          6.984924623115578,
          7.035175879396985,
          7.085427135678392,
          7.135678391959799,
          7.185929648241206,
          7.236180904522613,
          7.28643216080402,
          7.336683417085427,
          7.386934673366834,
          7.437185929648241,
          7.4874371859296485,
          7.5376884422110555,
          7.5879396984924625,
          7.63819095477387,
          7.688442211055277,
          7.738693467336684,
          7.788944723618091,
          7.839195979899498,
          7.889447236180905,
          7.939698492462312,
          7.989949748743719,
          8.040201005025127,
          8.090452261306533,
          8.14070351758794,
          8.190954773869347,
          8.241206030150755,
          8.291457286432161,
          8.341708542713569,
          8.391959798994975,
          8.442211055276383,
          8.492462311557789,
          8.542713567839197,
          8.592964824120603,
          8.643216080402011,
          8.693467336683417,
          8.743718592964825,
          8.793969849246231,
          8.84422110552764,
          8.894472361809045,
          8.944723618090453,
          8.99497487437186,
          9.045226130653267,
          9.095477386934673,
          9.145728643216081,
          9.195979899497488,
          9.246231155778895,
          9.296482412060302,
          9.34673366834171,
          9.396984924623116,
          9.447236180904524,
          9.49748743718593,
          9.547738693467338,
          9.597989949748744,
          9.648241206030152,
          9.698492462311558,
          9.748743718592966,
          9.798994974874372,
          9.84924623115578,
          9.899497487437186,
          9.949748743718594,
          10,
          10,
          9.949748743718594,
          9.899497487437186,
          9.84924623115578,
          9.798994974874372,
          9.748743718592966,
          9.698492462311558,
          9.648241206030152,
          9.597989949748744,
          9.547738693467338,
          9.49748743718593,
          9.447236180904524,
          9.396984924623116,
          9.34673366834171,
          9.296482412060302,
          9.246231155778895,
          9.195979899497488,
          9.145728643216081,
          9.095477386934673,
          9.045226130653267,
          8.99497487437186,
          8.944723618090453,
          8.894472361809045,
          8.84422110552764,
          8.793969849246231,
          8.743718592964825,
          8.693467336683417,
          8.643216080402011,
          8.592964824120603,
          8.542713567839197,
          8.492462311557789,
          8.442211055276383,
          8.391959798994975,
          8.341708542713569,
          8.291457286432161,
          8.241206030150755,
          8.190954773869347,
          8.14070351758794,
          8.090452261306533,
          8.040201005025127,
          7.989949748743719,
          7.939698492462312,
          7.889447236180905,
          7.839195979899498,
          7.788944723618091,
          7.738693467336684,
          7.688442211055277,
          7.63819095477387,
          7.5879396984924625,
          7.5376884422110555,
          7.4874371859296485,
          7.437185929648241,
          7.386934673366834,
          7.336683417085427,
          7.28643216080402,
          7.236180904522613,
          7.185929648241206,
          7.135678391959799,
          7.085427135678392,
          7.035175879396985,
          6.984924623115578,
          6.934673366834171,
          6.884422110552764,
          6.834170854271357,
          6.78391959798995,
          6.733668341708543,
          6.683417085427136,
          6.633165829145729,
          6.582914572864322,
          6.532663316582915,
          6.482412060301508,
          6.432160804020101,
          6.381909547738694,
          6.331658291457287,
          6.28140703517588,
          6.231155778894473,
          6.180904522613066,
          6.130653266331659,
          6.080402010050252,
          6.030150753768845,
          5.9798994974874375,
          5.9296482412060305,
          5.8793969849246235,
          5.8291457286432165,
          5.778894472361809,
          5.728643216080402,
          5.678391959798995,
          5.628140703517588,
          5.577889447236181,
          5.527638190954774,
          5.477386934673367,
          5.42713567839196,
          5.376884422110553,
          5.326633165829146,
          5.276381909547739,
          5.226130653266332,
          5.175879396984925,
          5.125628140703518,
          5.075376884422111,
          5.025125628140704,
          4.974874371859297,
          4.92462311557789,
          4.874371859296483,
          4.824120603015076,
          4.773869346733669,
          4.723618090452262,
          4.673366834170855,
          4.623115577889448,
          4.572864321608041,
          4.522613065326634,
          4.472361809045227,
          4.42211055276382,
          4.371859296482413,
          4.3216080402010055,
          4.2713567839195985,
          4.2211055276381915,
          4.170854271356784,
          4.120603015075377,
          4.07035175879397,
          4.020100502512563,
          3.969849246231156,
          3.919597989949749,
          3.869346733668342,
          3.819095477386935,
          3.7688442211055277,
          3.7185929648241207,
          3.6683417085427137,
          3.6180904522613067,
          3.5678391959798996,
          3.5175879396984926,
          3.4673366834170856,
          3.4170854271356785,
          3.3668341708542715,
          3.3165829145728645,
          3.2663316582914574,
          3.2160804020100504,
          3.1658291457286434,
          3.1155778894472363,
          3.0653266331658293,
          3.0150753768844223,
          2.9648241206030153,
          2.9145728643216082,
          2.864321608040201,
          2.814070351758794,
          2.763819095477387,
          2.71356783919598,
          2.663316582914573,
          2.613065326633166,
          2.562814070351759,
          2.512562814070352,
          2.462311557788945,
          2.412060301507538,
          2.361809045226131,
          2.311557788944724,
          2.261306532663317,
          2.21105527638191,
          2.1608040201005028,
          2.1105527638190957,
          2.0603015075376887,
          2.0100502512562817,
          1.9597989949748744,
          1.9095477386934674,
          1.8592964824120604,
          1.8090452261306533,
          1.7587939698492463,
          1.7085427135678393,
          1.6582914572864322,
          1.6080402010050252,
          1.5577889447236182,
          1.5075376884422111,
          1.4572864321608041,
          1.407035175879397,
          1.35678391959799,
          1.306532663316583,
          1.256281407035176,
          1.206030150753769,
          1.155778894472362,
          1.105527638190955,
          1.0552763819095479,
          1.0050251256281408,
          0.9547738693467337,
          0.9045226130653267,
          0.8542713567839196,
          0.8040201005025126,
          0.7537688442211056,
          0.7035175879396985,
          0.6532663316582915,
          0.6030150753768845,
          0.5527638190954774,
          0.5025125628140704,
          0.45226130653266333,
          0.4020100502512563,
          0.35175879396984927,
          0.30150753768844224,
          0.2512562814070352,
          0.20100502512562815,
          0.15075376884422112,
          0.10050251256281408,
          0.05025125628140704,
          0
         ],
         "y": [
          544218.678713238,
          819628.7992313151,
          905068.8290785635,
          862305.5261941686,
          1190772.4666978864,
          1564147.3130975715,
          1511568.8125184379,
          1915277.1054530898,
          2411672.21197865,
          2645240.2756408583,
          3298064.2628730154,
          4102213.3560185214,
          5509319.484265122,
          4939014.502584931,
          7223006.228761944,
          6578799.124642823,
          10106930.632639922,
          8121847.006479309,
          17383553.181793734,
          17340889.84977079,
          32208570.2939683,
          31516605.53576929,
          42498245.243201174,
          54428464.18072139,
          37686194.20919478,
          76619527.02145614,
          73212137.45498262,
          67366314.74069114,
          77160429.24013285,
          71545486.39145976,
          94598505.49113269,
          146857865.70841327,
          102975286.42677939,
          240308934.00781572,
          214504606.82534605,
          330368219.36886144,
          1032743406.8894808,
          876430932.2858262,
          344461466.00392944,
          653824957.5705658,
          954352006.3753006,
          722903414.2163277,
          1376542114.244773,
          1028982933.545455,
          1820810810.0436726,
          2399838428.0908475,
          2799845159.6485963,
          3978074554.1096187,
          5881592904.424301,
          7262459842.983776,
          6443288297.027555,
          8652884028.50358,
          9346688187.444643,
          19124962992.531677,
          14278613328.782644,
          23315774846.37092,
          34394565444.38617,
          44735826287.38505,
          54893230379.047676,
          43556439836.50131,
          49996121858.38306,
          98833557835.15508,
          44367960008.11364,
          122178052741.41766,
          181014204642.53464,
          104887968737.60583,
          82863981248.11386,
          163769792383.63626,
          228252185002.90338,
          449116744893.31177,
          606611548680.8918,
          379488493546.3952,
          600616024525.636,
          938198988736.7142,
          1150723687250.7385,
          1158578732969.734,
          819142020691.3318,
          1981592274709.9246,
          1439452796788.4124,
          2110177412202.3638,
          5282683061323.9375,
          2397755018735.2974,
          3330468892004.604,
          8357106923715.87,
          5505994522946.768,
          4297712918403.4365,
          4090641981027.0547,
          14238416022128.023,
          11130813452525.79,
          10634400686522.707,
          10569284373805.496,
          19924928240119.496,
          7733863809260.676,
          22871838837878.1,
          18718249517730.293,
          38302959808192.76,
          49968897558196.02,
          59633988599232.61,
          50217623404811.5,
          82055981518260.62,
          42666061716698.71,
          72275273567322.3,
          21804346935781.258,
          137377146795585.39,
          211554618584507.34,
          105204567650836.33,
          110592967829487.14,
          162685472104836.06,
          103012176744247.56,
          102958297371997.28,
          82470792145181.36,
          158016999540869.56,
          294350025472614.8,
          166176324992250.12,
          133138673134826.03,
          162172233070724.1,
          162388939985541.62,
          857788820192436.4,
          598083664234576.4,
          727167972685572.4,
          250812014891127.53,
          424257178416102.4,
          1724955036727848,
          799051041675071.8,
          563163121290729.1,
          1578312946439250.5,
          1245389474756448,
          1256582118835721.8,
          773584447684530.5,
          2460298501969307,
          4077443327915933.5,
          3455202236212137.5,
          1852317727744070.2,
          15355549541556394,
          3457836643744905,
          8756682540887648,
          8401495993880429,
          17856185895977966,
          15935897855666246,
          22354118902678764,
          28064247995747724,
          22326501129523536,
          16703275962964454,
          12805043634944788,
          15323634699861442,
          28609632321984484,
          71299938586543330,
          57434169570536110,
          36541585541408110,
          32091768205922964,
          30296642599643210,
          36632333215876830,
          265207830267148500,
          55097330936097550,
          57899451028701830,
          87163534559876080,
          147285731931758180,
          205921689583738750,
          189987568023703200,
          147038586700466900,
          387511767306803900,
          162100129137838430,
          308762390565393100,
          91941896381532460,
          1506619537774195500,
          1199710676392164600,
          470043195415050800,
          475771443439701800,
          526462414325918340,
          2111621789416603100,
          369050660869913500,
          375131124786907900,
          981360663781815900,
          883562090487345400,
          829850483626995200,
          2245682442867727400,
          2075584342118145500,
          4262920187185527300,
          3934429555353988000,
          3926445347877865500,
          3860112504467202600,
          3413840437391998000,
          6848361725527481000,
          26600358100972618000,
          6886360530941746000,
          14487489809744920000,
          23410198833005715000,
          16102087728503228000,
          17287863264985741000,
          6197979884943955000,
          18420107416741603000,
          29899403780761610000,
          31594081888796100000,
          12042630397083169000,
          26210044693072806000,
          12760277104691634000,
          96573220915469270000,
          60937127050243320000,
          17652576018444356000,
          53496330495655930000,
          48094.29025740657,
          514431.8671916365,
          24083.610697807722,
          49036.217453601115,
          82850.89580609121,
          113533.75244497933,
          609822.6294142354,
          133058.35405593936,
          28283.412253898015,
          77560.51196083456,
          63299.322032961674,
          18713.614569144596,
          73195.4994095132,
          158803.90577321494,
          538443.1481958971,
          179908.4307253014,
          60619.10309237643,
          42912.79549199476,
          93661.21520832399,
          222675.4785995232,
          237063.66174702722,
          78868.73478200156,
          261044.79985646586,
          347605.4385475385,
          156006.47081684924,
          260064.41718388922,
          54419.28108763343,
          79213.91546054403,
          50447.24938992751,
          170468.19174587372,
          55005.731557393396,
          68108.17792868738,
          89138.92151020549,
          137362.5259160482,
          79403.83739713671,
          286488.8464643057,
          72143.42589778385,
          300650.6721717086,
          84835.19158163751,
          455314.29527493904,
          195644.9685462982,
          99385.38928635765,
          102214.31146261629,
          816353.1504408538,
          109987.50394864523,
          464243.01915701816,
          162349.5650773778,
          404744.3807154874,
          96985.49434044794,
          598980.7412162626,
          156115.1563588524,
          1145811.5556186996,
          247217.9492585272,
          188117.58255746632,
          229918.98282319677,
          210494.38484951615,
          272749.4382190375,
          611779.2499729985,
          32354.027158316356,
          280391.2936386623,
          36513.5614796299,
          282843.4616814077,
          1290995.3730809013,
          431861.0315690217,
          456699.2460343052,
          198493.31131367967,
          472175.51513592544,
          1011337.1833250668,
          364878.20701032435,
          127551.1784882017,
          827112.1170101778,
          443997.7192596617,
          481715.4383520261,
          686017.7453508023,
          548342.9437052511,
          456715.1544397058,
          593491.2002168047,
          1178277.2313450582,
          708603.8838521973,
          814542.1658631105,
          971121.2265214691,
          802941.5610081516,
          813412.8225706908,
          942162.6726757481,
          816850.8818332664,
          520683.1814234761,
          456680.07891548134,
          281029.8041467597,
          946123.6337362864,
          1140981.3615391417,
          1238111.536643561,
          536506.2178663234,
          696233.6385015141,
          1560142.1646131922,
          2357911.64281904,
          1469268.9060837976,
          852270.7145182429,
          1192012.7494296539,
          1876201.7786684583,
          1825171.0582598022,
          1710986.406892867,
          1574221.825919173,
          1969835.532475765,
          1748645.6437221037,
          879483.0985918633,
          1645540.8009437674,
          1039985.6953838577,
          634182.9723826214,
          869065.3927465499,
          4478727.295344994,
          1653966.6698123368,
          1440724.7744399016,
          1491100.2403261364,
          1502015.5031872403,
          664376.9838371875,
          2225318.9006941724,
          2963487.1747175436,
          1450398.9310111462,
          1019635.3370179156,
          1698429.0891960806,
          1276879.418727886,
          2373046.0164436973,
          1896531.8742761067,
          797585.9079932239,
          3999506.7679178896,
          1670672.616206529,
          1486911.05763899,
          2548720.4866484357,
          749743.9943407836,
          1179486.8155931234,
          1056416.6406849015,
          1121067.8839683337,
          465132.2624471955,
          1503660.9153630252,
          1303364.6691849113,
          901603.2934226173,
          439098.78798852384,
          372708.17543390946,
          871418.140949897,
          1073545.251567759,
          750786.1791266155,
          422228.04649906146,
          713453.0244015809,
          291690.26682722574,
          248617.9968897443,
          1196146.4571063197,
          543645.71935929,
          352672.53277108166,
          981906.7126961196,
          384876.9772609891,
          970604.9461785924,
          663827.3285243062,
          149048.63538243598,
          462929.7462915008,
          282397.451452949,
          167472.77400555115,
          341310.4239335824,
          412336.7851926304,
          183555.91723914782,
          141233.87040094414,
          238237.70906661553,
          179527.1179907216,
          223185.19804281316,
          175607.19550729307,
          290556.57525650354,
          90396.98733073701,
          203869.01810197215,
          85918.22606026832,
          220715.92980930826,
          155165.68499203105,
          86357.75090722041,
          99435.85015669596,
          101384.62889773046,
          115877.16775196571,
          129191.88319111908,
          103795.50660408736,
          48527.249963556795,
          57097.61500681022,
          37083.33204796057,
          55379.058594251794,
          29653.13017801166,
          56862.35066137085,
          30715.872796031028,
          19226.371280625135,
          48043.81257011169,
          18698.595234395732,
          17140.727340889942,
          36463.04526160645,
          13937.760215974564,
          16770.145828903514,
          7009.498358886196,
          7888.957675237008,
          10157.734594737196,
          10510.298750348366,
          17388.151022505575,
          12460.44259494739,
          7342.84304519673,
          9541.227007770944,
          6423.891924829863,
          9419.259318065822
         ]
        },
        {
         "fill": "toself",
         "hoverinfo": "text",
         "legendgroup": "Model prediction",
         "line": {
          "color": "rgb(107,174,214)",
          "width": 1
         },
         "name": "Predictive model",
         "showlegend": true,
         "text": "0.3 Bulk",
         "type": "scatter",
         "x": [
          0,
          0.05025125628140704,
          0.10050251256281408,
          0.15075376884422112,
          0.20100502512562815,
          0.2512562814070352,
          0.30150753768844224,
          0.35175879396984927,
          0.4020100502512563,
          0.45226130653266333,
          0.5025125628140704,
          0.5527638190954774,
          0.6030150753768845,
          0.6532663316582915,
          0.7035175879396985,
          0.7537688442211056,
          0.8040201005025126,
          0.8542713567839196,
          0.9045226130653267,
          0.9547738693467337,
          1.0050251256281408,
          1.0552763819095479,
          1.105527638190955,
          1.155778894472362,
          1.206030150753769,
          1.256281407035176,
          1.306532663316583,
          1.35678391959799,
          1.407035175879397,
          1.4572864321608041,
          1.5075376884422111,
          1.5577889447236182,
          1.6080402010050252,
          1.6582914572864322,
          1.7085427135678393,
          1.7587939698492463,
          1.8090452261306533,
          1.8592964824120604,
          1.9095477386934674,
          1.9597989949748744,
          2.0100502512562817,
          2.0603015075376887,
          2.1105527638190957,
          2.1608040201005028,
          2.21105527638191,
          2.261306532663317,
          2.311557788944724,
          2.361809045226131,
          2.412060301507538,
          2.462311557788945,
          2.512562814070352,
          2.562814070351759,
          2.613065326633166,
          2.663316582914573,
          2.71356783919598,
          2.763819095477387,
          2.814070351758794,
          2.864321608040201,
          2.9145728643216082,
          2.9648241206030153,
          3.0150753768844223,
          3.0653266331658293,
          3.1155778894472363,
          3.1658291457286434,
          3.2160804020100504,
          3.2663316582914574,
          3.3165829145728645,
          3.3668341708542715,
          3.4170854271356785,
          3.4673366834170856,
          3.5175879396984926,
          3.5678391959798996,
          3.6180904522613067,
          3.6683417085427137,
          3.7185929648241207,
          3.7688442211055277,
          3.819095477386935,
          3.869346733668342,
          3.919597989949749,
          3.969849246231156,
          4.020100502512563,
          4.07035175879397,
          4.120603015075377,
          4.170854271356784,
          4.2211055276381915,
          4.2713567839195985,
          4.3216080402010055,
          4.371859296482413,
          4.42211055276382,
          4.472361809045227,
          4.522613065326634,
          4.572864321608041,
          4.623115577889448,
          4.673366834170855,
          4.723618090452262,
          4.773869346733669,
          4.824120603015076,
          4.874371859296483,
          4.92462311557789,
          4.974874371859297,
          5.025125628140704,
          5.075376884422111,
          5.125628140703518,
          5.175879396984925,
          5.226130653266332,
          5.276381909547739,
          5.326633165829146,
          5.376884422110553,
          5.42713567839196,
          5.477386934673367,
          5.527638190954774,
          5.577889447236181,
          5.628140703517588,
          5.678391959798995,
          5.728643216080402,
          5.778894472361809,
          5.8291457286432165,
          5.8793969849246235,
          5.9296482412060305,
          5.9798994974874375,
          6.030150753768845,
          6.080402010050252,
          6.130653266331659,
          6.180904522613066,
          6.231155778894473,
          6.28140703517588,
          6.331658291457287,
          6.381909547738694,
          6.432160804020101,
          6.482412060301508,
          6.532663316582915,
          6.582914572864322,
          6.633165829145729,
          6.683417085427136,
          6.733668341708543,
          6.78391959798995,
          6.834170854271357,
          6.884422110552764,
          6.934673366834171,
          6.984924623115578,
          7.035175879396985,
          7.085427135678392,
          7.135678391959799,
          7.185929648241206,
          7.236180904522613,
          7.28643216080402,
          7.336683417085427,
          7.386934673366834,
          7.437185929648241,
          7.4874371859296485,
          7.5376884422110555,
          7.5879396984924625,
          7.63819095477387,
          7.688442211055277,
          7.738693467336684,
          7.788944723618091,
          7.839195979899498,
          7.889447236180905,
          7.939698492462312,
          7.989949748743719,
          8.040201005025127,
          8.090452261306533,
          8.14070351758794,
          8.190954773869347,
          8.241206030150755,
          8.291457286432161,
          8.341708542713569,
          8.391959798994975,
          8.442211055276383,
          8.492462311557789,
          8.542713567839197,
          8.592964824120603,
          8.643216080402011,
          8.693467336683417,
          8.743718592964825,
          8.793969849246231,
          8.84422110552764,
          8.894472361809045,
          8.944723618090453,
          8.99497487437186,
          9.045226130653267,
          9.095477386934673,
          9.145728643216081,
          9.195979899497488,
          9.246231155778895,
          9.296482412060302,
          9.34673366834171,
          9.396984924623116,
          9.447236180904524,
          9.49748743718593,
          9.547738693467338,
          9.597989949748744,
          9.648241206030152,
          9.698492462311558,
          9.748743718592966,
          9.798994974874372,
          9.84924623115578,
          9.899497487437186,
          9.949748743718594,
          10,
          10,
          9.949748743718594,
          9.899497487437186,
          9.84924623115578,
          9.798994974874372,
          9.748743718592966,
          9.698492462311558,
          9.648241206030152,
          9.597989949748744,
          9.547738693467338,
          9.49748743718593,
          9.447236180904524,
          9.396984924623116,
          9.34673366834171,
          9.296482412060302,
          9.246231155778895,
          9.195979899497488,
          9.145728643216081,
          9.095477386934673,
          9.045226130653267,
          8.99497487437186,
          8.944723618090453,
          8.894472361809045,
          8.84422110552764,
          8.793969849246231,
          8.743718592964825,
          8.693467336683417,
          8.643216080402011,
          8.592964824120603,
          8.542713567839197,
          8.492462311557789,
          8.442211055276383,
          8.391959798994975,
          8.341708542713569,
          8.291457286432161,
          8.241206030150755,
          8.190954773869347,
          8.14070351758794,
          8.090452261306533,
          8.040201005025127,
          7.989949748743719,
          7.939698492462312,
          7.889447236180905,
          7.839195979899498,
          7.788944723618091,
          7.738693467336684,
          7.688442211055277,
          7.63819095477387,
          7.5879396984924625,
          7.5376884422110555,
          7.4874371859296485,
          7.437185929648241,
          7.386934673366834,
          7.336683417085427,
          7.28643216080402,
          7.236180904522613,
          7.185929648241206,
          7.135678391959799,
          7.085427135678392,
          7.035175879396985,
          6.984924623115578,
          6.934673366834171,
          6.884422110552764,
          6.834170854271357,
          6.78391959798995,
          6.733668341708543,
          6.683417085427136,
          6.633165829145729,
          6.582914572864322,
          6.532663316582915,
          6.482412060301508,
          6.432160804020101,
          6.381909547738694,
          6.331658291457287,
          6.28140703517588,
          6.231155778894473,
          6.180904522613066,
          6.130653266331659,
          6.080402010050252,
          6.030150753768845,
          5.9798994974874375,
          5.9296482412060305,
          5.8793969849246235,
          5.8291457286432165,
          5.778894472361809,
          5.728643216080402,
          5.678391959798995,
          5.628140703517588,
          5.577889447236181,
          5.527638190954774,
          5.477386934673367,
          5.42713567839196,
          5.376884422110553,
          5.326633165829146,
          5.276381909547739,
          5.226130653266332,
          5.175879396984925,
          5.125628140703518,
          5.075376884422111,
          5.025125628140704,
          4.974874371859297,
          4.92462311557789,
          4.874371859296483,
          4.824120603015076,
          4.773869346733669,
          4.723618090452262,
          4.673366834170855,
          4.623115577889448,
          4.572864321608041,
          4.522613065326634,
          4.472361809045227,
          4.42211055276382,
          4.371859296482413,
          4.3216080402010055,
          4.2713567839195985,
          4.2211055276381915,
          4.170854271356784,
          4.120603015075377,
          4.07035175879397,
          4.020100502512563,
          3.969849246231156,
          3.919597989949749,
          3.869346733668342,
          3.819095477386935,
          3.7688442211055277,
          3.7185929648241207,
          3.6683417085427137,
          3.6180904522613067,
          3.5678391959798996,
          3.5175879396984926,
          3.4673366834170856,
          3.4170854271356785,
          3.3668341708542715,
          3.3165829145728645,
          3.2663316582914574,
          3.2160804020100504,
          3.1658291457286434,
          3.1155778894472363,
          3.0653266331658293,
          3.0150753768844223,
          2.9648241206030153,
          2.9145728643216082,
          2.864321608040201,
          2.814070351758794,
          2.763819095477387,
          2.71356783919598,
          2.663316582914573,
          2.613065326633166,
          2.562814070351759,
          2.512562814070352,
          2.462311557788945,
          2.412060301507538,
          2.361809045226131,
          2.311557788944724,
          2.261306532663317,
          2.21105527638191,
          2.1608040201005028,
          2.1105527638190957,
          2.0603015075376887,
          2.0100502512562817,
          1.9597989949748744,
          1.9095477386934674,
          1.8592964824120604,
          1.8090452261306533,
          1.7587939698492463,
          1.7085427135678393,
          1.6582914572864322,
          1.6080402010050252,
          1.5577889447236182,
          1.5075376884422111,
          1.4572864321608041,
          1.407035175879397,
          1.35678391959799,
          1.306532663316583,
          1.256281407035176,
          1.206030150753769,
          1.155778894472362,
          1.105527638190955,
          1.0552763819095479,
          1.0050251256281408,
          0.9547738693467337,
          0.9045226130653267,
          0.8542713567839196,
          0.8040201005025126,
          0.7537688442211056,
          0.7035175879396985,
          0.6532663316582915,
          0.6030150753768845,
          0.5527638190954774,
          0.5025125628140704,
          0.45226130653266333,
          0.4020100502512563,
          0.35175879396984927,
          0.30150753768844224,
          0.2512562814070352,
          0.20100502512562815,
          0.15075376884422112,
          0.10050251256281408,
          0.05025125628140704,
          0
         ],
         "y": [
          268252.21626181214,
          315536.5277285868,
          434442.1681815404,
          459682.8414936725,
          723501.2169244252,
          595924.8659814831,
          565345.8043880292,
          846321.742736451,
          1199474.9592732678,
          863122.1739248433,
          1366854.6192925165,
          1470652.9057503075,
          1909964.7122777235,
          1559583.9651450096,
          1805069.387618523,
          2168999.8623968046,
          3388373.693783302,
          3874476.359879972,
          4174397.577737141,
          4173037.6993535375,
          6875354.432016436,
          6797772.884612378,
          5796276.9423118215,
          13275539.102965225,
          10038118.6530801,
          10370205.519806134,
          13603948.825187992,
          10491765.791832563,
          13220142.660172546,
          19974653.931403626,
          18644677.4892514,
          29122896.376832772,
          30509519.503726047,
          39308298.878891766,
          78895681.47165939,
          36519954.66911349,
          148326611.78972462,
          178040884.1390034,
          56003860.824100256,
          88365719.19813848,
          136978113.12938473,
          70749568.50855109,
          141492675.2951912,
          118857947.74275522,
          193338809.82664242,
          365482746.819476,
          443086614.94319105,
          355819251.5379277,
          403144966.40101784,
          607750073.313269,
          627201290.9767777,
          827591836.0698503,
          1190926320.5688677,
          1082751515.6935277,
          664391455.5534691,
          2232697355.6324596,
          1823238901.3611355,
          2854840949.8752913,
          3318938747.629181,
          6083042142.218988,
          2838242559.390155,
          5084966764.654834,
          6067055901.331362,
          7769536365.145745,
          8838125090.344664,
          7966580553.5512295,
          9030152244.668499,
          8630973883.381441,
          9205126601.552599,
          32214168353.210354,
          20648676543.841774,
          13553400729.69327,
          61166371598.37314,
          42476145499.49834,
          63969873305.29288,
          78979456370.25072,
          59431446663.3509,
          98453587819.4901,
          114856950669.44048,
          114569282572.61935,
          187149894812.4518,
          163953013686.03683,
          167746921272.1769,
          179707255641.0596,
          337332912326.9218,
          106748123150.31906,
          178713487738.17203,
          647132669223.6149,
          469744090554.91187,
          295108587603.4833,
          845090016388.9647,
          475483250569.31995,
          579397288249.4796,
          776575524160.8394,
          312622560904.51086,
          672941950150.6104,
          864390091411.6633,
          2438233234139.6836,
          628681848235.1932,
          2530568445159.0264,
          348918148652.2565,
          1359960317294.4658,
          1778232628752.3022,
          766020981322.1,
          4840972539165.681,
          2213573993545.5317,
          4427819569041.084,
          2385401211649.525,
          1402678186012.8757,
          6305664551749.898,
          12442911783054.697,
          6578200897129.302,
          6211890057117.677,
          2693016859614.7417,
          875737624409.4788,
          9362477753856.227,
          4213686118000.979,
          20267782899537.273,
          4166852997175.381,
          15573116221535.018,
          21484349667186.188,
          23169408644488.965,
          10064408529958.072,
          14809777268792.975,
          26536306159889.14,
          35028134338686.797,
          16785770830841.375,
          27716120692862.57,
          22297815542971.496,
          21182443543797.39,
          15260256847055.172,
          69808907392493.59,
          24928257901443.215,
          18881579249752.566,
          41774278961800.26,
          133911082757108.19,
          236110991289949.2,
          187291830577312.97,
          86427264394661.31,
          229187647440065.47,
          77171001105982.62,
          145626340587744.16,
          121077956250403.98,
          116608365688778.56,
          162627364225978.44,
          128267037945568.78,
          173478287396745.7,
          241602052854047.2,
          71556142585335.64,
          271807638104765.4,
          504807458244240.7,
          435560928167988.5,
          515625595570031.3,
          236827388050451.22,
          479018129854602.44,
          368211025500064.44,
          456730156057137.4,
          278700193968919.72,
          406384790785202.5,
          637777477436725.9,
          613306902007424.9,
          1458812611649488.8,
          1248395152420542.2,
          743631400953177.6,
          2703884462329696,
          963358074769097.5,
          1991509116177498.5,
          369155232744656.6,
          1704438954526431.5,
          1288837620825528.5,
          1226519892615756,
          1240529902045821,
          985840710553880.5,
          2964263623002319,
          3927205042947877.5,
          2262276689643960,
          6064897096462729,
          1659903620113396.2,
          3484132699414036,
          3416715430998228.5,
          3956772776566499,
          4340758890841279,
          3518628434612828,
          17029333184148464,
          4976940196281864,
          3778373262830330,
          3555701286086712.5,
          4074941127984286,
          6943275819726483,
          12083663985037264,
          5764620296469181,
          7226740666537873,
          9223393163403678,
          13317338266209706,
          7356275810969474,
          15278236149702016,
          10768147475608932,
          17696245205419882,
          19516416089036460,
          14581935735265778,
          59956083.64159487,
          27026491.20429848,
          116000726.27160339,
          218673717.13791895,
          365993589.67796564,
          78676368.53215711,
          59149809.420264274,
          126241347.47000387,
          159406154.69260404,
          81434689.34489274,
          99108832.31550317,
          104236086.76849952,
          324288338.28755724,
          78738693.7779737,
          68535736.05878867,
          150034295.45218572,
          107256642.5691316,
          111172195.07361951,
          240344870.73538795,
          194393125.9021325,
          65234805.600225404,
          95645833.25744505,
          169030594.31243542,
          54467209.03143731,
          112786505.56986842,
          284746088.94842225,
          370360072.70671856,
          59320440.76214696,
          92149095.98925324,
          328691898.1919503,
          82906572.30146952,
          107562194.16680272,
          84427715.66104068,
          31649990.996397782,
          47308569.727978304,
          44636258.646184206,
          373289161.31468415,
          232128774.9990942,
          101281835.53914335,
          165271225.73244002,
          82892824.6578916,
          343330966.47826433,
          403790188.442077,
          86413677.26295803,
          141741046.0279086,
          58298727.344665356,
          163516786.1958574,
          103323538.89831905,
          125450892.7309154,
          115890821.36497793,
          106785424.68556713,
          57294181.04185983,
          139242672.25905868,
          36784274.54208798,
          163159652.38586804,
          146189215.9107825,
          143404685.8354255,
          112154397.1656129,
          108900959.99096458,
          103327141.9668329,
          53320455.48244057,
          68688936.57895187,
          141985632.3706718,
          197847429.29908854,
          285925550.99776405,
          122718739.83216357,
          99467074.52974099,
          148603992.93153986,
          246112930.09060237,
          59915482.187972546,
          121243416.4779494,
          241393628.52983436,
          161950176.37765035,
          101934436.45936732,
          66739756.76962443,
          200621104.04465398,
          74067965.54161939,
          128786527.40201385,
          58907658.52544955,
          61017829.02907606,
          239751084.42470846,
          247878028.1544867,
          34734062.42516651,
          157365490.97897136,
          148494800.2707139,
          93456063.35820837,
          120772324.10966885,
          154721651.49067062,
          65744996.05479246,
          123718398.22427997,
          84027581.48647714,
          54984938.55757447,
          386355866.73266464,
          89639837.78524491,
          75417353.16733564,
          132538207.92083685,
          60627058.52634604,
          94921473.10466191,
          425677359.369667,
          385448202.9291067,
          60145821.03659742,
          81628861.9543959,
          60168023.56799464,
          31271622.504087403,
          50865506.15881919,
          183299184.04864034,
          119178155.66525193,
          27833441.01353363,
          50598372.62988596,
          73535194.83842392,
          135824495.5408317,
          25646034.196983367,
          95994256.99278484,
          21850728.261842255,
          68725514.5167952,
          109499384.42809881,
          47089088.967883565,
          324089442.0343475,
          22271390.96770941,
          155480856.0818461,
          104035414.42262271,
          24033167.784170467,
          64920909.3207197,
          62883189.74996867,
          26267529.88423662,
          56119789.17502597,
          76444632.19896398,
          75567478.34958407,
          13526640.929010289,
          37652654.76176532,
          17477745.809286933,
          34010076.01630852,
          32681432.457249094,
          28176837.03246388,
          18633182.81217754,
          9430677.278145956,
          24972559.98655512,
          18953008.789805077,
          18237966.81896299,
          21585127.57145987,
          11919266.212845532,
          5584111.220054006,
          10236179.065658467,
          9521872.21734673,
          4397169.258756159,
          4480033.735863036,
          6554679.76999805,
          11044364.182349373,
          8988660.146436982,
          8057278.846311084,
          10086071.947413256,
          4664550.747116649,
          1900972.1445725735,
          4261888.665996293,
          6764479.90636242,
          3582487.7076090127,
          2332054.4351669555,
          3356130.682301499,
          3030504.4434634037,
          1340241.1856988315,
          2463326.960803136,
          949172.1830459493,
          1320602.5289794176,
          2124934.7891178546,
          878406.1991455165,
          897871.4687906884,
          755037.3629998735,
          826250.4410792784,
          1616450.2739473975,
          733761.7704117367,
          965596.4529679555,
          630353.9292257857,
          517536.6489965164,
          834450.15938264,
          903175.4096785756,
          543962.4290003559,
          366655.2124277998,
          356577.6298614858,
          133706.5385744961,
          435117.4104793303,
          180928.48627689554,
          307642.45674205624,
          144006.34189305204,
          232742.38966182384,
          242429.46512540846,
          155207.84837738067,
          164386.3143342997,
          166000.96260138077,
          105497.30373725698,
          147877.37753680092,
          62393.72211128689,
          73961.80365118172,
          92265.2854263345,
          39203.114395355595,
          56467.90309970623,
          79840.78052326346,
          42161.200094460764,
          58024.68160916438,
          41058.084543338766,
          28962.46350880268
         ]
        }
       ],
       "layout": {
        "autosize": true,
        "template": {
         "data": {
          "bar": [
           {
            "error_x": {
             "color": "#2a3f5f"
            },
            "error_y": {
             "color": "#2a3f5f"
            },
            "marker": {
             "line": {
              "color": "white",
              "width": 0.5
             },
             "pattern": {
              "fillmode": "overlay",
              "size": 10,
              "solidity": 0.2
             }
            },
            "type": "bar"
           }
          ],
          "barpolar": [
           {
            "marker": {
             "line": {
              "color": "white",
              "width": 0.5
             },
             "pattern": {
              "fillmode": "overlay",
              "size": 10,
              "solidity": 0.2
             }
            },
            "type": "barpolar"
           }
          ],
          "carpet": [
           {
            "aaxis": {
             "endlinecolor": "#2a3f5f",
             "gridcolor": "#C8D4E3",
             "linecolor": "#C8D4E3",
             "minorgridcolor": "#C8D4E3",
             "startlinecolor": "#2a3f5f"
            },
            "baxis": {
             "endlinecolor": "#2a3f5f",
             "gridcolor": "#C8D4E3",
             "linecolor": "#C8D4E3",
             "minorgridcolor": "#C8D4E3",
             "startlinecolor": "#2a3f5f"
            },
            "type": "carpet"
           }
          ],
          "choropleth": [
           {
            "colorbar": {
             "outlinewidth": 0,
             "ticks": ""
            },
            "type": "choropleth"
           }
          ],
          "contour": [
           {
            "colorbar": {
             "outlinewidth": 0,
             "ticks": ""
            },
            "colorscale": [
             [
              0,
              "#0d0887"
             ],
             [
              0.1111111111111111,
              "#46039f"
             ],
             [
              0.2222222222222222,
              "#7201a8"
             ],
             [
              0.3333333333333333,
              "#9c179e"
             ],
             [
              0.4444444444444444,
              "#bd3786"
             ],
             [
              0.5555555555555556,
              "#d8576b"
             ],
             [
              0.6666666666666666,
              "#ed7953"
             ],
             [
              0.7777777777777778,
              "#fb9f3a"
             ],
             [
              0.8888888888888888,
              "#fdca26"
             ],
             [
              1,
              "#f0f921"
             ]
            ],
            "type": "contour"
           }
          ],
          "contourcarpet": [
           {
            "colorbar": {
             "outlinewidth": 0,
             "ticks": ""
            },
            "type": "contourcarpet"
           }
          ],
          "heatmap": [
           {
            "colorbar": {
             "outlinewidth": 0,
             "ticks": ""
            },
            "colorscale": [
             [
              0,
              "#0d0887"
             ],
             [
              0.1111111111111111,
              "#46039f"
             ],
             [
              0.2222222222222222,
              "#7201a8"
             ],
             [
              0.3333333333333333,
              "#9c179e"
             ],
             [
              0.4444444444444444,
              "#bd3786"
             ],
             [
              0.5555555555555556,
              "#d8576b"
             ],
             [
              0.6666666666666666,
              "#ed7953"
             ],
             [
              0.7777777777777778,
              "#fb9f3a"
             ],
             [
              0.8888888888888888,
              "#fdca26"
             ],
             [
              1,
              "#f0f921"
             ]
            ],
            "type": "heatmap"
           }
          ],
          "heatmapgl": [
           {
            "colorbar": {
             "outlinewidth": 0,
             "ticks": ""
            },
            "colorscale": [
             [
              0,
              "#0d0887"
             ],
             [
              0.1111111111111111,
              "#46039f"
             ],
             [
              0.2222222222222222,
              "#7201a8"
             ],
             [
              0.3333333333333333,
              "#9c179e"
             ],
             [
              0.4444444444444444,
              "#bd3786"
             ],
             [
              0.5555555555555556,
              "#d8576b"
             ],
             [
              0.6666666666666666,
              "#ed7953"
             ],
             [
              0.7777777777777778,
              "#fb9f3a"
             ],
             [
              0.8888888888888888,
              "#fdca26"
             ],
             [
              1,
              "#f0f921"
             ]
            ],
            "type": "heatmapgl"
           }
          ],
          "histogram": [
           {
            "marker": {
             "pattern": {
              "fillmode": "overlay",
              "size": 10,
              "solidity": 0.2
             }
            },
            "type": "histogram"
           }
          ],
          "histogram2d": [
           {
            "colorbar": {
             "outlinewidth": 0,
             "ticks": ""
            },
            "colorscale": [
             [
              0,
              "#0d0887"
             ],
             [
              0.1111111111111111,
              "#46039f"
             ],
             [
              0.2222222222222222,
              "#7201a8"
             ],
             [
              0.3333333333333333,
              "#9c179e"
             ],
             [
              0.4444444444444444,
              "#bd3786"
             ],
             [
              0.5555555555555556,
              "#d8576b"
             ],
             [
              0.6666666666666666,
              "#ed7953"
             ],
             [
              0.7777777777777778,
              "#fb9f3a"
             ],
             [
              0.8888888888888888,
              "#fdca26"
             ],
             [
              1,
              "#f0f921"
             ]
            ],
            "type": "histogram2d"
           }
          ],
          "histogram2dcontour": [
           {
            "colorbar": {
             "outlinewidth": 0,
             "ticks": ""
            },
            "colorscale": [
             [
              0,
              "#0d0887"
             ],
             [
              0.1111111111111111,
              "#46039f"
             ],
             [
              0.2222222222222222,
              "#7201a8"
             ],
             [
              0.3333333333333333,
              "#9c179e"
             ],
             [
              0.4444444444444444,
              "#bd3786"
             ],
             [
              0.5555555555555556,
              "#d8576b"
             ],
             [
              0.6666666666666666,
              "#ed7953"
             ],
             [
              0.7777777777777778,
              "#fb9f3a"
             ],
             [
              0.8888888888888888,
              "#fdca26"
             ],
             [
              1,
              "#f0f921"
             ]
            ],
            "type": "histogram2dcontour"
           }
          ],
          "mesh3d": [
           {
            "colorbar": {
             "outlinewidth": 0,
             "ticks": ""
            },
            "type": "mesh3d"
           }
          ],
          "parcoords": [
           {
            "line": {
             "colorbar": {
              "outlinewidth": 0,
              "ticks": ""
             }
            },
            "type": "parcoords"
           }
          ],
          "pie": [
           {
            "automargin": true,
            "type": "pie"
           }
          ],
          "scatter": [
           {
            "marker": {
             "colorbar": {
              "outlinewidth": 0,
              "ticks": ""
             }
            },
            "type": "scatter"
           }
          ],
          "scatter3d": [
           {
            "line": {
             "colorbar": {
              "outlinewidth": 0,
              "ticks": ""
             }
            },
            "marker": {
             "colorbar": {
              "outlinewidth": 0,
              "ticks": ""
             }
            },
            "type": "scatter3d"
           }
          ],
          "scattercarpet": [
           {
            "marker": {
             "colorbar": {
              "outlinewidth": 0,
              "ticks": ""
             }
            },
            "type": "scattercarpet"
           }
          ],
          "scattergeo": [
           {
            "marker": {
             "colorbar": {
              "outlinewidth": 0,
              "ticks": ""
             }
            },
            "type": "scattergeo"
           }
          ],
          "scattergl": [
           {
            "marker": {
             "colorbar": {
              "outlinewidth": 0,
              "ticks": ""
             }
            },
            "type": "scattergl"
           }
          ],
          "scattermapbox": [
           {
            "marker": {
             "colorbar": {
              "outlinewidth": 0,
              "ticks": ""
             }
            },
            "type": "scattermapbox"
           }
          ],
          "scatterpolar": [
           {
            "marker": {
             "colorbar": {
              "outlinewidth": 0,
              "ticks": ""
             }
            },
            "type": "scatterpolar"
           }
          ],
          "scatterpolargl": [
           {
            "marker": {
             "colorbar": {
              "outlinewidth": 0,
              "ticks": ""
             }
            },
            "type": "scatterpolargl"
           }
          ],
          "scatterternary": [
           {
            "marker": {
             "colorbar": {
              "outlinewidth": 0,
              "ticks": ""
             }
            },
            "type": "scatterternary"
           }
          ],
          "surface": [
           {
            "colorbar": {
             "outlinewidth": 0,
             "ticks": ""
            },
            "colorscale": [
             [
              0,
              "#0d0887"
             ],
             [
              0.1111111111111111,
              "#46039f"
             ],
             [
              0.2222222222222222,
              "#7201a8"
             ],
             [
              0.3333333333333333,
              "#9c179e"
             ],
             [
              0.4444444444444444,
              "#bd3786"
             ],
             [
              0.5555555555555556,
              "#d8576b"
             ],
             [
              0.6666666666666666,
              "#ed7953"
             ],
             [
              0.7777777777777778,
              "#fb9f3a"
             ],
             [
              0.8888888888888888,
              "#fdca26"
             ],
             [
              1,
              "#f0f921"
             ]
            ],
            "type": "surface"
           }
          ],
          "table": [
           {
            "cells": {
             "fill": {
              "color": "#EBF0F8"
             },
             "line": {
              "color": "white"
             }
            },
            "header": {
             "fill": {
              "color": "#C8D4E3"
             },
             "line": {
              "color": "white"
             }
            },
            "type": "table"
           }
          ]
         },
         "layout": {
          "annotationdefaults": {
           "arrowcolor": "#2a3f5f",
           "arrowhead": 0,
           "arrowwidth": 1
          },
          "autotypenumbers": "strict",
          "coloraxis": {
           "colorbar": {
            "outlinewidth": 0,
            "ticks": ""
           }
          },
          "colorscale": {
           "diverging": [
            [
             0,
             "#8e0152"
            ],
            [
             0.1,
             "#c51b7d"
            ],
            [
             0.2,
             "#de77ae"
            ],
            [
             0.3,
             "#f1b6da"
            ],
            [
             0.4,
             "#fde0ef"
            ],
            [
             0.5,
             "#f7f7f7"
            ],
            [
             0.6,
             "#e6f5d0"
            ],
            [
             0.7,
             "#b8e186"
            ],
            [
             0.8,
             "#7fbc41"
            ],
            [
             0.9,
             "#4d9221"
            ],
            [
             1,
             "#276419"
            ]
           ],
           "sequential": [
            [
             0,
             "#0d0887"
            ],
            [
             0.1111111111111111,
             "#46039f"
            ],
            [
             0.2222222222222222,
             "#7201a8"
            ],
            [
             0.3333333333333333,
             "#9c179e"
            ],
            [
             0.4444444444444444,
             "#bd3786"
            ],
            [
             0.5555555555555556,
             "#d8576b"
            ],
            [
             0.6666666666666666,
             "#ed7953"
            ],
            [
             0.7777777777777778,
             "#fb9f3a"
            ],
            [
             0.8888888888888888,
             "#fdca26"
            ],
            [
             1,
             "#f0f921"
            ]
           ],
           "sequentialminus": [
            [
             0,
             "#0d0887"
            ],
            [
             0.1111111111111111,
             "#46039f"
            ],
            [
             0.2222222222222222,
             "#7201a8"
            ],
            [
             0.3333333333333333,
             "#9c179e"
            ],
            [
             0.4444444444444444,
             "#bd3786"
            ],
            [
             0.5555555555555556,
             "#d8576b"
            ],
            [
             0.6666666666666666,
             "#ed7953"
            ],
            [
             0.7777777777777778,
             "#fb9f3a"
            ],
            [
             0.8888888888888888,
             "#fdca26"
            ],
            [
             1,
             "#f0f921"
            ]
           ]
          },
          "colorway": [
           "#636efa",
           "#EF553B",
           "#00cc96",
           "#ab63fa",
           "#FFA15A",
           "#19d3f3",
           "#FF6692",
           "#B6E880",
           "#FF97FF",
           "#FECB52"
          ],
          "font": {
           "color": "#2a3f5f"
          },
          "geo": {
           "bgcolor": "white",
           "lakecolor": "white",
           "landcolor": "white",
           "showlakes": true,
           "showland": true,
           "subunitcolor": "#C8D4E3"
          },
          "hoverlabel": {
           "align": "left"
          },
          "hovermode": "closest",
          "mapbox": {
           "style": "light"
          },
          "paper_bgcolor": "white",
          "plot_bgcolor": "white",
          "polar": {
           "angularaxis": {
            "gridcolor": "#EBF0F8",
            "linecolor": "#EBF0F8",
            "ticks": ""
           },
           "bgcolor": "white",
           "radialaxis": {
            "gridcolor": "#EBF0F8",
            "linecolor": "#EBF0F8",
            "ticks": ""
           }
          },
          "scene": {
           "xaxis": {
            "backgroundcolor": "white",
            "gridcolor": "#DFE8F3",
            "gridwidth": 2,
            "linecolor": "#EBF0F8",
            "showbackground": true,
            "ticks": "",
            "zerolinecolor": "#EBF0F8"
           },
           "yaxis": {
            "backgroundcolor": "white",
            "gridcolor": "#DFE8F3",
            "gridwidth": 2,
            "linecolor": "#EBF0F8",
            "showbackground": true,
            "ticks": "",
            "zerolinecolor": "#EBF0F8"
           },
           "zaxis": {
            "backgroundcolor": "white",
            "gridcolor": "#DFE8F3",
            "gridwidth": 2,
            "linecolor": "#EBF0F8",
            "showbackground": true,
            "ticks": "",
            "zerolinecolor": "#EBF0F8"
           }
          },
          "shapedefaults": {
           "line": {
            "color": "#2a3f5f"
           }
          },
          "ternary": {
           "aaxis": {
            "gridcolor": "#DFE8F3",
            "linecolor": "#A2B1C6",
            "ticks": ""
           },
           "baxis": {
            "gridcolor": "#DFE8F3",
            "linecolor": "#A2B1C6",
            "ticks": ""
           },
           "bgcolor": "white",
           "caxis": {
            "gridcolor": "#DFE8F3",
            "linecolor": "#A2B1C6",
            "ticks": ""
           }
          },
          "title": {
           "x": 0.05
          },
          "xaxis": {
           "automargin": true,
           "gridcolor": "#EBF0F8",
           "linecolor": "#EBF0F8",
           "ticks": "",
           "title": {
            "standoff": 15
           },
           "zerolinecolor": "#EBF0F8",
           "zerolinewidth": 2
          },
          "yaxis": {
           "automargin": true,
           "gridcolor": "#EBF0F8",
           "linecolor": "#EBF0F8",
           "ticks": "",
           "title": {
            "standoff": 15
           },
           "zerolinecolor": "#EBF0F8",
           "zerolinewidth": 2
          }
         }
        },
        "updatemenus": [
         {
          "buttons": [
           {
            "args": [
             {
              "yaxis.type": "linear"
             }
            ],
            "label": "Linear y-scale",
            "method": "relayout"
           },
           {
            "args": [
             {
              "yaxis.type": "log"
             }
            ],
            "label": "Log y-scale",
            "method": "relayout"
           }
          ],
          "direction": "left",
          "pad": {
           "r": 0,
           "t": -10
          },
          "showactive": true,
          "type": "buttons",
          "x": 0,
          "xanchor": "left",
          "y": 1.15,
          "yanchor": "top"
         }
        ],
        "xaxis": {
         "title": {
          "text": "$\\text{Time in hours}$"
         }
        },
        "yaxis": {
         "title": {
          "text": "$\\text{Bacterial count in CFU/ml}$"
         }
        }
       }
      }
     },
     "metadata": {},
     "output_type": "display_data"
    }
   ],
   "source": [
    "# Define prior distribution\n",
    "log_priors = [\n",
    "    pints.UniformLogPrior(0, 1E6),      # Initial bacterial count in CFU/ml\n",
    "    pints.UniformLogPrior(0, 10000),    # EC 50 in ng/ml\n",
    "    pints.UniformLogPrior(0, 5),        # Growth rate in 1/h\n",
    "    pints.UniformLogPrior(0, 5),        # Kill rate in 1/h\n",
    "    pints.UniformLogPrior(0, 3)]        # Sigma log Bacterial count\n",
    "log_prior = pints.ComposedLogPrior(*log_priors)\n",
    "\n",
    "# Compose prior predictive model\n",
    "predictive_model = problem.get_predictive_model(exclude_pop_model=True)\n",
    "prior_predictive_model = chi.PriorPredictiveModel(\n",
    "    predictive_model, log_prior)\n",
    "\n",
    "# Set dosing regimen (dose 10 mg is similar to ID 10)\n",
    "prior_predictive_model.set_dosing_regimen(dose=10000, start=4, period=6, num=5)\n",
    "\n",
    "# Sample from prior predictive model\n",
    "n_samples = 100\n",
    "times = np.linspace(0, 10, num=200)\n",
    "samples = prior_predictive_model.sample(times, n_samples)\n",
    "\n",
    "# Illustrate prior predictive model\n",
    "fig = chi.plots.PDPredictivePlot()\n",
    "fig.add_prediction(\n",
    "    data=samples,\n",
    "    biomarker='Bacterial count in CFU/ml',\n",
    "    bulk_probs=[0.3, 0.6, 0.9])\n",
    "fig.set_axis_labels(\n",
    "    xlabel=r'$\\text{Time in hours}$',\n",
    "    ylabel=r'$\\text{Bacterial count in CFU/ml}$')\n",
    "fig.show()"
   ]
  },
  {
   "cell_type": "markdown",
   "metadata": {},
   "source": [
    "## Find maximum likelihood estimates\n",
    "\n",
    "1. Connects the above defined model to the data\n",
    "2. Runs the maximum likelihood optimisation 5 times from random initial\n",
    "    starting points (for robustness). Initial points are samples from priors.\n",
    "\n",
    "Note that because we chose uniform priors, the maximum likelihood estimates\n",
    "(for the specified bounds) coincide with the maximum a posteriori estimates."
   ]
  },
  {
   "cell_type": "code",
   "execution_count": 7,
   "metadata": {},
   "outputs": [
    {
     "name": "stdout",
     "output_type": "stream",
     "text": [
      "Maximising LogPDF\n",
      "Using Covariance Matrix Adaptation Evolution Strategy (CMA-ES)\n",
      "Running in parallel with 8 worker processes.\n",
      "Population size: 8\n",
      "Iter. Eval. Best      Time m:s\n",
      "0     8     -2856.29    0:00.2\n",
      "1     16    -2097.264   0:00.2\n",
      "2     24    -1751.51    0:00.2\n",
      "3     32    -1751.51    0:00.2\n",
      "20    168   -1455.46    0:00.4\n",
      "40    328   -1433.982   0:00.6\n",
      "60    488   -1385.772   0:00.8\n",
      "80    648   -1385.325   0:01.0\n",
      "100   808   -1385.312   0:01.2\n",
      "120   968   -1385.311   0:01.4\n",
      "140   1128  -1385.311   0:01.6\n",
      "160   1288  -1385.311   0:01.8\n",
      "180   1448  -1385.311   0:02.0\n",
      "200   1608  -1385.311   0:02.2\n",
      "220   1768  -1385.311   0:02.4\n",
      "240   1928  -1385.311   0:02.7\n",
      "260   2088  -1385.311   0:02.9\n",
      "280   2248  -1385.311   0:03.1\n",
      "300   2408  -1385.311   0:03.3\n",
      "320   2568  -1385.311   0:03.5\n",
      "340   2728  -1385.311   0:03.7\n",
      "360   2888  -1385.311   0:03.9\n",
      "380   3048  -1385.311   0:04.2\n",
      "400   3208  -1385.311   0:04.5\n",
      "420   3368  -1385.311   0:04.7\n",
      "429   3432  -1385.311   0:04.8\n",
      "Halting: No significant change for 200 iterations.\n",
      "Maximising LogPDF\n",
      "Using Covariance Matrix Adaptation Evolution Strategy (CMA-ES)\n",
      "Running in parallel with 8 worker processes.\n",
      "Population size: 8\n",
      "Iter. Eval. Best      Time m:s\n",
      "0     8     -2128.391   0:00.1\n",
      "1     16    -1677.186   0:00.2\n",
      "2     24    -1677.186   0:00.2\n",
      "3     32    -1543.777   0:00.2\n",
      "20    168   -1405.162   0:00.4\n",
      "40    328   -1385.568   0:00.6\n",
      "60    488   -1385.314   0:00.8\n",
      "80    648   -1385.312   0:00.9\n",
      "100   808   -1385.311   0:01.1\n",
      "120   968   -1385.311   0:01.3\n",
      "140   1128  -1385.311   0:01.5\n",
      "160   1288  -1385.311   0:01.7\n",
      "180   1448  -1385.311   0:02.0\n",
      "200   1608  -1385.311   0:02.2\n",
      "220   1768  -1385.311   0:02.4\n",
      "240   1928  -1385.311   0:02.6\n",
      "260   2088  -1385.311   0:02.8\n",
      "280   2248  -1385.311   0:03.1\n",
      "300   2408  -1385.311   0:03.3\n",
      "320   2568  -1385.311   0:03.5\n",
      "340   2728  -1385.311   0:03.8\n",
      "360   2888  -1385.311   0:04.0\n",
      "380   3048  -1385.311   0:04.2\n",
      "400   3208  -1385.311   0:04.5\n",
      "418   3344  -1385.311   0:04.7\n",
      "Halting: No significant change for 200 iterations.\n",
      "Maximising LogPDF\n",
      "Using Covariance Matrix Adaptation Evolution Strategy (CMA-ES)\n",
      "Running in parallel with 8 worker processes.\n",
      "Population size: 8\n",
      "Iter. Eval. Best      Time m:s\n",
      "0     8     -24981.04   0:00.1\n",
      "1     16    -15328      0:00.2\n",
      "2     24    -9680.927   0:00.2\n",
      "3     32    -5333.992   0:00.2\n"
     ]
    },
    {
     "name": "stderr",
     "output_type": "stream",
     "text": [
      "/Users/david/Workspace/sabs-r3/PAM/venv/lib/python3.7/site-packages/cma/evolution_strategy.py:3636: RuntimeWarning:\n",
      "\n",
      "invalid value encountered in double_scalars\n",
      "\n"
     ]
    },
    {
     "name": "stdout",
     "output_type": "stream",
     "text": [
      "20    168   -1412.856   0:00.4\n",
      "40    328   -1389.581   0:00.6\n",
      "60    488   -1385.426   0:00.8\n",
      "80    648   -1385.316   0:01.0\n",
      "100   808   -1385.311   0:01.2\n",
      "120   968   -1385.311   0:01.4\n",
      "140   1128  -1385.311   0:01.6\n",
      "160   1288  -1385.311   0:01.8\n",
      "180   1448  -1385.311   0:02.0\n",
      "200   1608  -1385.311   0:02.2\n",
      "220   1768  -1385.311   0:02.4\n",
      "240   1928  -1385.311   0:02.6\n",
      "260   2088  -1385.311   0:02.9\n",
      "280   2248  -1385.311   0:03.1\n",
      "300   2408  -1385.311   0:03.3\n",
      "320   2568  -1385.311   0:03.6\n",
      "340   2728  -1385.311   0:03.8\n",
      "360   2888  -1385.311   0:04.0\n",
      "380   3048  -1385.311   0:04.3\n",
      "400   3208  -1385.311   0:04.5\n",
      "420   3368  -1385.311   0:04.9\n",
      "440   3528  -1385.311   0:05.2\n",
      "460   3688  -1385.311   0:05.5\n",
      "480   3848  -1385.311   0:05.8\n",
      "500   4008  -1385.311   0:08.6\n",
      "508   4064  -1385.311   0:08.7\n",
      "Halting: No significant change for 200 iterations.\n",
      "Maximising LogPDF\n",
      "Using Covariance Matrix Adaptation Evolution Strategy (CMA-ES)\n",
      "Running in parallel with 8 worker processes.\n",
      "Population size: 8\n",
      "Iter. Eval. Best      Time m:s\n",
      "0     8     -inf        0:00.1\n",
      "1     16    -665976.1   0:00.1\n",
      "2     24    -78626.49   0:00.2\n",
      "3     32    -14141.5    0:00.2\n"
     ]
    },
    {
     "name": "stderr",
     "output_type": "stream",
     "text": [
      "/Users/david/Workspace/sabs-r3/PAM/venv/lib/python3.7/site-packages/cma/evolution_strategy.py:3630: RuntimeWarning:\n",
      "\n",
      "invalid value encountered in double_scalars\n",
      "\n",
      "/Users/david/Workspace/sabs-r3/PAM/venv/lib/python3.7/site-packages/cma/evolution_strategy.py:3631: RuntimeWarning:\n",
      "\n",
      "invalid value encountered in double_scalars\n",
      "\n"
     ]
    },
    {
     "name": "stdout",
     "output_type": "stream",
     "text": [
      "20    168   -1411.257   0:00.4\n",
      "40    328   -1386.661   0:00.6\n",
      "60    488   -1385.365   0:00.8\n",
      "80    648   -1385.312   0:01.0\n",
      "100   808   -1385.311   0:01.2\n",
      "120   968   -1385.311   0:01.4\n",
      "140   1128  -1385.311   0:01.6\n",
      "160   1288  -1385.311   0:01.9\n",
      "180   1448  -1385.311   0:02.1\n",
      "200   1608  -1385.311   0:02.3\n",
      "220   1768  -1385.311   0:02.6\n",
      "240   1928  -1385.311   0:02.8\n",
      "260   2088  -1385.311   0:03.0\n",
      "280   2248  -1385.311   0:03.2\n",
      "300   2408  -1385.311   0:03.5\n",
      "320   2568  -1385.311   0:03.7\n",
      "340   2728  -1385.311   0:03.9\n",
      "359   2872  -1385.311   0:04.2\n",
      "Halting: No significant change for 200 iterations.\n",
      "Maximising LogPDF\n",
      "Using Covariance Matrix Adaptation Evolution Strategy (CMA-ES)\n",
      "Running in parallel with 8 worker processes.\n",
      "Population size: 8\n",
      "Iter. Eval. Best      Time m:s\n",
      "0     8     -1897.893   0:00.1\n",
      "1     16    -1897.739   0:00.2\n",
      "2     24    -1842.774   0:00.2\n",
      "3     32    -1829.434   0:00.2\n",
      "20    168   -1438.42    0:00.4\n",
      "40    328   -1385.948   0:00.6\n",
      "60    488   -1385.351   0:00.8\n",
      "80    648   -1385.312   0:01.0\n",
      "100   808   -1385.311   0:01.2\n",
      "120   968   -1385.311   0:01.4\n",
      "140   1128  -1385.311   0:01.7\n",
      "160   1288  -1385.311   0:01.9\n",
      "180   1448  -1385.311   0:02.1\n",
      "200   1608  -1385.311   0:02.3\n",
      "220   1768  -1385.311   0:02.6\n",
      "240   1928  -1385.311   0:02.8\n",
      "260   2088  -1385.311   0:03.0\n",
      "280   2248  -1385.311   0:03.3\n",
      "300   2408  -1385.311   0:03.5\n",
      "320   2568  -1385.311   0:03.8\n",
      "340   2728  -1385.311   0:04.0\n",
      "360   2888  -1385.311   0:04.2\n",
      "380   3048  -1385.311   0:04.5\n",
      "400   3208  -1385.311   0:04.7\n",
      "420   3368  -1385.311   0:05.0\n",
      "440   3528  -1385.311   0:05.2\n",
      "460   3688  -1385.311   0:05.5\n",
      "480   3848  -1385.311   0:05.7\n",
      "500   4008  -1385.311   0:07.9\n",
      "509   4072  -1385.311   0:08.1\n",
      "Halting: No significant change for 200 iterations.\n"
     ]
    }
   ],
   "source": [
    "# Create log-posteriors\n",
    "problem.set_data(data, dose_key='Concentration', dose_duration_key=None)\n",
    "problem.set_log_prior(log_priors)\n",
    "log_posterior = problem.get_log_posterior()\n",
    "\n",
    "# Set up sampling controller\n",
    "optimiser = chi.OptimisationController(log_posterior)\n",
    "optimiser.set_optimiser(pints.CMAES)\n",
    "optimiser.set_transform(\n",
    "    transform=pints.LogTransformation(n_parameters=problem.get_n_parameters()))\n",
    "optimiser.set_n_runs(5)\n",
    "\n",
    "# Run optimisation\n",
    "estimates = optimiser.run(show_run_progress_bar=False, log_to_screen=False)\n",
    "\n",
    "# Create figure\n",
    "fig = chi.plots.ParameterEstimatePlot()\n",
    "fig.add_data(estimates)\n",
    "fig.show()"
   ]
  },
  {
   "cell_type": "markdown",
   "metadata": {},
   "source": [
    "The estimates across the runs are consistent within 6 significant digits. We\n",
    "can therefore assume that MLEs within the bounds are robust."
   ]
  },
  {
   "cell_type": "markdown",
   "metadata": {},
   "source": [
    "## Goodness of fit\n",
    "1. Predict bacterial count for observed drug exposure.\n",
    "2. Visualise residuals between model prediction and data."
   ]
  },
  {
   "cell_type": "code",
   "execution_count": 15,
   "metadata": {},
   "outputs": [
    {
     "data": {
      "application/vnd.plotly.v1+json": {
       "config": {
        "plotlyServerURL": "https://plot.ly"
       },
       "data": [
        {
         "marker": {
          "color": "#636EFA",
          "line": {
           "color": "black",
           "width": 1
          },
          "opacity": 0.7,
          "symbol": "circle"
         },
         "mode": "markers",
         "name": "ID: 1",
         "showlegend": true,
         "type": "scatter",
         "x": [
          0,
          4,
          5,
          6,
          7,
          8,
          9,
          10
         ],
         "y": [
          290740.30955672933,
          7499514.36495619,
          16574546.090090055,
          36626221.25864076,
          80935308.2460973,
          178850496.32980192,
          395222235.33756644,
          873352211.2312824
         ]
        },
        {
         "marker": {
          "color": "#EF553B",
          "line": {
           "color": "black",
           "width": 1
          },
          "opacity": 0.7,
          "symbol": "circle"
         },
         "mode": "markers",
         "name": "ID: 2",
         "showlegend": true,
         "type": "scatter",
         "x": [
          0,
          4,
          5,
          6,
          7,
          8,
          9,
          10
         ],
         "y": [
          290740.30955672933,
          7499514.36495619,
          14069541.51389381,
          26370114.2832037,
          49424577.04255009,
          92634747.21847172,
          173622050.35212868,
          325413706.3502939
         ]
        },
        {
         "marker": {
          "color": "#00CC96",
          "line": {
           "color": "black",
           "width": 1
          },
          "opacity": 0.7,
          "symbol": "circle"
         },
         "mode": "markers",
         "name": "ID: 3",
         "showlegend": true,
         "type": "scatter",
         "x": [
          0,
          4,
          5,
          6,
          7,
          8,
          9,
          10
         ],
         "y": [
          290740.30955672933,
          7499514.364956189,
          11989567.637597907,
          19134353.910179835,
          30536616.06895527,
          48733490.411341734,
          77774950.62230322,
          124121739.8605451
         ]
        },
        {
         "marker": {
          "color": "#AB63FA",
          "line": {
           "color": "black",
           "width": 1
          },
          "opacity": 0.7,
          "symbol": "circle"
         },
         "mode": "markers",
         "name": "ID: 4",
         "showlegend": true,
         "type": "scatter",
         "x": [
          0,
          4,
          5,
          6,
          7,
          8,
          9,
          10
         ],
         "y": [
          290740.30955672933,
          7499514.364956188,
          9192694.479196899,
          11233293.87562629,
          13727461.269006405,
          16775782.540280698,
          20500719.75571649,
          25053058.798675615
         ]
        },
        {
         "marker": {
          "color": "#FFA15A",
          "line": {
           "color": "black",
           "width": 1
          },
          "opacity": 0.7,
          "symbol": "circle"
         },
         "mode": "markers",
         "name": "ID: 5",
         "showlegend": true,
         "type": "scatter",
         "x": [
          0,
          4,
          5,
          6,
          7,
          8,
          9,
          10
         ],
         "y": [
          290740.30955672933,
          7499514.364956189,
          6259116.026614362,
          5198579.100770817,
          4318854.171379188,
          3588539.8970292676,
          2981762.011821259,
          2477526.1390465256
         ]
        },
        {
         "marker": {
          "color": "#19D3F3",
          "line": {
           "color": "black",
           "width": 1
          },
          "opacity": 0.7,
          "symbol": "circle"
         },
         "mode": "markers",
         "name": "ID: 6",
         "showlegend": true,
         "type": "scatter",
         "x": [
          0,
          4,
          5,
          6,
          7,
          8,
          9,
          10
         ],
         "y": [
          290740.30955672933,
          7499514.36495619,
          3957175.4208816607,
          2077446.7739819537,
          1090573.679587192,
          572505.2546547552,
          300544.3162382122,
          157773.79120521087
         ]
        },
        {
         "marker": {
          "color": "#FF6692",
          "line": {
           "color": "black",
           "width": 1
          },
          "opacity": 0.7,
          "symbol": "circle"
         },
         "mode": "markers",
         "name": "ID: 7",
         "showlegend": true,
         "type": "scatter",
         "x": [
          0,
          4,
          5,
          6,
          7,
          8,
          9,
          10
         ],
         "y": [
          290740.30955672933,
          7499514.364956189,
          2560774.6779130697,
          869575.365415811,
          295287.0764571185,
          100272.68014789563,
          34050.01118333214,
          11562.660385038042
         ]
        },
        {
         "marker": {
          "color": "#B6E880",
          "line": {
           "color": "black",
           "width": 1
          },
          "opacity": 0.7,
          "symbol": "circle"
         },
         "mode": "markers",
         "name": "ID: 8",
         "showlegend": true,
         "type": "scatter",
         "x": [
          0,
          4,
          5,
          6,
          7,
          8,
          9,
          10
         ],
         "y": [
          290740.30955672933,
          7499514.364956189,
          1834737.1449072377,
          446688.6157195629,
          108752.70958352086,
          26477.153714297412,
          6446.238864632154,
          1569.414674804986
         ]
        },
        {
         "marker": {
          "color": "#FF97FF",
          "line": {
           "color": "black",
           "width": 1
          },
          "opacity": 0.7,
          "symbol": "circle"
         },
         "mode": "markers",
         "name": "ID: 9",
         "showlegend": true,
         "type": "scatter",
         "x": [
          0,
          4,
          5,
          6,
          7,
          8,
          9,
          10
         ],
         "y": [
          290740.30955672933,
          7499514.364956185,
          1479222.2572542198,
          290612.13225270115,
          57094.97789961598,
          11217.112756014572,
          2203.7479707028533,
          432.9588891982066
         ]
        },
        {
         "marker": {
          "color": "#FECB52",
          "line": {
           "color": "black",
           "width": 1
          },
          "opacity": 0.7,
          "symbol": "circle"
         },
         "mode": "markers",
         "name": "ID: 10",
         "showlegend": true,
         "type": "scatter",
         "x": [
          0,
          4,
          5,
          6,
          7,
          8,
          9,
          10
         ],
         "y": [
          290740.30955672933,
          7499514.364956186,
          1305509.1122743576,
          226677.2493591334,
          39358.69990065156,
          6833.9015999254,
          1186.5923944479978,
          206.02954735641305
         ]
        },
        {
         "marker": {
          "color": "#636EFA",
          "line": {
           "color": "black",
           "width": 1
          },
          "opacity": 0.7,
          "symbol": "circle"
         },
         "mode": "markers",
         "name": "ID: 11",
         "showlegend": true,
         "type": "scatter",
         "x": [
          0,
          4,
          5,
          6,
          7,
          8,
          9,
          10
         ],
         "y": [
          290740.30955672933,
          7499514.364956189,
          1220122.5238691487,
          198206.23280609061,
          32198.163272304842,
          5230.519015670375,
          849.6857155581899,
          138.02941161014022
         ]
        },
        {
         "marker": {
          "color": "#EF553B",
          "line": {
           "color": "black",
           "width": 1
          },
          "opacity": 0.7,
          "symbol": "circle"
         },
         "mode": "markers",
         "name": "ID: 12",
         "showlegend": true,
         "type": "scatter",
         "x": [
          0,
          4,
          5,
          6,
          7,
          8,
          9,
          10
         ],
         "y": [
          290740.30955672933,
          7499514.364956186,
          1177986.1280588252,
          184851.22777930627,
          29007.259943363355,
          4551.888526469996,
          714.2871807794409,
          112.08797314815476
         ]
        }
       ],
       "layout": {
        "autosize": true,
        "template": {
         "data": {
          "bar": [
           {
            "error_x": {
             "color": "#2a3f5f"
            },
            "error_y": {
             "color": "#2a3f5f"
            },
            "marker": {
             "line": {
              "color": "white",
              "width": 0.5
             },
             "pattern": {
              "fillmode": "overlay",
              "size": 10,
              "solidity": 0.2
             }
            },
            "type": "bar"
           }
          ],
          "barpolar": [
           {
            "marker": {
             "line": {
              "color": "white",
              "width": 0.5
             },
             "pattern": {
              "fillmode": "overlay",
              "size": 10,
              "solidity": 0.2
             }
            },
            "type": "barpolar"
           }
          ],
          "carpet": [
           {
            "aaxis": {
             "endlinecolor": "#2a3f5f",
             "gridcolor": "#C8D4E3",
             "linecolor": "#C8D4E3",
             "minorgridcolor": "#C8D4E3",
             "startlinecolor": "#2a3f5f"
            },
            "baxis": {
             "endlinecolor": "#2a3f5f",
             "gridcolor": "#C8D4E3",
             "linecolor": "#C8D4E3",
             "minorgridcolor": "#C8D4E3",
             "startlinecolor": "#2a3f5f"
            },
            "type": "carpet"
           }
          ],
          "choropleth": [
           {
            "colorbar": {
             "outlinewidth": 0,
             "ticks": ""
            },
            "type": "choropleth"
           }
          ],
          "contour": [
           {
            "colorbar": {
             "outlinewidth": 0,
             "ticks": ""
            },
            "colorscale": [
             [
              0,
              "#0d0887"
             ],
             [
              0.1111111111111111,
              "#46039f"
             ],
             [
              0.2222222222222222,
              "#7201a8"
             ],
             [
              0.3333333333333333,
              "#9c179e"
             ],
             [
              0.4444444444444444,
              "#bd3786"
             ],
             [
              0.5555555555555556,
              "#d8576b"
             ],
             [
              0.6666666666666666,
              "#ed7953"
             ],
             [
              0.7777777777777778,
              "#fb9f3a"
             ],
             [
              0.8888888888888888,
              "#fdca26"
             ],
             [
              1,
              "#f0f921"
             ]
            ],
            "type": "contour"
           }
          ],
          "contourcarpet": [
           {
            "colorbar": {
             "outlinewidth": 0,
             "ticks": ""
            },
            "type": "contourcarpet"
           }
          ],
          "heatmap": [
           {
            "colorbar": {
             "outlinewidth": 0,
             "ticks": ""
            },
            "colorscale": [
             [
              0,
              "#0d0887"
             ],
             [
              0.1111111111111111,
              "#46039f"
             ],
             [
              0.2222222222222222,
              "#7201a8"
             ],
             [
              0.3333333333333333,
              "#9c179e"
             ],
             [
              0.4444444444444444,
              "#bd3786"
             ],
             [
              0.5555555555555556,
              "#d8576b"
             ],
             [
              0.6666666666666666,
              "#ed7953"
             ],
             [
              0.7777777777777778,
              "#fb9f3a"
             ],
             [
              0.8888888888888888,
              "#fdca26"
             ],
             [
              1,
              "#f0f921"
             ]
            ],
            "type": "heatmap"
           }
          ],
          "heatmapgl": [
           {
            "colorbar": {
             "outlinewidth": 0,
             "ticks": ""
            },
            "colorscale": [
             [
              0,
              "#0d0887"
             ],
             [
              0.1111111111111111,
              "#46039f"
             ],
             [
              0.2222222222222222,
              "#7201a8"
             ],
             [
              0.3333333333333333,
              "#9c179e"
             ],
             [
              0.4444444444444444,
              "#bd3786"
             ],
             [
              0.5555555555555556,
              "#d8576b"
             ],
             [
              0.6666666666666666,
              "#ed7953"
             ],
             [
              0.7777777777777778,
              "#fb9f3a"
             ],
             [
              0.8888888888888888,
              "#fdca26"
             ],
             [
              1,
              "#f0f921"
             ]
            ],
            "type": "heatmapgl"
           }
          ],
          "histogram": [
           {
            "marker": {
             "pattern": {
              "fillmode": "overlay",
              "size": 10,
              "solidity": 0.2
             }
            },
            "type": "histogram"
           }
          ],
          "histogram2d": [
           {
            "colorbar": {
             "outlinewidth": 0,
             "ticks": ""
            },
            "colorscale": [
             [
              0,
              "#0d0887"
             ],
             [
              0.1111111111111111,
              "#46039f"
             ],
             [
              0.2222222222222222,
              "#7201a8"
             ],
             [
              0.3333333333333333,
              "#9c179e"
             ],
             [
              0.4444444444444444,
              "#bd3786"
             ],
             [
              0.5555555555555556,
              "#d8576b"
             ],
             [
              0.6666666666666666,
              "#ed7953"
             ],
             [
              0.7777777777777778,
              "#fb9f3a"
             ],
             [
              0.8888888888888888,
              "#fdca26"
             ],
             [
              1,
              "#f0f921"
             ]
            ],
            "type": "histogram2d"
           }
          ],
          "histogram2dcontour": [
           {
            "colorbar": {
             "outlinewidth": 0,
             "ticks": ""
            },
            "colorscale": [
             [
              0,
              "#0d0887"
             ],
             [
              0.1111111111111111,
              "#46039f"
             ],
             [
              0.2222222222222222,
              "#7201a8"
             ],
             [
              0.3333333333333333,
              "#9c179e"
             ],
             [
              0.4444444444444444,
              "#bd3786"
             ],
             [
              0.5555555555555556,
              "#d8576b"
             ],
             [
              0.6666666666666666,
              "#ed7953"
             ],
             [
              0.7777777777777778,
              "#fb9f3a"
             ],
             [
              0.8888888888888888,
              "#fdca26"
             ],
             [
              1,
              "#f0f921"
             ]
            ],
            "type": "histogram2dcontour"
           }
          ],
          "mesh3d": [
           {
            "colorbar": {
             "outlinewidth": 0,
             "ticks": ""
            },
            "type": "mesh3d"
           }
          ],
          "parcoords": [
           {
            "line": {
             "colorbar": {
              "outlinewidth": 0,
              "ticks": ""
             }
            },
            "type": "parcoords"
           }
          ],
          "pie": [
           {
            "automargin": true,
            "type": "pie"
           }
          ],
          "scatter": [
           {
            "marker": {
             "colorbar": {
              "outlinewidth": 0,
              "ticks": ""
             }
            },
            "type": "scatter"
           }
          ],
          "scatter3d": [
           {
            "line": {
             "colorbar": {
              "outlinewidth": 0,
              "ticks": ""
             }
            },
            "marker": {
             "colorbar": {
              "outlinewidth": 0,
              "ticks": ""
             }
            },
            "type": "scatter3d"
           }
          ],
          "scattercarpet": [
           {
            "marker": {
             "colorbar": {
              "outlinewidth": 0,
              "ticks": ""
             }
            },
            "type": "scattercarpet"
           }
          ],
          "scattergeo": [
           {
            "marker": {
             "colorbar": {
              "outlinewidth": 0,
              "ticks": ""
             }
            },
            "type": "scattergeo"
           }
          ],
          "scattergl": [
           {
            "marker": {
             "colorbar": {
              "outlinewidth": 0,
              "ticks": ""
             }
            },
            "type": "scattergl"
           }
          ],
          "scattermapbox": [
           {
            "marker": {
             "colorbar": {
              "outlinewidth": 0,
              "ticks": ""
             }
            },
            "type": "scattermapbox"
           }
          ],
          "scatterpolar": [
           {
            "marker": {
             "colorbar": {
              "outlinewidth": 0,
              "ticks": ""
             }
            },
            "type": "scatterpolar"
           }
          ],
          "scatterpolargl": [
           {
            "marker": {
             "colorbar": {
              "outlinewidth": 0,
              "ticks": ""
             }
            },
            "type": "scatterpolargl"
           }
          ],
          "scatterternary": [
           {
            "marker": {
             "colorbar": {
              "outlinewidth": 0,
              "ticks": ""
             }
            },
            "type": "scatterternary"
           }
          ],
          "surface": [
           {
            "colorbar": {
             "outlinewidth": 0,
             "ticks": ""
            },
            "colorscale": [
             [
              0,
              "#0d0887"
             ],
             [
              0.1111111111111111,
              "#46039f"
             ],
             [
              0.2222222222222222,
              "#7201a8"
             ],
             [
              0.3333333333333333,
              "#9c179e"
             ],
             [
              0.4444444444444444,
              "#bd3786"
             ],
             [
              0.5555555555555556,
              "#d8576b"
             ],
             [
              0.6666666666666666,
              "#ed7953"
             ],
             [
              0.7777777777777778,
              "#fb9f3a"
             ],
             [
              0.8888888888888888,
              "#fdca26"
             ],
             [
              1,
              "#f0f921"
             ]
            ],
            "type": "surface"
           }
          ],
          "table": [
           {
            "cells": {
             "fill": {
              "color": "#EBF0F8"
             },
             "line": {
              "color": "white"
             }
            },
            "header": {
             "fill": {
              "color": "#C8D4E3"
             },
             "line": {
              "color": "white"
             }
            },
            "type": "table"
           }
          ]
         },
         "layout": {
          "annotationdefaults": {
           "arrowcolor": "#2a3f5f",
           "arrowhead": 0,
           "arrowwidth": 1
          },
          "autotypenumbers": "strict",
          "coloraxis": {
           "colorbar": {
            "outlinewidth": 0,
            "ticks": ""
           }
          },
          "colorscale": {
           "diverging": [
            [
             0,
             "#8e0152"
            ],
            [
             0.1,
             "#c51b7d"
            ],
            [
             0.2,
             "#de77ae"
            ],
            [
             0.3,
             "#f1b6da"
            ],
            [
             0.4,
             "#fde0ef"
            ],
            [
             0.5,
             "#f7f7f7"
            ],
            [
             0.6,
             "#e6f5d0"
            ],
            [
             0.7,
             "#b8e186"
            ],
            [
             0.8,
             "#7fbc41"
            ],
            [
             0.9,
             "#4d9221"
            ],
            [
             1,
             "#276419"
            ]
           ],
           "sequential": [
            [
             0,
             "#0d0887"
            ],
            [
             0.1111111111111111,
             "#46039f"
            ],
            [
             0.2222222222222222,
             "#7201a8"
            ],
            [
             0.3333333333333333,
             "#9c179e"
            ],
            [
             0.4444444444444444,
             "#bd3786"
            ],
            [
             0.5555555555555556,
             "#d8576b"
            ],
            [
             0.6666666666666666,
             "#ed7953"
            ],
            [
             0.7777777777777778,
             "#fb9f3a"
            ],
            [
             0.8888888888888888,
             "#fdca26"
            ],
            [
             1,
             "#f0f921"
            ]
           ],
           "sequentialminus": [
            [
             0,
             "#0d0887"
            ],
            [
             0.1111111111111111,
             "#46039f"
            ],
            [
             0.2222222222222222,
             "#7201a8"
            ],
            [
             0.3333333333333333,
             "#9c179e"
            ],
            [
             0.4444444444444444,
             "#bd3786"
            ],
            [
             0.5555555555555556,
             "#d8576b"
            ],
            [
             0.6666666666666666,
             "#ed7953"
            ],
            [
             0.7777777777777778,
             "#fb9f3a"
            ],
            [
             0.8888888888888888,
             "#fdca26"
            ],
            [
             1,
             "#f0f921"
            ]
           ]
          },
          "colorway": [
           "#636efa",
           "#EF553B",
           "#00cc96",
           "#ab63fa",
           "#FFA15A",
           "#19d3f3",
           "#FF6692",
           "#B6E880",
           "#FF97FF",
           "#FECB52"
          ],
          "font": {
           "color": "#2a3f5f"
          },
          "geo": {
           "bgcolor": "white",
           "lakecolor": "white",
           "landcolor": "white",
           "showlakes": true,
           "showland": true,
           "subunitcolor": "#C8D4E3"
          },
          "hoverlabel": {
           "align": "left"
          },
          "hovermode": "closest",
          "mapbox": {
           "style": "light"
          },
          "paper_bgcolor": "white",
          "plot_bgcolor": "white",
          "polar": {
           "angularaxis": {
            "gridcolor": "#EBF0F8",
            "linecolor": "#EBF0F8",
            "ticks": ""
           },
           "bgcolor": "white",
           "radialaxis": {
            "gridcolor": "#EBF0F8",
            "linecolor": "#EBF0F8",
            "ticks": ""
           }
          },
          "scene": {
           "xaxis": {
            "backgroundcolor": "white",
            "gridcolor": "#DFE8F3",
            "gridwidth": 2,
            "linecolor": "#EBF0F8",
            "showbackground": true,
            "ticks": "",
            "zerolinecolor": "#EBF0F8"
           },
           "yaxis": {
            "backgroundcolor": "white",
            "gridcolor": "#DFE8F3",
            "gridwidth": 2,
            "linecolor": "#EBF0F8",
            "showbackground": true,
            "ticks": "",
            "zerolinecolor": "#EBF0F8"
           },
           "zaxis": {
            "backgroundcolor": "white",
            "gridcolor": "#DFE8F3",
            "gridwidth": 2,
            "linecolor": "#EBF0F8",
            "showbackground": true,
            "ticks": "",
            "zerolinecolor": "#EBF0F8"
           }
          },
          "shapedefaults": {
           "line": {
            "color": "#2a3f5f"
           }
          },
          "ternary": {
           "aaxis": {
            "gridcolor": "#DFE8F3",
            "linecolor": "#A2B1C6",
            "ticks": ""
           },
           "baxis": {
            "gridcolor": "#DFE8F3",
            "linecolor": "#A2B1C6",
            "ticks": ""
           },
           "bgcolor": "white",
           "caxis": {
            "gridcolor": "#DFE8F3",
            "linecolor": "#A2B1C6",
            "ticks": ""
           }
          },
          "title": {
           "x": 0.05
          },
          "xaxis": {
           "automargin": true,
           "gridcolor": "#EBF0F8",
           "linecolor": "#EBF0F8",
           "ticks": "",
           "title": {
            "standoff": 15
           },
           "zerolinecolor": "#EBF0F8",
           "zerolinewidth": 2
          },
          "yaxis": {
           "automargin": true,
           "gridcolor": "#EBF0F8",
           "linecolor": "#EBF0F8",
           "ticks": "",
           "title": {
            "standoff": 15
           },
           "zerolinecolor": "#EBF0F8",
           "zerolinewidth": 2
          }
         }
        },
        "updatemenus": [
         {
          "buttons": [
           {
            "args": [
             {
              "yaxis.type": "linear"
             }
            ],
            "label": "Linear y-scale",
            "method": "relayout"
           },
           {
            "args": [
             {
              "yaxis.type": "log"
             }
            ],
            "label": "Log y-scale",
            "method": "relayout"
           }
          ],
          "direction": "left",
          "pad": {
           "r": 0,
           "t": -10
          },
          "showactive": true,
          "type": "buttons",
          "x": 0,
          "xanchor": "left",
          "y": 1.15,
          "yanchor": "top"
         }
        ]
       }
      }
     },
     "metadata": {},
     "output_type": "display_data"
    }
   ],
   "source": [
    "# Fix unnecessary parameters of mechanistic model\n",
    "mechanistic_model = chi.ReducedMechanisticModel(\n",
    "    mechanistic_model)\n",
    "mechanistic_model.fix_parameters({\n",
    "    'central.drug_amount': 0,\n",
    "    'myokit.bacterial_count_adapted': 0,\n",
    "    'central.size': 1,\n",
    "    'myokit.elimination_rate': 0,\n",
    "    'myokit.gamma': 1})\n",
    "\n",
    "# Get MLE parameters (and fill in fixed parameters)\n",
    "mle_score = estimates['Score'].max()\n",
    "mask = estimates['Score'] == mle_score\n",
    "mle_estimates = estimates[mask]\n",
    "parameters = [\n",
    "    mle_estimates.loc[\n",
    "        mle_estimates['Parameter'] == 'Pooled Initial bacterial count in CFU/ml',\n",
    "        'Estimate'].iloc[0],\n",
    "    mle_estimates.loc[\n",
    "        mle_estimates['Parameter'] == 'Pooled EC 50 in ng/ml',\n",
    "        'Estimate'].iloc[0],\n",
    "    mle_estimates.loc[\n",
    "        mle_estimates['Parameter'] == 'Pooled Growth rate in 1/h',\n",
    "        'Estimate'].iloc[0],\n",
    "    mle_estimates.loc[\n",
    "        mle_estimates['Parameter'] == 'Pooled Max. kill rate in 1/h',\n",
    "        'Estimate'].iloc[0]\n",
    "]\n",
    "\n",
    "# Get dosing regigmes\n",
    "regimens = problem.get_dosing_regimens()\n",
    "\n",
    "# Construct predictions for all dosing regimens\n",
    "predictions = pd.DataFrame(\n",
    "    columns=['ID', 'Time', 'Biomarker', 'Sample'])\n",
    "ids = temp['ID'].dropna().unique()\n",
    "for _id in ids:\n",
    "    # Set regimen\n",
    "    regimen = regimens[str(_id)]\n",
    "    mechanistic_model.simulator.set_protocol(regimen)\n",
    "\n",
    "    # Get relevant times\n",
    "    mask = temp['ID'] == _id\n",
    "    times = temp.loc[mask, 'Time'].to_numpy()\n",
    "    pred = mechanistic_model.simulate(\n",
    "        parameters=parameters, times=times)\n",
    "    \n",
    "    # Store predictions in dataframe\n",
    "    predictions = predictions.append(pd.DataFrame({\n",
    "        'ID': _id,\n",
    "        'Time': times,\n",
    "        'Biomarker': 'Bacterial count',\n",
    "        'Sample': pred.flatten()\n",
    "    }))\n",
    "\n",
    "# Create figure\n",
    "fig = chi.plots.PDPredictivePlot()\n",
    "fig.add_data(predictions, meas_key='Sample')\n",
    "fig.show()"
   ]
  },
  {
   "cell_type": "markdown",
   "metadata": {},
   "source": [
    "Visualise residuals to measurements"
   ]
  },
  {
   "cell_type": "code",
   "execution_count": 14,
   "metadata": {},
   "outputs": [
    {
     "data": {
      "application/vnd.plotly.v1+json": {
       "config": {
        "plotlyServerURL": "https://plot.ly"
       },
       "data": [
        {
         "marker": {
          "color": "#636EFA",
          "line": {
           "color": "black",
           "width": 1
          },
          "opacity": 0.7,
          "symbol": "circle"
         },
         "mode": "markers",
         "name": "ID: 1",
         "showlegend": true,
         "type": "scatter",
         "x": [
          290740.3095567293,
          7499514.364956188,
          5968416.084379296,
          8571385.002144663,
          15049590.780386,
          28442512.0756117,
          55870642.74659032,
          112549169.7793275
         ],
         "y": [
          -90740.30955672928,
          500485.635043812,
          4031583.915620704,
          2428614.9978553373,
          16950409.219614,
          -1442512.0756116994,
          174129357.25340968,
          127450830.2206725
         ]
        },
        {
         "marker": {
          "color": "#EF553B",
          "line": {
           "color": "black",
           "width": 1
          },
          "opacity": 0.7,
          "symbol": "circle"
         },
         "mode": "markers",
         "name": "ID: 2",
         "showlegend": true,
         "type": "scatter",
         "x": [
          290740.3095567293,
          7499514.364956188,
          5968416.084379296,
          8571385.002144663,
          15049590.780386,
          28442512.0756117,
          55870642.74659032,
          112549169.7793275
         ],
         "y": [
          -90740.30955672928,
          -499514.364956188,
          7031583.915620704,
          3428614.9978553373,
          8950409.219614,
          557487.9243883006,
          44129357.25340968,
          7450830.220672503
         ]
        },
        {
         "marker": {
          "color": "#00CC96",
          "line": {
           "color": "black",
           "width": 1
          },
          "opacity": 0.7,
          "symbol": "circle"
         },
         "mode": "markers",
         "name": "ID: 3",
         "showlegend": true,
         "type": "scatter",
         "x": [
          290740.3095567293,
          7499514.364956188,
          5968416.084379296,
          8571385.002144663,
          15049590.780386,
          28442512.0756117,
          55870642.74659032,
          112549169.7793275
         ],
         "y": [
          -90740.30955672928,
          2500485.635043812,
          10031583.915620703,
          3428614.9978553373,
          6950409.219613999,
          -3442512.0756116994,
          104129357.25340968,
          7450830.220672503
         ]
        },
        {
         "marker": {
          "color": "#AB63FA",
          "line": {
           "color": "black",
           "width": 1
          },
          "opacity": 0.7,
          "symbol": "circle"
         },
         "mode": "markers",
         "name": "ID: 4",
         "showlegend": true,
         "type": "scatter",
         "x": [
          290740.3095567293,
          7499514.364956188,
          5968416.084379296,
          8571385.002144663,
          15049590.780386,
          28442512.0756117,
          55870642.74659032,
          112549169.7793275
         ],
         "y": [
          -90740.30955672928,
          2500485.635043812,
          6031583.915620704,
          1428614.9978553373,
          6950409.219613999,
          -9442512.0756117,
          104129357.25340968,
          -42549169.7793275
         ]
        },
        {
         "marker": {
          "color": "#FFA15A",
          "line": {
           "color": "black",
           "width": 1
          },
          "opacity": 0.7,
          "symbol": "circle"
         },
         "mode": "markers",
         "name": "ID: 5",
         "showlegend": true,
         "type": "scatter",
         "x": [
          290740.3095567293,
          7499514.364956188,
          5968416.084379296,
          8571385.002144663,
          15049590.780386,
          28442512.0756117,
          55870642.74659032,
          112549169.7793275
         ],
         "y": [
          -90740.30955672928,
          1500485.635043812,
          6031583.915620704,
          -3571385.0021446627,
          -10049590.780386,
          -27242512.0756117,
          -53570642.74659032,
          -110949169.7793275
         ]
        },
        {
         "marker": {
          "color": "#19D3F3",
          "line": {
           "color": "black",
           "width": 1
          },
          "opacity": 0.7,
          "symbol": "circle"
         },
         "mode": "markers",
         "name": "ID: 6",
         "showlegend": true,
         "type": "scatter",
         "x": [
          290740.3095567293,
          7499514.364956188,
          5968416.084379296,
          8571385.002144663,
          15049590.780386,
          28442512.0756117,
          55870642.74659032,
          112549169.7793275
         ],
         "y": [
          -90740.30955672928,
          -2499514.364956188,
          -4968416.084379296,
          -8271385.002144663,
          -14919590.780386,
          -28382512.0756117,
          -55830642.74659032,
          -112545169.7793275
         ]
        },
        {
         "marker": {
          "color": "#FF6692",
          "line": {
           "color": "black",
           "width": 1
          },
          "opacity": 0.7,
          "symbol": "circle"
         },
         "mode": "markers",
         "name": "ID: 7",
         "showlegend": true,
         "type": "scatter",
         "x": [
          290740.3095567293,
          7499514.364956188,
          5968416.084379296,
          8571385.002144663,
          15049590.780386,
          28442512.0756117,
          55870642.74659032,
          112549169.7793275
         ],
         "y": [
          -90740.30955672928,
          -2499514.364956188,
          -5838416.084379296,
          -8541385.002144663,
          -15009590.780386,
          -28434512.0756117,
          -55864642.74659032,
          -112547169.7793275
         ]
        },
        {
         "marker": {
          "color": "#B6E880",
          "line": {
           "color": "black",
           "width": 1
          },
          "opacity": 0.7,
          "symbol": "circle"
         },
         "mode": "markers",
         "name": "ID: 8",
         "showlegend": true,
         "type": "scatter",
         "x": [
          290740.3095567293,
          7499514.364956188,
          5968416.084379296,
          8571385.002144663,
          15049590.780386,
          28442512.0756117,
          55870642.74659032,
          112549169.7793275
         ],
         "y": [
          -90740.30955672928,
          -2499514.364956188,
          -5898416.084379296,
          -8531385.002144663,
          -15036590.780386,
          -28436512.0756117,
          -55866642.74659032,
          -112547369.7793275
         ]
        },
        {
         "marker": {
          "color": "#FF97FF",
          "line": {
           "color": "black",
           "width": 1
          },
          "opacity": 0.7,
          "symbol": "circle"
         },
         "mode": "markers",
         "name": "ID: 9",
         "showlegend": true,
         "type": "scatter",
         "x": [
          290740.3095567293,
          7499514.364956188,
          5968416.084379296,
          8571385.002144663,
          15049590.780386,
          28442512.0756117,
          55870642.74659032,
          112549169.7793275
         ],
         "y": [
          -90740.30955672928,
          -3499514.364956188,
          -5908416.084379296,
          -8568385.002144663,
          -15043590.780386,
          -28441912.0756117,
          -55866642.74659032,
          -112548269.7793275
         ]
        },
        {
         "marker": {
          "color": "#FECB52",
          "line": {
           "color": "black",
           "width": 1
          },
          "opacity": 0.7,
          "symbol": "circle"
         },
         "mode": "markers",
         "name": "ID: 10",
         "showlegend": true,
         "type": "scatter",
         "x": [
          290740.3095567293,
          7499514.364956188,
          5968416.084379296,
          8571385.002144663,
          15049590.780386,
          28442512.0756117,
          55870642.74659032,
          112549169.7793275
         ],
         "y": [
          -90740.30955672928,
          -7199514.364956188,
          -5938416.084379296,
          -8567385.002144663,
          -15045590.780386,
          -28441612.0756117,
          -55869742.74659032,
          -112548469.7793275
         ]
        },
        {
         "marker": {
          "color": "#636EFA",
          "line": {
           "color": "black",
           "width": 1
          },
          "opacity": 0.7,
          "symbol": "circle"
         },
         "mode": "markers",
         "name": "ID: 11",
         "showlegend": true,
         "type": "scatter",
         "x": [
          290740.3095567293,
          7499514.364956188,
          5968416.084379296,
          8571385.002144663,
          15049590.780386,
          28442512.0756117,
          55870642.74659032,
          112549169.7793275
         ],
         "y": [
          -90740.30955672928,
          -6399514.364956188,
          -5938416.084379296,
          -8565385.002144663,
          -15044590.780386,
          -28440912.0756117,
          -55869542.74659032,
          -112548569.7793275
         ]
        },
        {
         "marker": {
          "color": "#EF553B",
          "line": {
           "color": "black",
           "width": 1
          },
          "opacity": 0.7,
          "symbol": "circle"
         },
         "mode": "markers",
         "name": "ID: 12",
         "showlegend": true,
         "type": "scatter",
         "x": [
          290740.3095567293,
          7499514.364956188,
          5968416.084379296,
          8571385.002144663,
          15049590.780386,
          28442512.0756117,
          55870642.74659032,
          112549169.7793275
         ],
         "y": [
          -90740.30955672928,
          -6399514.364956188,
          -5868416.084379296,
          -8566385.002144663,
          -15042590.780386,
          -28441412.0756117,
          -55869642.74659032,
          -112548569.7793275
         ]
        }
       ],
       "layout": {
        "autosize": true,
        "template": {
         "data": {
          "bar": [
           {
            "error_x": {
             "color": "#2a3f5f"
            },
            "error_y": {
             "color": "#2a3f5f"
            },
            "marker": {
             "line": {
              "color": "white",
              "width": 0.5
             },
             "pattern": {
              "fillmode": "overlay",
              "size": 10,
              "solidity": 0.2
             }
            },
            "type": "bar"
           }
          ],
          "barpolar": [
           {
            "marker": {
             "line": {
              "color": "white",
              "width": 0.5
             },
             "pattern": {
              "fillmode": "overlay",
              "size": 10,
              "solidity": 0.2
             }
            },
            "type": "barpolar"
           }
          ],
          "carpet": [
           {
            "aaxis": {
             "endlinecolor": "#2a3f5f",
             "gridcolor": "#C8D4E3",
             "linecolor": "#C8D4E3",
             "minorgridcolor": "#C8D4E3",
             "startlinecolor": "#2a3f5f"
            },
            "baxis": {
             "endlinecolor": "#2a3f5f",
             "gridcolor": "#C8D4E3",
             "linecolor": "#C8D4E3",
             "minorgridcolor": "#C8D4E3",
             "startlinecolor": "#2a3f5f"
            },
            "type": "carpet"
           }
          ],
          "choropleth": [
           {
            "colorbar": {
             "outlinewidth": 0,
             "ticks": ""
            },
            "type": "choropleth"
           }
          ],
          "contour": [
           {
            "colorbar": {
             "outlinewidth": 0,
             "ticks": ""
            },
            "colorscale": [
             [
              0,
              "#0d0887"
             ],
             [
              0.1111111111111111,
              "#46039f"
             ],
             [
              0.2222222222222222,
              "#7201a8"
             ],
             [
              0.3333333333333333,
              "#9c179e"
             ],
             [
              0.4444444444444444,
              "#bd3786"
             ],
             [
              0.5555555555555556,
              "#d8576b"
             ],
             [
              0.6666666666666666,
              "#ed7953"
             ],
             [
              0.7777777777777778,
              "#fb9f3a"
             ],
             [
              0.8888888888888888,
              "#fdca26"
             ],
             [
              1,
              "#f0f921"
             ]
            ],
            "type": "contour"
           }
          ],
          "contourcarpet": [
           {
            "colorbar": {
             "outlinewidth": 0,
             "ticks": ""
            },
            "type": "contourcarpet"
           }
          ],
          "heatmap": [
           {
            "colorbar": {
             "outlinewidth": 0,
             "ticks": ""
            },
            "colorscale": [
             [
              0,
              "#0d0887"
             ],
             [
              0.1111111111111111,
              "#46039f"
             ],
             [
              0.2222222222222222,
              "#7201a8"
             ],
             [
              0.3333333333333333,
              "#9c179e"
             ],
             [
              0.4444444444444444,
              "#bd3786"
             ],
             [
              0.5555555555555556,
              "#d8576b"
             ],
             [
              0.6666666666666666,
              "#ed7953"
             ],
             [
              0.7777777777777778,
              "#fb9f3a"
             ],
             [
              0.8888888888888888,
              "#fdca26"
             ],
             [
              1,
              "#f0f921"
             ]
            ],
            "type": "heatmap"
           }
          ],
          "heatmapgl": [
           {
            "colorbar": {
             "outlinewidth": 0,
             "ticks": ""
            },
            "colorscale": [
             [
              0,
              "#0d0887"
             ],
             [
              0.1111111111111111,
              "#46039f"
             ],
             [
              0.2222222222222222,
              "#7201a8"
             ],
             [
              0.3333333333333333,
              "#9c179e"
             ],
             [
              0.4444444444444444,
              "#bd3786"
             ],
             [
              0.5555555555555556,
              "#d8576b"
             ],
             [
              0.6666666666666666,
              "#ed7953"
             ],
             [
              0.7777777777777778,
              "#fb9f3a"
             ],
             [
              0.8888888888888888,
              "#fdca26"
             ],
             [
              1,
              "#f0f921"
             ]
            ],
            "type": "heatmapgl"
           }
          ],
          "histogram": [
           {
            "marker": {
             "pattern": {
              "fillmode": "overlay",
              "size": 10,
              "solidity": 0.2
             }
            },
            "type": "histogram"
           }
          ],
          "histogram2d": [
           {
            "colorbar": {
             "outlinewidth": 0,
             "ticks": ""
            },
            "colorscale": [
             [
              0,
              "#0d0887"
             ],
             [
              0.1111111111111111,
              "#46039f"
             ],
             [
              0.2222222222222222,
              "#7201a8"
             ],
             [
              0.3333333333333333,
              "#9c179e"
             ],
             [
              0.4444444444444444,
              "#bd3786"
             ],
             [
              0.5555555555555556,
              "#d8576b"
             ],
             [
              0.6666666666666666,
              "#ed7953"
             ],
             [
              0.7777777777777778,
              "#fb9f3a"
             ],
             [
              0.8888888888888888,
              "#fdca26"
             ],
             [
              1,
              "#f0f921"
             ]
            ],
            "type": "histogram2d"
           }
          ],
          "histogram2dcontour": [
           {
            "colorbar": {
             "outlinewidth": 0,
             "ticks": ""
            },
            "colorscale": [
             [
              0,
              "#0d0887"
             ],
             [
              0.1111111111111111,
              "#46039f"
             ],
             [
              0.2222222222222222,
              "#7201a8"
             ],
             [
              0.3333333333333333,
              "#9c179e"
             ],
             [
              0.4444444444444444,
              "#bd3786"
             ],
             [
              0.5555555555555556,
              "#d8576b"
             ],
             [
              0.6666666666666666,
              "#ed7953"
             ],
             [
              0.7777777777777778,
              "#fb9f3a"
             ],
             [
              0.8888888888888888,
              "#fdca26"
             ],
             [
              1,
              "#f0f921"
             ]
            ],
            "type": "histogram2dcontour"
           }
          ],
          "mesh3d": [
           {
            "colorbar": {
             "outlinewidth": 0,
             "ticks": ""
            },
            "type": "mesh3d"
           }
          ],
          "parcoords": [
           {
            "line": {
             "colorbar": {
              "outlinewidth": 0,
              "ticks": ""
             }
            },
            "type": "parcoords"
           }
          ],
          "pie": [
           {
            "automargin": true,
            "type": "pie"
           }
          ],
          "scatter": [
           {
            "marker": {
             "colorbar": {
              "outlinewidth": 0,
              "ticks": ""
             }
            },
            "type": "scatter"
           }
          ],
          "scatter3d": [
           {
            "line": {
             "colorbar": {
              "outlinewidth": 0,
              "ticks": ""
             }
            },
            "marker": {
             "colorbar": {
              "outlinewidth": 0,
              "ticks": ""
             }
            },
            "type": "scatter3d"
           }
          ],
          "scattercarpet": [
           {
            "marker": {
             "colorbar": {
              "outlinewidth": 0,
              "ticks": ""
             }
            },
            "type": "scattercarpet"
           }
          ],
          "scattergeo": [
           {
            "marker": {
             "colorbar": {
              "outlinewidth": 0,
              "ticks": ""
             }
            },
            "type": "scattergeo"
           }
          ],
          "scattergl": [
           {
            "marker": {
             "colorbar": {
              "outlinewidth": 0,
              "ticks": ""
             }
            },
            "type": "scattergl"
           }
          ],
          "scattermapbox": [
           {
            "marker": {
             "colorbar": {
              "outlinewidth": 0,
              "ticks": ""
             }
            },
            "type": "scattermapbox"
           }
          ],
          "scatterpolar": [
           {
            "marker": {
             "colorbar": {
              "outlinewidth": 0,
              "ticks": ""
             }
            },
            "type": "scatterpolar"
           }
          ],
          "scatterpolargl": [
           {
            "marker": {
             "colorbar": {
              "outlinewidth": 0,
              "ticks": ""
             }
            },
            "type": "scatterpolargl"
           }
          ],
          "scatterternary": [
           {
            "marker": {
             "colorbar": {
              "outlinewidth": 0,
              "ticks": ""
             }
            },
            "type": "scatterternary"
           }
          ],
          "surface": [
           {
            "colorbar": {
             "outlinewidth": 0,
             "ticks": ""
            },
            "colorscale": [
             [
              0,
              "#0d0887"
             ],
             [
              0.1111111111111111,
              "#46039f"
             ],
             [
              0.2222222222222222,
              "#7201a8"
             ],
             [
              0.3333333333333333,
              "#9c179e"
             ],
             [
              0.4444444444444444,
              "#bd3786"
             ],
             [
              0.5555555555555556,
              "#d8576b"
             ],
             [
              0.6666666666666666,
              "#ed7953"
             ],
             [
              0.7777777777777778,
              "#fb9f3a"
             ],
             [
              0.8888888888888888,
              "#fdca26"
             ],
             [
              1,
              "#f0f921"
             ]
            ],
            "type": "surface"
           }
          ],
          "table": [
           {
            "cells": {
             "fill": {
              "color": "#EBF0F8"
             },
             "line": {
              "color": "white"
             }
            },
            "header": {
             "fill": {
              "color": "#C8D4E3"
             },
             "line": {
              "color": "white"
             }
            },
            "type": "table"
           }
          ]
         },
         "layout": {
          "annotationdefaults": {
           "arrowcolor": "#2a3f5f",
           "arrowhead": 0,
           "arrowwidth": 1
          },
          "autotypenumbers": "strict",
          "coloraxis": {
           "colorbar": {
            "outlinewidth": 0,
            "ticks": ""
           }
          },
          "colorscale": {
           "diverging": [
            [
             0,
             "#8e0152"
            ],
            [
             0.1,
             "#c51b7d"
            ],
            [
             0.2,
             "#de77ae"
            ],
            [
             0.3,
             "#f1b6da"
            ],
            [
             0.4,
             "#fde0ef"
            ],
            [
             0.5,
             "#f7f7f7"
            ],
            [
             0.6,
             "#e6f5d0"
            ],
            [
             0.7,
             "#b8e186"
            ],
            [
             0.8,
             "#7fbc41"
            ],
            [
             0.9,
             "#4d9221"
            ],
            [
             1,
             "#276419"
            ]
           ],
           "sequential": [
            [
             0,
             "#0d0887"
            ],
            [
             0.1111111111111111,
             "#46039f"
            ],
            [
             0.2222222222222222,
             "#7201a8"
            ],
            [
             0.3333333333333333,
             "#9c179e"
            ],
            [
             0.4444444444444444,
             "#bd3786"
            ],
            [
             0.5555555555555556,
             "#d8576b"
            ],
            [
             0.6666666666666666,
             "#ed7953"
            ],
            [
             0.7777777777777778,
             "#fb9f3a"
            ],
            [
             0.8888888888888888,
             "#fdca26"
            ],
            [
             1,
             "#f0f921"
            ]
           ],
           "sequentialminus": [
            [
             0,
             "#0d0887"
            ],
            [
             0.1111111111111111,
             "#46039f"
            ],
            [
             0.2222222222222222,
             "#7201a8"
            ],
            [
             0.3333333333333333,
             "#9c179e"
            ],
            [
             0.4444444444444444,
             "#bd3786"
            ],
            [
             0.5555555555555556,
             "#d8576b"
            ],
            [
             0.6666666666666666,
             "#ed7953"
            ],
            [
             0.7777777777777778,
             "#fb9f3a"
            ],
            [
             0.8888888888888888,
             "#fdca26"
            ],
            [
             1,
             "#f0f921"
            ]
           ]
          },
          "colorway": [
           "#636efa",
           "#EF553B",
           "#00cc96",
           "#ab63fa",
           "#FFA15A",
           "#19d3f3",
           "#FF6692",
           "#B6E880",
           "#FF97FF",
           "#FECB52"
          ],
          "font": {
           "color": "#2a3f5f"
          },
          "geo": {
           "bgcolor": "white",
           "lakecolor": "white",
           "landcolor": "white",
           "showlakes": true,
           "showland": true,
           "subunitcolor": "#C8D4E3"
          },
          "hoverlabel": {
           "align": "left"
          },
          "hovermode": "closest",
          "mapbox": {
           "style": "light"
          },
          "paper_bgcolor": "white",
          "plot_bgcolor": "white",
          "polar": {
           "angularaxis": {
            "gridcolor": "#EBF0F8",
            "linecolor": "#EBF0F8",
            "ticks": ""
           },
           "bgcolor": "white",
           "radialaxis": {
            "gridcolor": "#EBF0F8",
            "linecolor": "#EBF0F8",
            "ticks": ""
           }
          },
          "scene": {
           "xaxis": {
            "backgroundcolor": "white",
            "gridcolor": "#DFE8F3",
            "gridwidth": 2,
            "linecolor": "#EBF0F8",
            "showbackground": true,
            "ticks": "",
            "zerolinecolor": "#EBF0F8"
           },
           "yaxis": {
            "backgroundcolor": "white",
            "gridcolor": "#DFE8F3",
            "gridwidth": 2,
            "linecolor": "#EBF0F8",
            "showbackground": true,
            "ticks": "",
            "zerolinecolor": "#EBF0F8"
           },
           "zaxis": {
            "backgroundcolor": "white",
            "gridcolor": "#DFE8F3",
            "gridwidth": 2,
            "linecolor": "#EBF0F8",
            "showbackground": true,
            "ticks": "",
            "zerolinecolor": "#EBF0F8"
           }
          },
          "shapedefaults": {
           "line": {
            "color": "#2a3f5f"
           }
          },
          "ternary": {
           "aaxis": {
            "gridcolor": "#DFE8F3",
            "linecolor": "#A2B1C6",
            "ticks": ""
           },
           "baxis": {
            "gridcolor": "#DFE8F3",
            "linecolor": "#A2B1C6",
            "ticks": ""
           },
           "bgcolor": "white",
           "caxis": {
            "gridcolor": "#DFE8F3",
            "linecolor": "#A2B1C6",
            "ticks": ""
           }
          },
          "title": {
           "x": 0.05
          },
          "xaxis": {
           "automargin": true,
           "gridcolor": "#EBF0F8",
           "linecolor": "#EBF0F8",
           "ticks": "",
           "title": {
            "standoff": 15
           },
           "zerolinecolor": "#EBF0F8",
           "zerolinewidth": 2
          },
          "yaxis": {
           "automargin": true,
           "gridcolor": "#EBF0F8",
           "linecolor": "#EBF0F8",
           "ticks": "",
           "title": {
            "standoff": 15
           },
           "zerolinecolor": "#EBF0F8",
           "zerolinewidth": 2
          }
         }
        },
        "updatemenus": [
         {
          "buttons": [
           {
            "args": [
             {
              "yaxis.type": "linear"
             }
            ],
            "label": "Linear y-scale",
            "method": "relayout"
           },
           {
            "args": [
             {
              "yaxis.type": "log"
             }
            ],
            "label": "Log y-scale",
            "method": "relayout"
           }
          ],
          "direction": "left",
          "pad": {
           "r": 0,
           "t": -10
          },
          "showactive": true,
          "type": "buttons",
          "x": 0,
          "xanchor": "left",
          "y": 1.15,
          "yanchor": "top"
         }
        ],
        "xaxis": {
         "title": {
          "text": "Prediction"
         },
         "type": "log"
        },
        "yaxis": {
         "title": {
          "text": "Residual"
         }
        }
       }
      }
     },
     "metadata": {},
     "output_type": "display_data"
    }
   ],
   "source": [
    "# Get relevant measurements\n",
    "mask = data['Biomarker'] == 'Bacterial count'\n",
    "temp = data[mask]\n",
    "\n",
    "# Create figure\n",
    "fig = chi.plots.ResidualPlot(measurements=temp)\n",
    "fig.add_data(data=predictions, show_relative=False)\n",
    "fig._fig.update_layout(xaxis_type='log')\n",
    "fig.show()"
   ]
  },
  {
   "cell_type": "markdown",
   "metadata": {},
   "source": [
    "## Estimate cross entropy using AIC"
   ]
  },
  {
   "cell_type": "code",
   "execution_count": 20,
   "metadata": {},
   "outputs": [
    {
     "data": {
      "text/plain": [
       "2766.1255387937867"
      ]
     },
     "execution_count": 20,
     "metadata": {},
     "output_type": "execute_result"
    }
   ],
   "source": [
    "# Sort parameters\n",
    "parameters = [\n",
    "    mle_estimates.loc[\n",
    "        mle_estimates['Parameter'] == 'Pooled Initial bacterial count in CFU/ml',\n",
    "        'Estimate'].iloc[0],\n",
    "    mle_estimates.loc[\n",
    "        mle_estimates['Parameter'] == 'Pooled EC 50 in ng/ml',\n",
    "        'Estimate'].iloc[0],\n",
    "    mle_estimates.loc[\n",
    "        mle_estimates['Parameter'] == 'Pooled Growth rate in 1/h',\n",
    "        'Estimate'].iloc[0],\n",
    "    mle_estimates.loc[\n",
    "        mle_estimates['Parameter'] == 'Pooled Max. kill rate in 1/h',\n",
    "        'Estimate'].iloc[0],\n",
    "    mle_estimates.loc[\n",
    "        mle_estimates['Parameter'] == 'Pooled Sigma log',\n",
    "        'Estimate'].iloc[0]\n",
    "]\n",
    "\n",
    "# Compute AIC score\n",
    "log_likelihood = log_posterior.get_log_likelihood()\n",
    "n_parameters = log_likelihood.n_parameters()\n",
    "n_measurements = np.sum(log_likelihood.n_observations())\n",
    "AIC = \\\n",
    "    -2 * log_likelihood(parameters) \\\n",
    "    + 2 * n_measurements * n_parameters / (n_measurements - n_parameters - 1)\n",
    "AIC"
   ]
  },
  {
   "cell_type": "markdown",
   "metadata": {},
   "source": [
    "### Save inference data"
   ]
  },
  {
   "cell_type": "code",
   "execution_count": 37,
   "metadata": {},
   "outputs": [],
   "source": [
    "# Format estimates\n",
    "inf_data = xr.DataArray(\n",
    "    data=parameters,\n",
    "    dims=['estimate'],\n",
    "    coords=dict(\n",
    "        estimate=[\n",
    "            'Pooled Initial bacterial count in CFU/ml',\n",
    "            'Pooled EC 50 in ng/ml',\n",
    "            'Pooled Growth rate in 1/h',\n",
    "            'Pooled Max. kill rate in 1/h',\n",
    "            'Pooled Sigma log'])\n",
    ")\n",
    "inf_data.attrs['AIC score'] = AIC\n",
    "\n",
    "# Save estimates\n",
    "directory = os.getcwd()\n",
    "path = os.path.join(\n",
    "    directory, 'derived_data/K_model_inference_data.nc')\n",
    "inf_data.to_netcdf(path)"
   ]
  }
 ],
 "metadata": {
  "kernelspec": {
   "display_name": "Python 3.7.5 64-bit ('venv': venv)",
   "language": "python",
   "name": "python37564bitvenvvenv75a7c64405e142268d01a888e83d7b34"
  },
  "language_info": {
   "codemirror_mode": {
    "name": "ipython",
    "version": 3
   },
   "file_extension": ".py",
   "mimetype": "text/x-python",
   "name": "python",
   "nbconvert_exporter": "python",
   "pygments_lexer": "ipython3",
   "version": "3.7.5"
  },
  "metadata": {
   "interpreter": {
    "hash": "fe9046ad7b35d05b22effd711e8326b1df2382f1070cfae45f6e3b664e823f68"
   }
  },
  "orig_nbformat": 2
 },
 "nbformat": 4,
 "nbformat_minor": 2
}