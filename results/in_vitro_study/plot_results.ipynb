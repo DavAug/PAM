{
 "cells": [
  {
   "cell_type": "markdown",
   "metadata": {},
   "source": [
    "# Comparison of MLE models for *N. gonorrhoeae* WHO M treated with Ciprofloxacin"
   ]
  },
  {
   "cell_type": "code",
   "execution_count": 11,
   "metadata": {},
   "outputs": [],
   "source": [
    "import os\n",
    "\n",
    "import chi\n",
    "import chi.plots\n",
    "import numpy as np\n",
    "import pandas as pd\n",
    "import plotly.colors\n",
    "import plotly.graph_objects as go\n",
    "from scipy.stats import lognorm\n",
    "import xarray as xr"
   ]
  },
  {
   "cell_type": "markdown",
   "metadata": {},
   "source": [
    "## Show data"
   ]
  },
  {
   "cell_type": "code",
   "execution_count": 3,
   "metadata": {},
   "outputs": [
    {
     "data": {
      "application/vnd.plotly.v1+json": {
       "config": {
        "plotlyServerURL": "https://plot.ly"
       },
       "data": [
        {
         "marker": {
          "color": "#636EFA",
          "line": {
           "color": "black",
           "width": 1
          },
          "opacity": 0.7,
          "symbol": "circle"
         },
         "mode": "markers",
         "name": "ID: 1",
         "showlegend": true,
         "type": "scatter",
         "x": [
          0,
          4,
          5,
          6,
          7,
          8,
          9,
          10
         ],
         "y": [
          200000,
          8000000,
          10000000,
          11000000,
          32000000,
          27000000,
          230000000,
          240000000
         ]
        },
        {
         "marker": {
          "color": "#EF553B",
          "line": {
           "color": "black",
           "width": 1
          },
          "opacity": 0.7,
          "symbol": "circle"
         },
         "mode": "markers",
         "name": "ID: 2",
         "showlegend": true,
         "type": "scatter",
         "x": [
          0,
          4,
          5,
          6,
          7,
          8,
          9,
          10
         ],
         "y": [
          200000,
          7000000,
          13000000,
          12000000,
          24000000,
          29000000,
          100000000,
          120000000
         ]
        },
        {
         "marker": {
          "color": "#00CC96",
          "line": {
           "color": "black",
           "width": 1
          },
          "opacity": 0.7,
          "symbol": "circle"
         },
         "mode": "markers",
         "name": "ID: 3",
         "showlegend": true,
         "type": "scatter",
         "x": [
          0,
          4,
          5,
          6,
          7,
          8,
          9,
          10
         ],
         "y": [
          200000,
          10000000,
          16000000,
          12000000,
          22000000,
          25000000,
          160000000,
          120000000
         ]
        },
        {
         "marker": {
          "color": "#AB63FA",
          "line": {
           "color": "black",
           "width": 1
          },
          "opacity": 0.7,
          "symbol": "circle"
         },
         "mode": "markers",
         "name": "ID: 4",
         "showlegend": true,
         "type": "scatter",
         "x": [
          0,
          4,
          5,
          6,
          7,
          8,
          9,
          10
         ],
         "y": [
          200000,
          10000000,
          12000000,
          10000000,
          22000000,
          19000000,
          160000000,
          70000000
         ]
        },
        {
         "marker": {
          "color": "#FFA15A",
          "line": {
           "color": "black",
           "width": 1
          },
          "opacity": 0.7,
          "symbol": "circle"
         },
         "mode": "markers",
         "name": "ID: 5",
         "showlegend": true,
         "type": "scatter",
         "x": [
          0,
          4,
          5,
          6,
          7,
          8,
          9,
          10
         ],
         "y": [
          200000,
          9000000,
          12000000,
          5000000,
          5000000,
          1200000,
          2300000,
          1600000
         ]
        },
        {
         "marker": {
          "color": "#19D3F3",
          "line": {
           "color": "black",
           "width": 1
          },
          "opacity": 0.7,
          "symbol": "circle"
         },
         "mode": "markers",
         "name": "ID: 6",
         "showlegend": true,
         "type": "scatter",
         "x": [
          0,
          4,
          5,
          6,
          7,
          8,
          9,
          10
         ],
         "y": [
          200000,
          5000000,
          1000000,
          300000,
          130000,
          60000,
          40000,
          4000
         ]
        },
        {
         "marker": {
          "color": "#FF6692",
          "line": {
           "color": "black",
           "width": 1
          },
          "opacity": 0.7,
          "symbol": "circle"
         },
         "mode": "markers",
         "name": "ID: 7",
         "showlegend": true,
         "type": "scatter",
         "x": [
          0,
          4,
          5,
          6,
          7,
          8,
          9,
          10
         ],
         "y": [
          200000,
          5000000,
          130000,
          30000,
          40000,
          8000,
          6000,
          2000
         ]
        },
        {
         "marker": {
          "color": "#B6E880",
          "line": {
           "color": "black",
           "width": 1
          },
          "opacity": 0.7,
          "symbol": "circle"
         },
         "mode": "markers",
         "name": "ID: 8",
         "showlegend": true,
         "type": "scatter",
         "x": [
          0,
          4,
          5,
          6,
          7,
          8,
          9,
          10
         ],
         "y": [
          200000,
          5000000,
          70000,
          40000,
          13000,
          6000,
          4000,
          1800
         ]
        },
        {
         "marker": {
          "color": "#FF97FF",
          "line": {
           "color": "black",
           "width": 1
          },
          "opacity": 0.7,
          "symbol": "circle"
         },
         "mode": "markers",
         "name": "ID: 9",
         "showlegend": true,
         "type": "scatter",
         "x": [
          0,
          4,
          5,
          6,
          7,
          8,
          9,
          10
         ],
         "y": [
          200000,
          4000000,
          60000,
          3000,
          6000,
          600,
          4000,
          900
         ]
        },
        {
         "marker": {
          "color": "#FECB52",
          "line": {
           "color": "black",
           "width": 1
          },
          "opacity": 0.7,
          "symbol": "circle"
         },
         "mode": "markers",
         "name": "ID: 10",
         "showlegend": true,
         "type": "scatter",
         "x": [
          0,
          4,
          5,
          6,
          7,
          8,
          9,
          10
         ],
         "y": [
          200000,
          300000,
          30000,
          4000,
          4000,
          900,
          900,
          700
         ]
        },
        {
         "marker": {
          "color": "#636EFA",
          "line": {
           "color": "black",
           "width": 1
          },
          "opacity": 0.7,
          "symbol": "circle"
         },
         "mode": "markers",
         "name": "ID: 11",
         "showlegend": true,
         "type": "scatter",
         "x": [
          0,
          4,
          5,
          6,
          7,
          8,
          9,
          10
         ],
         "y": [
          200000,
          1100000,
          30000,
          6000,
          5000,
          1600,
          1100,
          600
         ]
        },
        {
         "marker": {
          "color": "#EF553B",
          "line": {
           "color": "black",
           "width": 1
          },
          "opacity": 0.7,
          "symbol": "circle"
         },
         "mode": "markers",
         "name": "ID: 12",
         "showlegend": true,
         "type": "scatter",
         "x": [
          0,
          4,
          5,
          6,
          7,
          8,
          9,
          10
         ],
         "y": [
          200000,
          1100000,
          100000,
          5000,
          7000,
          1100,
          1000,
          600
         ]
        }
       ],
       "layout": {
        "autosize": true,
        "template": {
         "data": {
          "bar": [
           {
            "error_x": {
             "color": "#2a3f5f"
            },
            "error_y": {
             "color": "#2a3f5f"
            },
            "marker": {
             "line": {
              "color": "white",
              "width": 0.5
             },
             "pattern": {
              "fillmode": "overlay",
              "size": 10,
              "solidity": 0.2
             }
            },
            "type": "bar"
           }
          ],
          "barpolar": [
           {
            "marker": {
             "line": {
              "color": "white",
              "width": 0.5
             },
             "pattern": {
              "fillmode": "overlay",
              "size": 10,
              "solidity": 0.2
             }
            },
            "type": "barpolar"
           }
          ],
          "carpet": [
           {
            "aaxis": {
             "endlinecolor": "#2a3f5f",
             "gridcolor": "#C8D4E3",
             "linecolor": "#C8D4E3",
             "minorgridcolor": "#C8D4E3",
             "startlinecolor": "#2a3f5f"
            },
            "baxis": {
             "endlinecolor": "#2a3f5f",
             "gridcolor": "#C8D4E3",
             "linecolor": "#C8D4E3",
             "minorgridcolor": "#C8D4E3",
             "startlinecolor": "#2a3f5f"
            },
            "type": "carpet"
           }
          ],
          "choropleth": [
           {
            "colorbar": {
             "outlinewidth": 0,
             "ticks": ""
            },
            "type": "choropleth"
           }
          ],
          "contour": [
           {
            "colorbar": {
             "outlinewidth": 0,
             "ticks": ""
            },
            "colorscale": [
             [
              0,
              "#0d0887"
             ],
             [
              0.1111111111111111,
              "#46039f"
             ],
             [
              0.2222222222222222,
              "#7201a8"
             ],
             [
              0.3333333333333333,
              "#9c179e"
             ],
             [
              0.4444444444444444,
              "#bd3786"
             ],
             [
              0.5555555555555556,
              "#d8576b"
             ],
             [
              0.6666666666666666,
              "#ed7953"
             ],
             [
              0.7777777777777778,
              "#fb9f3a"
             ],
             [
              0.8888888888888888,
              "#fdca26"
             ],
             [
              1,
              "#f0f921"
             ]
            ],
            "type": "contour"
           }
          ],
          "contourcarpet": [
           {
            "colorbar": {
             "outlinewidth": 0,
             "ticks": ""
            },
            "type": "contourcarpet"
           }
          ],
          "heatmap": [
           {
            "colorbar": {
             "outlinewidth": 0,
             "ticks": ""
            },
            "colorscale": [
             [
              0,
              "#0d0887"
             ],
             [
              0.1111111111111111,
              "#46039f"
             ],
             [
              0.2222222222222222,
              "#7201a8"
             ],
             [
              0.3333333333333333,
              "#9c179e"
             ],
             [
              0.4444444444444444,
              "#bd3786"
             ],
             [
              0.5555555555555556,
              "#d8576b"
             ],
             [
              0.6666666666666666,
              "#ed7953"
             ],
             [
              0.7777777777777778,
              "#fb9f3a"
             ],
             [
              0.8888888888888888,
              "#fdca26"
             ],
             [
              1,
              "#f0f921"
             ]
            ],
            "type": "heatmap"
           }
          ],
          "heatmapgl": [
           {
            "colorbar": {
             "outlinewidth": 0,
             "ticks": ""
            },
            "colorscale": [
             [
              0,
              "#0d0887"
             ],
             [
              0.1111111111111111,
              "#46039f"
             ],
             [
              0.2222222222222222,
              "#7201a8"
             ],
             [
              0.3333333333333333,
              "#9c179e"
             ],
             [
              0.4444444444444444,
              "#bd3786"
             ],
             [
              0.5555555555555556,
              "#d8576b"
             ],
             [
              0.6666666666666666,
              "#ed7953"
             ],
             [
              0.7777777777777778,
              "#fb9f3a"
             ],
             [
              0.8888888888888888,
              "#fdca26"
             ],
             [
              1,
              "#f0f921"
             ]
            ],
            "type": "heatmapgl"
           }
          ],
          "histogram": [
           {
            "marker": {
             "pattern": {
              "fillmode": "overlay",
              "size": 10,
              "solidity": 0.2
             }
            },
            "type": "histogram"
           }
          ],
          "histogram2d": [
           {
            "colorbar": {
             "outlinewidth": 0,
             "ticks": ""
            },
            "colorscale": [
             [
              0,
              "#0d0887"
             ],
             [
              0.1111111111111111,
              "#46039f"
             ],
             [
              0.2222222222222222,
              "#7201a8"
             ],
             [
              0.3333333333333333,
              "#9c179e"
             ],
             [
              0.4444444444444444,
              "#bd3786"
             ],
             [
              0.5555555555555556,
              "#d8576b"
             ],
             [
              0.6666666666666666,
              "#ed7953"
             ],
             [
              0.7777777777777778,
              "#fb9f3a"
             ],
             [
              0.8888888888888888,
              "#fdca26"
             ],
             [
              1,
              "#f0f921"
             ]
            ],
            "type": "histogram2d"
           }
          ],
          "histogram2dcontour": [
           {
            "colorbar": {
             "outlinewidth": 0,
             "ticks": ""
            },
            "colorscale": [
             [
              0,
              "#0d0887"
             ],
             [
              0.1111111111111111,
              "#46039f"
             ],
             [
              0.2222222222222222,
              "#7201a8"
             ],
             [
              0.3333333333333333,
              "#9c179e"
             ],
             [
              0.4444444444444444,
              "#bd3786"
             ],
             [
              0.5555555555555556,
              "#d8576b"
             ],
             [
              0.6666666666666666,
              "#ed7953"
             ],
             [
              0.7777777777777778,
              "#fb9f3a"
             ],
             [
              0.8888888888888888,
              "#fdca26"
             ],
             [
              1,
              "#f0f921"
             ]
            ],
            "type": "histogram2dcontour"
           }
          ],
          "mesh3d": [
           {
            "colorbar": {
             "outlinewidth": 0,
             "ticks": ""
            },
            "type": "mesh3d"
           }
          ],
          "parcoords": [
           {
            "line": {
             "colorbar": {
              "outlinewidth": 0,
              "ticks": ""
             }
            },
            "type": "parcoords"
           }
          ],
          "pie": [
           {
            "automargin": true,
            "type": "pie"
           }
          ],
          "scatter": [
           {
            "marker": {
             "colorbar": {
              "outlinewidth": 0,
              "ticks": ""
             }
            },
            "type": "scatter"
           }
          ],
          "scatter3d": [
           {
            "line": {
             "colorbar": {
              "outlinewidth": 0,
              "ticks": ""
             }
            },
            "marker": {
             "colorbar": {
              "outlinewidth": 0,
              "ticks": ""
             }
            },
            "type": "scatter3d"
           }
          ],
          "scattercarpet": [
           {
            "marker": {
             "colorbar": {
              "outlinewidth": 0,
              "ticks": ""
             }
            },
            "type": "scattercarpet"
           }
          ],
          "scattergeo": [
           {
            "marker": {
             "colorbar": {
              "outlinewidth": 0,
              "ticks": ""
             }
            },
            "type": "scattergeo"
           }
          ],
          "scattergl": [
           {
            "marker": {
             "colorbar": {
              "outlinewidth": 0,
              "ticks": ""
             }
            },
            "type": "scattergl"
           }
          ],
          "scattermapbox": [
           {
            "marker": {
             "colorbar": {
              "outlinewidth": 0,
              "ticks": ""
             }
            },
            "type": "scattermapbox"
           }
          ],
          "scatterpolar": [
           {
            "marker": {
             "colorbar": {
              "outlinewidth": 0,
              "ticks": ""
             }
            },
            "type": "scatterpolar"
           }
          ],
          "scatterpolargl": [
           {
            "marker": {
             "colorbar": {
              "outlinewidth": 0,
              "ticks": ""
             }
            },
            "type": "scatterpolargl"
           }
          ],
          "scatterternary": [
           {
            "marker": {
             "colorbar": {
              "outlinewidth": 0,
              "ticks": ""
             }
            },
            "type": "scatterternary"
           }
          ],
          "surface": [
           {
            "colorbar": {
             "outlinewidth": 0,
             "ticks": ""
            },
            "colorscale": [
             [
              0,
              "#0d0887"
             ],
             [
              0.1111111111111111,
              "#46039f"
             ],
             [
              0.2222222222222222,
              "#7201a8"
             ],
             [
              0.3333333333333333,
              "#9c179e"
             ],
             [
              0.4444444444444444,
              "#bd3786"
             ],
             [
              0.5555555555555556,
              "#d8576b"
             ],
             [
              0.6666666666666666,
              "#ed7953"
             ],
             [
              0.7777777777777778,
              "#fb9f3a"
             ],
             [
              0.8888888888888888,
              "#fdca26"
             ],
             [
              1,
              "#f0f921"
             ]
            ],
            "type": "surface"
           }
          ],
          "table": [
           {
            "cells": {
             "fill": {
              "color": "#EBF0F8"
             },
             "line": {
              "color": "white"
             }
            },
            "header": {
             "fill": {
              "color": "#C8D4E3"
             },
             "line": {
              "color": "white"
             }
            },
            "type": "table"
           }
          ]
         },
         "layout": {
          "annotationdefaults": {
           "arrowcolor": "#2a3f5f",
           "arrowhead": 0,
           "arrowwidth": 1
          },
          "autotypenumbers": "strict",
          "coloraxis": {
           "colorbar": {
            "outlinewidth": 0,
            "ticks": ""
           }
          },
          "colorscale": {
           "diverging": [
            [
             0,
             "#8e0152"
            ],
            [
             0.1,
             "#c51b7d"
            ],
            [
             0.2,
             "#de77ae"
            ],
            [
             0.3,
             "#f1b6da"
            ],
            [
             0.4,
             "#fde0ef"
            ],
            [
             0.5,
             "#f7f7f7"
            ],
            [
             0.6,
             "#e6f5d0"
            ],
            [
             0.7,
             "#b8e186"
            ],
            [
             0.8,
             "#7fbc41"
            ],
            [
             0.9,
             "#4d9221"
            ],
            [
             1,
             "#276419"
            ]
           ],
           "sequential": [
            [
             0,
             "#0d0887"
            ],
            [
             0.1111111111111111,
             "#46039f"
            ],
            [
             0.2222222222222222,
             "#7201a8"
            ],
            [
             0.3333333333333333,
             "#9c179e"
            ],
            [
             0.4444444444444444,
             "#bd3786"
            ],
            [
             0.5555555555555556,
             "#d8576b"
            ],
            [
             0.6666666666666666,
             "#ed7953"
            ],
            [
             0.7777777777777778,
             "#fb9f3a"
            ],
            [
             0.8888888888888888,
             "#fdca26"
            ],
            [
             1,
             "#f0f921"
            ]
           ],
           "sequentialminus": [
            [
             0,
             "#0d0887"
            ],
            [
             0.1111111111111111,
             "#46039f"
            ],
            [
             0.2222222222222222,
             "#7201a8"
            ],
            [
             0.3333333333333333,
             "#9c179e"
            ],
            [
             0.4444444444444444,
             "#bd3786"
            ],
            [
             0.5555555555555556,
             "#d8576b"
            ],
            [
             0.6666666666666666,
             "#ed7953"
            ],
            [
             0.7777777777777778,
             "#fb9f3a"
            ],
            [
             0.8888888888888888,
             "#fdca26"
            ],
            [
             1,
             "#f0f921"
            ]
           ]
          },
          "colorway": [
           "#636efa",
           "#EF553B",
           "#00cc96",
           "#ab63fa",
           "#FFA15A",
           "#19d3f3",
           "#FF6692",
           "#B6E880",
           "#FF97FF",
           "#FECB52"
          ],
          "font": {
           "color": "#2a3f5f"
          },
          "geo": {
           "bgcolor": "white",
           "lakecolor": "white",
           "landcolor": "white",
           "showlakes": true,
           "showland": true,
           "subunitcolor": "#C8D4E3"
          },
          "hoverlabel": {
           "align": "left"
          },
          "hovermode": "closest",
          "mapbox": {
           "style": "light"
          },
          "paper_bgcolor": "white",
          "plot_bgcolor": "white",
          "polar": {
           "angularaxis": {
            "gridcolor": "#EBF0F8",
            "linecolor": "#EBF0F8",
            "ticks": ""
           },
           "bgcolor": "white",
           "radialaxis": {
            "gridcolor": "#EBF0F8",
            "linecolor": "#EBF0F8",
            "ticks": ""
           }
          },
          "scene": {
           "xaxis": {
            "backgroundcolor": "white",
            "gridcolor": "#DFE8F3",
            "gridwidth": 2,
            "linecolor": "#EBF0F8",
            "showbackground": true,
            "ticks": "",
            "zerolinecolor": "#EBF0F8"
           },
           "yaxis": {
            "backgroundcolor": "white",
            "gridcolor": "#DFE8F3",
            "gridwidth": 2,
            "linecolor": "#EBF0F8",
            "showbackground": true,
            "ticks": "",
            "zerolinecolor": "#EBF0F8"
           },
           "zaxis": {
            "backgroundcolor": "white",
            "gridcolor": "#DFE8F3",
            "gridwidth": 2,
            "linecolor": "#EBF0F8",
            "showbackground": true,
            "ticks": "",
            "zerolinecolor": "#EBF0F8"
           }
          },
          "shapedefaults": {
           "line": {
            "color": "#2a3f5f"
           }
          },
          "ternary": {
           "aaxis": {
            "gridcolor": "#DFE8F3",
            "linecolor": "#A2B1C6",
            "ticks": ""
           },
           "baxis": {
            "gridcolor": "#DFE8F3",
            "linecolor": "#A2B1C6",
            "ticks": ""
           },
           "bgcolor": "white",
           "caxis": {
            "gridcolor": "#DFE8F3",
            "linecolor": "#A2B1C6",
            "ticks": ""
           }
          },
          "title": {
           "x": 0.05
          },
          "xaxis": {
           "automargin": true,
           "gridcolor": "#EBF0F8",
           "linecolor": "#EBF0F8",
           "ticks": "",
           "title": {
            "standoff": 15
           },
           "zerolinecolor": "#EBF0F8",
           "zerolinewidth": 2
          },
          "yaxis": {
           "automargin": true,
           "gridcolor": "#EBF0F8",
           "linecolor": "#EBF0F8",
           "ticks": "",
           "title": {
            "standoff": 15
           },
           "zerolinecolor": "#EBF0F8",
           "zerolinewidth": 2
          }
         }
        },
        "updatemenus": [
         {
          "buttons": [
           {
            "args": [
             {
              "yaxis.type": "linear"
             }
            ],
            "label": "Linear y-scale",
            "method": "relayout"
           },
           {
            "args": [
             {
              "yaxis.type": "log"
             }
            ],
            "label": "Log y-scale",
            "method": "relayout"
           }
          ],
          "direction": "left",
          "pad": {
           "r": 0,
           "t": -10
          },
          "showactive": true,
          "type": "buttons",
          "x": 0,
          "xanchor": "left",
          "y": 1.15,
          "yanchor": "top"
         }
        ],
        "xaxis": {
         "title": {
          "text": "Time in hours"
         }
        },
        "yaxis": {
         "title": {
          "text": "Bacterial count in CFU/mL"
         }
        }
       }
      }
     },
     "metadata": {},
     "output_type": "display_data"
    }
   ],
   "source": [
    "# Get data\n",
    "directory = os.path.dirname(os.path.dirname(os.getcwd()))\n",
    "data = pd.read_csv(directory + '/data/who_m_ciprofloxacin.csv')\n",
    "\n",
    "# Create scatter plots of data\n",
    "fig = chi.plots.PDTimeSeriesPlot()\n",
    "fig.add_data(data, biomarker='Bacterial count')\n",
    "fig.set_axis_labels(xlabel='Time in hours', ylabel='Bacterial count in CFU/mL')\n",
    "fig.show()"
   ]
  },
  {
   "cell_type": "markdown",
   "metadata": {},
   "source": [
    "Export figure for publication"
   ]
  },
  {
   "cell_type": "code",
   "execution_count": 7,
   "metadata": {},
   "outputs": [
    {
     "data": {
      "application/vnd.plotly.v1+json": {
       "config": {
        "plotlyServerURL": "https://plot.ly"
       },
       "data": [
        {
         "line": {
          "color": "rgb(3, 5, 18)"
         },
         "marker": {
          "color": "rgb(3, 5, 18)",
          "line": {
           "color": "black",
           "width": 1
          },
          "opacity": 0.7,
          "symbol": "circle"
         },
         "mode": "markers+lines",
         "name": "0.003",
         "showlegend": true,
         "type": "scatter",
         "x": [
          -4,
          0,
          1,
          2,
          3,
          4,
          5,
          6
         ],
         "y": [
          200000,
          8000000,
          10000000,
          11000000,
          32000000,
          27000000,
          230000000,
          240000000
         ]
        },
        {
         "line": {
          "color": "rgb(25, 25, 51)"
         },
         "marker": {
          "color": "rgb(25, 25, 51)",
          "line": {
           "color": "black",
           "width": 1
          },
          "opacity": 0.7,
          "symbol": "circle"
         },
         "mode": "markers+lines",
         "name": "0.031",
         "showlegend": true,
         "type": "scatter",
         "x": [
          -4,
          0,
          1,
          2,
          3,
          4,
          5,
          6
         ],
         "y": [
          200000,
          7000000,
          13000000,
          12000000,
          24000000,
          29000000,
          100000000,
          120000000
         ]
        },
        {
         "line": {
          "color": "rgb(44, 42, 87)"
         },
         "marker": {
          "color": "rgb(44, 42, 87)",
          "line": {
           "color": "black",
           "width": 1
          },
          "opacity": 0.7,
          "symbol": "circle"
         },
         "mode": "markers+lines",
         "name": "0.063",
         "showlegend": true,
         "type": "scatter",
         "x": [
          -4,
          0,
          1,
          2,
          3,
          4,
          5,
          6
         ],
         "y": [
          200000,
          10000000,
          16000000,
          12000000,
          22000000,
          25000000,
          160000000,
          120000000
         ]
        },
        {
         "line": {
          "color": "rgb(58, 60, 125)"
         },
         "marker": {
          "color": "rgb(58, 60, 125)",
          "line": {
           "color": "black",
           "width": 1
          },
          "opacity": 0.7,
          "symbol": "circle"
         },
         "mode": "markers+lines",
         "name": "0.125",
         "showlegend": true,
         "type": "scatter",
         "x": [
          -4,
          0,
          1,
          2,
          3,
          4,
          5,
          6
         ],
         "y": [
          200000,
          10000000,
          12000000,
          10000000,
          22000000,
          19000000,
          160000000,
          70000000
         ]
        },
        {
         "line": {
          "color": "rgb(62, 83, 160)"
         },
         "marker": {
          "color": "rgb(62, 83, 160)",
          "line": {
           "color": "black",
           "width": 1
          },
          "opacity": 0.7,
          "symbol": "circle"
         },
         "mode": "markers+lines",
         "name": "0.25",
         "showlegend": true,
         "type": "scatter",
         "x": [
          -4,
          0,
          1,
          2,
          3,
          4,
          5,
          6
         ],
         "y": [
          200000,
          9000000,
          12000000,
          5000000,
          5000000,
          1200000,
          2300000,
          1600000
         ]
        },
        {
         "line": {
          "color": "rgb(62, 109, 178)"
         },
         "marker": {
          "color": "rgb(62, 109, 178)",
          "line": {
           "color": "black",
           "width": 1
          },
          "opacity": 0.7,
          "symbol": "circle"
         },
         "mode": "markers+lines",
         "name": "0.5",
         "showlegend": true,
         "type": "scatter",
         "x": [
          -4,
          0,
          1,
          2,
          3,
          4,
          5,
          6
         ],
         "y": [
          200000,
          5000000,
          1000000,
          300000,
          130000,
          60000,
          40000,
          4000
         ]
        },
        {
         "line": {
          "color": "rgb(72, 134, 187)"
         },
         "marker": {
          "color": "rgb(72, 134, 187)",
          "line": {
           "color": "black",
           "width": 1
          },
          "opacity": 0.7,
          "symbol": "circle"
         },
         "mode": "markers+lines",
         "name": "1",
         "showlegend": true,
         "type": "scatter",
         "x": [
          -4,
          0,
          1,
          2,
          3,
          4,
          5,
          6
         ],
         "y": [
          200000,
          5000000,
          130000,
          30000,
          40000,
          8000,
          6000,
          2000
         ]
        },
        {
         "line": {
          "color": "rgb(89, 159, 196)"
         },
         "marker": {
          "color": "rgb(89, 159, 196)",
          "line": {
           "color": "black",
           "width": 1
          },
          "opacity": 0.7,
          "symbol": "circle"
         },
         "mode": "markers+lines",
         "name": "2",
         "showlegend": true,
         "type": "scatter",
         "x": [
          -4,
          0,
          1,
          2,
          3,
          4,
          5,
          6
         ],
         "y": [
          200000,
          5000000,
          70000,
          40000,
          13000,
          6000,
          4000,
          1800
         ]
        },
        {
         "line": {
          "color": "rgb(114, 184, 205)"
         },
         "marker": {
          "color": "rgb(114, 184, 205)",
          "line": {
           "color": "black",
           "width": 1
          },
          "opacity": 0.7,
          "symbol": "circle"
         },
         "mode": "markers+lines",
         "name": "4",
         "showlegend": true,
         "type": "scatter",
         "x": [
          -4,
          0,
          1,
          2,
          3,
          4,
          5,
          6
         ],
         "y": [
          200000,
          4000000,
          60000,
          3000,
          6000,
          600,
          4000,
          900
         ]
        },
        {
         "line": {
          "color": "rgb(149, 207, 216)"
         },
         "marker": {
          "color": "rgb(149, 207, 216)",
          "line": {
           "color": "black",
           "width": 1
          },
          "opacity": 0.7,
          "symbol": "circle"
         },
         "mode": "markers+lines",
         "name": "8",
         "showlegend": true,
         "type": "scatter",
         "x": [
          -4,
          0,
          1,
          2,
          3,
          4,
          5,
          6
         ],
         "y": [
          200000,
          300000,
          30000,
          4000,
          4000,
          900,
          900,
          700
         ]
        },
        {
         "line": {
          "color": "rgb(192, 229, 232)"
         },
         "marker": {
          "color": "rgb(192, 229, 232)",
          "line": {
           "color": "black",
           "width": 1
          },
          "opacity": 0.7,
          "symbol": "circle"
         },
         "mode": "markers+lines",
         "name": "16",
         "showlegend": true,
         "type": "scatter",
         "x": [
          -4,
          0,
          1,
          2,
          3,
          4,
          5,
          6
         ],
         "y": [
          200000,
          1100000,
          30000,
          6000,
          5000,
          1600,
          1100,
          600
         ]
        },
        {
         "line": {
          "color": "rgb(234, 252, 253)"
         },
         "marker": {
          "color": "rgb(234, 252, 253)",
          "line": {
           "color": "black",
           "width": 1
          },
          "opacity": 0.7,
          "symbol": "circle"
         },
         "mode": "markers+lines",
         "name": "32",
         "showlegend": true,
         "type": "scatter",
         "x": [
          -4,
          0,
          1,
          2,
          3,
          4,
          5,
          6
         ],
         "y": [
          200000,
          1100000,
          100000,
          5000,
          7000,
          1100,
          1000,
          600
         ]
        }
       ],
       "layout": {
        "autosize": true,
        "font": {
         "size": 20
        },
        "height": 500,
        "legend": {
         "font": {
          "size": 16
         },
         "title": {
          "text": "Conc.\n[mg/L]"
         }
        },
        "shapes": [
         {
          "line": {
           "color": "Black"
          },
          "type": "line",
          "x0": 0,
          "x1": 6,
          "y0": 0.99,
          "y1": 0.99,
          "yref": "paper"
         },
         {
          "line": {
           "color": "Black"
          },
          "type": "line",
          "x0": 0,
          "x1": 0,
          "y0": 0.98,
          "y1": 1,
          "yref": "paper"
         },
         {
          "line": {
           "color": "Black"
          },
          "type": "line",
          "x0": 6,
          "x1": 6,
          "y0": 0.98,
          "y1": 1,
          "yref": "paper"
         }
        ],
        "template": {
         "data": {
          "bar": [
           {
            "error_x": {
             "color": "#2a3f5f"
            },
            "error_y": {
             "color": "#2a3f5f"
            },
            "marker": {
             "line": {
              "color": "white",
              "width": 0.5
             },
             "pattern": {
              "fillmode": "overlay",
              "size": 10,
              "solidity": 0.2
             }
            },
            "type": "bar"
           }
          ],
          "barpolar": [
           {
            "marker": {
             "line": {
              "color": "white",
              "width": 0.5
             },
             "pattern": {
              "fillmode": "overlay",
              "size": 10,
              "solidity": 0.2
             }
            },
            "type": "barpolar"
           }
          ],
          "carpet": [
           {
            "aaxis": {
             "endlinecolor": "#2a3f5f",
             "gridcolor": "#C8D4E3",
             "linecolor": "#C8D4E3",
             "minorgridcolor": "#C8D4E3",
             "startlinecolor": "#2a3f5f"
            },
            "baxis": {
             "endlinecolor": "#2a3f5f",
             "gridcolor": "#C8D4E3",
             "linecolor": "#C8D4E3",
             "minorgridcolor": "#C8D4E3",
             "startlinecolor": "#2a3f5f"
            },
            "type": "carpet"
           }
          ],
          "choropleth": [
           {
            "colorbar": {
             "outlinewidth": 0,
             "ticks": ""
            },
            "type": "choropleth"
           }
          ],
          "contour": [
           {
            "colorbar": {
             "outlinewidth": 0,
             "ticks": ""
            },
            "colorscale": [
             [
              0,
              "#0d0887"
             ],
             [
              0.1111111111111111,
              "#46039f"
             ],
             [
              0.2222222222222222,
              "#7201a8"
             ],
             [
              0.3333333333333333,
              "#9c179e"
             ],
             [
              0.4444444444444444,
              "#bd3786"
             ],
             [
              0.5555555555555556,
              "#d8576b"
             ],
             [
              0.6666666666666666,
              "#ed7953"
             ],
             [
              0.7777777777777778,
              "#fb9f3a"
             ],
             [
              0.8888888888888888,
              "#fdca26"
             ],
             [
              1,
              "#f0f921"
             ]
            ],
            "type": "contour"
           }
          ],
          "contourcarpet": [
           {
            "colorbar": {
             "outlinewidth": 0,
             "ticks": ""
            },
            "type": "contourcarpet"
           }
          ],
          "heatmap": [
           {
            "colorbar": {
             "outlinewidth": 0,
             "ticks": ""
            },
            "colorscale": [
             [
              0,
              "#0d0887"
             ],
             [
              0.1111111111111111,
              "#46039f"
             ],
             [
              0.2222222222222222,
              "#7201a8"
             ],
             [
              0.3333333333333333,
              "#9c179e"
             ],
             [
              0.4444444444444444,
              "#bd3786"
             ],
             [
              0.5555555555555556,
              "#d8576b"
             ],
             [
              0.6666666666666666,
              "#ed7953"
             ],
             [
              0.7777777777777778,
              "#fb9f3a"
             ],
             [
              0.8888888888888888,
              "#fdca26"
             ],
             [
              1,
              "#f0f921"
             ]
            ],
            "type": "heatmap"
           }
          ],
          "heatmapgl": [
           {
            "colorbar": {
             "outlinewidth": 0,
             "ticks": ""
            },
            "colorscale": [
             [
              0,
              "#0d0887"
             ],
             [
              0.1111111111111111,
              "#46039f"
             ],
             [
              0.2222222222222222,
              "#7201a8"
             ],
             [
              0.3333333333333333,
              "#9c179e"
             ],
             [
              0.4444444444444444,
              "#bd3786"
             ],
             [
              0.5555555555555556,
              "#d8576b"
             ],
             [
              0.6666666666666666,
              "#ed7953"
             ],
             [
              0.7777777777777778,
              "#fb9f3a"
             ],
             [
              0.8888888888888888,
              "#fdca26"
             ],
             [
              1,
              "#f0f921"
             ]
            ],
            "type": "heatmapgl"
           }
          ],
          "histogram": [
           {
            "marker": {
             "pattern": {
              "fillmode": "overlay",
              "size": 10,
              "solidity": 0.2
             }
            },
            "type": "histogram"
           }
          ],
          "histogram2d": [
           {
            "colorbar": {
             "outlinewidth": 0,
             "ticks": ""
            },
            "colorscale": [
             [
              0,
              "#0d0887"
             ],
             [
              0.1111111111111111,
              "#46039f"
             ],
             [
              0.2222222222222222,
              "#7201a8"
             ],
             [
              0.3333333333333333,
              "#9c179e"
             ],
             [
              0.4444444444444444,
              "#bd3786"
             ],
             [
              0.5555555555555556,
              "#d8576b"
             ],
             [
              0.6666666666666666,
              "#ed7953"
             ],
             [
              0.7777777777777778,
              "#fb9f3a"
             ],
             [
              0.8888888888888888,
              "#fdca26"
             ],
             [
              1,
              "#f0f921"
             ]
            ],
            "type": "histogram2d"
           }
          ],
          "histogram2dcontour": [
           {
            "colorbar": {
             "outlinewidth": 0,
             "ticks": ""
            },
            "colorscale": [
             [
              0,
              "#0d0887"
             ],
             [
              0.1111111111111111,
              "#46039f"
             ],
             [
              0.2222222222222222,
              "#7201a8"
             ],
             [
              0.3333333333333333,
              "#9c179e"
             ],
             [
              0.4444444444444444,
              "#bd3786"
             ],
             [
              0.5555555555555556,
              "#d8576b"
             ],
             [
              0.6666666666666666,
              "#ed7953"
             ],
             [
              0.7777777777777778,
              "#fb9f3a"
             ],
             [
              0.8888888888888888,
              "#fdca26"
             ],
             [
              1,
              "#f0f921"
             ]
            ],
            "type": "histogram2dcontour"
           }
          ],
          "mesh3d": [
           {
            "colorbar": {
             "outlinewidth": 0,
             "ticks": ""
            },
            "type": "mesh3d"
           }
          ],
          "parcoords": [
           {
            "line": {
             "colorbar": {
              "outlinewidth": 0,
              "ticks": ""
             }
            },
            "type": "parcoords"
           }
          ],
          "pie": [
           {
            "automargin": true,
            "type": "pie"
           }
          ],
          "scatter": [
           {
            "marker": {
             "colorbar": {
              "outlinewidth": 0,
              "ticks": ""
             }
            },
            "type": "scatter"
           }
          ],
          "scatter3d": [
           {
            "line": {
             "colorbar": {
              "outlinewidth": 0,
              "ticks": ""
             }
            },
            "marker": {
             "colorbar": {
              "outlinewidth": 0,
              "ticks": ""
             }
            },
            "type": "scatter3d"
           }
          ],
          "scattercarpet": [
           {
            "marker": {
             "colorbar": {
              "outlinewidth": 0,
              "ticks": ""
             }
            },
            "type": "scattercarpet"
           }
          ],
          "scattergeo": [
           {
            "marker": {
             "colorbar": {
              "outlinewidth": 0,
              "ticks": ""
             }
            },
            "type": "scattergeo"
           }
          ],
          "scattergl": [
           {
            "marker": {
             "colorbar": {
              "outlinewidth": 0,
              "ticks": ""
             }
            },
            "type": "scattergl"
           }
          ],
          "scattermapbox": [
           {
            "marker": {
             "colorbar": {
              "outlinewidth": 0,
              "ticks": ""
             }
            },
            "type": "scattermapbox"
           }
          ],
          "scatterpolar": [
           {
            "marker": {
             "colorbar": {
              "outlinewidth": 0,
              "ticks": ""
             }
            },
            "type": "scatterpolar"
           }
          ],
          "scatterpolargl": [
           {
            "marker": {
             "colorbar": {
              "outlinewidth": 0,
              "ticks": ""
             }
            },
            "type": "scatterpolargl"
           }
          ],
          "scatterternary": [
           {
            "marker": {
             "colorbar": {
              "outlinewidth": 0,
              "ticks": ""
             }
            },
            "type": "scatterternary"
           }
          ],
          "surface": [
           {
            "colorbar": {
             "outlinewidth": 0,
             "ticks": ""
            },
            "colorscale": [
             [
              0,
              "#0d0887"
             ],
             [
              0.1111111111111111,
              "#46039f"
             ],
             [
              0.2222222222222222,
              "#7201a8"
             ],
             [
              0.3333333333333333,
              "#9c179e"
             ],
             [
              0.4444444444444444,
              "#bd3786"
             ],
             [
              0.5555555555555556,
              "#d8576b"
             ],
             [
              0.6666666666666666,
              "#ed7953"
             ],
             [
              0.7777777777777778,
              "#fb9f3a"
             ],
             [
              0.8888888888888888,
              "#fdca26"
             ],
             [
              1,
              "#f0f921"
             ]
            ],
            "type": "surface"
           }
          ],
          "table": [
           {
            "cells": {
             "fill": {
              "color": "#EBF0F8"
             },
             "line": {
              "color": "white"
             }
            },
            "header": {
             "fill": {
              "color": "#C8D4E3"
             },
             "line": {
              "color": "white"
             }
            },
            "type": "table"
           }
          ]
         },
         "layout": {
          "annotationdefaults": {
           "arrowcolor": "#2a3f5f",
           "arrowhead": 0,
           "arrowwidth": 1
          },
          "autotypenumbers": "strict",
          "coloraxis": {
           "colorbar": {
            "outlinewidth": 0,
            "ticks": ""
           }
          },
          "colorscale": {
           "diverging": [
            [
             0,
             "#8e0152"
            ],
            [
             0.1,
             "#c51b7d"
            ],
            [
             0.2,
             "#de77ae"
            ],
            [
             0.3,
             "#f1b6da"
            ],
            [
             0.4,
             "#fde0ef"
            ],
            [
             0.5,
             "#f7f7f7"
            ],
            [
             0.6,
             "#e6f5d0"
            ],
            [
             0.7,
             "#b8e186"
            ],
            [
             0.8,
             "#7fbc41"
            ],
            [
             0.9,
             "#4d9221"
            ],
            [
             1,
             "#276419"
            ]
           ],
           "sequential": [
            [
             0,
             "#0d0887"
            ],
            [
             0.1111111111111111,
             "#46039f"
            ],
            [
             0.2222222222222222,
             "#7201a8"
            ],
            [
             0.3333333333333333,
             "#9c179e"
            ],
            [
             0.4444444444444444,
             "#bd3786"
            ],
            [
             0.5555555555555556,
             "#d8576b"
            ],
            [
             0.6666666666666666,
             "#ed7953"
            ],
            [
             0.7777777777777778,
             "#fb9f3a"
            ],
            [
             0.8888888888888888,
             "#fdca26"
            ],
            [
             1,
             "#f0f921"
            ]
           ],
           "sequentialminus": [
            [
             0,
             "#0d0887"
            ],
            [
             0.1111111111111111,
             "#46039f"
            ],
            [
             0.2222222222222222,
             "#7201a8"
            ],
            [
             0.3333333333333333,
             "#9c179e"
            ],
            [
             0.4444444444444444,
             "#bd3786"
            ],
            [
             0.5555555555555556,
             "#d8576b"
            ],
            [
             0.6666666666666666,
             "#ed7953"
            ],
            [
             0.7777777777777778,
             "#fb9f3a"
            ],
            [
             0.8888888888888888,
             "#fdca26"
            ],
            [
             1,
             "#f0f921"
            ]
           ]
          },
          "colorway": [
           "#636efa",
           "#EF553B",
           "#00cc96",
           "#ab63fa",
           "#FFA15A",
           "#19d3f3",
           "#FF6692",
           "#B6E880",
           "#FF97FF",
           "#FECB52"
          ],
          "font": {
           "color": "#2a3f5f"
          },
          "geo": {
           "bgcolor": "white",
           "lakecolor": "white",
           "landcolor": "white",
           "showlakes": true,
           "showland": true,
           "subunitcolor": "#C8D4E3"
          },
          "hoverlabel": {
           "align": "left"
          },
          "hovermode": "closest",
          "mapbox": {
           "style": "light"
          },
          "paper_bgcolor": "white",
          "plot_bgcolor": "white",
          "polar": {
           "angularaxis": {
            "gridcolor": "#EBF0F8",
            "linecolor": "#EBF0F8",
            "ticks": ""
           },
           "bgcolor": "white",
           "radialaxis": {
            "gridcolor": "#EBF0F8",
            "linecolor": "#EBF0F8",
            "ticks": ""
           }
          },
          "scene": {
           "xaxis": {
            "backgroundcolor": "white",
            "gridcolor": "#DFE8F3",
            "gridwidth": 2,
            "linecolor": "#EBF0F8",
            "showbackground": true,
            "ticks": "",
            "zerolinecolor": "#EBF0F8"
           },
           "yaxis": {
            "backgroundcolor": "white",
            "gridcolor": "#DFE8F3",
            "gridwidth": 2,
            "linecolor": "#EBF0F8",
            "showbackground": true,
            "ticks": "",
            "zerolinecolor": "#EBF0F8"
           },
           "zaxis": {
            "backgroundcolor": "white",
            "gridcolor": "#DFE8F3",
            "gridwidth": 2,
            "linecolor": "#EBF0F8",
            "showbackground": true,
            "ticks": "",
            "zerolinecolor": "#EBF0F8"
           }
          },
          "shapedefaults": {
           "line": {
            "color": "#2a3f5f"
           }
          },
          "ternary": {
           "aaxis": {
            "gridcolor": "#DFE8F3",
            "linecolor": "#A2B1C6",
            "ticks": ""
           },
           "baxis": {
            "gridcolor": "#DFE8F3",
            "linecolor": "#A2B1C6",
            "ticks": ""
           },
           "bgcolor": "white",
           "caxis": {
            "gridcolor": "#DFE8F3",
            "linecolor": "#A2B1C6",
            "ticks": ""
           }
          },
          "title": {
           "x": 0.05
          },
          "xaxis": {
           "automargin": true,
           "gridcolor": "#EBF0F8",
           "linecolor": "#EBF0F8",
           "ticks": "",
           "title": {
            "standoff": 15
           },
           "zerolinecolor": "#EBF0F8",
           "zerolinewidth": 2
          },
          "yaxis": {
           "automargin": true,
           "gridcolor": "#EBF0F8",
           "linecolor": "#EBF0F8",
           "ticks": "",
           "title": {
            "standoff": 15
           },
           "zerolinecolor": "#EBF0F8",
           "zerolinewidth": 2
          }
         }
        },
        "width": 500,
        "xaxis": {
         "title": {
          "text": "Time in hours"
         }
        },
        "yaxis": {
         "title": {
          "text": "Bacterial count in CFU/mL"
         },
         "type": "log"
        }
       }
      }
     },
     "metadata": {},
     "output_type": "display_data"
    }
   ],
   "source": [
    "# Shift the time, such that first dose is at 0\n",
    "temp = data.copy()\n",
    "temp.Time = temp.Time - 4\n",
    "\n",
    "fig = chi.plots.PDTimeSeriesPlot()\n",
    "fig.add_data(temp, biomarker='Bacterial count')\n",
    "fig.set_axis_labels(xlabel='Time in hours', ylabel='Bacterial count in CFU/mL')\n",
    "fig._fig.layout.updatemenus = []\n",
    "concs = [0.003, 0.031, 0.063, 0.125, 0.25, 0.5, 1, 2, 4, 8, 16, 32]\n",
    "colours = plotly.colors.sequential.ice\n",
    "for _id, scatter in enumerate(fig._fig.data):\n",
    "    scatter.mode = 'markers+lines'\n",
    "    scatter.line.color = colours[_id]\n",
    "    scatter.marker.color = colours[_id]\n",
    "    scatter.name = str(concs[_id])\n",
    "    # scatter.showlegend = False\n",
    "\n",
    "# Add a line indicating the dosing regimen\n",
    "fig._fig.add_shape(\n",
    "    type=\"line\",\n",
    "    x0=0, x1=6,\n",
    "    yref=\"paper\",\n",
    "    y0=0.99, y1=0.99,\n",
    "    line=dict(color='Black')\n",
    ")\n",
    "fig._fig.add_shape(\n",
    "    type=\"line\",\n",
    "    x0=0, x1=0,\n",
    "    yref=\"paper\",\n",
    "    y0=0.98, y1=1,\n",
    "    line=dict(color='Black')\n",
    ")\n",
    "fig._fig.add_shape(\n",
    "    type=\"line\",\n",
    "    x0=6, x1=6,\n",
    "    yref=\"paper\",\n",
    "    y0=0.98, y1=1,\n",
    "    line=dict(color='Black')\n",
    ")\n",
    "\n",
    "fig._fig.update_layout(\n",
    "    width=500,\n",
    "    height=500,\n",
    "    yaxis=dict(\n",
    "        type='log',\n",
    "    ),\n",
    "    font=dict(size=20),\n",
    "    legend=dict(\n",
    "        title='Conc.\\n[mg/L]',\n",
    "        font=dict(size=16)\n",
    "    )\n",
    ")\n",
    "\n",
    "directory = os.getcwd()\n",
    "fig._fig.write_image(directory + '/in_vitro_data.pdf', width=500, height=500)\n",
    "fig.show()"
   ]
  },
  {
   "cell_type": "markdown",
   "metadata": {},
   "source": [
    "## Estimate model likelihoods\n",
    "\n",
    "Uses AIC scores estimated in\n",
    "\n",
    "- `infer_K_model.ipynb`\n",
    "- `infer_KP_model.ipynb`\n",
    "- `infer_KR_model.ipynb`.\n",
    "\n",
    "The model likelihoods are defined as\n",
    "\n",
    "$$\n",
    "    w_m =\n",
    "        \\frac{\\mathrm{e}^{-\\mathrm{AIC}_m / 2}}\n",
    "        {\\sum _m \\mathrm{e}^{-\\mathrm{AIC}_m / 2}},\n",
    "$$\n",
    "\n",
    "where $m$ labels the candidate models."
   ]
  },
  {
   "cell_type": "code",
   "execution_count": 10,
   "metadata": {},
   "outputs": [
    {
     "data": {
      "application/vnd.plotly.v1+json": {
       "config": {
        "plotlyServerURL": "https://plot.ly"
       },
       "data": [
        {
         "marker": {
          "color": [
           "#636EFA",
           "#EF553B",
           "#00CC96"
          ],
          "line": {
           "color": "black",
           "width": 1.5
          }
         },
         "type": "bar",
         "x": [
          "K",
          "KP",
          "KR"
         ],
         "y": [
          3.803118701684663e-28,
          0.08484297769463188,
          0.915157022305368
         ]
        }
       ],
       "layout": {
        "font": {
         "size": 20
        },
        "showlegend": false,
        "template": {
         "data": {
          "bar": [
           {
            "error_x": {
             "color": "#2a3f5f"
            },
            "error_y": {
             "color": "#2a3f5f"
            },
            "marker": {
             "line": {
              "color": "white",
              "width": 0.5
             },
             "pattern": {
              "fillmode": "overlay",
              "size": 10,
              "solidity": 0.2
             }
            },
            "type": "bar"
           }
          ],
          "barpolar": [
           {
            "marker": {
             "line": {
              "color": "white",
              "width": 0.5
             },
             "pattern": {
              "fillmode": "overlay",
              "size": 10,
              "solidity": 0.2
             }
            },
            "type": "barpolar"
           }
          ],
          "carpet": [
           {
            "aaxis": {
             "endlinecolor": "#2a3f5f",
             "gridcolor": "#C8D4E3",
             "linecolor": "#C8D4E3",
             "minorgridcolor": "#C8D4E3",
             "startlinecolor": "#2a3f5f"
            },
            "baxis": {
             "endlinecolor": "#2a3f5f",
             "gridcolor": "#C8D4E3",
             "linecolor": "#C8D4E3",
             "minorgridcolor": "#C8D4E3",
             "startlinecolor": "#2a3f5f"
            },
            "type": "carpet"
           }
          ],
          "choropleth": [
           {
            "colorbar": {
             "outlinewidth": 0,
             "ticks": ""
            },
            "type": "choropleth"
           }
          ],
          "contour": [
           {
            "colorbar": {
             "outlinewidth": 0,
             "ticks": ""
            },
            "colorscale": [
             [
              0,
              "#0d0887"
             ],
             [
              0.1111111111111111,
              "#46039f"
             ],
             [
              0.2222222222222222,
              "#7201a8"
             ],
             [
              0.3333333333333333,
              "#9c179e"
             ],
             [
              0.4444444444444444,
              "#bd3786"
             ],
             [
              0.5555555555555556,
              "#d8576b"
             ],
             [
              0.6666666666666666,
              "#ed7953"
             ],
             [
              0.7777777777777778,
              "#fb9f3a"
             ],
             [
              0.8888888888888888,
              "#fdca26"
             ],
             [
              1,
              "#f0f921"
             ]
            ],
            "type": "contour"
           }
          ],
          "contourcarpet": [
           {
            "colorbar": {
             "outlinewidth": 0,
             "ticks": ""
            },
            "type": "contourcarpet"
           }
          ],
          "heatmap": [
           {
            "colorbar": {
             "outlinewidth": 0,
             "ticks": ""
            },
            "colorscale": [
             [
              0,
              "#0d0887"
             ],
             [
              0.1111111111111111,
              "#46039f"
             ],
             [
              0.2222222222222222,
              "#7201a8"
             ],
             [
              0.3333333333333333,
              "#9c179e"
             ],
             [
              0.4444444444444444,
              "#bd3786"
             ],
             [
              0.5555555555555556,
              "#d8576b"
             ],
             [
              0.6666666666666666,
              "#ed7953"
             ],
             [
              0.7777777777777778,
              "#fb9f3a"
             ],
             [
              0.8888888888888888,
              "#fdca26"
             ],
             [
              1,
              "#f0f921"
             ]
            ],
            "type": "heatmap"
           }
          ],
          "heatmapgl": [
           {
            "colorbar": {
             "outlinewidth": 0,
             "ticks": ""
            },
            "colorscale": [
             [
              0,
              "#0d0887"
             ],
             [
              0.1111111111111111,
              "#46039f"
             ],
             [
              0.2222222222222222,
              "#7201a8"
             ],
             [
              0.3333333333333333,
              "#9c179e"
             ],
             [
              0.4444444444444444,
              "#bd3786"
             ],
             [
              0.5555555555555556,
              "#d8576b"
             ],
             [
              0.6666666666666666,
              "#ed7953"
             ],
             [
              0.7777777777777778,
              "#fb9f3a"
             ],
             [
              0.8888888888888888,
              "#fdca26"
             ],
             [
              1,
              "#f0f921"
             ]
            ],
            "type": "heatmapgl"
           }
          ],
          "histogram": [
           {
            "marker": {
             "pattern": {
              "fillmode": "overlay",
              "size": 10,
              "solidity": 0.2
             }
            },
            "type": "histogram"
           }
          ],
          "histogram2d": [
           {
            "colorbar": {
             "outlinewidth": 0,
             "ticks": ""
            },
            "colorscale": [
             [
              0,
              "#0d0887"
             ],
             [
              0.1111111111111111,
              "#46039f"
             ],
             [
              0.2222222222222222,
              "#7201a8"
             ],
             [
              0.3333333333333333,
              "#9c179e"
             ],
             [
              0.4444444444444444,
              "#bd3786"
             ],
             [
              0.5555555555555556,
              "#d8576b"
             ],
             [
              0.6666666666666666,
              "#ed7953"
             ],
             [
              0.7777777777777778,
              "#fb9f3a"
             ],
             [
              0.8888888888888888,
              "#fdca26"
             ],
             [
              1,
              "#f0f921"
             ]
            ],
            "type": "histogram2d"
           }
          ],
          "histogram2dcontour": [
           {
            "colorbar": {
             "outlinewidth": 0,
             "ticks": ""
            },
            "colorscale": [
             [
              0,
              "#0d0887"
             ],
             [
              0.1111111111111111,
              "#46039f"
             ],
             [
              0.2222222222222222,
              "#7201a8"
             ],
             [
              0.3333333333333333,
              "#9c179e"
             ],
             [
              0.4444444444444444,
              "#bd3786"
             ],
             [
              0.5555555555555556,
              "#d8576b"
             ],
             [
              0.6666666666666666,
              "#ed7953"
             ],
             [
              0.7777777777777778,
              "#fb9f3a"
             ],
             [
              0.8888888888888888,
              "#fdca26"
             ],
             [
              1,
              "#f0f921"
             ]
            ],
            "type": "histogram2dcontour"
           }
          ],
          "mesh3d": [
           {
            "colorbar": {
             "outlinewidth": 0,
             "ticks": ""
            },
            "type": "mesh3d"
           }
          ],
          "parcoords": [
           {
            "line": {
             "colorbar": {
              "outlinewidth": 0,
              "ticks": ""
             }
            },
            "type": "parcoords"
           }
          ],
          "pie": [
           {
            "automargin": true,
            "type": "pie"
           }
          ],
          "scatter": [
           {
            "marker": {
             "colorbar": {
              "outlinewidth": 0,
              "ticks": ""
             }
            },
            "type": "scatter"
           }
          ],
          "scatter3d": [
           {
            "line": {
             "colorbar": {
              "outlinewidth": 0,
              "ticks": ""
             }
            },
            "marker": {
             "colorbar": {
              "outlinewidth": 0,
              "ticks": ""
             }
            },
            "type": "scatter3d"
           }
          ],
          "scattercarpet": [
           {
            "marker": {
             "colorbar": {
              "outlinewidth": 0,
              "ticks": ""
             }
            },
            "type": "scattercarpet"
           }
          ],
          "scattergeo": [
           {
            "marker": {
             "colorbar": {
              "outlinewidth": 0,
              "ticks": ""
             }
            },
            "type": "scattergeo"
           }
          ],
          "scattergl": [
           {
            "marker": {
             "colorbar": {
              "outlinewidth": 0,
              "ticks": ""
             }
            },
            "type": "scattergl"
           }
          ],
          "scattermapbox": [
           {
            "marker": {
             "colorbar": {
              "outlinewidth": 0,
              "ticks": ""
             }
            },
            "type": "scattermapbox"
           }
          ],
          "scatterpolar": [
           {
            "marker": {
             "colorbar": {
              "outlinewidth": 0,
              "ticks": ""
             }
            },
            "type": "scatterpolar"
           }
          ],
          "scatterpolargl": [
           {
            "marker": {
             "colorbar": {
              "outlinewidth": 0,
              "ticks": ""
             }
            },
            "type": "scatterpolargl"
           }
          ],
          "scatterternary": [
           {
            "marker": {
             "colorbar": {
              "outlinewidth": 0,
              "ticks": ""
             }
            },
            "type": "scatterternary"
           }
          ],
          "surface": [
           {
            "colorbar": {
             "outlinewidth": 0,
             "ticks": ""
            },
            "colorscale": [
             [
              0,
              "#0d0887"
             ],
             [
              0.1111111111111111,
              "#46039f"
             ],
             [
              0.2222222222222222,
              "#7201a8"
             ],
             [
              0.3333333333333333,
              "#9c179e"
             ],
             [
              0.4444444444444444,
              "#bd3786"
             ],
             [
              0.5555555555555556,
              "#d8576b"
             ],
             [
              0.6666666666666666,
              "#ed7953"
             ],
             [
              0.7777777777777778,
              "#fb9f3a"
             ],
             [
              0.8888888888888888,
              "#fdca26"
             ],
             [
              1,
              "#f0f921"
             ]
            ],
            "type": "surface"
           }
          ],
          "table": [
           {
            "cells": {
             "fill": {
              "color": "#EBF0F8"
             },
             "line": {
              "color": "white"
             }
            },
            "header": {
             "fill": {
              "color": "#C8D4E3"
             },
             "line": {
              "color": "white"
             }
            },
            "type": "table"
           }
          ]
         },
         "layout": {
          "annotationdefaults": {
           "arrowcolor": "#2a3f5f",
           "arrowhead": 0,
           "arrowwidth": 1
          },
          "autotypenumbers": "strict",
          "coloraxis": {
           "colorbar": {
            "outlinewidth": 0,
            "ticks": ""
           }
          },
          "colorscale": {
           "diverging": [
            [
             0,
             "#8e0152"
            ],
            [
             0.1,
             "#c51b7d"
            ],
            [
             0.2,
             "#de77ae"
            ],
            [
             0.3,
             "#f1b6da"
            ],
            [
             0.4,
             "#fde0ef"
            ],
            [
             0.5,
             "#f7f7f7"
            ],
            [
             0.6,
             "#e6f5d0"
            ],
            [
             0.7,
             "#b8e186"
            ],
            [
             0.8,
             "#7fbc41"
            ],
            [
             0.9,
             "#4d9221"
            ],
            [
             1,
             "#276419"
            ]
           ],
           "sequential": [
            [
             0,
             "#0d0887"
            ],
            [
             0.1111111111111111,
             "#46039f"
            ],
            [
             0.2222222222222222,
             "#7201a8"
            ],
            [
             0.3333333333333333,
             "#9c179e"
            ],
            [
             0.4444444444444444,
             "#bd3786"
            ],
            [
             0.5555555555555556,
             "#d8576b"
            ],
            [
             0.6666666666666666,
             "#ed7953"
            ],
            [
             0.7777777777777778,
             "#fb9f3a"
            ],
            [
             0.8888888888888888,
             "#fdca26"
            ],
            [
             1,
             "#f0f921"
            ]
           ],
           "sequentialminus": [
            [
             0,
             "#0d0887"
            ],
            [
             0.1111111111111111,
             "#46039f"
            ],
            [
             0.2222222222222222,
             "#7201a8"
            ],
            [
             0.3333333333333333,
             "#9c179e"
            ],
            [
             0.4444444444444444,
             "#bd3786"
            ],
            [
             0.5555555555555556,
             "#d8576b"
            ],
            [
             0.6666666666666666,
             "#ed7953"
            ],
            [
             0.7777777777777778,
             "#fb9f3a"
            ],
            [
             0.8888888888888888,
             "#fdca26"
            ],
            [
             1,
             "#f0f921"
            ]
           ]
          },
          "colorway": [
           "#636efa",
           "#EF553B",
           "#00cc96",
           "#ab63fa",
           "#FFA15A",
           "#19d3f3",
           "#FF6692",
           "#B6E880",
           "#FF97FF",
           "#FECB52"
          ],
          "font": {
           "color": "#2a3f5f"
          },
          "geo": {
           "bgcolor": "white",
           "lakecolor": "white",
           "landcolor": "white",
           "showlakes": true,
           "showland": true,
           "subunitcolor": "#C8D4E3"
          },
          "hoverlabel": {
           "align": "left"
          },
          "hovermode": "closest",
          "mapbox": {
           "style": "light"
          },
          "paper_bgcolor": "white",
          "plot_bgcolor": "white",
          "polar": {
           "angularaxis": {
            "gridcolor": "#EBF0F8",
            "linecolor": "#EBF0F8",
            "ticks": ""
           },
           "bgcolor": "white",
           "radialaxis": {
            "gridcolor": "#EBF0F8",
            "linecolor": "#EBF0F8",
            "ticks": ""
           }
          },
          "scene": {
           "xaxis": {
            "backgroundcolor": "white",
            "gridcolor": "#DFE8F3",
            "gridwidth": 2,
            "linecolor": "#EBF0F8",
            "showbackground": true,
            "ticks": "",
            "zerolinecolor": "#EBF0F8"
           },
           "yaxis": {
            "backgroundcolor": "white",
            "gridcolor": "#DFE8F3",
            "gridwidth": 2,
            "linecolor": "#EBF0F8",
            "showbackground": true,
            "ticks": "",
            "zerolinecolor": "#EBF0F8"
           },
           "zaxis": {
            "backgroundcolor": "white",
            "gridcolor": "#DFE8F3",
            "gridwidth": 2,
            "linecolor": "#EBF0F8",
            "showbackground": true,
            "ticks": "",
            "zerolinecolor": "#EBF0F8"
           }
          },
          "shapedefaults": {
           "line": {
            "color": "#2a3f5f"
           }
          },
          "ternary": {
           "aaxis": {
            "gridcolor": "#DFE8F3",
            "linecolor": "#A2B1C6",
            "ticks": ""
           },
           "baxis": {
            "gridcolor": "#DFE8F3",
            "linecolor": "#A2B1C6",
            "ticks": ""
           },
           "bgcolor": "white",
           "caxis": {
            "gridcolor": "#DFE8F3",
            "linecolor": "#A2B1C6",
            "ticks": ""
           }
          },
          "title": {
           "x": 0.05
          },
          "xaxis": {
           "automargin": true,
           "gridcolor": "#EBF0F8",
           "linecolor": "#EBF0F8",
           "ticks": "",
           "title": {
            "standoff": 15
           },
           "zerolinecolor": "#EBF0F8",
           "zerolinewidth": 2
          },
          "yaxis": {
           "automargin": true,
           "gridcolor": "#EBF0F8",
           "linecolor": "#EBF0F8",
           "ticks": "",
           "title": {
            "standoff": 15
           },
           "zerolinecolor": "#EBF0F8",
           "zerolinewidth": 2
          }
         }
        },
        "xaxis": {
         "showticklabels": true
        },
        "yaxis": {
         "range": [
          0,
          1
         ],
         "title": {
          "text": "Weight"
         }
        }
       }
      }
     },
     "metadata": {},
     "output_type": "display_data"
    }
   ],
   "source": [
    "# Load elpd estimates from disk\n",
    "directory = os.getcwd()\n",
    "models = ['K_model', 'KP_model', 'KR_model']\n",
    "n_models = len(models)\n",
    "aic_scores = np.empty(shape=(n_models))\n",
    "for id_m, model in enumerate(models):\n",
    "    # Get AIC scores\n",
    "    path = os.path.join(\n",
    "        directory, 'derived_data/%s_inference_data.nc' % model)\n",
    "    inf_data = xr.load_dataarray(path)\n",
    "    aic_scores[id_m] = inf_data.attrs['AIC score']\n",
    "\n",
    "# Compute elpd deltas to avoid numerical overflow\n",
    "delta_aic = aic_scores - aic_scores[-1]\n",
    "\n",
    "# Compute weights\n",
    "weights_aic = np.exp(-delta_aic / 2) / np.sum(np.exp(-delta_aic / 2), axis=0)\n",
    "\n",
    "# Create figure\n",
    "fig = go.Figure()\n",
    "colors = plotly.colors.qualitative.Plotly\n",
    "fig.add_trace(go.Bar(\n",
    "    x=['K', 'KP', 'KR'],\n",
    "    y=weights_aic,\n",
    "    marker_color=colors[:n_models]\n",
    "))\n",
    "fig.update_traces(\n",
    "    marker_line_color='black',\n",
    "    marker_line_width=1.5)\n",
    "fig.update_layout(\n",
    "    template='plotly_white',\n",
    "    yaxis_title='Weight',\n",
    "    showlegend=False,\n",
    "    yaxis_range=[0, 1],\n",
    "    font=dict(size=20),\n",
    "    xaxis_showticklabels=True\n",
    ")\n",
    "\n",
    "directory = os.getcwd()\n",
    "fig.write_image(\n",
    "    directory + '/model_weights_in_vitro_study.pdf', width=500, height=500)\n",
    "fig.show()"
   ]
  },
  {
   "cell_type": "markdown",
   "metadata": {},
   "source": [
    "## Predict treatment response with likely models for clinical dosing regimen"
   ]
  },
  {
   "cell_type": "code",
   "execution_count": 21,
   "metadata": {},
   "outputs": [
    {
     "data": {
      "application/vnd.plotly.v1+json": {
       "config": {
        "plotlyServerURL": "https://plot.ly"
       },
       "data": [
        {
         "fill": "toself",
         "legendgroup": "KP",
         "line": {
          "color": "grey",
          "width": 1
         },
         "name": "KP",
         "opacity": 0.5,
         "showlegend": false,
         "type": "scatter",
         "x": [
          -4,
          -3.9198396793587174,
          -3.8396793587174347,
          -3.7595190380761525,
          -3.67935871743487,
          -3.599198396793587,
          -3.5190380761523046,
          -3.438877755511022,
          -3.3587174348697397,
          -3.278557114228457,
          -3.1983967935871744,
          -3.118236472945892,
          -3.038076152304609,
          -2.9579158316633265,
          -2.877755511022044,
          -2.7975951903807617,
          -2.717434869739479,
          -2.6372745490981964,
          -2.557114228456914,
          -2.4769539078156315,
          -2.396793587174349,
          -2.3166332665330662,
          -2.2364729458917836,
          -2.156312625250501,
          -2.0761523046092183,
          -1.995991983967936,
          -1.9158316633266534,
          -1.8356713426853708,
          -1.7555110220440882,
          -1.6753507014028055,
          -1.5951903807615233,
          -1.5150300601202407,
          -1.434869739478958,
          -1.3547094188376754,
          -1.2745490981963927,
          -1.1943887775551105,
          -1.1142284569138279,
          -1.0340681362725452,
          -0.9539078156312626,
          -0.87374749498998,
          -0.7935871743486977,
          -0.7134268537074151,
          -0.6332665330661325,
          -0.5531062124248498,
          -0.47294589178356716,
          -0.3927855711422845,
          -0.3126252505010023,
          -0.23246492985971967,
          -0.15230460921843703,
          -0.07214428857715438,
          0.00801603206412782,
          0.08817635270541047,
          0.1683366733466931,
          0.24849699398797576,
          0.3286573146292584,
          0.40881763527054105,
          0.4889779559118237,
          0.5691382765531063,
          0.649298597194389,
          0.7294589178356707,
          0.8096192384769534,
          0.889779559118236,
          0.9699398797595187,
          1.0501002004008013,
          1.130260521042084,
          1.2104208416833666,
          1.2905811623246493,
          1.370741482965932,
          1.4509018036072145,
          1.5310621242484972,
          1.611222444889779,
          1.6913827655310616,
          1.7715430861723442,
          1.8517034068136269,
          1.9318637274549095,
          2.012024048096192,
          2.092184368737475,
          2.1723446893787575,
          2.25250501002004,
          2.3326653306613228,
          2.4128256513026045,
          2.492985971943887,
          2.57314629258517,
          2.6533066132264524,
          2.733466933867735,
          2.8136272545090177,
          2.8937875751503004,
          2.973947895791583,
          3.0541082164328657,
          3.1342685370741483,
          3.214428857715431,
          3.2945891783567127,
          3.3747494989979954,
          3.454909819639278,
          3.5350701402805607,
          3.6152304609218433,
          3.695390781563126,
          3.7755511022044086,
          3.8557114228456912,
          3.935871743486974,
          4.016032064128256,
          4.096192384769539,
          4.176352705410821,
          4.2565130260521045,
          4.336673346693386,
          4.41683366733467,
          4.4969939879759515,
          4.577154308617233,
          4.657314629258517,
          4.737474949899799,
          4.817635270541082,
          4.897795591182364,
          4.977955911823647,
          5.058116232464929,
          5.138276553106213,
          5.218436873747494,
          5.298597194388778,
          5.37875751503006,
          5.4589178356713415,
          5.539078156312625,
          5.619238476953907,
          5.69939879759519,
          5.779559118236472,
          5.859719438877756,
          5.939879759519037,
          6.020040080160321,
          6.100200400801603,
          6.180360721442886,
          6.260521042084168,
          6.34068136272545,
          6.420841683366733,
          6.501002004008015,
          6.5811623246492985,
          6.66132264529058,
          6.741482965931864,
          6.821643286573146,
          6.901803607214429,
          6.981963927855711,
          7.062124248496994,
          7.142284569138276,
          7.222444889779558,
          7.302605210420841,
          7.382765531062123,
          7.462925851703407,
          7.5430861723446885,
          7.623246492985972,
          7.703406813627254,
          7.783567134268537,
          7.863727454909819,
          7.943887775551103,
          8.024048096192384,
          8.104208416833666,
          8.18436873747495,
          8.264529058116231,
          8.344689378757515,
          8.424849699398797,
          8.50501002004008,
          8.585170340681362,
          8.665330661322646,
          8.745490981963927,
          8.825651302605209,
          8.905811623246493,
          8.985971943887774,
          9.066132264529058,
          9.14629258517034,
          9.226452905811623,
          9.306613226452905,
          9.386773547094188,
          9.46693386773547,
          9.547094188376754,
          9.627254509018035,
          9.707414829659317,
          9.7875751503006,
          9.867735470941883,
          9.947895791583166,
          10.028056112224448,
          10.108216432865731,
          10.188376753507013,
          10.268537074148297,
          10.348697394789578,
          10.428857715430862,
          10.509018036072144,
          10.589178356713425,
          10.669338677354709,
          10.74949899799599,
          10.829659318637274,
          10.909819639278556,
          10.98997995991984,
          11.070140280561121,
          11.150300601202405,
          11.230460921843687,
          11.31062124248497,
          11.390781563126252,
          11.470941883767534,
          11.551102204408817,
          11.631262525050099,
          11.711422845691382,
          11.791583166332664,
          11.871743486973948,
          11.95190380761523,
          12.032064128256511,
          12.112224448897795,
          12.192384769539078,
          12.272545090180358,
          12.352705410821642,
          12.432865731462925,
          12.513026052104209,
          12.593186372745489,
          12.673346693386772,
          12.753507014028056,
          12.83366733466934,
          12.91382765531062,
          12.993987975951903,
          13.074148296593187,
          13.154308617234467,
          13.23446893787575,
          13.314629258517034,
          13.394789579158317,
          13.474949899799597,
          13.55511022044088,
          13.635270541082164,
          13.715430861723448,
          13.795591182364728,
          13.875751503006011,
          13.955911823647295,
          14.036072144288575,
          14.116232464929858,
          14.196392785571142,
          14.276553106212425,
          14.356713426853705,
          14.436873747494989,
          14.517034068136272,
          14.597194388777556,
          14.677354709418836,
          14.75751503006012,
          14.837675350701403,
          14.917835671342683,
          14.997995991983966,
          15.07815631262525,
          15.158316633266534,
          15.238476953907814,
          15.318637274549097,
          15.39879759519038,
          15.478957915831664,
          15.559118236472944,
          15.639278557114228,
          15.719438877755511,
          15.799599198396791,
          15.879759519038075,
          15.959919839679358,
          16.04008016032064,
          16.12024048096192,
          16.200400801603205,
          16.28056112224449,
          16.360721442885772,
          16.440881763527052,
          16.521042084168336,
          16.60120240480962,
          16.6813627254509,
          16.761523046092183,
          16.841683366733466,
          16.92184368737475,
          17.00200400801603,
          17.082164328657313,
          17.162324649298597,
          17.24248496993988,
          17.32264529058116,
          17.402805611222444,
          17.482965931863728,
          17.563126252505008,
          17.64328657314629,
          17.723446893787575,
          17.803607214428858,
          17.883767535070138,
          17.96392785571142,
          18.044088176352705,
          18.12424849699399,
          18.20440881763527,
          18.284569138276552,
          18.364729458917836,
          18.444889779559116,
          18.5250501002004,
          18.605210420841683,
          18.685370741482966,
          18.765531062124246,
          18.84569138276553,
          18.925851703406813,
          19.006012024048097,
          19.086172344689377,
          19.16633266533066,
          19.246492985971944,
          19.326653306613224,
          19.406813627254508,
          19.48697394789579,
          19.567134268537075,
          19.647294589178355,
          19.727454909819638,
          19.80761523046092,
          19.887775551102205,
          19.967935871743485,
          20.04809619238477,
          20.128256513026052,
          20.208416833667332,
          20.288577154308616,
          20.3687374749499,
          20.448897795591183,
          20.529058116232463,
          20.609218436873746,
          20.68937875751503,
          20.769539078156313,
          20.849699398797593,
          20.929859719438877,
          21.01002004008016,
          21.09018036072144,
          21.170340681362724,
          21.250501002004007,
          21.33066132264529,
          21.41082164328657,
          21.490981963927855,
          21.571142284569138,
          21.651302605210418,
          21.7314629258517,
          21.811623246492985,
          21.89178356713427,
          21.97194388777555,
          22.052104208416832,
          22.132264529058116,
          22.2124248496994,
          22.29258517034068,
          22.372745490981963,
          22.452905811623246,
          22.533066132264526,
          22.61322645290581,
          22.693386773547093,
          22.773547094188377,
          22.853707414829657,
          22.93386773547094,
          23.014028056112224,
          23.094188376753507,
          23.174348697394787,
          23.25450901803607,
          23.334669338677354,
          23.414829659318634,
          23.494989979959918,
          23.5751503006012,
          23.655310621242485,
          23.735470941883765,
          23.81563126252505,
          23.895791583166332,
          23.975951903807616,
          24.056112224448896,
          24.13627254509018,
          24.216432865731463,
          24.296593186372743,
          24.376753507014026,
          24.45691382765531,
          24.537074148296593,
          24.617234468937873,
          24.697394789579157,
          24.77755511022044,
          24.857715430861724,
          24.937875751503004,
          25.018036072144287,
          25.09819639278557,
          25.17835671342685,
          25.258517034068134,
          25.338677354709418,
          25.4188376753507,
          25.49899799599198,
          25.579158316633265,
          25.65931863727455,
          25.739478957915832,
          25.819639278557112,
          25.899799599198396,
          25.97995991983968,
          26.06012024048096,
          26.140280561122243,
          26.220440881763526,
          26.30060120240481,
          26.38076152304609,
          26.460921843687373,
          26.541082164328657,
          26.62124248496994,
          26.70140280561122,
          26.781563126252504,
          26.861723446893787,
          26.941883767535067,
          27.02204408817635,
          27.102204408817634,
          27.182364729458918,
          27.262525050100198,
          27.34268537074148,
          27.422845691382765,
          27.50300601202405,
          27.58316633266533,
          27.663326653306612,
          27.743486973947896,
          27.823647294589176,
          27.90380761523046,
          27.983967935871743,
          28.064128256513023,
          28.144288577154306,
          28.22444889779559,
          28.304609218436873,
          28.384769539078157,
          28.46492985971944,
          28.545090180360717,
          28.625250501002,
          28.705410821643284,
          28.785571142284567,
          28.86573146292585,
          28.945891783567134,
          29.026052104208418,
          29.1062124248497,
          29.186372745490978,
          29.26653306613226,
          29.346693386773545,
          29.42685370741483,
          29.507014028056112,
          29.587174348697395,
          29.66733466933868,
          29.747494989979955,
          29.82765531062124,
          29.907815631262523,
          29.987975951903806,
          30.06813627254509,
          30.148296593186373,
          30.228456913827657,
          30.308617234468933,
          30.388777555110217,
          30.4689378757515,
          30.549098196392784,
          30.629258517034067,
          30.70941883767535,
          30.789579158316634,
          30.869739478957918,
          30.949899799599194,
          31.030060120240478,
          31.11022044088176,
          31.190380761523045,
          31.27054108216433,
          31.350701402805612,
          31.430861723446895,
          31.511022044088172,
          31.591182364729455,
          31.67134268537074,
          31.751503006012022,
          31.831663326653306,
          31.91182364729459,
          31.991983967935873,
          32.07214428857715,
          32.15230460921843,
          32.23246492985972,
          32.312625250501,
          32.392785571142284,
          32.47294589178357,
          32.55310621242485,
          32.633266533066134,
          32.71342685370741,
          32.793587174348694,
          32.87374749498998,
          32.95390781563126,
          33.034068136272545,
          33.11422845691383,
          33.19438877755511,
          33.27454909819639,
          33.35470941883767,
          33.434869739478955,
          33.51503006012024,
          33.59519038076152,
          33.675350701402806,
          33.75551102204409,
          33.835671342685366,
          33.91583166332665,
          33.99599198396793,
          34.07615230460922,
          34.1563126252505,
          34.236472945891784,
          34.31663326653307,
          34.39679358717435,
          34.47695390781563,
          34.55711422845691,
          34.637274549098194,
          34.71743486973948,
          34.79759519038076,
          34.877755511022045,
          34.95791583166333,
          35.038076152304605,
          35.11823647294589,
          35.19839679358717,
          35.278557114228455,
          35.35871743486974,
          35.43887775551102,
          35.519038076152306,
          35.59919839679358,
          35.679358717434866,
          35.75951903807615,
          35.83967935871743,
          35.91983967935872,
          36,
          36,
          35.91983967935872,
          35.83967935871743,
          35.75951903807615,
          35.679358717434866,
          35.59919839679358,
          35.519038076152306,
          35.43887775551102,
          35.35871743486974,
          35.278557114228455,
          35.19839679358717,
          35.11823647294589,
          35.038076152304605,
          34.95791583166333,
          34.877755511022045,
          34.79759519038076,
          34.71743486973948,
          34.637274549098194,
          34.55711422845691,
          34.47695390781563,
          34.39679358717435,
          34.31663326653307,
          34.236472945891784,
          34.1563126252505,
          34.07615230460922,
          33.99599198396793,
          33.91583166332665,
          33.835671342685366,
          33.75551102204409,
          33.675350701402806,
          33.59519038076152,
          33.51503006012024,
          33.434869739478955,
          33.35470941883767,
          33.27454909819639,
          33.19438877755511,
          33.11422845691383,
          33.034068136272545,
          32.95390781563126,
          32.87374749498998,
          32.793587174348694,
          32.71342685370741,
          32.633266533066134,
          32.55310621242485,
          32.47294589178357,
          32.392785571142284,
          32.312625250501,
          32.23246492985972,
          32.15230460921843,
          32.07214428857715,
          31.991983967935873,
          31.91182364729459,
          31.831663326653306,
          31.751503006012022,
          31.67134268537074,
          31.591182364729455,
          31.511022044088172,
          31.430861723446895,
          31.350701402805612,
          31.27054108216433,
          31.190380761523045,
          31.11022044088176,
          31.030060120240478,
          30.949899799599194,
          30.869739478957918,
          30.789579158316634,
          30.70941883767535,
          30.629258517034067,
          30.549098196392784,
          30.4689378757515,
          30.388777555110217,
          30.308617234468933,
          30.228456913827657,
          30.148296593186373,
          30.06813627254509,
          29.987975951903806,
          29.907815631262523,
          29.82765531062124,
          29.747494989979955,
          29.66733466933868,
          29.587174348697395,
          29.507014028056112,
          29.42685370741483,
          29.346693386773545,
          29.26653306613226,
          29.186372745490978,
          29.1062124248497,
          29.026052104208418,
          28.945891783567134,
          28.86573146292585,
          28.785571142284567,
          28.705410821643284,
          28.625250501002,
          28.545090180360717,
          28.46492985971944,
          28.384769539078157,
          28.304609218436873,
          28.22444889779559,
          28.144288577154306,
          28.064128256513023,
          27.983967935871743,
          27.90380761523046,
          27.823647294589176,
          27.743486973947896,
          27.663326653306612,
          27.58316633266533,
          27.50300601202405,
          27.422845691382765,
          27.34268537074148,
          27.262525050100198,
          27.182364729458918,
          27.102204408817634,
          27.02204408817635,
          26.941883767535067,
          26.861723446893787,
          26.781563126252504,
          26.70140280561122,
          26.62124248496994,
          26.541082164328657,
          26.460921843687373,
          26.38076152304609,
          26.30060120240481,
          26.220440881763526,
          26.140280561122243,
          26.06012024048096,
          25.97995991983968,
          25.899799599198396,
          25.819639278557112,
          25.739478957915832,
          25.65931863727455,
          25.579158316633265,
          25.49899799599198,
          25.4188376753507,
          25.338677354709418,
          25.258517034068134,
          25.17835671342685,
          25.09819639278557,
          25.018036072144287,
          24.937875751503004,
          24.857715430861724,
          24.77755511022044,
          24.697394789579157,
          24.617234468937873,
          24.537074148296593,
          24.45691382765531,
          24.376753507014026,
          24.296593186372743,
          24.216432865731463,
          24.13627254509018,
          24.056112224448896,
          23.975951903807616,
          23.895791583166332,
          23.81563126252505,
          23.735470941883765,
          23.655310621242485,
          23.5751503006012,
          23.494989979959918,
          23.414829659318634,
          23.334669338677354,
          23.25450901803607,
          23.174348697394787,
          23.094188376753507,
          23.014028056112224,
          22.93386773547094,
          22.853707414829657,
          22.773547094188377,
          22.693386773547093,
          22.61322645290581,
          22.533066132264526,
          22.452905811623246,
          22.372745490981963,
          22.29258517034068,
          22.2124248496994,
          22.132264529058116,
          22.052104208416832,
          21.97194388777555,
          21.89178356713427,
          21.811623246492985,
          21.7314629258517,
          21.651302605210418,
          21.571142284569138,
          21.490981963927855,
          21.41082164328657,
          21.33066132264529,
          21.250501002004007,
          21.170340681362724,
          21.09018036072144,
          21.01002004008016,
          20.929859719438877,
          20.849699398797593,
          20.769539078156313,
          20.68937875751503,
          20.609218436873746,
          20.529058116232463,
          20.448897795591183,
          20.3687374749499,
          20.288577154308616,
          20.208416833667332,
          20.128256513026052,
          20.04809619238477,
          19.967935871743485,
          19.887775551102205,
          19.80761523046092,
          19.727454909819638,
          19.647294589178355,
          19.567134268537075,
          19.48697394789579,
          19.406813627254508,
          19.326653306613224,
          19.246492985971944,
          19.16633266533066,
          19.086172344689377,
          19.006012024048097,
          18.925851703406813,
          18.84569138276553,
          18.765531062124246,
          18.685370741482966,
          18.605210420841683,
          18.5250501002004,
          18.444889779559116,
          18.364729458917836,
          18.284569138276552,
          18.20440881763527,
          18.12424849699399,
          18.044088176352705,
          17.96392785571142,
          17.883767535070138,
          17.803607214428858,
          17.723446893787575,
          17.64328657314629,
          17.563126252505008,
          17.482965931863728,
          17.402805611222444,
          17.32264529058116,
          17.24248496993988,
          17.162324649298597,
          17.082164328657313,
          17.00200400801603,
          16.92184368737475,
          16.841683366733466,
          16.761523046092183,
          16.6813627254509,
          16.60120240480962,
          16.521042084168336,
          16.440881763527052,
          16.360721442885772,
          16.28056112224449,
          16.200400801603205,
          16.12024048096192,
          16.04008016032064,
          15.959919839679358,
          15.879759519038075,
          15.799599198396791,
          15.719438877755511,
          15.639278557114228,
          15.559118236472944,
          15.478957915831664,
          15.39879759519038,
          15.318637274549097,
          15.238476953907814,
          15.158316633266534,
          15.07815631262525,
          14.997995991983966,
          14.917835671342683,
          14.837675350701403,
          14.75751503006012,
          14.677354709418836,
          14.597194388777556,
          14.517034068136272,
          14.436873747494989,
          14.356713426853705,
          14.276553106212425,
          14.196392785571142,
          14.116232464929858,
          14.036072144288575,
          13.955911823647295,
          13.875751503006011,
          13.795591182364728,
          13.715430861723448,
          13.635270541082164,
          13.55511022044088,
          13.474949899799597,
          13.394789579158317,
          13.314629258517034,
          13.23446893787575,
          13.154308617234467,
          13.074148296593187,
          12.993987975951903,
          12.91382765531062,
          12.83366733466934,
          12.753507014028056,
          12.673346693386772,
          12.593186372745489,
          12.513026052104209,
          12.432865731462925,
          12.352705410821642,
          12.272545090180358,
          12.192384769539078,
          12.112224448897795,
          12.032064128256511,
          11.95190380761523,
          11.871743486973948,
          11.791583166332664,
          11.711422845691382,
          11.631262525050099,
          11.551102204408817,
          11.470941883767534,
          11.390781563126252,
          11.31062124248497,
          11.230460921843687,
          11.150300601202405,
          11.070140280561121,
          10.98997995991984,
          10.909819639278556,
          10.829659318637274,
          10.74949899799599,
          10.669338677354709,
          10.589178356713425,
          10.509018036072144,
          10.428857715430862,
          10.348697394789578,
          10.268537074148297,
          10.188376753507013,
          10.108216432865731,
          10.028056112224448,
          9.947895791583166,
          9.867735470941883,
          9.7875751503006,
          9.707414829659317,
          9.627254509018035,
          9.547094188376754,
          9.46693386773547,
          9.386773547094188,
          9.306613226452905,
          9.226452905811623,
          9.14629258517034,
          9.066132264529058,
          8.985971943887774,
          8.905811623246493,
          8.825651302605209,
          8.745490981963927,
          8.665330661322646,
          8.585170340681362,
          8.50501002004008,
          8.424849699398797,
          8.344689378757515,
          8.264529058116231,
          8.18436873747495,
          8.104208416833666,
          8.024048096192384,
          7.943887775551103,
          7.863727454909819,
          7.783567134268537,
          7.703406813627254,
          7.623246492985972,
          7.5430861723446885,
          7.462925851703407,
          7.382765531062123,
          7.302605210420841,
          7.222444889779558,
          7.142284569138276,
          7.062124248496994,
          6.981963927855711,
          6.901803607214429,
          6.821643286573146,
          6.741482965931864,
          6.66132264529058,
          6.5811623246492985,
          6.501002004008015,
          6.420841683366733,
          6.34068136272545,
          6.260521042084168,
          6.180360721442886,
          6.100200400801603,
          6.020040080160321,
          5.939879759519037,
          5.859719438877756,
          5.779559118236472,
          5.69939879759519,
          5.619238476953907,
          5.539078156312625,
          5.4589178356713415,
          5.37875751503006,
          5.298597194388778,
          5.218436873747494,
          5.138276553106213,
          5.058116232464929,
          4.977955911823647,
          4.897795591182364,
          4.817635270541082,
          4.737474949899799,
          4.657314629258517,
          4.577154308617233,
          4.4969939879759515,
          4.41683366733467,
          4.336673346693386,
          4.2565130260521045,
          4.176352705410821,
          4.096192384769539,
          4.016032064128256,
          3.935871743486974,
          3.8557114228456912,
          3.7755511022044086,
          3.695390781563126,
          3.6152304609218433,
          3.5350701402805607,
          3.454909819639278,
          3.3747494989979954,
          3.2945891783567127,
          3.214428857715431,
          3.1342685370741483,
          3.0541082164328657,
          2.973947895791583,
          2.8937875751503004,
          2.8136272545090177,
          2.733466933867735,
          2.6533066132264524,
          2.57314629258517,
          2.492985971943887,
          2.4128256513026045,
          2.3326653306613228,
          2.25250501002004,
          2.1723446893787575,
          2.092184368737475,
          2.012024048096192,
          1.9318637274549095,
          1.8517034068136269,
          1.7715430861723442,
          1.6913827655310616,
          1.611222444889779,
          1.5310621242484972,
          1.4509018036072145,
          1.370741482965932,
          1.2905811623246493,
          1.2104208416833666,
          1.130260521042084,
          1.0501002004008013,
          0.9699398797595187,
          0.889779559118236,
          0.8096192384769534,
          0.7294589178356707,
          0.649298597194389,
          0.5691382765531063,
          0.4889779559118237,
          0.40881763527054105,
          0.3286573146292584,
          0.24849699398797576,
          0.1683366733466931,
          0.08817635270541047,
          0.00801603206412782,
          -0.07214428857715438,
          -0.15230460921843703,
          -0.23246492985971967,
          -0.3126252505010023,
          -0.3927855711422845,
          -0.47294589178356716,
          -0.5531062124248498,
          -0.6332665330661325,
          -0.7134268537074151,
          -0.7935871743486977,
          -0.87374749498998,
          -0.9539078156312626,
          -1.0340681362725452,
          -1.1142284569138279,
          -1.1943887775551105,
          -1.2745490981963927,
          -1.3547094188376754,
          -1.434869739478958,
          -1.5150300601202407,
          -1.5951903807615233,
          -1.6753507014028055,
          -1.7555110220440882,
          -1.8356713426853708,
          -1.9158316633266534,
          -1.995991983967936,
          -2.0761523046092183,
          -2.156312625250501,
          -2.2364729458917836,
          -2.3166332665330662,
          -2.396793587174349,
          -2.4769539078156315,
          -2.557114228456914,
          -2.6372745490981964,
          -2.717434869739479,
          -2.7975951903807617,
          -2.877755511022044,
          -2.9579158316633265,
          -3.038076152304609,
          -3.118236472945892,
          -3.1983967935871744,
          -3.278557114228457,
          -3.3587174348697397,
          -3.438877755511022,
          -3.5190380761523046,
          -3.599198396793587,
          -3.67935871743487,
          -3.7595190380761525,
          -3.8396793587174347,
          -3.9198396793587174,
          -4
         ],
         "y": [
          59256.15896222541,
          63068.7655574265,
          67115.30670072368,
          71421.3757499108,
          76002.9500531552,
          80877.55647560721,
          86064.90561669608,
          91584.88525767211,
          97459.13524462564,
          103710.32684528906,
          110362.74906489623,
          117445.07616359618,
          124982.0372694186,
          133000.83686537194,
          141539.63320666476,
          150624.90754382598,
          160288.53213083747,
          170576.42584867257,
          181522.39038903834,
          193166.28823702427,
          205559.35926173098,
          218746.15131341072,
          232776.29618324398,
          247707.4132498891,
          263596.19219531195,
          280502.43752715114,
          298494.0782830404,
          317640.55893421936,
          338013.4890199102,
          359693.8016362412,
          382766.4717379594,
          407317.1961746225,
          433442.36120375,
          461246.034149977,
          490831.037428743,
          522312.18324670574,
          555816.6009023044,
          591467.9372199686,
          629403.1133971147,
          669777.010524868,
          712738.4616812794,
          758450.937294052,
          807102.7859467735,
          858873.2263582152,
          913957.6140932385,
          972584.6708594994,
          1034970.2902217235,
          1101349.1671073122,
          1171995.630763065,
          1247172.9138266165,
          1327053.1661130872,
          1369175.9863577571,
          1344925.924097365,
          1270890.2296017045,
          1165035.195358406,
          1043137.3680480756,
          917252.4890859547,
          795677.7261621845,
          683368.8839991223,
          582747.7785821893,
          494533.76861595537,
          418422.5458294992,
          353528.3291593296,
          298675.8558220724,
          252529.37377346412,
          213877.29944602543,
          181630.57594460048,
          154724.7170205525,
          132244.08680146915,
          113444.53554025953,
          97677.3109951874,
          84443.16262231838,
          73311.30035902845,
          63921.91444021617,
          55986.629901267974,
          49238.4899594025,
          43491.572073558855,
          38565.8068282146,
          34338.56948006441,
          30694.48180555822,
          27537.500970347035,
          24796.186352201305,
          22406.40444763038,
          20316.16581468013,
          18480.23477075848,
          16860.931831628455,
          15427.0873056531,
          14153.210164172027,
          13017.915679218697,
          12002.754783088869,
          11091.946879402,
          10272.122863220877,
          9531.996338295354,
          8861.994789081387,
          8253.905068976537,
          7700.556809124044,
          7195.749887028814,
          6734.151610614761,
          6311.154315874079,
          5922.746916471261,
          5565.413726189487,
          5236.055380713123,
          4931.9496620564605,
          4650.709593269311,
          4390.2268698996895,
          4148.628264671284,
          3924.244397735547,
          3715.5863616243073,
          3521.3232752249714,
          3340.2649268848286,
          3171.342093027319,
          3013.5903508106803,
          2866.1383496464314,
          2728.1977567658523,
          2599.0541323694447,
          2478.0585068733517,
          2364.6197906644643,
          2258.198351521873,
          2158.301035468221,
          2064.4765493704945,
          1976.3111553357235,
          1893.4248539571622,
          1815.4680183084804,
          1742.1185361488106,
          1673.0794300409887,
          1608.0765350695922,
          1546.8563810369628,
          1489.1843491621596,
          1434.8430644326781,
          1383.6309476274748,
          1335.3609290473346,
          1289.8592583352458,
          1246.964393478688,
          1206.5260433181957,
          1168.4043069292106,
          1132.4688852134334,
          1098.5983540364311,
          1066.6794963271323,
          1036.6067044286285,
          1008.2814367135617,
          981.611722018401,
          956.5117019292874,
          932.9012360790842,
          910.7054252085351,
          889.8544098729832,
          870.2828080126353,
          851.9296376948289,
          834.7379430582201,
          818.654593329576,
          803.6300905224074,
          789.6182246526208,
          776.575970704154,
          764.4632700989857,
          753.2429528224302,
          742.8801677277584,
          733.3427338297761,
          724.6013140218231,
          716.6276912025183,
          709.3962190848282,
          702.8842760286337,
          697.0695096613922,
          691.9319733506578,
          687.4544924040873,
          683.6202097341195,
          680.41431984791,
          677.8241752941925,
          675.837894413943,
          674.4452461673228,
          673.6376335831345,
          673.4074791270759,
          673.7485626375009,
          674.6562204584773,
          676.1266456261085,
          678.1572868212135,
          680.7472447936226,
          683.8962784535165,
          687.6053992524243,
          691.8772257027267,
          696.7150693430056,
          702.1234935402542,
          708.1084820453264,
          714.6769359474539,
          721.8369408114318,
          729.5979484644764,
          737.9704525529577,
          746.9661261055551,
          756.5980709249484,
          766.8805155631834,
          777.828905545877,
          789.4602181169429,
          801.7926901488341,
          814.8458451527503,
          828.6408460769461,
          843.2002970845485,
          858.5482005835944,
          874.710480042464,
          891.7146432336613,
          909.5895957229684,
          928.3660157550783,
          948.0763286151114,
          965.3656123188755,
          942.441896674194,
          879.8839289622889,
          793.2858193292819,
          696.141080505335,
          598.4588648098559,
          506.6445057028435,
          424.27848894778805,
          352.7021371146992,
          291.8651356726782,
          240.9537657446699,
          198.84048950508432,
          164.28556692537475,
          136.08202291625864,
          113.13179666396775,
          94.47841621592305,
          79.31443415156097,
          66.9701633411701,
          56.897175965423315,
          48.65190749947608,
          41.87612171397967,
          36.280594321446564,
          31.64238024060643,
          27.775181269522026,
          24.534516635413823,
          21.79951172480492,
          19.477700105889838,
          17.49369658359545,
          15.789076739187662,
          14.315917072336488,
          13.034634891229404,
          11.913876783923023,
          10.927205243105494,
          10.05441291736822,
          9.278046450077882,
          8.584423969769626,
          7.961598736589569,
          7.400001173447462,
          6.891441261368241,
          6.42924495808124,
          6.007735977345324,
          5.622107723544585,
          5.268270494600343,
          4.942743440193022,
          4.642540292979918,
          4.3650795166559275,
          4.108119167512955,
          3.8697067087395913,
          3.6481355249469747,
          3.441906217743225,
          3.2496939445556867,
          3.070322484810551,
          2.902743833299443,
          2.7460212387139475,
          2.599314090155622,
          2.461865018506523,
          2.332988979466811,
          2.2120646366736536,
          2.098526966544345,
          1.991860676445948,
          1.8915944837589562,
          1.7972962810627127,
          1.708569043639129,
          1.6250472800959876,
          1.546393891259765,
          1.4722974052943374,
          1.4024695117042079,
          1.336642958332908,
          1.2745697371351368,
          1.2160194011481968,
          1.1607775464953283,
          1.1086444794256747,
          1.0594340414977854,
          1.012972549452047,
          0.9690978267151036,
          0.9276583227931988,
          0.888512318908511,
          0.8515272110564563,
          0.8165788579694784,
          0.7835509776204596,
          0.752334599406571,
          0.7228275577800648,
          0.6949340311763337,
          0.6685641173657658,
          0.6436334400921732,
          0.6200627854655558,
          0.5977777666108485,
          0.5767085138298561,
          0.556789388284185,
          0.537958726297898,
          0.5201585593405649,
          0.5033344163789898,
          0.48743508277424774,
          0.47241238492887927,
          0.4582210936970627,
          0.4448186434232699,
          0.432165064172439,
          0.42022277020065,
          0.4089564291160146,
          0.3983328888614518,
          0.3883208727573356,
          0.37889113200428365,
          0.37001613750404116,
          0.36166983134837377,
          0.35382821025660766,
          0.3464682635535747,
          0.33956861883214884,
          0.3331093823137944,
          0.3270716452019609,
          0.3214379895822895,
          0.3161919564271319,
          0.3113182062828566,
          0.30680249855577524,
          0.30263144821579396,
          0.29879269220186794,
          0.29527469899864983,
          0.29206673121963694,
          0.2891589879791795,
          0.2865422812780778,
          0.2842082391828646,
          0.28214921348176447,
          0.2803581494798144,
          0.2788287516433497,
          0.27755525876939147,
          0.27653254452489723,
          0.27575609700674836,
          0.27522190684460945,
          0.2749266353703871,
          0.2748673807203833,
          0.2750417207388914,
          0.2754476999872426,
          0.27608428224791537,
          0.27695044348602565,
          0.2780456838879979,
          0.279369932917553,
          0.28092427539395287,
          0.28270944241205304,
          0.28472684177538427,
          0.2869783225072032,
          0.2894668340759354,
          0.29219503591777934,
          0.29516629327682203,
          0.2983844572324519,
          0.3018542142876321,
          0.3055803130570906,
          0.30956813793639104,
          0.31382360131124964,
          0.3183533430026615,
          0.32316426174688134,
          0.3282638801776063,
          0.3297277804587903,
          0.31572624991710885,
          0.29014164467861786,
          0.25823525961415766,
          0.2242636982810827,
          0.19120209651305234,
          0.16083725428429438,
          0.13403421083663908,
          0.11102852588410274,
          0.09167291355221824,
          0.07561740350399254,
          0.062429703259412266,
          0.051667498829593095,
          0.04291970087697511,
          0.03582445646695497,
          0.030066067656963576,
          0.025386366527923795,
          0.0215755066163369,
          0.01846334056932076,
          0.015911812061355227,
          0.013809653555735825,
          0.012068339535067323,
          0.010617762477256728,
          0.009402067642770743,
          0.0083762406563929,
          0.007505171724235108,
          0.006761709034897142,
          0.006122033407082877,
          0.005568696481289997,
          0.005085972535253696,
          0.004662346601043187,
          0.004288390844058162,
          0.0039562416186977424,
          0.003660188945914774,
          0.0033946000504897654,
          0.003155423072582627,
          0.0029388928109176323,
          0.0027420487979955234,
          0.00256258007830577,
          0.002398305579525263,
          0.0022475982502820377,
          0.0021088787410240262,
          0.0019808909276004018,
          0.0018625225391967245,
          0.0017528099133798762,
          0.00165096266546948,
          0.0015562468393674111,
          0.0014680314802329756,
          0.00138575669063018,
          0.001308928198292494,
          0.0012371084378934728,
          0.0011699043878211205,
          0.0011069618093206618,
          0.0010479611790257496,
          0.0009926137845053763,
          0.0009406581395514709,
          0.0008918565693110161,
          0.0008459916027737442,
          0.0008028638922973083,
          0.0007622905084250769,
          0.0007241032946317737,
          0.0006881473634793486,
          0.0006542796937651604,
          0.0006223678445519324,
          0.000592289057679673,
          0.0005639294444033416,
          0.0005371832100735315,
          0.0005119519500018824,
          0.00048814399718938523,
          0.00046567386269395983,
          0.0004444617763550339,
          0.0004244332363274466,
          0.0004055186221374825,
          0.00038765282186855595,
          0.000370774889328588,
          0.0003548277463803399,
          0.0003397579150521291,
          0.0003255152691232395,
          0.0003120528018181498,
          0.0002993264133694807,
          0.000287294710666667,
          0.00027591883276913766,
          0.0002651622862504348,
          0.00025499079137077736,
          0.0002453721390000132,
          0.00023627605899484072,
          0.0002276740956020866,
          0.00021953949696569807,
          0.00021184710927516607,
          0.00020457327773133014,
          0.0001976957545572317,
          0.00019119361382013332,
          0.00018504717549420172,
          0.00017923791881174108,
          0.00017374843794017774,
          0.00016856232711931864,
          0.0001636641901144045,
          0.00015903951021483615,
          0.00015467466104056941,
          0.00015055681224063392,
          0.0001466739125487639,
          0.000143014630770275,
          0.00013956831483826588,
          0.00013632498896435234,
          0.00013327524022031353,
          0.0001304102003551109,
          0.00012772170901420763,
          0.0001252019292907846,
          0.00012284348404414903,
          0.00012063967768270713,
          0.00011858409743054456,
          0.00011667064929313321,
          0.00011489380973148138,
          0.00011324841672277513,
          0.00011172951811142644,
          0.00011033261487676464,
          0.00010905359082959647,
          0.0001078885115908795,
          0.00010683379360503244,
          0.00010588617664428154,
          0.00010504260148509727,
          0.00010430028392073554,
          0.00010365671933469081,
          0.00010310957968589426,
          0.00010265676699718702,
          0.00010229648740594141,
          0.0001020270511924735,
          0.0001018469874619054,
          0.00010175513716085231,
          0.00010175043175460919,
          0.00010183200799653822,
          0.00010199925176933385,
          0.00010225170483057511,
          0.00010258907888586892,
          0.00010301128272301429,
          0.0001035184004958383,
          0.0001041106806030977,
          0.00010478855000863754,
          0.00010555260764099646,
          0.00010640360489700043,
          0.0001073425067627966,
          0.00010837052679320275,
          0.00010948890732660939,
          0.00011069909298151731,
          0.00011200267916317428,
          0.00011340160399909947,
          0.00011489812130479315,
          0.00011649425654945093,
          0.00011819236818671314,
          0.00011999497745880651,
          0.0012940616565423313,
          0.0012746217800562966,
          0.0012563088372578057,
          0.0012390956383180707,
          0.0012229567489690138,
          0.0012078703259462084,
          0.0011938120634305144,
          0.0011807610600762153,
          0.0011687001105568763,
          0.0011576136356753525,
          0.0011474882376835908,
          0.001138310829244179,
          0.0011300710036584488,
          0.00112276065763873,
          0.0011163733321608758,
          0.0011109044227193287,
          0.0011063512505077465,
          0.0011027129079861373,
          0.0010999903788141043,
          0.0010981867720444409,
          0.0010973070295002046,
          0.0010973577740057386,
          0.0010983483150704715,
          0.001100290176091631,
          0.0011031958566469064,
          0.0011070812193057372,
          0.001111964486509592,
          0.0011178650038085323,
          0.0011248053964145054,
          0.0011328107706173398,
          0.0011419081369490824,
          0.0011521275211263734,
          0.0011635019147289622,
          0.0011760664770263695,
          0.001189859854151709,
          0.001204924475623023,
          0.001221304731653293,
          0.0012390491410244314,
          0.001258211109260564,
          0.0012788463051566293,
          0.001301014296205941,
          0.0013247808018646053,
          0.0013502149794223563,
          0.0013773890361376384,
          0.0014063825292978279,
          0.0014372799744454524,
          0.0014701693752797798,
          0.0015051463696672657,
          0.0015423124694356907,
          0.0015817752564648575,
          0.0016236496058239709,
          0.0016680577164989755,
          0.0017151295529426974,
          0.0017650034814899811,
          0.0018178264530908255,
          0.0018737550202857062,
          0.0019329552206661875,
          0.001995603978847465,
          0.0020618890045238174,
          0.0021320100311826994,
          0.0022061792940973692,
          0.0022846224647730547,
          0.0023675794698776475,
          0.0024553054098264727,
          0.002548071550820709,
          0.0026461663928617103,
          0.0027498968112860058,
          0.0028595892483548823,
          0.002975591056942627,
          0.0030982719199958643,
          0.0032280253935191455,
          0.0033652705654959435,
          0.0035104538315868256,
          0.003664050776847405,
          0.0038265683363768667,
          0.00399854708630256,
          0.0041805637490347864,
          0.004373233872243886,
          0.004577214717858252,
          0.004793208472222859,
          0.005021965943308619,
          0.005264290581253248,
          0.005521042651280498,
          0.005793144091661012,
          0.006081583466675565,
          0.0063874220018581545,
          0.00671180061828868,
          0.007055947526190517,
          0.007421186586205478,
          0.007808946080936017,
          0.008220768393724587,
          0.008658323876938476,
          0.00912342598074256,
          0.009618047471003317,
          0.010144338172202954,
          0.010704643356633334,
          0.011301526180857573,
          0.011937806590199591,
          0.012616598145698746,
          0.013341346682718448,
          0.014115872417733783,
          0.014944413813129154,
          0.0158316897040023,
          0.016783030470020388,
          0.01780447421226781,
          0.018902825336092555,
          0.020085999043149574,
          0.0213625190777693,
          0.022742777863292752,
          0.024238770460206126,
          0.02586404328631678,
          0.02763562851864487,
          0.029571072764875774,
          0.031693897360012435,
          0.03402902433812233,
          0.03660838026444477,
          0.039472570193485094,
          0.042665290591277015,
          0.046247286987223774,
          0.05028013749985218,
          0.05484864603069412,
          0.06005448516237639,
          0.06602183574639055,
          0.0729202886659159,
          0.08093801223832445,
          0.09033187962496268,
          0.10139470406504106,
          0.11450512005645165,
          0.13014857605874214,
          0.1489274262562034,
          0.17159773109483936,
          0.19911417617993768,
          0.23267670384172306,
          0.27377415470571315,
          0.32424144861597004,
          0.3863416324760021,
          0.4628588661906831,
          0.5571977306114759,
          0.673260555801639,
          0.8154806518914425,
          0.9886280649718902,
          1.1973647661908078,
          1.4454649401317567,
          1.7345169616312062,
          2.06198048441642,
          2.4185266670811703,
          2.7848861253268287,
          3.1289741062172545,
          3.4048861263538392,
          3.555882811303561,
          3.5400956736833047,
          3.48509986624242,
          3.4332174824003725,
          3.384367395829794,
          3.338475208499577,
          3.295469314598061,
          3.2552859531927796,
          3.217867057354682,
          3.183161416605036,
          3.1511184902969216,
          3.1216967472406307,
          3.0948598956393725,
          3.0705792553393154,
          3.048823018392514,
          3.029571244380219,
          3.012808751128911,
          2.998527654293429,
          2.9867162548590245,
          2.9773753135099876,
          2.9705102203851155,
          2.966132018982281,
          2.964251884180559,
          2.964890904014268,
          2.9680751997335877,
          2.973836065902869,
          2.9822095077154547,
          2.9932387634178776,
          3.006972490720214,
          3.023465973528253,
          3.04278134237469,
          3.064986490173844,
          3.090157496862086,
          3.1183768430382672,
          3.1497348141319983,
          3.184330496269352,
          3.2222695851268326,
          3.2636678758856967,
          3.308649727849714,
          3.357348467959682,
          3.4099084443756897,
          3.466483231911025,
          3.527238255812619,
          3.5923510151478046,
          3.66200934990444,
          3.7364171781889786,
          3.8157890404476276,
          3.900355423098699,
          3.9903644801321088,
          4.086075070091847,
          4.187768209238844,
          4.295740779586372,
          4.410308208918013,
          4.531807794283236,
          4.660597057361802,
          4.797057033214883,
          4.941593057724614,
          5.094636178602099,
          5.256645436582802,
          5.428108596276588,
          5.609545176138732,
          5.80150749012345,
          6.00458297011284,
          6.219396766043214,
          6.4466138774030615,
          6.686942173019432,
          6.941135148574419,
          7.209995014333907,
          7.494376036533745,
          7.795188153907769,
          8.113400898936773,
          8.450047639977114,
          8.806230160793085,
          9.183123632894336,
          9.581982076372581,
          10.004144267714482,
          10.451040248089008,
          10.924198355100573,
          11.425252954513093,
          11.955953006904865,
          12.51817156439364,
          13.113916215182067,
          13.745340516289838,
          14.4147566631255,
          15.124649864525363,
          15.87769471328268,
          16.676773336430085,
          17.5249949604144,
          18.425718590493652,
          19.382579604782386,
          20.399519571556887,
          21.48082012389262,
          22.63114123720207,
          23.85556536393627,
          25.159649573668514,
          26.54948724937953,
          28.03177906788085,
          29.613912751394082,
          31.304055994568916,
          33.1112741962644,
          35.04566956221954,
          37.11854409344083,
          39.3425825037091,
          41.73207229080582,
          44.303183414573496,
          47.07432052480633,
          50.06654036132911,
          53.30402071433116,
          56.81460164193955,
          60.630487942606784,
          64.78921814524567,
          69.33489681788713,
          74.319359722467,
          79.80382162423436,
          85.86025738730034,
          92.57699062108951,
          100.05722250155166,
          108.42979023748501,
          117.84224321493353,
          128.48280364182162,
          140.56939362782362,
          154.38712314363443,
          170.27411674293919,
          188.65724599004903,
          210.05333221813703,
          235.09244179906867,
          264.58755117970065,
          299.53584596272066,
          341.2408740620697,
          391.2607592602685,
          451.6045969787693,
          524.6766935251899,
          613.5961299519588,
          722.2262326932484,
          855.3505339931542,
          1018.8834431661492,
          1220.0470661269326,
          1467.5491568894922,
          1771.7045945062923,
          2144.355194574464,
          2598.5173367502184,
          3147.5607475754327,
          3803.645131541889,
          4575.545875922469,
          5463.805587637745,
          6453.95904369536,
          7507.393216813245,
          8555.031078906637,
          9488.93094353717,
          10163.574741482636,
          10410.79093393907,
          10224.338137464285,
          10011.776239868377,
          9809.285721304566,
          9616.516897818858,
          9433.13892606274,
          9258.840079786238,
          9093.323706959338,
          8936.310241160632,
          8787.540833256904,
          8646.77171320544,
          8513.77465345492,
          8388.339106632617,
          8270.268400862122,
          8159.379448477202,
          8055.505680318969,
          7958.493651434806,
          7868.202068073604,
          7784.505044809572,
          7707.289415027807,
          7636.453247402149,
          7571.9093447882315,
          7513.583283779737,
          7461.410533821255,
          7415.34188220092,
          7375.341616298142,
          7341.3814972937535,
          7313.45061739254,
          7291.55157657908,
          7275.694072635637,
          7265.905619749852,
          7262.227273356801,
          7264.709327714202,
          7273.418862902022,
          7288.4375973121405,
          7309.858243248231,
          7337.791135297969,
          7372.36440881906,
          7413.714457701344,
          7462.00094879923,
          7517.4056739769785,
          7580.113850243626,
          7650.340588037725,
          7728.326942017168,
          7814.31687070177,
          7908.58695130656,
          8011.441485475899,
          8123.196853325415,
          8244.200104205765,
          8374.827083286671,
          8515.478643102104,
          8666.586787315302,
          8828.615510542857,
          9002.063155047343,
          9187.463521890673,
          9385.389589191427,
          9596.455585960193,
          9821.319159562487,
          10060.685409648273,
          10315.307721322433,
          10585.99383055492,
          10873.607994987584,
          11179.076137385026,
          11503.390102229014,
          11847.61259184458,
          12212.882510728703,
          12600.420825572171,
          13011.537010486954,
          13447.636249844618,
          13910.227276977337,
          14400.930876612105,
          14921.48916603375,
          15473.775920958404,
          16059.808556864451,
          16681.76096424492,
          17341.977380123142,
          18042.988003468687,
          18787.526332556332,
          19578.5490436748,
          20419.258830157018,
          21313.12944656202,
          22263.93137403028,
          23275.762639597517,
          24353.085116206177,
          25500.765683717913,
          26724.12266183562,
          28028.975605514875,
          29421.699001589244,
          30909.29153177454,
          32499.457928135536,
          34200.69980657484,
          36022.414071944964,
          37975.00134806073,
          40069.992461145026,
          42320.223008950044,
          44740.04561067448,
          47345.51708890794,
          50154.6405342627,
          53187.61738886244,
          56467.184237266025,
          60019.08295143929,
          63872.67074274774,
          68061.37208116047,
          72623.10117630502,
          77601.11478057038,
          83045.10331804767,
          89012.57613194404,
          95570.39719404129,
          102795.89390251307,
          110777.63928202145,
          119618.86619767908,
          129441.29051574272,
          140389.0886546585,
          152632.44327645027,
          166370.31463446037,
          181833.3220186219,
          199296.36829131973,
          219095.59671161207,
          241637.35408519005,
          267409.47551640234,
          296972.63066661835,
          331018.4543819338,
          370317.38365816814,
          415905.17309062806,
          469026.09588355967,
          531002.573873404,
          603776.5293895648,
          689353.0066144656,
          790610.9471827252,
          910660.2727953682,
          1053381.2793658394,
          1223419.735524352,
          1426159.708167665,
          1668597.5351292929,
          1958758.3494175456,
          2306516.641606415,
          2723352.149160334,
          3221009.586730363,
          3812555.0331772603,
          4512393.637280881,
          5333199.7837241,
          6284525.999909564,
          7369654.037069762,
          8580826.116199289,
          9891924.650776573,
          11249504.763321502,
          12564087.320681201,
          13705659.608681783,
          14504082.638472393,
          14765602.548759563,
          14311337.481184002,
          13449884.995521959,
          12639150.733840315,
          11877278.181144472,
          11161428.558092767,
          10488643.416197862,
          9856391.735304022,
          9262345.254762992,
          8704037.371403832,
          8179361.312499611,
          7686384.329888627,
          7223075.216221652,
          6787671.057608881,
          6378566.793708542,
          5994092.14060048,
          5632770.499219496,
          5293268.4253012035,
          4974214.918541946,
          4674371.809832606,
          4392630.2315516295,
          4127867.8906050753,
          3879045.3288196535,
          3645238.3657884197,
          3425530.6062335605,
          3219049.2434871406,
          3025022.018902068,
          2842700.0225706683,
          2671350.687473645,
          2510329.063948416,
          2359023.7935422603,
          2216813.4916758,
          2083162.9142973905,
          1957591.6440919598,
          1839547.0950155456,
          1728599.3781296161,
          1624383.965900681,
          1526405.6554091068,
          1434320.7267537862,
          1347843.598224114,
          1266562.7598053233,
          1190184.830231858,
          1118443.1232051686,
          1051028.406944273,
          987678.741566233,
          928149.6333522362,
          872207.7117423477,
          819638.5009668748,
          770229.4360377733,
          723791.5020093288,
          680152.3943895161,
          639036.1067680292
         ]
        },
        {
         "legendgroup": "KP",
         "line": {
          "color": "#EF553B"
         },
         "name": "KP",
         "type": "scatter",
         "x": [
          -4,
          -3.9198396793587174,
          -3.8396793587174347,
          -3.7595190380761525,
          -3.67935871743487,
          -3.599198396793587,
          -3.5190380761523046,
          -3.438877755511022,
          -3.3587174348697397,
          -3.278557114228457,
          -3.1983967935871744,
          -3.118236472945892,
          -3.038076152304609,
          -2.9579158316633265,
          -2.877755511022044,
          -2.7975951903807617,
          -2.717434869739479,
          -2.6372745490981964,
          -2.557114228456914,
          -2.4769539078156315,
          -2.396793587174349,
          -2.3166332665330662,
          -2.2364729458917836,
          -2.156312625250501,
          -2.0761523046092183,
          -1.995991983967936,
          -1.9158316633266534,
          -1.8356713426853708,
          -1.7555110220440882,
          -1.6753507014028055,
          -1.5951903807615233,
          -1.5150300601202407,
          -1.434869739478958,
          -1.3547094188376754,
          -1.2745490981963927,
          -1.1943887775551105,
          -1.1142284569138279,
          -1.0340681362725452,
          -0.9539078156312626,
          -0.87374749498998,
          -0.7935871743486977,
          -0.7134268537074151,
          -0.6332665330661325,
          -0.5531062124248498,
          -0.47294589178356716,
          -0.3927855711422845,
          -0.3126252505010023,
          -0.23246492985971967,
          -0.15230460921843703,
          -0.07214428857715438,
          0.00801603206412782,
          0.08817635270541047,
          0.1683366733466931,
          0.24849699398797576,
          0.3286573146292584,
          0.40881763527054105,
          0.4889779559118237,
          0.5691382765531063,
          0.649298597194389,
          0.7294589178356707,
          0.8096192384769534,
          0.889779559118236,
          0.9699398797595187,
          1.0501002004008013,
          1.130260521042084,
          1.2104208416833666,
          1.2905811623246493,
          1.370741482965932,
          1.4509018036072145,
          1.5310621242484972,
          1.611222444889779,
          1.6913827655310616,
          1.7715430861723442,
          1.8517034068136269,
          1.9318637274549095,
          2.012024048096192,
          2.092184368737475,
          2.1723446893787575,
          2.25250501002004,
          2.3326653306613228,
          2.4128256513026045,
          2.492985971943887,
          2.57314629258517,
          2.6533066132264524,
          2.733466933867735,
          2.8136272545090177,
          2.8937875751503004,
          2.973947895791583,
          3.0541082164328657,
          3.1342685370741483,
          3.214428857715431,
          3.2945891783567127,
          3.3747494989979954,
          3.454909819639278,
          3.5350701402805607,
          3.6152304609218433,
          3.695390781563126,
          3.7755511022044086,
          3.8557114228456912,
          3.935871743486974,
          4.016032064128256,
          4.096192384769539,
          4.176352705410821,
          4.2565130260521045,
          4.336673346693386,
          4.41683366733467,
          4.4969939879759515,
          4.577154308617233,
          4.657314629258517,
          4.737474949899799,
          4.817635270541082,
          4.897795591182364,
          4.977955911823647,
          5.058116232464929,
          5.138276553106213,
          5.218436873747494,
          5.298597194388778,
          5.37875751503006,
          5.4589178356713415,
          5.539078156312625,
          5.619238476953907,
          5.69939879759519,
          5.779559118236472,
          5.859719438877756,
          5.939879759519037,
          6.020040080160321,
          6.100200400801603,
          6.180360721442886,
          6.260521042084168,
          6.34068136272545,
          6.420841683366733,
          6.501002004008015,
          6.5811623246492985,
          6.66132264529058,
          6.741482965931864,
          6.821643286573146,
          6.901803607214429,
          6.981963927855711,
          7.062124248496994,
          7.142284569138276,
          7.222444889779558,
          7.302605210420841,
          7.382765531062123,
          7.462925851703407,
          7.5430861723446885,
          7.623246492985972,
          7.703406813627254,
          7.783567134268537,
          7.863727454909819,
          7.943887775551103,
          8.024048096192384,
          8.104208416833666,
          8.18436873747495,
          8.264529058116231,
          8.344689378757515,
          8.424849699398797,
          8.50501002004008,
          8.585170340681362,
          8.665330661322646,
          8.745490981963927,
          8.825651302605209,
          8.905811623246493,
          8.985971943887774,
          9.066132264529058,
          9.14629258517034,
          9.226452905811623,
          9.306613226452905,
          9.386773547094188,
          9.46693386773547,
          9.547094188376754,
          9.627254509018035,
          9.707414829659317,
          9.7875751503006,
          9.867735470941883,
          9.947895791583166,
          10.028056112224448,
          10.108216432865731,
          10.188376753507013,
          10.268537074148297,
          10.348697394789578,
          10.428857715430862,
          10.509018036072144,
          10.589178356713425,
          10.669338677354709,
          10.74949899799599,
          10.829659318637274,
          10.909819639278556,
          10.98997995991984,
          11.070140280561121,
          11.150300601202405,
          11.230460921843687,
          11.31062124248497,
          11.390781563126252,
          11.470941883767534,
          11.551102204408817,
          11.631262525050099,
          11.711422845691382,
          11.791583166332664,
          11.871743486973948,
          11.95190380761523,
          12.032064128256511,
          12.112224448897795,
          12.192384769539078,
          12.272545090180358,
          12.352705410821642,
          12.432865731462925,
          12.513026052104209,
          12.593186372745489,
          12.673346693386772,
          12.753507014028056,
          12.83366733466934,
          12.91382765531062,
          12.993987975951903,
          13.074148296593187,
          13.154308617234467,
          13.23446893787575,
          13.314629258517034,
          13.394789579158317,
          13.474949899799597,
          13.55511022044088,
          13.635270541082164,
          13.715430861723448,
          13.795591182364728,
          13.875751503006011,
          13.955911823647295,
          14.036072144288575,
          14.116232464929858,
          14.196392785571142,
          14.276553106212425,
          14.356713426853705,
          14.436873747494989,
          14.517034068136272,
          14.597194388777556,
          14.677354709418836,
          14.75751503006012,
          14.837675350701403,
          14.917835671342683,
          14.997995991983966,
          15.07815631262525,
          15.158316633266534,
          15.238476953907814,
          15.318637274549097,
          15.39879759519038,
          15.478957915831664,
          15.559118236472944,
          15.639278557114228,
          15.719438877755511,
          15.799599198396791,
          15.879759519038075,
          15.959919839679358,
          16.04008016032064,
          16.12024048096192,
          16.200400801603205,
          16.28056112224449,
          16.360721442885772,
          16.440881763527052,
          16.521042084168336,
          16.60120240480962,
          16.6813627254509,
          16.761523046092183,
          16.841683366733466,
          16.92184368737475,
          17.00200400801603,
          17.082164328657313,
          17.162324649298597,
          17.24248496993988,
          17.32264529058116,
          17.402805611222444,
          17.482965931863728,
          17.563126252505008,
          17.64328657314629,
          17.723446893787575,
          17.803607214428858,
          17.883767535070138,
          17.96392785571142,
          18.044088176352705,
          18.12424849699399,
          18.20440881763527,
          18.284569138276552,
          18.364729458917836,
          18.444889779559116,
          18.5250501002004,
          18.605210420841683,
          18.685370741482966,
          18.765531062124246,
          18.84569138276553,
          18.925851703406813,
          19.006012024048097,
          19.086172344689377,
          19.16633266533066,
          19.246492985971944,
          19.326653306613224,
          19.406813627254508,
          19.48697394789579,
          19.567134268537075,
          19.647294589178355,
          19.727454909819638,
          19.80761523046092,
          19.887775551102205,
          19.967935871743485,
          20.04809619238477,
          20.128256513026052,
          20.208416833667332,
          20.288577154308616,
          20.3687374749499,
          20.448897795591183,
          20.529058116232463,
          20.609218436873746,
          20.68937875751503,
          20.769539078156313,
          20.849699398797593,
          20.929859719438877,
          21.01002004008016,
          21.09018036072144,
          21.170340681362724,
          21.250501002004007,
          21.33066132264529,
          21.41082164328657,
          21.490981963927855,
          21.571142284569138,
          21.651302605210418,
          21.7314629258517,
          21.811623246492985,
          21.89178356713427,
          21.97194388777555,
          22.052104208416832,
          22.132264529058116,
          22.2124248496994,
          22.29258517034068,
          22.372745490981963,
          22.452905811623246,
          22.533066132264526,
          22.61322645290581,
          22.693386773547093,
          22.773547094188377,
          22.853707414829657,
          22.93386773547094,
          23.014028056112224,
          23.094188376753507,
          23.174348697394787,
          23.25450901803607,
          23.334669338677354,
          23.414829659318634,
          23.494989979959918,
          23.5751503006012,
          23.655310621242485,
          23.735470941883765,
          23.81563126252505,
          23.895791583166332,
          23.975951903807616,
          24.056112224448896,
          24.13627254509018,
          24.216432865731463,
          24.296593186372743,
          24.376753507014026,
          24.45691382765531,
          24.537074148296593,
          24.617234468937873,
          24.697394789579157,
          24.77755511022044,
          24.857715430861724,
          24.937875751503004,
          25.018036072144287,
          25.09819639278557,
          25.17835671342685,
          25.258517034068134,
          25.338677354709418,
          25.4188376753507,
          25.49899799599198,
          25.579158316633265,
          25.65931863727455,
          25.739478957915832,
          25.819639278557112,
          25.899799599198396,
          25.97995991983968,
          26.06012024048096,
          26.140280561122243,
          26.220440881763526,
          26.30060120240481,
          26.38076152304609,
          26.460921843687373,
          26.541082164328657,
          26.62124248496994,
          26.70140280561122,
          26.781563126252504,
          26.861723446893787,
          26.941883767535067,
          27.02204408817635,
          27.102204408817634,
          27.182364729458918,
          27.262525050100198,
          27.34268537074148,
          27.422845691382765,
          27.50300601202405,
          27.58316633266533,
          27.663326653306612,
          27.743486973947896,
          27.823647294589176,
          27.90380761523046,
          27.983967935871743,
          28.064128256513023,
          28.144288577154306,
          28.22444889779559,
          28.304609218436873,
          28.384769539078157,
          28.46492985971944,
          28.545090180360717,
          28.625250501002,
          28.705410821643284,
          28.785571142284567,
          28.86573146292585,
          28.945891783567134,
          29.026052104208418,
          29.1062124248497,
          29.186372745490978,
          29.26653306613226,
          29.346693386773545,
          29.42685370741483,
          29.507014028056112,
          29.587174348697395,
          29.66733466933868,
          29.747494989979955,
          29.82765531062124,
          29.907815631262523,
          29.987975951903806,
          30.06813627254509,
          30.148296593186373,
          30.228456913827657,
          30.308617234468933,
          30.388777555110217,
          30.4689378757515,
          30.549098196392784,
          30.629258517034067,
          30.70941883767535,
          30.789579158316634,
          30.869739478957918,
          30.949899799599194,
          31.030060120240478,
          31.11022044088176,
          31.190380761523045,
          31.27054108216433,
          31.350701402805612,
          31.430861723446895,
          31.511022044088172,
          31.591182364729455,
          31.67134268537074,
          31.751503006012022,
          31.831663326653306,
          31.91182364729459,
          31.991983967935873,
          32.07214428857715,
          32.15230460921843,
          32.23246492985972,
          32.312625250501,
          32.392785571142284,
          32.47294589178357,
          32.55310621242485,
          32.633266533066134,
          32.71342685370741,
          32.793587174348694,
          32.87374749498998,
          32.95390781563126,
          33.034068136272545,
          33.11422845691383,
          33.19438877755511,
          33.27454909819639,
          33.35470941883767,
          33.434869739478955,
          33.51503006012024,
          33.59519038076152,
          33.675350701402806,
          33.75551102204409,
          33.835671342685366,
          33.91583166332665,
          33.99599198396793,
          34.07615230460922,
          34.1563126252505,
          34.236472945891784,
          34.31663326653307,
          34.39679358717435,
          34.47695390781563,
          34.55711422845691,
          34.637274549098194,
          34.71743486973948,
          34.79759519038076,
          34.877755511022045,
          34.95791583166333,
          35.038076152304605,
          35.11823647294589,
          35.19839679358717,
          35.278557114228455,
          35.35871743486974,
          35.43887775551102,
          35.519038076152306,
          35.59919839679358,
          35.679358717434866,
          35.75951903807615,
          35.83967935871743,
          35.91983967935872,
          36
         ],
         "y": [
          252699.02719152006,
          268957.96119170496,
          286214.5135621264,
          304577.8276683067,
          324116.0392181572,
          344903.8918645025,
          367025.44183691224,
          390565.50096023234,
          415616.35277344624,
          442274.679332926,
          470644.06156766764,
          500846.78141041874,
          532988.2967022853,
          567184.6214831898,
          603598.4823648363,
          642342.8091483572,
          683553.521672579,
          727426.4418867286,
          774105.7177538429,
          823761.3436066627,
          876611.8328504087,
          932847.160647484,
          992678.9827239551,
          1056353.0180259931,
          1124111.0207903807,
          1196208.0284877643,
          1272933.7258028872,
          1354584.2600161915,
          1441465.0113820843,
          1533921.120642345,
          1632314.9651224073,
          1737012.0006819807,
          1848423.268366188,
          1966992.5652782887,
          2093158.3795823841,
          2227410.330137345,
          2370290.562276344,
          2522326.370255301,
          2684101.6571485116,
          2856276.9163416973,
          3039486.8493527425,
          3234428.578958058,
          3441905.3213073066,
          3662681.358066416,
          3897589.786791174,
          4147605.995593712,
          4413650.666724425,
          4696724.66120569,
          4997997.861375655,
          5318592.827869709,
          5659243.696878486,
          5838877.272270657,
          5735462.416332368,
          5419735.776196472,
          4968314.951001596,
          4448479.326864753,
          3911640.844435795,
          3393182.9345759787,
          2914239.721640026,
          2485139.0863794205,
          2108948.7477963744,
          1784370.9774289883,
          1507628.3449313028,
          1273708.9196069262,
          1076916.3612261505,
          912083.8484116672,
          774567.0771319316,
          659826.5253490615,
          563957.4463114535,
          483786.39914025203,
          416546.76744914067,
          360109.48771144904,
          312637.4474370095,
          272596.2309767566,
          238756.05775934612,
          209978.48546093394,
          185470.6438367745,
          164464.62340831937,
          146437.4886042194,
          130897.20677570347,
          117434.20141235046,
          105743.81260951026,
          95552.54181063951,
          86638.67904269707,
          78809.31586906538,
          71903.76740603757,
          65789.10990539132,
          60356.6363861578,
          55515.15126548892,
          51185.97814006896,
          47301.8203537578,
          43805.665101958904,
          40649.38133124492,
          37792.14686535402,
          35198.936582966046,
          32839.17230847122,
          30686.413500490948,
          28717.91879131696,
          26914.038709353565,
          25257.66789993865,
          23733.81365172439,
          22329.258666101003,
          21032.39399222119,
          19833.040321067885,
          18722.206747841137,
          17691.90485886846,
          16735.01555174549,
          15845.189351997778,
          15016.75069157721,
          14244.62389004719,
          13524.24922294399,
          12851.51389054885,
          12222.70200155345,
          11634.451695735203,
          11083.716230856975,
          10567.728063672812,
          10083.966481182886,
          9630.130211424026,
          9204.116189794744,
          8803.999868067682,
          8428.01685305744,
          8074.546630000664,
          7742.098208159666,
          7429.297933701002,
          7134.87934064403,
          6857.673247444911,
          6596.598725580907,
          6350.65523875768,
          6118.915787062351,
          5900.52073203789,
          5694.672311361588,
          5500.629563301195,
          5317.703588843859,
          5145.253468455518,
          4982.68259195829,
          4829.435296346659,
          4684.9937660688565,
          4548.875184752336,
          4420.629186517294,
          4299.835538702563,
          4186.102028516074,
          4079.0625111040526,
          3978.37522633272,
          3883.7207648734434,
          3794.8012097836795,
          3711.3377380145685,
          3633.0702909438514,
          3559.7559792076804,
          3491.1682256038694,
          3427.095945019026,
          3367.342074089081,
          3311.723131807262,
          3260.068287598757,
          3212.2190292225387,
          3168.0267332944863,
          3127.3541633855943,
          3090.076210841445,
          3056.0725432916315,
          3025.2337916528722,
          2997.4634855067056,
          2972.666302731416,
          2950.7571805301054,
          2931.6628770976436,
          2915.3115050605893,
          2901.639926110548,
          2890.594204948853,
          2882.1236720125526,
          2876.1846968358923,
          2872.7406174701996,
          2871.7591193750077,
          2873.2136765515943,
          2877.0844007497276,
          2883.3550570988036,
          2892.0147654492075,
          2903.059690931332,
          2916.4888054130156,
          2932.3064222487155,
          2950.5237081347377,
          2971.1547851909213,
          2994.2191139833944,
          3019.7422123325177,
          3047.7535100657724,
          3078.2874882294122,
          3111.38445432201,
          3147.089158699912,
          3185.451381217962,
          3226.5269947651495,
          3270.376677274761,
          3317.0662964872336,
          3366.6682521850803,
          3419.260315860895,
          3474.9257459029004,
          3533.754792110108,
          3595.8438503700118,
          3661.2952794123603,
          3730.219630365608,
          3802.7342106535507,
          3878.9622886162488,
          3959.034692216999,
          4043.089699706533,
          4116.8201818926045,
          4019.0615565534426,
          3752.2819025776516,
          3382.982601979454,
          2968.7069987761693,
          2552.139315138499,
          2160.595218543488,
          1809.34375924942,
          1504.105033099961,
          1244.6644728124124,
          1027.551958617953,
          847.9590838186418,
          700.5989532685437,
          580.3243985340698,
          482.45271819994196,
          402.9050192669231,
          338.23792671276806,
          285.5955469195892,
          242.6390989259496,
          207.47699330236344,
          178.58152477318342,
          154.7192908133683,
          134.93953784487965,
          118.44779360995473,
          104.6279170800712,
          92.96443614612333,
          83.06302593497836,
          74.60220483538691,
          67.33282079232387,
          61.0505031188414,
          55.586450665998626,
          50.806956206800294,
          46.599276483902784,
          42.877236859386585,
          39.56640715890852,
          36.608440779012014,
          33.9523906182977,
          31.55744703159633,
          29.38868352579859,
          27.417638519547047,
          25.620105381222032,
          23.975586291567023,
          22.466640637574283,
          21.078424266248383,
          19.798202183191265,
          18.614965377282658,
          17.51915303655,
          16.502438530286216,
          15.557543964410613,
          14.678075125703227,
          13.858382197585406,
          13.093449164845065,
          12.378806789156844,
          11.710460276587034,
          11.084824825825471,
          10.498670621732582,
          9.949076279743723,
          9.433392099014348,
          8.949208525631576,
          8.494328084272285,
          8.066740981160315,
          7.664604485906883,
          7.28622547898165,
          6.930045315327666,
          6.59462642904953,
          6.278640542524048,
          5.980858150109661,
          5.700139549855767,
          5.435427106693188,
          5.185738075126558,
          4.950158125708402,
          4.7278356606054945,
          4.517976803571348,
          4.319840879011858,
          4.13273628181731,
          3.956016721998389,
          3.7890778371070795,
          3.6313541348207803,
          3.4823162123213667,
          3.3414681826724073,
          3.2083453386466774,
          3.082511993304953,
          2.9635595137458743,
          2.8511045101857775,
          2.744787158460724,
          2.644269649416466,
          2.549234758796587,
          2.4593845259321343,
          2.3744390327369773,
          2.2941353132815787,
          2.2182261596553343,
          2.146479279091724,
          2.0786762657800955,
          2.0146116824894915,
          1.9540926486594778,
          1.896937642235096,
          1.8429762106611371,
          1.7920480688112745,
          1.7440025410221693,
          1.6986982497101164,
          1.6560018148745608,
          1.6157885044491667,
          1.5779409200660641,
          1.5423479372754607,
          1.5089071936262308,
          1.4775205596524783,
          1.4480968923138158,
          1.420551354209859,
          1.3948033084148037,
          1.3707784758985662,
          1.3484066668218442,
          1.327622465790218,
          1.308365143518585,
          1.2905776192892127,
          1.274207170590992,
          1.259204621055402,
          1.2455241808916198,
          1.2331240540346844,
          1.221965058085665,
          1.2120114907736084,
          1.2032307361526071,
          1.1955927093405918,
          1.189070562913419,
          1.1836397281104118,
          1.1792783435859213,
          1.1759671682425015,
          1.1736891040434057,
          1.1724299131744704,
          1.1721772205822614,
          1.1729206969372783,
          1.1746520032337884,
          1.1773667205022824,
          1.1810604817263435,
          1.1857311554413859,
          1.1913784408440935,
          1.1980069641670292,
          1.2056198431782366,
          1.2142230814828925,
          1.2238245642761627,
          1.234436869622757,
          1.2460713387393862,
          1.258742322774048,
          1.2724662447287074,
          1.287263090285199,
          1.3031531100021692,
          1.3201592657378414,
          1.3383067709745784,
          1.3576239413564513,
          1.3781401966766247,
          1.3998876173508816,
          1.406130448196472,
          1.3464206524715958,
          1.237314612389464,
          1.1012492209062437,
          0.9563768455888089,
          0.8153850103012632,
          0.6858935578275615,
          0.5715914646170944,
          0.47348327959135694,
          0.3909408993118419,
          0.3224718685594994,
          0.26623266775636906,
          0.2203370404075687,
          0.18303188814308052,
          0.15277408217828392,
          0.1282173225779362,
          0.1082606472961437,
          0.09200916206175543,
          0.07873727022278561,
          0.06785622792935334,
          0.05889153263563644,
          0.0514656655736422,
          0.04527965186983887,
          0.040095297915472686,
          0.03572063904347694,
          0.032005948863957356,
          0.028835437956075863,
          0.026107528964036147,
          0.023747813023856083,
          0.021689227491115303,
          0.019882666564067425,
          0.01828792506111201,
          0.01687146831465801,
          0.01560894600946781,
          0.014476337067508649,
          0.013456362254725547,
          0.012532964798013066,
          0.011693519726900685,
          0.010928171927259823,
          0.010227620174307499,
          0.009584925876240142,
          0.008993353866580674,
          0.008447547379779239,
          0.00794276311559996,
          0.007474891517101339,
          0.007040561973644138,
          0.006636644515361164,
          0.006260448423224428,
          0.005909586003872085,
          0.005581949423737001,
          0.00527567267708641,
          0.004989079715712731,
          0.00472065988164736,
          0.004469050561361931,
          0.004233020535153186,
          0.0040114546900681305,
          0.003803339457134402,
          0.0036077474270548174,
          0.003423828477982531,
          0.003250802503738791,
          0.0030879523975941466,
          0.0029346176390962955,
          0.002790188311581584,
          0.0026540996181310707,
          0.002525828054215387,
          0.002404887939095453,
          0.0022908281094583677,
          0.002183228916621949,
          0.0020816994449095677,
          0.0019858751250869423,
          0.0018954157757732925,
          0.0018100036824200236,
          0.0017293419471807582,
          0.0016531528990375308,
          0.0015811766317844866,
          0.0015131697346098768,
          0.0014489041496770637,
          0.0013881661127557367,
          0.0013307551625494894,
          0.0012764832347539302,
          0.0012251738076546003,
          0.0011766611580245807,
          0.0011307896589463277,
          0.0010874131238116172,
          0.001046394196166729,
          0.001007603788404582,
          0.0009709205504196204,
          0.0009362303984082615,
          0.000903426063462815,
          0.0008724066692382573,
          0.0008430773396627491,
          0.0008153488356945026,
          0.0007891372314856351,
          0.0007643635448668406,
          0.0007409535483310405,
          0.0007188372791990176,
          0.0006979490799321425,
          0.0006782270437394475,
          0.0006596130606617045,
          0.0006420524154209488,
          0.0006254937151608914,
          0.0006098886377843224,
          0.0005951917573474971,
          0.0005813605319093868,
          0.0005683548198569324,
          0.0005561368023633727,
          0.0005446716794401644,
          0.0005339260304477646,
          0.0005238683954281003,
          0.000514470220902312,
          0.0005057041594644332,
          0.0004975442231578374,
          0.0004899668567444819,
          0.00048295004667900235,
          0.00047647267439884756,
          0.0004705155537440182,
          0.00046506113114669806,
          0.00046009262837194855,
          0.0004555947632782145,
          0.00045155363256158145,
          0.0004479561901045925,
          0.0004447905626041504,
          0.00044204606907509653,
          0.000439712781541611,
          0.0004377817531398336,
          0.0004362453339081591,
          0.0004350963180045648,
          0.0004343284327696132,
          0.00043393673539789937,
          0.0004339166691026652,
          0.0004342645525520556,
          0.0004349777668310344,
          0.0004360543577560023,
          0.0004374930958899869,
          0.0004392935922568063,
          0.00044145620573207136,
          0.0004439819956170477,
          0.00044687278270724723,
          0.0004501311211449181,
          0.00045376021527624615,
          0.0004577641803031769,
          0.0004621481914535222,
          0.00046691754670319255,
          0.000472078406655511,
          0.00047763757494677703,
          0.00048360331675899445,
          0.0004899852435316215,
          0.0004967919929169173,
          0.0005040336225856967,
          0.0005117208844238255
         ]
        },
        {
         "fill": "toself",
         "legendgroup": "KR",
         "line": {
          "color": "grey",
          "width": 1
         },
         "name": "KR",
         "opacity": 0.5,
         "showlegend": false,
         "type": "scatter",
         "x": [
          -4,
          -3.9198396793587174,
          -3.8396793587174347,
          -3.7595190380761525,
          -3.67935871743487,
          -3.599198396793587,
          -3.5190380761523046,
          -3.438877755511022,
          -3.3587174348697397,
          -3.278557114228457,
          -3.1983967935871744,
          -3.118236472945892,
          -3.038076152304609,
          -2.9579158316633265,
          -2.877755511022044,
          -2.7975951903807617,
          -2.717434869739479,
          -2.6372745490981964,
          -2.557114228456914,
          -2.4769539078156315,
          -2.396793587174349,
          -2.3166332665330662,
          -2.2364729458917836,
          -2.156312625250501,
          -2.0761523046092183,
          -1.995991983967936,
          -1.9158316633266534,
          -1.8356713426853708,
          -1.7555110220440882,
          -1.6753507014028055,
          -1.5951903807615233,
          -1.5150300601202407,
          -1.434869739478958,
          -1.3547094188376754,
          -1.2745490981963927,
          -1.1943887775551105,
          -1.1142284569138279,
          -1.0340681362725452,
          -0.9539078156312626,
          -0.87374749498998,
          -0.7935871743486977,
          -0.7134268537074151,
          -0.6332665330661325,
          -0.5531062124248498,
          -0.47294589178356716,
          -0.3927855711422845,
          -0.3126252505010023,
          -0.23246492985971967,
          -0.15230460921843703,
          -0.07214428857715438,
          0.00801603206412782,
          0.08817635270541047,
          0.1683366733466931,
          0.24849699398797576,
          0.3286573146292584,
          0.40881763527054105,
          0.4889779559118237,
          0.5691382765531063,
          0.649298597194389,
          0.7294589178356707,
          0.8096192384769534,
          0.889779559118236,
          0.9699398797595187,
          1.0501002004008013,
          1.130260521042084,
          1.2104208416833666,
          1.2905811623246493,
          1.370741482965932,
          1.4509018036072145,
          1.5310621242484972,
          1.611222444889779,
          1.6913827655310616,
          1.7715430861723442,
          1.8517034068136269,
          1.9318637274549095,
          2.012024048096192,
          2.092184368737475,
          2.1723446893787575,
          2.25250501002004,
          2.3326653306613228,
          2.4128256513026045,
          2.492985971943887,
          2.57314629258517,
          2.6533066132264524,
          2.733466933867735,
          2.8136272545090177,
          2.8937875751503004,
          2.973947895791583,
          3.0541082164328657,
          3.1342685370741483,
          3.214428857715431,
          3.2945891783567127,
          3.3747494989979954,
          3.454909819639278,
          3.5350701402805607,
          3.6152304609218433,
          3.695390781563126,
          3.7755511022044086,
          3.8557114228456912,
          3.935871743486974,
          4.016032064128256,
          4.096192384769539,
          4.176352705410821,
          4.2565130260521045,
          4.336673346693386,
          4.41683366733467,
          4.4969939879759515,
          4.577154308617233,
          4.657314629258517,
          4.737474949899799,
          4.817635270541082,
          4.897795591182364,
          4.977955911823647,
          5.058116232464929,
          5.138276553106213,
          5.218436873747494,
          5.298597194388778,
          5.37875751503006,
          5.4589178356713415,
          5.539078156312625,
          5.619238476953907,
          5.69939879759519,
          5.779559118236472,
          5.859719438877756,
          5.939879759519037,
          6.020040080160321,
          6.100200400801603,
          6.180360721442886,
          6.260521042084168,
          6.34068136272545,
          6.420841683366733,
          6.501002004008015,
          6.5811623246492985,
          6.66132264529058,
          6.741482965931864,
          6.821643286573146,
          6.901803607214429,
          6.981963927855711,
          7.062124248496994,
          7.142284569138276,
          7.222444889779558,
          7.302605210420841,
          7.382765531062123,
          7.462925851703407,
          7.5430861723446885,
          7.623246492985972,
          7.703406813627254,
          7.783567134268537,
          7.863727454909819,
          7.943887775551103,
          8.024048096192384,
          8.104208416833666,
          8.18436873747495,
          8.264529058116231,
          8.344689378757515,
          8.424849699398797,
          8.50501002004008,
          8.585170340681362,
          8.665330661322646,
          8.745490981963927,
          8.825651302605209,
          8.905811623246493,
          8.985971943887774,
          9.066132264529058,
          9.14629258517034,
          9.226452905811623,
          9.306613226452905,
          9.386773547094188,
          9.46693386773547,
          9.547094188376754,
          9.627254509018035,
          9.707414829659317,
          9.7875751503006,
          9.867735470941883,
          9.947895791583166,
          10.028056112224448,
          10.108216432865731,
          10.188376753507013,
          10.268537074148297,
          10.348697394789578,
          10.428857715430862,
          10.509018036072144,
          10.589178356713425,
          10.669338677354709,
          10.74949899799599,
          10.829659318637274,
          10.909819639278556,
          10.98997995991984,
          11.070140280561121,
          11.150300601202405,
          11.230460921843687,
          11.31062124248497,
          11.390781563126252,
          11.470941883767534,
          11.551102204408817,
          11.631262525050099,
          11.711422845691382,
          11.791583166332664,
          11.871743486973948,
          11.95190380761523,
          12.032064128256511,
          12.112224448897795,
          12.192384769539078,
          12.272545090180358,
          12.352705410821642,
          12.432865731462925,
          12.513026052104209,
          12.593186372745489,
          12.673346693386772,
          12.753507014028056,
          12.83366733466934,
          12.91382765531062,
          12.993987975951903,
          13.074148296593187,
          13.154308617234467,
          13.23446893787575,
          13.314629258517034,
          13.394789579158317,
          13.474949899799597,
          13.55511022044088,
          13.635270541082164,
          13.715430861723448,
          13.795591182364728,
          13.875751503006011,
          13.955911823647295,
          14.036072144288575,
          14.116232464929858,
          14.196392785571142,
          14.276553106212425,
          14.356713426853705,
          14.436873747494989,
          14.517034068136272,
          14.597194388777556,
          14.677354709418836,
          14.75751503006012,
          14.837675350701403,
          14.917835671342683,
          14.997995991983966,
          15.07815631262525,
          15.158316633266534,
          15.238476953907814,
          15.318637274549097,
          15.39879759519038,
          15.478957915831664,
          15.559118236472944,
          15.639278557114228,
          15.719438877755511,
          15.799599198396791,
          15.879759519038075,
          15.959919839679358,
          16.04008016032064,
          16.12024048096192,
          16.200400801603205,
          16.28056112224449,
          16.360721442885772,
          16.440881763527052,
          16.521042084168336,
          16.60120240480962,
          16.6813627254509,
          16.761523046092183,
          16.841683366733466,
          16.92184368737475,
          17.00200400801603,
          17.082164328657313,
          17.162324649298597,
          17.24248496993988,
          17.32264529058116,
          17.402805611222444,
          17.482965931863728,
          17.563126252505008,
          17.64328657314629,
          17.723446893787575,
          17.803607214428858,
          17.883767535070138,
          17.96392785571142,
          18.044088176352705,
          18.12424849699399,
          18.20440881763527,
          18.284569138276552,
          18.364729458917836,
          18.444889779559116,
          18.5250501002004,
          18.605210420841683,
          18.685370741482966,
          18.765531062124246,
          18.84569138276553,
          18.925851703406813,
          19.006012024048097,
          19.086172344689377,
          19.16633266533066,
          19.246492985971944,
          19.326653306613224,
          19.406813627254508,
          19.48697394789579,
          19.567134268537075,
          19.647294589178355,
          19.727454909819638,
          19.80761523046092,
          19.887775551102205,
          19.967935871743485,
          20.04809619238477,
          20.128256513026052,
          20.208416833667332,
          20.288577154308616,
          20.3687374749499,
          20.448897795591183,
          20.529058116232463,
          20.609218436873746,
          20.68937875751503,
          20.769539078156313,
          20.849699398797593,
          20.929859719438877,
          21.01002004008016,
          21.09018036072144,
          21.170340681362724,
          21.250501002004007,
          21.33066132264529,
          21.41082164328657,
          21.490981963927855,
          21.571142284569138,
          21.651302605210418,
          21.7314629258517,
          21.811623246492985,
          21.89178356713427,
          21.97194388777555,
          22.052104208416832,
          22.132264529058116,
          22.2124248496994,
          22.29258517034068,
          22.372745490981963,
          22.452905811623246,
          22.533066132264526,
          22.61322645290581,
          22.693386773547093,
          22.773547094188377,
          22.853707414829657,
          22.93386773547094,
          23.014028056112224,
          23.094188376753507,
          23.174348697394787,
          23.25450901803607,
          23.334669338677354,
          23.414829659318634,
          23.494989979959918,
          23.5751503006012,
          23.655310621242485,
          23.735470941883765,
          23.81563126252505,
          23.895791583166332,
          23.975951903807616,
          24.056112224448896,
          24.13627254509018,
          24.216432865731463,
          24.296593186372743,
          24.376753507014026,
          24.45691382765531,
          24.537074148296593,
          24.617234468937873,
          24.697394789579157,
          24.77755511022044,
          24.857715430861724,
          24.937875751503004,
          25.018036072144287,
          25.09819639278557,
          25.17835671342685,
          25.258517034068134,
          25.338677354709418,
          25.4188376753507,
          25.49899799599198,
          25.579158316633265,
          25.65931863727455,
          25.739478957915832,
          25.819639278557112,
          25.899799599198396,
          25.97995991983968,
          26.06012024048096,
          26.140280561122243,
          26.220440881763526,
          26.30060120240481,
          26.38076152304609,
          26.460921843687373,
          26.541082164328657,
          26.62124248496994,
          26.70140280561122,
          26.781563126252504,
          26.861723446893787,
          26.941883767535067,
          27.02204408817635,
          27.102204408817634,
          27.182364729458918,
          27.262525050100198,
          27.34268537074148,
          27.422845691382765,
          27.50300601202405,
          27.58316633266533,
          27.663326653306612,
          27.743486973947896,
          27.823647294589176,
          27.90380761523046,
          27.983967935871743,
          28.064128256513023,
          28.144288577154306,
          28.22444889779559,
          28.304609218436873,
          28.384769539078157,
          28.46492985971944,
          28.545090180360717,
          28.625250501002,
          28.705410821643284,
          28.785571142284567,
          28.86573146292585,
          28.945891783567134,
          29.026052104208418,
          29.1062124248497,
          29.186372745490978,
          29.26653306613226,
          29.346693386773545,
          29.42685370741483,
          29.507014028056112,
          29.587174348697395,
          29.66733466933868,
          29.747494989979955,
          29.82765531062124,
          29.907815631262523,
          29.987975951903806,
          30.06813627254509,
          30.148296593186373,
          30.228456913827657,
          30.308617234468933,
          30.388777555110217,
          30.4689378757515,
          30.549098196392784,
          30.629258517034067,
          30.70941883767535,
          30.789579158316634,
          30.869739478957918,
          30.949899799599194,
          31.030060120240478,
          31.11022044088176,
          31.190380761523045,
          31.27054108216433,
          31.350701402805612,
          31.430861723446895,
          31.511022044088172,
          31.591182364729455,
          31.67134268537074,
          31.751503006012022,
          31.831663326653306,
          31.91182364729459,
          31.991983967935873,
          32.07214428857715,
          32.15230460921843,
          32.23246492985972,
          32.312625250501,
          32.392785571142284,
          32.47294589178357,
          32.55310621242485,
          32.633266533066134,
          32.71342685370741,
          32.793587174348694,
          32.87374749498998,
          32.95390781563126,
          33.034068136272545,
          33.11422845691383,
          33.19438877755511,
          33.27454909819639,
          33.35470941883767,
          33.434869739478955,
          33.51503006012024,
          33.59519038076152,
          33.675350701402806,
          33.75551102204409,
          33.835671342685366,
          33.91583166332665,
          33.99599198396793,
          34.07615230460922,
          34.1563126252505,
          34.236472945891784,
          34.31663326653307,
          34.39679358717435,
          34.47695390781563,
          34.55711422845691,
          34.637274549098194,
          34.71743486973948,
          34.79759519038076,
          34.877755511022045,
          34.95791583166333,
          35.038076152304605,
          35.11823647294589,
          35.19839679358717,
          35.278557114228455,
          35.35871743486974,
          35.43887775551102,
          35.519038076152306,
          35.59919839679358,
          35.679358717434866,
          35.75951903807615,
          35.83967935871743,
          35.91983967935872,
          36,
          36,
          35.91983967935872,
          35.83967935871743,
          35.75951903807615,
          35.679358717434866,
          35.59919839679358,
          35.519038076152306,
          35.43887775551102,
          35.35871743486974,
          35.278557114228455,
          35.19839679358717,
          35.11823647294589,
          35.038076152304605,
          34.95791583166333,
          34.877755511022045,
          34.79759519038076,
          34.71743486973948,
          34.637274549098194,
          34.55711422845691,
          34.47695390781563,
          34.39679358717435,
          34.31663326653307,
          34.236472945891784,
          34.1563126252505,
          34.07615230460922,
          33.99599198396793,
          33.91583166332665,
          33.835671342685366,
          33.75551102204409,
          33.675350701402806,
          33.59519038076152,
          33.51503006012024,
          33.434869739478955,
          33.35470941883767,
          33.27454909819639,
          33.19438877755511,
          33.11422845691383,
          33.034068136272545,
          32.95390781563126,
          32.87374749498998,
          32.793587174348694,
          32.71342685370741,
          32.633266533066134,
          32.55310621242485,
          32.47294589178357,
          32.392785571142284,
          32.312625250501,
          32.23246492985972,
          32.15230460921843,
          32.07214428857715,
          31.991983967935873,
          31.91182364729459,
          31.831663326653306,
          31.751503006012022,
          31.67134268537074,
          31.591182364729455,
          31.511022044088172,
          31.430861723446895,
          31.350701402805612,
          31.27054108216433,
          31.190380761523045,
          31.11022044088176,
          31.030060120240478,
          30.949899799599194,
          30.869739478957918,
          30.789579158316634,
          30.70941883767535,
          30.629258517034067,
          30.549098196392784,
          30.4689378757515,
          30.388777555110217,
          30.308617234468933,
          30.228456913827657,
          30.148296593186373,
          30.06813627254509,
          29.987975951903806,
          29.907815631262523,
          29.82765531062124,
          29.747494989979955,
          29.66733466933868,
          29.587174348697395,
          29.507014028056112,
          29.42685370741483,
          29.346693386773545,
          29.26653306613226,
          29.186372745490978,
          29.1062124248497,
          29.026052104208418,
          28.945891783567134,
          28.86573146292585,
          28.785571142284567,
          28.705410821643284,
          28.625250501002,
          28.545090180360717,
          28.46492985971944,
          28.384769539078157,
          28.304609218436873,
          28.22444889779559,
          28.144288577154306,
          28.064128256513023,
          27.983967935871743,
          27.90380761523046,
          27.823647294589176,
          27.743486973947896,
          27.663326653306612,
          27.58316633266533,
          27.50300601202405,
          27.422845691382765,
          27.34268537074148,
          27.262525050100198,
          27.182364729458918,
          27.102204408817634,
          27.02204408817635,
          26.941883767535067,
          26.861723446893787,
          26.781563126252504,
          26.70140280561122,
          26.62124248496994,
          26.541082164328657,
          26.460921843687373,
          26.38076152304609,
          26.30060120240481,
          26.220440881763526,
          26.140280561122243,
          26.06012024048096,
          25.97995991983968,
          25.899799599198396,
          25.819639278557112,
          25.739478957915832,
          25.65931863727455,
          25.579158316633265,
          25.49899799599198,
          25.4188376753507,
          25.338677354709418,
          25.258517034068134,
          25.17835671342685,
          25.09819639278557,
          25.018036072144287,
          24.937875751503004,
          24.857715430861724,
          24.77755511022044,
          24.697394789579157,
          24.617234468937873,
          24.537074148296593,
          24.45691382765531,
          24.376753507014026,
          24.296593186372743,
          24.216432865731463,
          24.13627254509018,
          24.056112224448896,
          23.975951903807616,
          23.895791583166332,
          23.81563126252505,
          23.735470941883765,
          23.655310621242485,
          23.5751503006012,
          23.494989979959918,
          23.414829659318634,
          23.334669338677354,
          23.25450901803607,
          23.174348697394787,
          23.094188376753507,
          23.014028056112224,
          22.93386773547094,
          22.853707414829657,
          22.773547094188377,
          22.693386773547093,
          22.61322645290581,
          22.533066132264526,
          22.452905811623246,
          22.372745490981963,
          22.29258517034068,
          22.2124248496994,
          22.132264529058116,
          22.052104208416832,
          21.97194388777555,
          21.89178356713427,
          21.811623246492985,
          21.7314629258517,
          21.651302605210418,
          21.571142284569138,
          21.490981963927855,
          21.41082164328657,
          21.33066132264529,
          21.250501002004007,
          21.170340681362724,
          21.09018036072144,
          21.01002004008016,
          20.929859719438877,
          20.849699398797593,
          20.769539078156313,
          20.68937875751503,
          20.609218436873746,
          20.529058116232463,
          20.448897795591183,
          20.3687374749499,
          20.288577154308616,
          20.208416833667332,
          20.128256513026052,
          20.04809619238477,
          19.967935871743485,
          19.887775551102205,
          19.80761523046092,
          19.727454909819638,
          19.647294589178355,
          19.567134268537075,
          19.48697394789579,
          19.406813627254508,
          19.326653306613224,
          19.246492985971944,
          19.16633266533066,
          19.086172344689377,
          19.006012024048097,
          18.925851703406813,
          18.84569138276553,
          18.765531062124246,
          18.685370741482966,
          18.605210420841683,
          18.5250501002004,
          18.444889779559116,
          18.364729458917836,
          18.284569138276552,
          18.20440881763527,
          18.12424849699399,
          18.044088176352705,
          17.96392785571142,
          17.883767535070138,
          17.803607214428858,
          17.723446893787575,
          17.64328657314629,
          17.563126252505008,
          17.482965931863728,
          17.402805611222444,
          17.32264529058116,
          17.24248496993988,
          17.162324649298597,
          17.082164328657313,
          17.00200400801603,
          16.92184368737475,
          16.841683366733466,
          16.761523046092183,
          16.6813627254509,
          16.60120240480962,
          16.521042084168336,
          16.440881763527052,
          16.360721442885772,
          16.28056112224449,
          16.200400801603205,
          16.12024048096192,
          16.04008016032064,
          15.959919839679358,
          15.879759519038075,
          15.799599198396791,
          15.719438877755511,
          15.639278557114228,
          15.559118236472944,
          15.478957915831664,
          15.39879759519038,
          15.318637274549097,
          15.238476953907814,
          15.158316633266534,
          15.07815631262525,
          14.997995991983966,
          14.917835671342683,
          14.837675350701403,
          14.75751503006012,
          14.677354709418836,
          14.597194388777556,
          14.517034068136272,
          14.436873747494989,
          14.356713426853705,
          14.276553106212425,
          14.196392785571142,
          14.116232464929858,
          14.036072144288575,
          13.955911823647295,
          13.875751503006011,
          13.795591182364728,
          13.715430861723448,
          13.635270541082164,
          13.55511022044088,
          13.474949899799597,
          13.394789579158317,
          13.314629258517034,
          13.23446893787575,
          13.154308617234467,
          13.074148296593187,
          12.993987975951903,
          12.91382765531062,
          12.83366733466934,
          12.753507014028056,
          12.673346693386772,
          12.593186372745489,
          12.513026052104209,
          12.432865731462925,
          12.352705410821642,
          12.272545090180358,
          12.192384769539078,
          12.112224448897795,
          12.032064128256511,
          11.95190380761523,
          11.871743486973948,
          11.791583166332664,
          11.711422845691382,
          11.631262525050099,
          11.551102204408817,
          11.470941883767534,
          11.390781563126252,
          11.31062124248497,
          11.230460921843687,
          11.150300601202405,
          11.070140280561121,
          10.98997995991984,
          10.909819639278556,
          10.829659318637274,
          10.74949899799599,
          10.669338677354709,
          10.589178356713425,
          10.509018036072144,
          10.428857715430862,
          10.348697394789578,
          10.268537074148297,
          10.188376753507013,
          10.108216432865731,
          10.028056112224448,
          9.947895791583166,
          9.867735470941883,
          9.7875751503006,
          9.707414829659317,
          9.627254509018035,
          9.547094188376754,
          9.46693386773547,
          9.386773547094188,
          9.306613226452905,
          9.226452905811623,
          9.14629258517034,
          9.066132264529058,
          8.985971943887774,
          8.905811623246493,
          8.825651302605209,
          8.745490981963927,
          8.665330661322646,
          8.585170340681362,
          8.50501002004008,
          8.424849699398797,
          8.344689378757515,
          8.264529058116231,
          8.18436873747495,
          8.104208416833666,
          8.024048096192384,
          7.943887775551103,
          7.863727454909819,
          7.783567134268537,
          7.703406813627254,
          7.623246492985972,
          7.5430861723446885,
          7.462925851703407,
          7.382765531062123,
          7.302605210420841,
          7.222444889779558,
          7.142284569138276,
          7.062124248496994,
          6.981963927855711,
          6.901803607214429,
          6.821643286573146,
          6.741482965931864,
          6.66132264529058,
          6.5811623246492985,
          6.501002004008015,
          6.420841683366733,
          6.34068136272545,
          6.260521042084168,
          6.180360721442886,
          6.100200400801603,
          6.020040080160321,
          5.939879759519037,
          5.859719438877756,
          5.779559118236472,
          5.69939879759519,
          5.619238476953907,
          5.539078156312625,
          5.4589178356713415,
          5.37875751503006,
          5.298597194388778,
          5.218436873747494,
          5.138276553106213,
          5.058116232464929,
          4.977955911823647,
          4.897795591182364,
          4.817635270541082,
          4.737474949899799,
          4.657314629258517,
          4.577154308617233,
          4.4969939879759515,
          4.41683366733467,
          4.336673346693386,
          4.2565130260521045,
          4.176352705410821,
          4.096192384769539,
          4.016032064128256,
          3.935871743486974,
          3.8557114228456912,
          3.7755511022044086,
          3.695390781563126,
          3.6152304609218433,
          3.5350701402805607,
          3.454909819639278,
          3.3747494989979954,
          3.2945891783567127,
          3.214428857715431,
          3.1342685370741483,
          3.0541082164328657,
          2.973947895791583,
          2.8937875751503004,
          2.8136272545090177,
          2.733466933867735,
          2.6533066132264524,
          2.57314629258517,
          2.492985971943887,
          2.4128256513026045,
          2.3326653306613228,
          2.25250501002004,
          2.1723446893787575,
          2.092184368737475,
          2.012024048096192,
          1.9318637274549095,
          1.8517034068136269,
          1.7715430861723442,
          1.6913827655310616,
          1.611222444889779,
          1.5310621242484972,
          1.4509018036072145,
          1.370741482965932,
          1.2905811623246493,
          1.2104208416833666,
          1.130260521042084,
          1.0501002004008013,
          0.9699398797595187,
          0.889779559118236,
          0.8096192384769534,
          0.7294589178356707,
          0.649298597194389,
          0.5691382765531063,
          0.4889779559118237,
          0.40881763527054105,
          0.3286573146292584,
          0.24849699398797576,
          0.1683366733466931,
          0.08817635270541047,
          0.00801603206412782,
          -0.07214428857715438,
          -0.15230460921843703,
          -0.23246492985971967,
          -0.3126252505010023,
          -0.3927855711422845,
          -0.47294589178356716,
          -0.5531062124248498,
          -0.6332665330661325,
          -0.7134268537074151,
          -0.7935871743486977,
          -0.87374749498998,
          -0.9539078156312626,
          -1.0340681362725452,
          -1.1142284569138279,
          -1.1943887775551105,
          -1.2745490981963927,
          -1.3547094188376754,
          -1.434869739478958,
          -1.5150300601202407,
          -1.5951903807615233,
          -1.6753507014028055,
          -1.7555110220440882,
          -1.8356713426853708,
          -1.9158316633266534,
          -1.995991983967936,
          -2.0761523046092183,
          -2.156312625250501,
          -2.2364729458917836,
          -2.3166332665330662,
          -2.396793587174349,
          -2.4769539078156315,
          -2.557114228456914,
          -2.6372745490981964,
          -2.717434869739479,
          -2.7975951903807617,
          -2.877755511022044,
          -2.9579158316633265,
          -3.038076152304609,
          -3.118236472945892,
          -3.1983967935871744,
          -3.278557114228457,
          -3.3587174348697397,
          -3.438877755511022,
          -3.5190380761523046,
          -3.599198396793587,
          -3.67935871743487,
          -3.7595190380761525,
          -3.8396793587174347,
          -3.9198396793587174,
          -4
         ],
         "y": [
          61650.92887483495,
          65626.2112259962,
          69845.9794563331,
          74336.97301171505,
          79115.92427622728,
          84201.19900333336,
          89613.45284106865,
          95373.51300618217,
          101504.03048795361,
          108028.81962722015,
          114973.34725679379,
          122367.60403798436,
          130237.47483995382,
          138611.73168895673,
          147530.0705920656,
          157020.31385432414,
          167116.19486590556,
          177865.5530995813,
          189303.923118354,
          201473.25343110997,
          214427.40091490612,
          228212.8653721106,
          242881.820813437,
          258495.13280873335,
          275111.81940298644,
          292794.81940673996,
          311615.8810323478,
          331647.39450688934,
          352964.7171761394,
          375653.43432093965,
          399802.1044807609,
          425500.9529405784,
          452852.006400269,
          481963.7411426584,
          512944.4523703026,
          545915.7351326336,
          581010.2006947759,
          618358.0990372668,
          658104.4831399416,
          700411.06589518,
          745434.6398453391,
          793348.4201671978,
          844349.2649438144,
          898625.9833693474,
          956385.6057139183,
          1017867.4483584273,
          1083298.9581353865,
          1152927.8007551644,
          1227044.5185009916,
          1305923.2354568797,
          1389744.130830953,
          1432963.3327642784,
          1405036.706311861,
          1324066.2498923086,
          1209555.8976128013,
          1078589.5423739376,
          944216.9505065387,
          815173.8153925434,
          696531.5280661123,
          590790.7386339405,
          498615.98547649314,
          419597.1764957803,
          352641.5947890633,
          296372.4014736796,
          249349.97954684854,
          210191.03725318884,
          177651.1431712178,
          150683.06647392182,
          128323.06728261778,
          109741.39173367414,
          94262.81947221415,
          81354.03784690316,
          70569.11052229212,
          61534.060992056664,
          53935.39192265195,
          47520.693223959184,
          42086.92060615921,
          37468.11336041905,
          33527.01754466892,
          30149.49546615755,
          27242.551082376063,
          24729.98445368391,
          22549.39332448134,
          20648.832563460135,
          18985.110837224314,
          17522.287557572614,
          16230.659171974437,
          15085.484215806655,
          14065.957916869753,
          13154.57263579238,
          12336.628301462342,
          11599.74147105847,
          10933.416517171658,
          10328.727511077133,
          9778.075866508208,
          9274.980437155453,
          8813.888064644156,
          8390.022396199038,
          7999.26631417215,
          7638.0622461142,
          7303.3250576782575,
          6992.369977393106,
          6702.8535543232865,
          6432.725057178269,
          6180.184120891472,
          5943.644898924125,
          5721.706330243275,
          5513.127118842579,
          5316.804222793928,
          5131.7544862585555,
          4957.099029644175,
          4792.0500334728695,
          4635.899372555049,
          4488.008780632412,
          4347.801425243157,
          4214.75466829412,
          4088.393793874738,
          3968.286559985135,
          3854.0384778269,
          3745.288685016679,
          3641.7063820232243,
          3542.987685983332,
          3448.8528797164863,
          3359.0439979428534,
          3273.3227015307775,
          3191.468399846394,
          3113.276591786695,
          3038.5573911309802,
          2967.1342204524412,
          2898.8426483287585,
          2833.5293607116782,
          2771.0512241865354,
          2711.2744635156773,
          2654.0738247438926,
          2599.331987600686,
          2546.9389909859538,
          2496.7916481073976,
          2448.7930397995024,
          2402.8520806789497,
          2358.883089834408,
          2316.8054307018137,
          2276.5431461623693,
          2238.024697023575,
          2201.1826555377083,
          2165.9534480665066,
          2132.277132691772,
          2100.09716058808,
          2069.3601339610245,
          2040.0157910286225,
          2012.0164065778747,
          1985.3173534111984,
          1959.8760418621123,
          1935.6527726688212,
          1912.6097513096313,
          1890.711580811046,
          1869.9249048853842,
          1850.2182833787838,
          1831.5621997911787,
          1813.9288869570175,
          1797.2924139108138,
          1781.628240455541,
          1766.9133039522305,
          1753.126742080345,
          1740.2484654735965,
          1728.2596213102645,
          1717.143010087546,
          1706.883362624899,
          1697.465507580871,
          1688.8757421518037,
          1681.1024691791047,
          1674.134372177706,
          1667.9613201701045,
          1662.5745406156834,
          1657.9666624811437,
          1654.130828057606,
          1651.0614002694954,
          1648.7539628120448,
          1647.2049022770213,
          1646.4116213417276,
          1646.372566931901,
          1647.0872157295742,
          1648.5558277728999,
          1650.7796319244217,
          1653.761309833194,
          1657.5039736226672,
          1662.0118332512504,
          1667.2902664981293,
          1673.3457791669584,
          1680.185565327846,
          1687.8179565155592,
          1696.2528577827754,
          1705.5005690999508,
          1715.5726268148023,
          1726.481596180014,
          1738.24107074143,
          1750.8666526645707,
          1764.3747033009897,
          1778.7819685117101,
          1794.1067263763757,
          1810.3683726530521,
          1822.984185874318,
          1794.3518610096924,
          1740.314484778695,
          1674.8987500341302,
          1604.819209602861,
          1533.565908776734,
          1463.1990961938527,
          1394.9485872112068,
          1329.470631640879,
          1267.02986259053,
          1207.689319156296,
          1151.422906784301,
          1098.131010634003,
          1047.6587227009343,
          999.848164063175,
          954.5493290087754,
          911.6122849048479,
          870.8942092082607,
          832.261954977554,
          795.5933709431825,
          760.77487585979,
          727.6980500491193,
          696.2650099822183,
          666.3856473439279,
          637.9732558611198,
          610.9488659822917,
          585.2376969173862,
          560.7697897404172,
          537.4793358247947,
          515.3042625633964,
          494.18654856484574,
          474.0714261317498,
          454.9073978975129,
          436.6457918721598,
          419.2404238394215,
          402.64779776532976,
          386.8267334531781,
          371.73841430842816,
          357.34616351678943,
          343.6152019197891,
          330.51263951795494,
          318.00728104965344,
          306.0696103532259,
          294.67169537387383,
          283.7871124461593,
          273.39080456167756,
          263.4590159271934,
          253.96922326494754,
          244.90006803704762,
          236.2313129315175,
          227.94376815573034,
          220.0192316419029,
          212.4404352809097,
          205.1909914353265,
          198.25535060037632,
          191.61875666125368,
          185.26720309237948,
          179.18739284621466,
          173.3666993441048,
          167.79313145294626,
          162.45530041948928,
          157.3423879059328,
          152.44411604112256,
          147.75071853690528,
          143.25291424087854,
          138.94188175036217,
          134.8092354937795,
          130.84700322569387,
          127.047604275373,
          123.40382971381968,
          119.90882314435189,
          116.55606256415024,
          113.33934334338808,
          110.25276179872922,
          107.29070018234435,
          104.44781212589959,
          101.71900889522003,
          99.09944647655553,
          96.58451312631925,
          94.16981794620798,
          91.85117984897484,
          89.62461710071486,
          87.48633749771666,
          85.43272890608401,
          83.46035054196618,
          81.56592458692339,
          79.74632821271533,
          77.99858609116505,
          76.31986318985369,
          74.70745810213987,
          73.15879666376638,
          71.6714258595613,
          70.24300810201237,
          68.87131573627758,
          67.55422612752696,
          66.28971649678167,
          65.07585942638069,
          63.910817967145334,
          62.79284231301987,
          61.72026490314915,
          60.69149790268977,
          59.70502814102903,
          58.75941600913995,
          57.85328976135431,
          56.985344830895905,
          56.154338885690564,
          55.35909389596837,
          54.5984853908506,
          53.87144258422241,
          53.17695102251784,
          52.51406055508847,
          51.881844221329104,
          51.279424654696165,
          50.705978497656616,
          50.16073534938574,
          49.64294882482434,
          49.15192401986069,
          48.68700542338513,
          48.247574981867714,
          47.83304783470039,
          47.44287773954133,
          47.07655107382877,
          46.73358531865063,
          46.41352876340492,
          46.11596085574408,
          45.84049516026164,
          45.58676727245206,
          45.35444351212651,
          45.143221060779794,
          44.9528249846615,
          44.783009818118366,
          44.63355924239798,
          44.50424409520211,
          44.39491290395677,
          44.305427824576185,
          44.23567750580291,
          44.1855618206189,
          44.15497137814138,
          44.14388977483146,
          44.15230005227417,
          44.18021124853324,
          44.22762599132232,
          44.29458661012645,
          44.38117964583852,
          44.48750374916752,
          44.61368199180691,
          44.75984801575249,
          44.92617923271996,
          45.11287063095418,
          45.320141478756454,
          45.23312470600962,
          44.25822233210052,
          42.88879378745688,
          41.35181484752018,
          39.75270738501226,
          38.14095201708481,
          36.54503837863185,
          34.98364978971274,
          33.468051633208034,
          32.00456888899468,
          30.596087005311674,
          29.24433532936434,
          27.949892361425157,
          26.712328854965005,
          25.530477156240597,
          24.402764320981962,
          23.327409420077267,
          22.302502078492363,
          21.326043045495812,
          20.395987586601088,
          19.51028815586428,
          18.66692526709051,
          17.863925635007348,
          17.099372573366026,
          16.371413749833327,
          15.678266144446518,
          15.018220179888704,
          14.389645940759705,
          13.790968205148651,
          13.220699048050896,
          12.677421554704004,
          12.15978781779932,
          11.66651540788781,
          11.196385720914249,
          10.748241930866957,
          10.32098639788845,
          9.913577848051647,
          9.525028606863351,
          9.15440198859039,
          8.800809816000992,
          8.463409934849945,
          8.141403877705866,
          7.834034599478851,
          7.540584313907891,
          7.260372432388913,
          6.992753641188675,
          6.737116101573436,
          6.492879277369822,
          6.259492627374443,
          6.036434007793739,
          5.823208121515818,
          5.619345054014188,
          5.424398916297407,
          5.237946565075813,
          5.059586413856239,
          4.8889372869865495,
          4.725637323681303,
          4.5693429605043,
          4.419727964277889,
          4.276482517933171,
          4.139312356079134,
          4.007937947628881,
          3.8820937230227055,
          3.7615273436259415,
          3.645999010201988,
          3.535280810891967,
          3.429156105894346,
          3.3274189373794303,
          3.22987348038364,
          3.1363335157173062,
          3.0466219476131204,
          2.9605703275272752,
          2.8780184113200806,
          2.7988137421435004,
          2.7228112544056384,
          2.649872898951421,
          2.5798672883027467,
          2.512669360872072,
          2.4481600631095324,
          2.3862260485946174,
          2.3267593931407657,
          2.269657325036613,
          2.2148219695983062,
          2.162160107253413,
          2.111582944420648,
          2.0630058931545783,
          2.0163483380177367,
          1.9715335304151507,
          1.9284883381464637,
          1.8871430722312108,
          1.8474313590534328,
          1.8092898779970252,
          1.7726583013933854,
          1.7374791415739594,
          1.7036976200467082,
          1.6712615563334416,
          1.6401212193766246,
          1.610229223032697,
          1.5815404733630032,
          1.554011967905786,
          1.5276026632303301,
          1.5022734092702128,
          1.4779871831164924,
          1.4547084200716107,
          1.4324034374683774,
          1.4110401818114757,
          1.3905880998903777,
          1.3710181899953051,
          1.3523028300322824,
          1.334415798207451,
          1.3173321435579366,
          1.3010281701302275,
          1.2854814345913255,
          1.270670552876346,
          1.2565753844529444,
          1.2431767496543633,
          1.2304565496710644,
          1.2183977049013952,
          1.2069840548918147,
          1.1962005116393994,
          1.1860327216232718,
          1.176467192310313,
          1.1674912045534462,
          1.159092951051009,
          1.1512616520182066,
          1.143986805666593,
          1.1372587722319658,
          1.1310690218924566,
          1.125409378873121,
          1.1202723844481042,
          1.1156513444772205,
          1.1115403398653347,
          1.1079339187283728,
          1.1048273242676814,
          1.1022159355142103,
          1.1000964440263377,
          1.0984660643486788,
          1.0973226472898414,
          1.0966647133755922,
          1.0964914528488585,
          1.0968021363984468,
          1.0975951114672737,
          1.098872629231923,
          1.1006361892651406,
          1.1028879328759398,
          1.105630643109601,
          1.108867744747673,
          1.112602029666675,
          1.1168375141365663,
          1.1215800057314693,
          11.415363528463176,
          11.367094777852564,
          11.32398631060467,
          11.285979017632764,
          11.253032021619696,
          11.22511690703983,
          11.202198816704042,
          11.184249424970444,
          11.171246937744371,
          11.163176092478398,
          11.160013976853351,
          11.161777410480637,
          11.168473816239013,
          11.180111435779816,
          11.196705327089209,
          11.218277364488154,
          11.244855898148417,
          11.27647460115942,
          11.313180505423741,
          11.355022025308234,
          11.402054649710978,
          11.454338622771832,
          11.511942076985434,
          11.574940926746352,
          11.643418384525063,
          11.717461266257093,
          11.797167684794072,
          11.88264452661062,
          11.974001507608907,
          12.071358801686543,
          12.174845863440536,
          12.284600018937399,
          12.400767357317363,
          12.523501443227984,
          12.652966756644844,
          12.789337132569269,
          12.93279677942978,
          13.083540906544718,
          13.241774502855757,
          13.407715213892525,
          13.581591466342068,
          13.763644435976165,
          13.954128071964856,
          14.153309257907832,
          14.361469129562266,
          14.578902864319321,
          14.805921430637198,
          15.042851066768659,
          15.290034592564824,
          15.547833983051403,
          15.816626054828445,
          16.096809274557362,
          16.38880137943003,
          16.693040045520448,
          17.00998423580946,
          17.34011624318048,
          17.68394222688877,
          18.041993276223188,
          18.41482692287738,
          18.803028272355725,
          19.20721133548616,
          19.62802058510878,
          20.06613156728449,
          20.522253571624265,
          20.99713093259238,
          21.491544792066748,
          22.006315648380063,
          22.54230443177567,
          23.10041487716697,
          23.681595766898365,
          24.286843262715543,
          24.917203367970608,
          25.573774527550974,
          26.25771037346521,
          26.9702226244887,
          27.712584148787755,
          28.486132199004135,
          29.29227182986592,
          30.13247950890864,
          31.008306931360316,
          31.921385050963448,
          32.873428325316766,
          33.866239222860195,
          34.90171306959381,
          35.981842958418525,
          37.10872511384394,
          38.28456448074835,
          39.5116807302281,
          40.792514522285735,
          42.129634142047834,
          43.525742538078624,
          44.98368475839798,
          46.506455815751366,
          48.097209006783466,
          49.75926471015555,
          51.49611969069873,
          53.31145694239593,
          55.20915604460405,
          57.193304316804706,
          59.268208482059514,
          61.43840676760561,
          63.70868193090996,
          66.08407507163372,
          68.56990053310253,
          71.17176168551018,
          73.89556718577515,
          76.74754428610484,
          79.7342609449304,
          82.86264414587234,
          86.1399994677243,
          89.57403206291805,
          93.17286867760487,
          96.94508069929792,
          100.89970793427632,
          105.04628390498297,
          109.39486109392463,
          113.95603751492972,
          118.74098487035778,
          123.76147725514191,
          129.02991753685873,
          134.55935819351737,
          140.36351813224198,
          146.45681861323646,
          152.85440363402597,
          159.57230569399417,
          166.62711395906643,
          174.03622838863276,
          181.81779643624006,
          189.99067101193586,
          198.57436001545796,
          207.58894740748232,
          217.05498737847023,
          226.9933197090628,
          237.42475556508288,
          248.3696431818479,
          259.8474262239908,
          271.87623086452305,
          284.472066421157,
          297.6468171927274,
          311.4048520206438,
          325.74028296924575,
          340.6355088625898,
          356.0611618085751,
          371.9528666005854,
          388.1959649527993,
          404.6002993291459,
          420.87590420113287,
          436.5191692783547,
          450.45711805015566,
          460.37960681249416,
          461.26525749180615,
          459.1556691749454,
          457.2555370688181,
          455.56262947585776,
          454.0749618192284,
          452.79072841478944,
          451.70856906357415,
          450.8272311504203,
          450.14571061525214,
          449.6631266508626,
          449.37904843068804,
          449.2934492100411,
          449.40623700013595,
          449.7175844025441,
          450.22765837134705,
          450.9375722793646,
          451.8483452124435,
          452.9611104959612,
          454.2772710974644,
          455.7983686943083,
          457.5267356844742,
          459.46457374522487,
          461.61438120895843,
          463.9789563323229,
          466.561381181067,
          469.3650519290153,
          472.3936774599576,
          475.6511908866655,
          479.14187256177166,
          482.8703199644619,
          486.8414441387654,
          491.0604726995016,
          495.5329652633494,
          500.26487450102354,
          505.2624909184964,
          510.532486262389,
          516.0819332185663,
          521.9184284424067,
          528.049813020085,
          534.4844670274811,
          541.2313202404393,
          548.2998071997245,
          555.699598472753,
          563.4410190975774,
          571.5349674610268,
          579.9928883497345,
          588.8267716690146,
          598.0492617885753,
          607.6736364986069,
          617.7138573314039,
          628.1845765278214,
          639.1011950334326,
          650.479873721174,
          662.3375849098015,
          674.6921380040192,
          687.5622293451947,
          700.9674760566357,
          714.92846584253,
          729.4668027329946,
          744.6051596445466,
          760.3673283807987,
          776.7782755600797,
          793.864200847708,
          811.6525989731651,
          830.1723246998305,
          849.4536607115809,
          869.5283909377108,
          890.4298767870179,
          912.1931383189523,
          934.8549395818459,
          958.4538773621236,
          983.0304774713785,
          1008.6272947256941,
          1035.2890193835383,
          1063.062589451361,
          1091.9973069652294,
          1122.1449647087254,
          1153.559977648036,
          1186.299522831036,
          1220.4236875373622,
          1255.995622059164,
          1293.0817068889041,
          1331.7517259565925,
          1372.079051241699,
          1414.1408382852965,
          1458.0182280486465,
          1503.7965682978054,
          1551.5656426575792,
          1601.4199140535688,
          1653.458783089408,
          1707.7868572250416,
          1764.5142447524702,
          1823.7568596125786,
          1885.6367467266352,
          1950.2824185366642,
          2017.8292114705057,
          2088.4196829742973,
          2162.2040197613474,
          2239.34048361308,
          2319.9958667668866,
          2404.345922840084,
          2492.5759112164455,
          2584.8811442747165,
          2681.4675959729425,
          2782.5526520288013,
          2888.3655528015715,
          2999.1480831075846,
          3115.1552714409436,
          3236.656056036268,
          3363.934727410502,
          3497.2916990103695,
          3637.0444740457096,
          3783.5278046505737,
          3937.0956706883258,
          4098.1213662316595,
          4266.999963888262,
          4444.150592844793,
          4630.015952718986,
          4825.0661032616335,
          5029.796424611808,
          5244.731053395917,
          5470.427411440455,
          5707.476036443676,
          5956.508699096782,
          6218.195195038066,
          6493.247561365291,
          6782.426911774395,
          7086.536992884853,
          7406.4602951323905,
          7743.113934700625,
          8097.494163360028,
          8470.704469078128,
          8863.90087389449,
          9278.326624960624,
          9715.336882614361,
          10176.385284796443,
          10662.997835448132,
          11176.701282304324,
          11719.102506085064,
          12291.778149718573,
          12895.74208614463,
          13531.259903923208,
          14197.68999550493,
          14892.338943469575,
          15608.527482733838,
          16333.738637869148,
          17047.00334109363,
          17712.800153425105,
          18262.788821775936,
          18554.20663889509,
          18425.803766704073,
          18260.29385847557,
          18104.31953554107,
          17957.68338921989,
          17820.199386484797,
          17691.69708912345,
          17572.00997243423,
          17460.979238658314,
          17358.466533628674,
          17264.343969074762,
          17178.494128849434,
          17100.812180567587,
          17031.19731128988,
          16969.564723233165,
          16915.841195650708,
          16869.96051292402,
          16831.86794038945,
          16801.52062938222,
          16778.886904925646,
          16763.9394733816,
          16756.66582747232,
          16757.063320547517,
          16765.137278901184,
          16780.903509615466,
          16804.388448060683,
          16835.62887125528,
          16874.669728042947,
          16921.56839218802,
          16976.39466097596,
          17039.223556272573,
          17110.144364387983,
          17189.260197708732,
          17276.686234635166,
          17372.540510243296,
          17476.962490718604,
          17590.106588922426,
          17712.12821351556,
          17843.202419844925,
          17983.521090622748,
          18133.28869402612,
          18292.717565306884,
          18462.042434405314,
          18641.51306974513,
          18831.39339489502,
          19031.966022140605,
          19243.531368372885,
          19466.40942929783,
          19700.939702898548,
          19947.482457116872,
          20206.42236197395,
          20478.1634738036,
          20763.139267278122,
          21061.803954920084,
          21374.643280638145,
          21702.168805364196,
          22044.92400814712,
          22403.48443901103,
          22778.460182642983,
          23170.498287125058,
          23580.285027398157,
          24008.548524403046,
          24456.06186442801,
          24923.645760830794,
          25412.172267985843,
          25922.56844660876,
          26455.82073324581,
          27012.9793559141,
          27595.16349106581,
          28203.567216279116,
          28839.4653576251,
          29504.219470196673,
          30199.286355963486,
          30926.22643467795,
          31686.713277954805,
          32482.544078600324,
          33315.65148540216,
          34188.11689640671,
          35102.18546778979,
          36060.28299870706,
          37065.03504188947,
          38119.288539404835,
          39226.136389963736,
          40388.945448257735,
          41611.388546602546,
          42897.480764634725,
          44251.621431457526,
          45678.64217269208,
          47183.862362611115,
          48773.152962013504,
          50453.01020061916,
          52230.64132750662,
          54114.06471469507,
          56112.22553773368,
          58235.130288577806,
          60494.0056514873,
          62901.48545114377,
          65471.82958959167,
          68221.17870294068,
          71167.85678200195,
          74332.73602765368,
          77739.66792102306,
          81415.97787998327,
          85393.06618799549,
          89707.14157076807,
          94400.1077662427,
          99520.57816177592,
          105125.07241825193,
          111279.55519340828,
          118061.36437138461,
          125561.34743582163,
          133886.32815472694,
          143162.3443504719,
          153539.01232753976,
          165194.5236254801,
          178340.62777314562,
          193229.14168190814,
          210162.38604979255,
          229506.1616914066,
          251700.06700318604,
          277272.7959297332,
          306859.474301597,
          341235.6598207679,
          381347.8597595962,
          428357.75964064605,
          483662.3205691748,
          548950.6791320409,
          626289.4060320206,
          718247.5136643366,
          828015.7561520393,
          959400.440445129,
          1116940.2756447736,
          1306063.280936589,
          1533641.802273024,
          1808121.0169433472,
          2139309.8026074893,
          2537866.8020082633,
          3016457.751865184,
          3589161.6997476714,
          4270630.967687607,
          5074878.926363319,
          6013027.172642365,
          7089249.595462478,
          8296782.569266088,
          9610174.650661247,
          10977809.573350322,
          12310776.055821141,
          13476254.481223745,
          14300366.17220558,
          14584601.439818105,
          14144719.399341457,
          13291596.138328712,
          12488774.026567748,
          11734419.212571818,
          11025741.6804215,
          10359784.310904153,
          9734026.379592676,
          9146152.948396824,
          8593728.27178589,
          8074645.21002597,
          7586982.076230863,
          7128735.262481256,
          6698141.796718561,
          6293605.855318593,
          5913481.535675812,
          5556292.498619366,
          5220713.068878825,
          4905393.538192958,
          4609096.320579994,
          4330719.19497746,
          4069158.097300458,
          3823374.606872124,
          3592450.416998165,
          3375484.1850044574,
          3171604.8298370396,
          2980045.369655863,
          2800069.0217492194,
          2630945.5377867613,
          2472034.330918925,
          2322734.7195761204,
          2182427.218208827,
          2050580.8033537243,
          1926722.203246586,
          1810303.2663271395,
          1700897.043580631,
          1598141.866688771,
          1501550.8288148602,
          1410780.593852774,
          1325547.9883109645,
          1245448.9889819515,
          1170190.7561775558,
          1099509.8354942927,
          1033100.9840608903,
          970705.0022188468,
          912079.509258398,
          856993.9649812648,
          805236.3914195256,
          756596.5568197306,
          710887.5358166007,
          667939.0273651327,
          627478.8792393696
         ]
        },
        {
         "legendgroup": "KR",
         "line": {
          "color": "#00CC96"
         },
         "name": "KR",
         "type": "scatter",
         "x": [
          -4,
          -3.9198396793587174,
          -3.8396793587174347,
          -3.7595190380761525,
          -3.67935871743487,
          -3.599198396793587,
          -3.5190380761523046,
          -3.438877755511022,
          -3.3587174348697397,
          -3.278557114228457,
          -3.1983967935871744,
          -3.118236472945892,
          -3.038076152304609,
          -2.9579158316633265,
          -2.877755511022044,
          -2.7975951903807617,
          -2.717434869739479,
          -2.6372745490981964,
          -2.557114228456914,
          -2.4769539078156315,
          -2.396793587174349,
          -2.3166332665330662,
          -2.2364729458917836,
          -2.156312625250501,
          -2.0761523046092183,
          -1.995991983967936,
          -1.9158316633266534,
          -1.8356713426853708,
          -1.7555110220440882,
          -1.6753507014028055,
          -1.5951903807615233,
          -1.5150300601202407,
          -1.434869739478958,
          -1.3547094188376754,
          -1.2745490981963927,
          -1.1943887775551105,
          -1.1142284569138279,
          -1.0340681362725452,
          -0.9539078156312626,
          -0.87374749498998,
          -0.7935871743486977,
          -0.7134268537074151,
          -0.6332665330661325,
          -0.5531062124248498,
          -0.47294589178356716,
          -0.3927855711422845,
          -0.3126252505010023,
          -0.23246492985971967,
          -0.15230460921843703,
          -0.07214428857715438,
          0.00801603206412782,
          0.08817635270541047,
          0.1683366733466931,
          0.24849699398797576,
          0.3286573146292584,
          0.40881763527054105,
          0.4889779559118237,
          0.5691382765531063,
          0.649298597194389,
          0.7294589178356707,
          0.8096192384769534,
          0.889779559118236,
          0.9699398797595187,
          1.0501002004008013,
          1.130260521042084,
          1.2104208416833666,
          1.2905811623246493,
          1.370741482965932,
          1.4509018036072145,
          1.5310621242484972,
          1.611222444889779,
          1.6913827655310616,
          1.7715430861723442,
          1.8517034068136269,
          1.9318637274549095,
          2.012024048096192,
          2.092184368737475,
          2.1723446893787575,
          2.25250501002004,
          2.3326653306613228,
          2.4128256513026045,
          2.492985971943887,
          2.57314629258517,
          2.6533066132264524,
          2.733466933867735,
          2.8136272545090177,
          2.8937875751503004,
          2.973947895791583,
          3.0541082164328657,
          3.1342685370741483,
          3.214428857715431,
          3.2945891783567127,
          3.3747494989979954,
          3.454909819639278,
          3.5350701402805607,
          3.6152304609218433,
          3.695390781563126,
          3.7755511022044086,
          3.8557114228456912,
          3.935871743486974,
          4.016032064128256,
          4.096192384769539,
          4.176352705410821,
          4.2565130260521045,
          4.336673346693386,
          4.41683366733467,
          4.4969939879759515,
          4.577154308617233,
          4.657314629258517,
          4.737474949899799,
          4.817635270541082,
          4.897795591182364,
          4.977955911823647,
          5.058116232464929,
          5.138276553106213,
          5.218436873747494,
          5.298597194388778,
          5.37875751503006,
          5.4589178356713415,
          5.539078156312625,
          5.619238476953907,
          5.69939879759519,
          5.779559118236472,
          5.859719438877756,
          5.939879759519037,
          6.020040080160321,
          6.100200400801603,
          6.180360721442886,
          6.260521042084168,
          6.34068136272545,
          6.420841683366733,
          6.501002004008015,
          6.5811623246492985,
          6.66132264529058,
          6.741482965931864,
          6.821643286573146,
          6.901803607214429,
          6.981963927855711,
          7.062124248496994,
          7.142284569138276,
          7.222444889779558,
          7.302605210420841,
          7.382765531062123,
          7.462925851703407,
          7.5430861723446885,
          7.623246492985972,
          7.703406813627254,
          7.783567134268537,
          7.863727454909819,
          7.943887775551103,
          8.024048096192384,
          8.104208416833666,
          8.18436873747495,
          8.264529058116231,
          8.344689378757515,
          8.424849699398797,
          8.50501002004008,
          8.585170340681362,
          8.665330661322646,
          8.745490981963927,
          8.825651302605209,
          8.905811623246493,
          8.985971943887774,
          9.066132264529058,
          9.14629258517034,
          9.226452905811623,
          9.306613226452905,
          9.386773547094188,
          9.46693386773547,
          9.547094188376754,
          9.627254509018035,
          9.707414829659317,
          9.7875751503006,
          9.867735470941883,
          9.947895791583166,
          10.028056112224448,
          10.108216432865731,
          10.188376753507013,
          10.268537074148297,
          10.348697394789578,
          10.428857715430862,
          10.509018036072144,
          10.589178356713425,
          10.669338677354709,
          10.74949899799599,
          10.829659318637274,
          10.909819639278556,
          10.98997995991984,
          11.070140280561121,
          11.150300601202405,
          11.230460921843687,
          11.31062124248497,
          11.390781563126252,
          11.470941883767534,
          11.551102204408817,
          11.631262525050099,
          11.711422845691382,
          11.791583166332664,
          11.871743486973948,
          11.95190380761523,
          12.032064128256511,
          12.112224448897795,
          12.192384769539078,
          12.272545090180358,
          12.352705410821642,
          12.432865731462925,
          12.513026052104209,
          12.593186372745489,
          12.673346693386772,
          12.753507014028056,
          12.83366733466934,
          12.91382765531062,
          12.993987975951903,
          13.074148296593187,
          13.154308617234467,
          13.23446893787575,
          13.314629258517034,
          13.394789579158317,
          13.474949899799597,
          13.55511022044088,
          13.635270541082164,
          13.715430861723448,
          13.795591182364728,
          13.875751503006011,
          13.955911823647295,
          14.036072144288575,
          14.116232464929858,
          14.196392785571142,
          14.276553106212425,
          14.356713426853705,
          14.436873747494989,
          14.517034068136272,
          14.597194388777556,
          14.677354709418836,
          14.75751503006012,
          14.837675350701403,
          14.917835671342683,
          14.997995991983966,
          15.07815631262525,
          15.158316633266534,
          15.238476953907814,
          15.318637274549097,
          15.39879759519038,
          15.478957915831664,
          15.559118236472944,
          15.639278557114228,
          15.719438877755511,
          15.799599198396791,
          15.879759519038075,
          15.959919839679358,
          16.04008016032064,
          16.12024048096192,
          16.200400801603205,
          16.28056112224449,
          16.360721442885772,
          16.440881763527052,
          16.521042084168336,
          16.60120240480962,
          16.6813627254509,
          16.761523046092183,
          16.841683366733466,
          16.92184368737475,
          17.00200400801603,
          17.082164328657313,
          17.162324649298597,
          17.24248496993988,
          17.32264529058116,
          17.402805611222444,
          17.482965931863728,
          17.563126252505008,
          17.64328657314629,
          17.723446893787575,
          17.803607214428858,
          17.883767535070138,
          17.96392785571142,
          18.044088176352705,
          18.12424849699399,
          18.20440881763527,
          18.284569138276552,
          18.364729458917836,
          18.444889779559116,
          18.5250501002004,
          18.605210420841683,
          18.685370741482966,
          18.765531062124246,
          18.84569138276553,
          18.925851703406813,
          19.006012024048097,
          19.086172344689377,
          19.16633266533066,
          19.246492985971944,
          19.326653306613224,
          19.406813627254508,
          19.48697394789579,
          19.567134268537075,
          19.647294589178355,
          19.727454909819638,
          19.80761523046092,
          19.887775551102205,
          19.967935871743485,
          20.04809619238477,
          20.128256513026052,
          20.208416833667332,
          20.288577154308616,
          20.3687374749499,
          20.448897795591183,
          20.529058116232463,
          20.609218436873746,
          20.68937875751503,
          20.769539078156313,
          20.849699398797593,
          20.929859719438877,
          21.01002004008016,
          21.09018036072144,
          21.170340681362724,
          21.250501002004007,
          21.33066132264529,
          21.41082164328657,
          21.490981963927855,
          21.571142284569138,
          21.651302605210418,
          21.7314629258517,
          21.811623246492985,
          21.89178356713427,
          21.97194388777555,
          22.052104208416832,
          22.132264529058116,
          22.2124248496994,
          22.29258517034068,
          22.372745490981963,
          22.452905811623246,
          22.533066132264526,
          22.61322645290581,
          22.693386773547093,
          22.773547094188377,
          22.853707414829657,
          22.93386773547094,
          23.014028056112224,
          23.094188376753507,
          23.174348697394787,
          23.25450901803607,
          23.334669338677354,
          23.414829659318634,
          23.494989979959918,
          23.5751503006012,
          23.655310621242485,
          23.735470941883765,
          23.81563126252505,
          23.895791583166332,
          23.975951903807616,
          24.056112224448896,
          24.13627254509018,
          24.216432865731463,
          24.296593186372743,
          24.376753507014026,
          24.45691382765531,
          24.537074148296593,
          24.617234468937873,
          24.697394789579157,
          24.77755511022044,
          24.857715430861724,
          24.937875751503004,
          25.018036072144287,
          25.09819639278557,
          25.17835671342685,
          25.258517034068134,
          25.338677354709418,
          25.4188376753507,
          25.49899799599198,
          25.579158316633265,
          25.65931863727455,
          25.739478957915832,
          25.819639278557112,
          25.899799599198396,
          25.97995991983968,
          26.06012024048096,
          26.140280561122243,
          26.220440881763526,
          26.30060120240481,
          26.38076152304609,
          26.460921843687373,
          26.541082164328657,
          26.62124248496994,
          26.70140280561122,
          26.781563126252504,
          26.861723446893787,
          26.941883767535067,
          27.02204408817635,
          27.102204408817634,
          27.182364729458918,
          27.262525050100198,
          27.34268537074148,
          27.422845691382765,
          27.50300601202405,
          27.58316633266533,
          27.663326653306612,
          27.743486973947896,
          27.823647294589176,
          27.90380761523046,
          27.983967935871743,
          28.064128256513023,
          28.144288577154306,
          28.22444889779559,
          28.304609218436873,
          28.384769539078157,
          28.46492985971944,
          28.545090180360717,
          28.625250501002,
          28.705410821643284,
          28.785571142284567,
          28.86573146292585,
          28.945891783567134,
          29.026052104208418,
          29.1062124248497,
          29.186372745490978,
          29.26653306613226,
          29.346693386773545,
          29.42685370741483,
          29.507014028056112,
          29.587174348697395,
          29.66733466933868,
          29.747494989979955,
          29.82765531062124,
          29.907815631262523,
          29.987975951903806,
          30.06813627254509,
          30.148296593186373,
          30.228456913827657,
          30.308617234468933,
          30.388777555110217,
          30.4689378757515,
          30.549098196392784,
          30.629258517034067,
          30.70941883767535,
          30.789579158316634,
          30.869739478957918,
          30.949899799599194,
          31.030060120240478,
          31.11022044088176,
          31.190380761523045,
          31.27054108216433,
          31.350701402805612,
          31.430861723446895,
          31.511022044088172,
          31.591182364729455,
          31.67134268537074,
          31.751503006012022,
          31.831663326653306,
          31.91182364729459,
          31.991983967935873,
          32.07214428857715,
          32.15230460921843,
          32.23246492985972,
          32.312625250501,
          32.392785571142284,
          32.47294589178357,
          32.55310621242485,
          32.633266533066134,
          32.71342685370741,
          32.793587174348694,
          32.87374749498998,
          32.95390781563126,
          33.034068136272545,
          33.11422845691383,
          33.19438877755511,
          33.27454909819639,
          33.35470941883767,
          33.434869739478955,
          33.51503006012024,
          33.59519038076152,
          33.675350701402806,
          33.75551102204409,
          33.835671342685366,
          33.91583166332665,
          33.99599198396793,
          34.07615230460922,
          34.1563126252505,
          34.236472945891784,
          34.31663326653307,
          34.39679358717435,
          34.47695390781563,
          34.55711422845691,
          34.637274549098194,
          34.71743486973948,
          34.79759519038076,
          34.877755511022045,
          34.95791583166333,
          35.038076152304605,
          35.11823647294589,
          35.19839679358717,
          35.278557114228455,
          35.35871743486974,
          35.43887775551102,
          35.519038076152306,
          35.59919839679358,
          35.679358717434866,
          35.75951903807615,
          35.83967935871743,
          35.91983967935872,
          36
         ],
         "y": [
          252224.94043848664,
          268488.52920425276,
          285752.35328582936,
          304125.808523066,
          323677.35008211044,
          344482.11553441535,
          366624.61081834236,
          390190.04379044607,
          415271.083685825,
          441965.159218188,
          470376.4597405003,
          500627.6823945672,
          532824.7267945838,
          567085.3044291005,
          603571.8187395938,
          642398.095735835,
          683702.1447306199,
          727679.6855353216,
          774476.0963818732,
          824262.9960982219,
          877260.7227693856,
          933659.5153762971,
          993672.8270977625,
          1057549.669830437,
          1125531.496917413,
          1197875.8022526249,
          1274876.1205632503,
          1356828.6131731602,
          1444041.5804177513,
          1536865.1669380968,
          1635661.68150636,
          1740800.2518476897,
          1852698.2873794178,
          1971799.583912476,
          2098547.1964261313,
          2233438.5919441637,
          2377016.306792593,
          2529813.2168612517,
          2692422.759749006,
          2865506.531726877,
          3049705.9990368024,
          3245729.8158457736,
          3454383.363665154,
          3676439.094566958,
          3912744.0062932028,
          4164277.1848206967,
          4431969.155687826,
          4716833.163466675,
          5020057.868432444,
          5342764.76108048,
          5685690.9866714785,
          5862508.446398051,
          5748255.63914661,
          5416991.067461706,
          4948508.802710651,
          4412702.096267795,
          3862959.868553299,
          3335021.398490626,
          2849634.6508692172,
          2417030.23106242,
          2039926.8840509013,
          1716646.8499553273,
          1442719.629129717,
          1212512.328258253,
          1020135.2175443618,
          859929.003819591,
          726802.4962958747,
          616471.2869717521,
          524992.5441991782,
          448971.59700315533,
          385645.9985414402,
          332833.8716846376,
          288710.8113880751,
          251746.8130961919,
          220659.30333079252,
          194415.62741646182,
          172185.09496717202,
          153288.73113753973,
          137165.00558251893,
          123346.96065392201,
          111454.13296359076,
          101174.77497441554,
          92253.58793438846,
          84478.05505115284,
          77671.47288013654,
          71686.80206793753,
          66402.52008594881,
          61717.4051917762,
          57546.34135351834,
          53817.70169744846,
          50471.345612088604,
          47456.61022528103,
          44730.55605425653,
          42256.66553339116,
          40003.85149168021,
          37945.59840418829,
          36059.18731005189,
          34325.07729859466,
          32726.42450756691,
          31248.674273875895,
          29879.204762926405,
          28607.032096019815,
          27422.568797615953,
          26317.4249604247,
          25284.234970010508,
          24316.510845476954,
          23408.520596373342,
          22555.18585945389,
          21751.9938935532,
          20994.92243286928,
          20280.375824313633,
          19605.130957958794,
          18966.29076741782,
          18361.2439916453,
          17787.63070620902,
          17243.312705499993,
          16726.347842101266,
          16234.967736936263,
          15767.558466005803,
          15322.643676969235,
          14898.870009973121,
          14494.994226051389,
          14109.871952353818,
          13742.447806933555,
          13391.746701914664,
          13056.866161689668,
          12736.96953579008,
          12431.279965836307,
          12139.0750420971,
          11859.682046310829,
          11592.473743375038,
          11336.86454897417,
          11092.307164763091,
          10858.289154482214,
          10634.330539990444,
          10419.981450824673,
          10214.819731422662,
          10018.448868200669,
          9830.49621461789,
          9650.611234791873,
          9478.464030164083,
          9313.743846620766,
          9156.15800457223,
          9005.430645082306,
          8861.301677063691,
          8723.525867443292,
          8591.871864895425,
          8466.121209524039,
          8346.068271418952,
          8231.51779822589,
          8122.2872121239225,
          8018.202271195084,
          7919.100558682247,
          7824.827450459593,
          7735.238131198386,
          7650.196134379354,
          7569.572832728257,
          7493.24746898147,
          7421.106442714711,
          7353.043665725507,
          7288.958739693077,
          7228.757311250066,
          7172.35402892406,
          7119.666703536277,
          7070.618204832196,
          7025.138166579723,
          6983.164119839249,
          6944.633995948319,
          6909.491734294393,
          6877.68988883426,
          6849.182161810138,
          6823.927105587027,
          6801.888830137397,
          6783.037179250001,
          6767.344096815301,
          6754.786520552204,
          6745.346382570625,
          6739.008899773324,
          6735.763446050125,
          6735.603667497358,
          6738.527423127926,
          6744.535776804269,
          6753.63375602212,
          6765.832331885814,
          6781.144236647178,
          6799.586693996569,
          6821.181705387322,
          6845.955887221967,
          6873.938671723792,
          6905.164144686779,
          6939.672829447189,
          6977.506865020317,
          7018.7134486612385,
          7063.343987058673,
          7111.454093831966,
          7163.107600221637,
          7218.371443433601,
          7277.314133770563,
          7340.010450114748,
          7406.539743970054,
          7458.153284858903,
          7341.013339599402,
          7119.93680028259,
          6852.309367885176,
          6565.601475014345,
          6274.09151912378,
          5986.208344669162,
          5706.983345513132,
          5439.101356625515,
          5183.645039225467,
          4940.872297493162,
          4710.676373956854,
          4492.649726545714,
          4286.158598998263,
          4090.5570805001057,
          3905.2314709423804,
          3729.5683691956947,
          3562.9834627753535,
          3404.9320238079536,
          3254.914309674077,
          3112.465639251024,
          2977.142448307245,
          2848.5442778762585,
          2726.3024787772843,
          2610.0623201899666,
          2499.500723601336,
          2394.3117474682167,
          2294.209177352935,
          2198.9237784325132,
          2108.2016006056306,
          2021.8052680167862,
          1939.5107162525962,
          1861.107260405966,
          1786.395774689229,
          1715.1873112404435,
          1647.3039200306775,
          1582.577125534078,
          1520.8481221426166,
          1461.9668584707144,
          1405.791046781035,
          1352.18612822249,
          1301.024477418608,
          1252.185338490245,
          1205.5544364218174,
          1161.0236672875153,
          1118.4905183990818,
          1077.8578005714849,
          1039.0333670602233,
          1001.9298362792271,
          966.464413777529,
          932.5585906925593,
          900.1378991201634,
          869.1316921475511,
          839.4729250286223,
          811.0979819673491,
          783.9464930675136,
          757.9611551360509,
          733.0875675810358,
          709.274072818273,
          686.4716129845956,
          664.6335946602043,
          643.7157580965873,
          623.6760546906329,
          604.4745288164858,
          586.0732096251315,
          568.4360071856285,
          551.528614629774,
          535.3184160802874,
          519.7743976618092,
          504.8670663606874,
          490.5683714358172,
          476.85163021099766,
          463.69145843951856,
          451.0637031004114,
          438.9453809858397,
          427.314619149861,
          416.15059867380546,
          405.4335018338866,
          395.1444611649628,
          385.2655127193171,
          375.7795509236668,
          366.67028579478955,
          357.922202751272,
          349.5205239094153,
          341.4511724091033,
          333.70073811076736,
          326.2564449673748,
          319.1061203809469,
          312.2381657284613,
          305.64152907377274,
          299.305679052013,
          293.22057994081854,
          287.37666825295884,
          281.76483025535475,
          276.37638187051823,
          271.2030475490493,
          266.2369418816991,
          261.4705495819076,
          256.8967118811658,
          252.5086064907418,
          248.29973729523056,
          244.26391364390503,
          240.395245839599,
          236.68812182624498,
          233.13720438859843,
          229.73741092467543,
          226.4839219046818,
          223.37213691779502,
          220.39767518713197,
          217.55638640230933,
          214.8443833276426,
          212.2578736020481,
          209.79326776258938,
          207.4471973068202,
          205.21651038762843,
          203.09815341068014,
          201.08928339937475,
          199.1872185409058,
          197.38943026810284,
          195.69352581195616,
          194.09727039766764,
          192.59856270377438,
          191.19542865938928,
          189.8860202359138,
          188.6686168787229,
          187.54163761167953,
          186.50359159098969,
          185.5531136715163,
          184.68896496877156,
          183.91002067977055,
          183.21527656076708,
          182.60384761318218,
          182.07479629320142,
          181.6275028995218,
          181.26140348741524,
          180.97604249903708,
          180.771010296907,
          180.6458593434227,
          180.60052252878228,
          180.634930473087,
          180.74912015266673,
          180.9431023179665,
          181.2170501464556,
          181.5713176923543,
          182.00630855329945,
          182.52252623752872,
          183.12051749827117,
          183.80100815848255,
          184.56479594983284,
          185.4127779380313,
          185.05677680838443,
          181.06827740245038,
          175.46570110049794,
          169.17764626246318,
          162.63541256303816,
          156.04143402782017,
          149.51226683196188,
          143.12434776847138,
          136.92376552697465,
          130.93639672769223,
          125.17404625375406,
          119.64378917286504,
          114.3479922327682,
          109.28489930939185,
          104.4497333231164,
          99.83605907852723,
          95.4365904771444,
          91.2435118341438,
          87.24864385837988,
          83.44362117655675,
          79.82006691320518,
          76.36971899029136,
          73.08450434599142,
          69.95658147517706,
          66.97837215606083,
          64.14258173611907,
          61.442216029784795,
          58.87060676259347,
          56.42130942089546,
          54.088236638246784,
          51.86559156376319,
          49.747859668355716,
          47.72979430453175,
          45.80640994586278,
          43.972973810909515,
          42.22499525934052,
          40.55821425389385,
          38.96859004214674,
          37.4522904757833,
          36.005681863414445,
          34.625318801893535,
          33.30793461861727,
          32.05043210716566,
          30.849874675986317,
          29.703477915772545,
          28.608601733002615,
          27.562742986345288,
          26.56352659882404,
          25.608700208231724,
          24.696127631227146,
          23.82378251902974,
          22.989742367540725,
          22.192182965408204,
          21.42937315800109,
          20.699669983385675,
          20.00151398401749,
          19.333424722914963,
          18.693996620814104,
          18.081894999628076,
          17.495852342497425,
          16.93466475724931,
          16.397188632375673,
          15.882337475465102,
          15.389078924179175,
          14.916431917092336,
          14.463464026160437,
          14.02928893933538,
          13.613064046420114,
          13.213988192579233,
          12.831299521910807,
          12.464273504060204,
          12.112220986005655,
          11.774486380405223,
          11.450445959115358,
          11.139506232939006,
          10.841102418172955,
          10.554696985222064,
          10.27977828483716,
          10.015859247722268,
          9.762476153464995,
          9.519187464978646,
          9.285572724871086,
          9.061231510362706,
          8.845782443564584,
          8.638862254106598,
          8.44012487762462,
          8.249240501992787,
          8.065895135027224,
          7.889789579859109,
          7.720638726446019,
          7.5581710284927475,
          7.402127430070746,
          7.252261119933247,
          7.108336905779962,
          6.970130679034685,
          6.837428960059011,
          6.710028290231088,
          6.587734804390162,
          6.4703640151943675,
          6.357739991906676,
          6.249694818535288,
          6.146068325179246,
          6.046709044518057,
          5.951471475033948,
          5.86021781493089,
          5.772816927645416,
          5.689143814546586,
          5.6090798244696085,
          5.532511950503884,
          5.459332914616219,
          5.389440637969528,
          5.322738176193755,
          5.259133709612667,
          5.198539752204719,
          5.140873905461669,
          5.086057701947684,
          5.034017096206498,
          4.984682212542997,
          4.937986935660846,
          4.893869537850374,
          4.852271296298888,
          4.813137010648109,
          4.7764146445999245,
          4.742055892378363,
          4.710016651962136,
          4.680253958662573,
          4.652728374485857,
          4.627405002410127,
          4.604250393882603,
          4.583234033926158,
          4.564328535619939,
          4.547509682890562,
          4.532755171108377,
          4.520045539362111,
          4.509361882443605,
          4.500690664928393,
          4.494020491021938,
          4.489342567999121,
          4.486650843067111,
          4.48594200336537,
          4.48721306515179,
          4.490457267520746,
          4.495683820436955,
          4.502898858919847,
          4.512111143446324,
          4.523332059950757,
          4.5365756198249905,
          4.551853245133571,
          4.569181367152873,
          4.58858374570394
         ]
        }
       ],
       "layout": {
        "font": {
         "size": 20
        },
        "legend": {
         "bordercolor": "Black",
         "borderwidth": 1,
         "x": 0.8,
         "xanchor": "left",
         "y": 0.9,
         "yanchor": "top"
        },
        "shapes": [
         {
          "line": {
           "color": "Black"
          },
          "type": "line",
          "x0": 0,
          "x1": 0,
          "y0": 0.98,
          "y1": 1,
          "yref": "paper"
         },
         {
          "line": {
           "color": "Black"
          },
          "type": "line",
          "x0": 12,
          "x1": 12,
          "y0": 0.98,
          "y1": 1,
          "yref": "paper"
         },
         {
          "line": {
           "color": "Black"
          },
          "type": "line",
          "x0": 24,
          "x1": 24,
          "y0": 0.98,
          "y1": 1,
          "yref": "paper"
         }
        ],
        "template": {
         "data": {
          "bar": [
           {
            "error_x": {
             "color": "#2a3f5f"
            },
            "error_y": {
             "color": "#2a3f5f"
            },
            "marker": {
             "line": {
              "color": "white",
              "width": 0.5
             },
             "pattern": {
              "fillmode": "overlay",
              "size": 10,
              "solidity": 0.2
             }
            },
            "type": "bar"
           }
          ],
          "barpolar": [
           {
            "marker": {
             "line": {
              "color": "white",
              "width": 0.5
             },
             "pattern": {
              "fillmode": "overlay",
              "size": 10,
              "solidity": 0.2
             }
            },
            "type": "barpolar"
           }
          ],
          "carpet": [
           {
            "aaxis": {
             "endlinecolor": "#2a3f5f",
             "gridcolor": "#C8D4E3",
             "linecolor": "#C8D4E3",
             "minorgridcolor": "#C8D4E3",
             "startlinecolor": "#2a3f5f"
            },
            "baxis": {
             "endlinecolor": "#2a3f5f",
             "gridcolor": "#C8D4E3",
             "linecolor": "#C8D4E3",
             "minorgridcolor": "#C8D4E3",
             "startlinecolor": "#2a3f5f"
            },
            "type": "carpet"
           }
          ],
          "choropleth": [
           {
            "colorbar": {
             "outlinewidth": 0,
             "ticks": ""
            },
            "type": "choropleth"
           }
          ],
          "contour": [
           {
            "colorbar": {
             "outlinewidth": 0,
             "ticks": ""
            },
            "colorscale": [
             [
              0,
              "#0d0887"
             ],
             [
              0.1111111111111111,
              "#46039f"
             ],
             [
              0.2222222222222222,
              "#7201a8"
             ],
             [
              0.3333333333333333,
              "#9c179e"
             ],
             [
              0.4444444444444444,
              "#bd3786"
             ],
             [
              0.5555555555555556,
              "#d8576b"
             ],
             [
              0.6666666666666666,
              "#ed7953"
             ],
             [
              0.7777777777777778,
              "#fb9f3a"
             ],
             [
              0.8888888888888888,
              "#fdca26"
             ],
             [
              1,
              "#f0f921"
             ]
            ],
            "type": "contour"
           }
          ],
          "contourcarpet": [
           {
            "colorbar": {
             "outlinewidth": 0,
             "ticks": ""
            },
            "type": "contourcarpet"
           }
          ],
          "heatmap": [
           {
            "colorbar": {
             "outlinewidth": 0,
             "ticks": ""
            },
            "colorscale": [
             [
              0,
              "#0d0887"
             ],
             [
              0.1111111111111111,
              "#46039f"
             ],
             [
              0.2222222222222222,
              "#7201a8"
             ],
             [
              0.3333333333333333,
              "#9c179e"
             ],
             [
              0.4444444444444444,
              "#bd3786"
             ],
             [
              0.5555555555555556,
              "#d8576b"
             ],
             [
              0.6666666666666666,
              "#ed7953"
             ],
             [
              0.7777777777777778,
              "#fb9f3a"
             ],
             [
              0.8888888888888888,
              "#fdca26"
             ],
             [
              1,
              "#f0f921"
             ]
            ],
            "type": "heatmap"
           }
          ],
          "heatmapgl": [
           {
            "colorbar": {
             "outlinewidth": 0,
             "ticks": ""
            },
            "colorscale": [
             [
              0,
              "#0d0887"
             ],
             [
              0.1111111111111111,
              "#46039f"
             ],
             [
              0.2222222222222222,
              "#7201a8"
             ],
             [
              0.3333333333333333,
              "#9c179e"
             ],
             [
              0.4444444444444444,
              "#bd3786"
             ],
             [
              0.5555555555555556,
              "#d8576b"
             ],
             [
              0.6666666666666666,
              "#ed7953"
             ],
             [
              0.7777777777777778,
              "#fb9f3a"
             ],
             [
              0.8888888888888888,
              "#fdca26"
             ],
             [
              1,
              "#f0f921"
             ]
            ],
            "type": "heatmapgl"
           }
          ],
          "histogram": [
           {
            "marker": {
             "pattern": {
              "fillmode": "overlay",
              "size": 10,
              "solidity": 0.2
             }
            },
            "type": "histogram"
           }
          ],
          "histogram2d": [
           {
            "colorbar": {
             "outlinewidth": 0,
             "ticks": ""
            },
            "colorscale": [
             [
              0,
              "#0d0887"
             ],
             [
              0.1111111111111111,
              "#46039f"
             ],
             [
              0.2222222222222222,
              "#7201a8"
             ],
             [
              0.3333333333333333,
              "#9c179e"
             ],
             [
              0.4444444444444444,
              "#bd3786"
             ],
             [
              0.5555555555555556,
              "#d8576b"
             ],
             [
              0.6666666666666666,
              "#ed7953"
             ],
             [
              0.7777777777777778,
              "#fb9f3a"
             ],
             [
              0.8888888888888888,
              "#fdca26"
             ],
             [
              1,
              "#f0f921"
             ]
            ],
            "type": "histogram2d"
           }
          ],
          "histogram2dcontour": [
           {
            "colorbar": {
             "outlinewidth": 0,
             "ticks": ""
            },
            "colorscale": [
             [
              0,
              "#0d0887"
             ],
             [
              0.1111111111111111,
              "#46039f"
             ],
             [
              0.2222222222222222,
              "#7201a8"
             ],
             [
              0.3333333333333333,
              "#9c179e"
             ],
             [
              0.4444444444444444,
              "#bd3786"
             ],
             [
              0.5555555555555556,
              "#d8576b"
             ],
             [
              0.6666666666666666,
              "#ed7953"
             ],
             [
              0.7777777777777778,
              "#fb9f3a"
             ],
             [
              0.8888888888888888,
              "#fdca26"
             ],
             [
              1,
              "#f0f921"
             ]
            ],
            "type": "histogram2dcontour"
           }
          ],
          "mesh3d": [
           {
            "colorbar": {
             "outlinewidth": 0,
             "ticks": ""
            },
            "type": "mesh3d"
           }
          ],
          "parcoords": [
           {
            "line": {
             "colorbar": {
              "outlinewidth": 0,
              "ticks": ""
             }
            },
            "type": "parcoords"
           }
          ],
          "pie": [
           {
            "automargin": true,
            "type": "pie"
           }
          ],
          "scatter": [
           {
            "marker": {
             "colorbar": {
              "outlinewidth": 0,
              "ticks": ""
             }
            },
            "type": "scatter"
           }
          ],
          "scatter3d": [
           {
            "line": {
             "colorbar": {
              "outlinewidth": 0,
              "ticks": ""
             }
            },
            "marker": {
             "colorbar": {
              "outlinewidth": 0,
              "ticks": ""
             }
            },
            "type": "scatter3d"
           }
          ],
          "scattercarpet": [
           {
            "marker": {
             "colorbar": {
              "outlinewidth": 0,
              "ticks": ""
             }
            },
            "type": "scattercarpet"
           }
          ],
          "scattergeo": [
           {
            "marker": {
             "colorbar": {
              "outlinewidth": 0,
              "ticks": ""
             }
            },
            "type": "scattergeo"
           }
          ],
          "scattergl": [
           {
            "marker": {
             "colorbar": {
              "outlinewidth": 0,
              "ticks": ""
             }
            },
            "type": "scattergl"
           }
          ],
          "scattermapbox": [
           {
            "marker": {
             "colorbar": {
              "outlinewidth": 0,
              "ticks": ""
             }
            },
            "type": "scattermapbox"
           }
          ],
          "scatterpolar": [
           {
            "marker": {
             "colorbar": {
              "outlinewidth": 0,
              "ticks": ""
             }
            },
            "type": "scatterpolar"
           }
          ],
          "scatterpolargl": [
           {
            "marker": {
             "colorbar": {
              "outlinewidth": 0,
              "ticks": ""
             }
            },
            "type": "scatterpolargl"
           }
          ],
          "scatterternary": [
           {
            "marker": {
             "colorbar": {
              "outlinewidth": 0,
              "ticks": ""
             }
            },
            "type": "scatterternary"
           }
          ],
          "surface": [
           {
            "colorbar": {
             "outlinewidth": 0,
             "ticks": ""
            },
            "colorscale": [
             [
              0,
              "#0d0887"
             ],
             [
              0.1111111111111111,
              "#46039f"
             ],
             [
              0.2222222222222222,
              "#7201a8"
             ],
             [
              0.3333333333333333,
              "#9c179e"
             ],
             [
              0.4444444444444444,
              "#bd3786"
             ],
             [
              0.5555555555555556,
              "#d8576b"
             ],
             [
              0.6666666666666666,
              "#ed7953"
             ],
             [
              0.7777777777777778,
              "#fb9f3a"
             ],
             [
              0.8888888888888888,
              "#fdca26"
             ],
             [
              1,
              "#f0f921"
             ]
            ],
            "type": "surface"
           }
          ],
          "table": [
           {
            "cells": {
             "fill": {
              "color": "#EBF0F8"
             },
             "line": {
              "color": "white"
             }
            },
            "header": {
             "fill": {
              "color": "#C8D4E3"
             },
             "line": {
              "color": "white"
             }
            },
            "type": "table"
           }
          ]
         },
         "layout": {
          "annotationdefaults": {
           "arrowcolor": "#2a3f5f",
           "arrowhead": 0,
           "arrowwidth": 1
          },
          "autotypenumbers": "strict",
          "coloraxis": {
           "colorbar": {
            "outlinewidth": 0,
            "ticks": ""
           }
          },
          "colorscale": {
           "diverging": [
            [
             0,
             "#8e0152"
            ],
            [
             0.1,
             "#c51b7d"
            ],
            [
             0.2,
             "#de77ae"
            ],
            [
             0.3,
             "#f1b6da"
            ],
            [
             0.4,
             "#fde0ef"
            ],
            [
             0.5,
             "#f7f7f7"
            ],
            [
             0.6,
             "#e6f5d0"
            ],
            [
             0.7,
             "#b8e186"
            ],
            [
             0.8,
             "#7fbc41"
            ],
            [
             0.9,
             "#4d9221"
            ],
            [
             1,
             "#276419"
            ]
           ],
           "sequential": [
            [
             0,
             "#0d0887"
            ],
            [
             0.1111111111111111,
             "#46039f"
            ],
            [
             0.2222222222222222,
             "#7201a8"
            ],
            [
             0.3333333333333333,
             "#9c179e"
            ],
            [
             0.4444444444444444,
             "#bd3786"
            ],
            [
             0.5555555555555556,
             "#d8576b"
            ],
            [
             0.6666666666666666,
             "#ed7953"
            ],
            [
             0.7777777777777778,
             "#fb9f3a"
            ],
            [
             0.8888888888888888,
             "#fdca26"
            ],
            [
             1,
             "#f0f921"
            ]
           ],
           "sequentialminus": [
            [
             0,
             "#0d0887"
            ],
            [
             0.1111111111111111,
             "#46039f"
            ],
            [
             0.2222222222222222,
             "#7201a8"
            ],
            [
             0.3333333333333333,
             "#9c179e"
            ],
            [
             0.4444444444444444,
             "#bd3786"
            ],
            [
             0.5555555555555556,
             "#d8576b"
            ],
            [
             0.6666666666666666,
             "#ed7953"
            ],
            [
             0.7777777777777778,
             "#fb9f3a"
            ],
            [
             0.8888888888888888,
             "#fdca26"
            ],
            [
             1,
             "#f0f921"
            ]
           ]
          },
          "colorway": [
           "#636efa",
           "#EF553B",
           "#00cc96",
           "#ab63fa",
           "#FFA15A",
           "#19d3f3",
           "#FF6692",
           "#B6E880",
           "#FF97FF",
           "#FECB52"
          ],
          "font": {
           "color": "#2a3f5f"
          },
          "geo": {
           "bgcolor": "white",
           "lakecolor": "white",
           "landcolor": "white",
           "showlakes": true,
           "showland": true,
           "subunitcolor": "#C8D4E3"
          },
          "hoverlabel": {
           "align": "left"
          },
          "hovermode": "closest",
          "mapbox": {
           "style": "light"
          },
          "paper_bgcolor": "white",
          "plot_bgcolor": "white",
          "polar": {
           "angularaxis": {
            "gridcolor": "#EBF0F8",
            "linecolor": "#EBF0F8",
            "ticks": ""
           },
           "bgcolor": "white",
           "radialaxis": {
            "gridcolor": "#EBF0F8",
            "linecolor": "#EBF0F8",
            "ticks": ""
           }
          },
          "scene": {
           "xaxis": {
            "backgroundcolor": "white",
            "gridcolor": "#DFE8F3",
            "gridwidth": 2,
            "linecolor": "#EBF0F8",
            "showbackground": true,
            "ticks": "",
            "zerolinecolor": "#EBF0F8"
           },
           "yaxis": {
            "backgroundcolor": "white",
            "gridcolor": "#DFE8F3",
            "gridwidth": 2,
            "linecolor": "#EBF0F8",
            "showbackground": true,
            "ticks": "",
            "zerolinecolor": "#EBF0F8"
           },
           "zaxis": {
            "backgroundcolor": "white",
            "gridcolor": "#DFE8F3",
            "gridwidth": 2,
            "linecolor": "#EBF0F8",
            "showbackground": true,
            "ticks": "",
            "zerolinecolor": "#EBF0F8"
           }
          },
          "shapedefaults": {
           "line": {
            "color": "#2a3f5f"
           }
          },
          "ternary": {
           "aaxis": {
            "gridcolor": "#DFE8F3",
            "linecolor": "#A2B1C6",
            "ticks": ""
           },
           "baxis": {
            "gridcolor": "#DFE8F3",
            "linecolor": "#A2B1C6",
            "ticks": ""
           },
           "bgcolor": "white",
           "caxis": {
            "gridcolor": "#DFE8F3",
            "linecolor": "#A2B1C6",
            "ticks": ""
           }
          },
          "title": {
           "x": 0.05
          },
          "xaxis": {
           "automargin": true,
           "gridcolor": "#EBF0F8",
           "linecolor": "#EBF0F8",
           "ticks": "",
           "title": {
            "standoff": 15
           },
           "zerolinecolor": "#EBF0F8",
           "zerolinewidth": 2
          },
          "yaxis": {
           "automargin": true,
           "gridcolor": "#EBF0F8",
           "linecolor": "#EBF0F8",
           "ticks": "",
           "title": {
            "standoff": 15
           },
           "zerolinecolor": "#EBF0F8",
           "zerolinewidth": 2
          }
         }
        },
        "xaxis": {
         "title": {
          "text": "Time in hours"
         }
        },
        "yaxis": {
         "range": [
          0,
          8
         ],
         "title": {
          "text": "Bacterial count in CFU/mL"
         },
         "type": "log"
        }
       }
      }
     },
     "metadata": {},
     "output_type": "display_data"
    }
   ],
   "source": [
    "# Define KP model\n",
    "directory = os.path.dirname(os.path.dirname(os.getcwd()))\n",
    "kp_model = chi.PharmacokineticModel(directory + '/models/KP_model.xml')\n",
    "kp_model.set_administration(compartment='central', direct=False)\n",
    "kp_model.set_parameter_names(names={\n",
    "    'myokit.bacterial_count_susceptible': 'Initial bacterial count in CFU/ml',\n",
    "    'myokit.death_rate': 'Death rate in 1/h',\n",
    "    'myokit.growth_rate': 'Growth rate in 1/h',\n",
    "    'myokit.kappa': 'Kill rate in ml/ng/h',\n",
    "    'myokit.transition_rate_12': 'Transition rate to dividing in 1/h',\n",
    "    'myokit.transition_rate_21': 'Transition rate to non-dividing in ml/ng/h'})\n",
    "kp_model.set_outputs(['myokit.total_bacterial_count'])\n",
    "kp_model.set_output_names({\n",
    "    'myokit.total_bacterial_count': 'Bacterial count in CFU/ml'})\n",
    "kp_model = chi.ReducedMechanisticModel(\n",
    "    kp_model)\n",
    "kp_model.fix_parameters({\n",
    "    'central.drug_amount': 0,\n",
    "    'dose.drug_amount': 0,\n",
    "    'myokit.bacterial_count_adapted': 0,\n",
    "    'dose.absorption_rate': 2.7,           # in 1/h, Sanchez et al\n",
    "    'central.size': 3.7 * 70,              # in L/kg, Sanchez et al for 70 kg\n",
    "    'myokit.elimination_rate': 0.17,       # in 1/h, Sanchez et al\n",
    "    'myokit.gamma': 1})\n",
    "\n",
    "# Define KR model\n",
    "kr_model = chi.PharmacokineticModel(directory + '/models/KR_model.xml')\n",
    "kr_model.set_administration(compartment='central', direct=False)\n",
    "kr_model.set_parameter_names(names={\n",
    "    'myokit.bacterial_count_susceptible': 'Initial bacterial count in CFU/ml',\n",
    "    'myokit.concentration_e50_adapted': 'Adapted EC 50 in ng/ml',\n",
    "    'myokit.growth_rate': 'Growth rate in 1/h',\n",
    "    'myokit.kappa_adapted': 'Adapted max. kill rate in 1/h',\n",
    "    'myokit.kappa_susceptible': 'Wild type kill rate in ml/ng/h',\n",
    "    'myokit.mutation_rate': 'Mutation rate in ml/ng/h'})\n",
    "kr_model.set_outputs(['myokit.total_bacterial_count'])\n",
    "kr_model.set_output_names({\n",
    "    'myokit.total_bacterial_count': 'Bacterial count in CFU/ml'})\n",
    "kr_model = chi.ReducedMechanisticModel(\n",
    "    kr_model)\n",
    "kr_model.fix_parameters({\n",
    "    'central.drug_amount': 0,\n",
    "    'dose.drug_amount': 0,\n",
    "    'myokit.bacterial_count_adapted': 0,\n",
    "    'dose.absorption_rate': 2.7,           # in 1/h, Sanchez et al\n",
    "    'central.size': 3.7 * 70,              # in L/kg, Sanchez et al for 70 kg\n",
    "    'myokit.elimination_rate': 0.17,       # in 1/h, Sanchez et al\n",
    "    'myokit.gamma': 1})\n",
    "\n",
    "# Load MLE parameters\n",
    "directory = os.getcwd()\n",
    "models = ['KP_model', 'KR_model']\n",
    "parameters = []\n",
    "for model in models:\n",
    "    inf_data = xr.load_dataarray(\n",
    "        directory + '/derived_data/%s_inference_data.nc' % model)\n",
    "    parameters.append(inf_data.values)\n",
    "\n",
    "# Set dosing regimen (250 mg twice a day, Sanchez et. al.)\n",
    "kp_model.set_dosing_regimen(dose=250E3, start=4, period=12)\n",
    "kr_model.set_dosing_regimen(dose=250E3, start=4, period=12)\n",
    "\n",
    "# Simulate treatment response\n",
    "times = np.linspace(0, 40, 500)\n",
    "sim_kp = kp_model.simulate(parameters=parameters[0][:-1], times=times)[0]\n",
    "sim_kr = kr_model.simulate(parameters=parameters[1][:-1], times=times)[0]\n",
    "\n",
    "# Visualise prediction\n",
    "fig = go.Figure()\n",
    "colors = plotly.colors.qualitative.Plotly\n",
    "\n",
    "# Shift times to make start of first dose to coincide with 0\n",
    "times -= 4\n",
    "\n",
    "# Plot KP prediction\n",
    "sigma = parameters[0][-1]\n",
    "lower = sim_kp * lognorm.ppf(0.05, s=sigma, scale=np.exp(-sigma**2/2))\n",
    "upper = sim_kp * lognorm.ppf(0.95, s=sigma, scale=np.exp(-sigma**2/2))\n",
    "fig.add_trace(go.Scatter(\n",
    "    x=np.concatenate((times, times[::-1])),\n",
    "    y=np.concatenate((lower, upper[::-1])),\n",
    "    name='KP',\n",
    "    legendgroup='KP',\n",
    "    fill='toself',\n",
    "    opacity=0.5,\n",
    "    showlegend=False,\n",
    "    line=dict(color='grey', width=1)\n",
    "))\n",
    "fig.add_trace(go.Scatter(\n",
    "    x=times,\n",
    "    y = sim_kp,\n",
    "    name='KP',\n",
    "    legendgroup='KP',\n",
    "    line=dict(color=colors[1])\n",
    "))\n",
    "\n",
    "# Plot KR prediction\n",
    "sigma = parameters[1][-1]\n",
    "lower = sim_kr * lognorm.ppf(0.05, s=sigma, scale=np.exp(-sigma**2/2))\n",
    "upper = sim_kr * lognorm.ppf(0.95, s=sigma, scale=np.exp(-sigma**2/2))\n",
    "fig.add_trace(go.Scatter(\n",
    "    x=np.concatenate((times, times[::-1])),\n",
    "    y=np.concatenate((lower, upper[::-1])),\n",
    "    name='KR',\n",
    "    legendgroup='KR',\n",
    "    fill='toself',\n",
    "    opacity=0.5,\n",
    "    showlegend=False,\n",
    "    line=dict(color='grey', width=1)\n",
    "))\n",
    "fig.add_trace(go.Scatter(\n",
    "    x=times,\n",
    "    y = sim_kr,\n",
    "    name='KR',\n",
    "    legendgroup='KR',\n",
    "    line=dict(color=colors[2])\n",
    "))\n",
    "\n",
    "# Add lines to indicate time point of dose administration\n",
    "fig.add_shape(\n",
    "    type=\"line\",\n",
    "    x0=0, x1=0,\n",
    "    yref=\"paper\",\n",
    "    y0=0.98, y1=1,\n",
    "    line=dict(color='Black')\n",
    ")\n",
    "fig.add_shape(\n",
    "    type=\"line\",\n",
    "    x0=12, x1=12,\n",
    "    yref=\"paper\",\n",
    "    y0=0.98, y1=1,\n",
    "    line=dict(color='Black')\n",
    ")\n",
    "fig.add_shape(\n",
    "    type=\"line\",\n",
    "    x0=24, x1=24,\n",
    "    yref=\"paper\",\n",
    "    y0=0.98, y1=1,\n",
    "    line=dict(color='Black')\n",
    ")\n",
    "\n",
    "# Set layout\n",
    "fig.update_layout(\n",
    "    template='plotly_white',\n",
    "    xaxis_title='Time in hours',\n",
    "    yaxis_title='Bacterial count in CFU/mL',\n",
    "    yaxis_type='log',\n",
    "    yaxis_range=[0, 8],\n",
    "    legend=dict(\n",
    "        yanchor=\"top\",\n",
    "        y=0.9,\n",
    "        xanchor=\"left\",\n",
    "        x=0.8,\n",
    "        bordercolor=\"Black\",\n",
    "        borderwidth=1\n",
    "    ),\n",
    "    font=dict(size=20),\n",
    ")\n",
    "\n",
    "directory = os.getcwd()\n",
    "fig.write_image(directory + '/MLE_predictions.pdf', width=500, height=500)\n",
    "fig.show()"
   ]
  },
  {
   "cell_type": "code",
   "execution_count": null,
   "metadata": {},
   "outputs": [],
   "source": []
  }
 ],
 "metadata": {
  "interpreter": {
   "hash": "24b325699a1984ff2f7645062c981faf79e6f4e9fb48396e6614460083f761af"
  },
  "kernelspec": {
   "display_name": "Python 3.7.5 64-bit ('venv': venv)",
   "name": "python3"
  },
  "language_info": {
   "codemirror_mode": {
    "name": "ipython",
    "version": 3
   },
   "file_extension": ".py",
   "mimetype": "text/x-python",
   "name": "python",
   "nbconvert_exporter": "python",
   "pygments_lexer": "ipython3",
   "version": "3.7.5"
  },
  "metadata": {
   "interpreter": {
    "hash": "fe9046ad7b35d05b22effd711e8326b1df2382f1070cfae45f6e3b664e823f68"
   }
  },
  "orig_nbformat": 2
 },
 "nbformat": 4,
 "nbformat_minor": 2
}